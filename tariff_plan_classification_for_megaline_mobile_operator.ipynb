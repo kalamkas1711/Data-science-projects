{
 "cells": [
  {
   "cell_type": "markdown",
   "metadata": {},
   "source": [
    "**First, let's open the dataset and examime the general information**"
   ]
  },
  {
   "cell_type": "code",
   "execution_count": 119,
   "metadata": {},
   "outputs": [],
   "source": [
    "import pandas as pd\n",
    "from sklearn.model_selection import train_test_split\n",
    "from sklearn.tree import DecisionTreeClassifier\n",
    "from sklearn.metrics import accuracy_score\n",
    "from sklearn.ensemble import RandomForestClassifier\n",
    "from sklearn.linear_model import LogisticRegression\n",
    "from sklearn.metrics import f1_score\n",
    "import numpy as np\n",
    "from sklearn import tree\n",
    "import matplotlib.pyplot as plt\n",
    "from matplotlib.pyplot import figure\n",
    "from tqdm import tqdm\n",
    "from sklearn.dummy import DummyClassifier"
   ]
  },
  {
   "cell_type": "code",
   "execution_count": 100,
   "metadata": {},
   "outputs": [
    {
     "data": {
      "text/html": [
       "<div>\n",
       "<style scoped>\n",
       "    .dataframe tbody tr th:only-of-type {\n",
       "        vertical-align: middle;\n",
       "    }\n",
       "\n",
       "    .dataframe tbody tr th {\n",
       "        vertical-align: top;\n",
       "    }\n",
       "\n",
       "    .dataframe thead th {\n",
       "        text-align: right;\n",
       "    }\n",
       "</style>\n",
       "<table border=\"1\" class=\"dataframe\">\n",
       "  <thead>\n",
       "    <tr style=\"text-align: right;\">\n",
       "      <th></th>\n",
       "      <th>calls</th>\n",
       "      <th>minutes</th>\n",
       "      <th>messages</th>\n",
       "      <th>mb_used</th>\n",
       "      <th>is_ultra</th>\n",
       "    </tr>\n",
       "  </thead>\n",
       "  <tbody>\n",
       "    <tr>\n",
       "      <th>0</th>\n",
       "      <td>40.0</td>\n",
       "      <td>311.90</td>\n",
       "      <td>83.0</td>\n",
       "      <td>19915.42</td>\n",
       "      <td>0</td>\n",
       "    </tr>\n",
       "    <tr>\n",
       "      <th>1</th>\n",
       "      <td>85.0</td>\n",
       "      <td>516.75</td>\n",
       "      <td>56.0</td>\n",
       "      <td>22696.96</td>\n",
       "      <td>0</td>\n",
       "    </tr>\n",
       "    <tr>\n",
       "      <th>2</th>\n",
       "      <td>77.0</td>\n",
       "      <td>467.66</td>\n",
       "      <td>86.0</td>\n",
       "      <td>21060.45</td>\n",
       "      <td>0</td>\n",
       "    </tr>\n",
       "    <tr>\n",
       "      <th>3</th>\n",
       "      <td>106.0</td>\n",
       "      <td>745.53</td>\n",
       "      <td>81.0</td>\n",
       "      <td>8437.39</td>\n",
       "      <td>1</td>\n",
       "    </tr>\n",
       "    <tr>\n",
       "      <th>4</th>\n",
       "      <td>66.0</td>\n",
       "      <td>418.74</td>\n",
       "      <td>1.0</td>\n",
       "      <td>14502.75</td>\n",
       "      <td>0</td>\n",
       "    </tr>\n",
       "    <tr>\n",
       "      <th>...</th>\n",
       "      <td>...</td>\n",
       "      <td>...</td>\n",
       "      <td>...</td>\n",
       "      <td>...</td>\n",
       "      <td>...</td>\n",
       "    </tr>\n",
       "    <tr>\n",
       "      <th>3209</th>\n",
       "      <td>122.0</td>\n",
       "      <td>910.98</td>\n",
       "      <td>20.0</td>\n",
       "      <td>35124.90</td>\n",
       "      <td>1</td>\n",
       "    </tr>\n",
       "    <tr>\n",
       "      <th>3210</th>\n",
       "      <td>25.0</td>\n",
       "      <td>190.36</td>\n",
       "      <td>0.0</td>\n",
       "      <td>3275.61</td>\n",
       "      <td>0</td>\n",
       "    </tr>\n",
       "    <tr>\n",
       "      <th>3211</th>\n",
       "      <td>97.0</td>\n",
       "      <td>634.44</td>\n",
       "      <td>70.0</td>\n",
       "      <td>13974.06</td>\n",
       "      <td>0</td>\n",
       "    </tr>\n",
       "    <tr>\n",
       "      <th>3212</th>\n",
       "      <td>64.0</td>\n",
       "      <td>462.32</td>\n",
       "      <td>90.0</td>\n",
       "      <td>31239.78</td>\n",
       "      <td>0</td>\n",
       "    </tr>\n",
       "    <tr>\n",
       "      <th>3213</th>\n",
       "      <td>80.0</td>\n",
       "      <td>566.09</td>\n",
       "      <td>6.0</td>\n",
       "      <td>29480.52</td>\n",
       "      <td>1</td>\n",
       "    </tr>\n",
       "  </tbody>\n",
       "</table>\n",
       "<p>3214 rows × 5 columns</p>\n",
       "</div>"
      ],
      "text/plain": [
       "      calls  minutes  messages   mb_used  is_ultra\n",
       "0      40.0   311.90      83.0  19915.42         0\n",
       "1      85.0   516.75      56.0  22696.96         0\n",
       "2      77.0   467.66      86.0  21060.45         0\n",
       "3     106.0   745.53      81.0   8437.39         1\n",
       "4      66.0   418.74       1.0  14502.75         0\n",
       "...     ...      ...       ...       ...       ...\n",
       "3209  122.0   910.98      20.0  35124.90         1\n",
       "3210   25.0   190.36       0.0   3275.61         0\n",
       "3211   97.0   634.44      70.0  13974.06         0\n",
       "3212   64.0   462.32      90.0  31239.78         0\n",
       "3213   80.0   566.09       6.0  29480.52         1\n",
       "\n",
       "[3214 rows x 5 columns]"
      ]
     },
     "execution_count": 100,
     "metadata": {},
     "output_type": "execute_result"
    }
   ],
   "source": [
    "\n",
    "df = pd.read_csv('/datasets/users_behavior.csv')\n",
    "df"
   ]
  },
  {
   "cell_type": "code",
   "execution_count": 101,
   "metadata": {},
   "outputs": [
    {
     "name": "stdout",
     "output_type": "stream",
     "text": [
      "<class 'pandas.core.frame.DataFrame'>\n",
      "RangeIndex: 3214 entries, 0 to 3213\n",
      "Data columns (total 5 columns):\n",
      " #   Column    Non-Null Count  Dtype  \n",
      "---  ------    --------------  -----  \n",
      " 0   calls     3214 non-null   float64\n",
      " 1   minutes   3214 non-null   float64\n",
      " 2   messages  3214 non-null   float64\n",
      " 3   mb_used   3214 non-null   float64\n",
      " 4   is_ultra  3214 non-null   int64  \n",
      "dtypes: float64(4), int64(1)\n",
      "memory usage: 125.7 KB\n"
     ]
    }
   ],
   "source": [
    "df.info()"
   ]
  },
  {
   "cell_type": "markdown",
   "metadata": {},
   "source": [
    "The dataset consists of five fields, there are no empty values. The data type is also correct."
   ]
  },
  {
   "cell_type": "markdown",
   "metadata": {},
   "source": [
    "Let's divide the data into samples, stratifying the classes."
   ]
  },
  {
   "cell_type": "code",
   "execution_count": 102,
   "metadata": {},
   "outputs": [
    {
     "name": "stdout",
     "output_type": "stream",
     "text": [
      "Кол-во строк в target_train по классам: [1783  788]\n",
      "Кол-во строк в target_test по классам: [446 197]\n",
      "Кол-во строк в target_train по классам: [1337  591]\n",
      "Кол-во строк в target_valid по классам: [446 197]\n"
     ]
    }
   ],
   "source": [
    "features = df.drop('is_ultra', axis=1)\n",
    "target = df['is_ultra']\n",
    "features_train, features_test, target_train, target_test = train_test_split(features, target, test_size=0.2, random_state=12345, stratify=target)\n",
    "print(f'Кол-во строк в target_train по классам: {np.bincount(target_train)}')\n",
    "print(f'Кол-во строк в target_test по классам: {np.bincount(target_test)}')\n",
    "features_train, features_valid, target_train, target_valid = train_test_split(features_train, target_train, test_size=0.25, random_state=12345, stratify=target_train)\n",
    "print(f'Кол-во строк в target_train по классам: {np.bincount(target_train)}')\n",
    "print(f'Кол-во строк в target_valid по классам: {np.bincount(target_test)}')\n"
   ]
  },
  {
   "cell_type": "code",
   "execution_count": 104,
   "metadata": {},
   "outputs": [
    {
     "name": "stdout",
     "output_type": "stream",
     "text": [
      "3214\n",
      "3214\n",
      "3214\n"
     ]
    }
   ],
   "source": [
    "print(df.shape[0])\n",
    "print(features_train.shape[0] + features_test.shape[0] + features_valid.shape[0])\n",
    "print(target_train.shape[0] + target_test.shape[0] + target_valid.shape[0])"
   ]
  },
  {
   "cell_type": "markdown",
   "metadata": {},
   "source": [
    "## Exploring the models"
   ]
  },
  {
   "cell_type": "markdown",
   "metadata": {},
   "source": [
    "Model: Decision tree"
   ]
  },
  {
   "cell_type": "code",
   "execution_count": 105,
   "metadata": {},
   "outputs": [
    {
     "name": "stdout",
     "output_type": "stream",
     "text": [
      "max_depth = 5 : 0.8164852255054432\n",
      "F1: 0.6355685131195334\n"
     ]
    }
   ],
   "source": [
    "best_model = None\n",
    "best_accuracy = 0\n",
    "max_depth = 1\n",
    "for depth in range(1, 11):\n",
    "    model = DecisionTreeClassifier(max_depth=depth, random_state=12345)\n",
    "    model.fit(features_train, target_train)\n",
    "    result = model.predict(features_valid)\n",
    "    accuracy = accuracy_score(target_valid, result)\n",
    "    if accuracy > best_accuracy:\n",
    "        best_model = model\n",
    "        best_accuracy = accuracy\n",
    "        max_depth = depth\n",
    "print(f'max_depth = {max_depth} :', best_accuracy)\n",
    "print(\"F1:\", f1_score(target_valid, result))\n"
   ]
  },
  {
   "cell_type": "markdown",
   "metadata": {},
   "source": [
    "The best value for the depth of the tree is 5. Let's draw a decision tree with depth = 3 to illustrate the mechanics of decision making by the model."
   ]
  },
  {
   "cell_type": "code",
   "execution_count": 106,
   "metadata": {},
   "outputs": [
    {
     "data": {
      "image/png": "[encoded data removed]",
      "text/plain": [
       "<Figure size 1440x720 with 1 Axes>"
      ]
     },
     "metadata": {
      "needs_background": "light"
     },
     "output_type": "display_data"
    }
   ],
   "source": [
    "model_depth_3 = DecisionTreeClassifier(max_depth=3, random_state=12345)\n",
    "f = plt.figure()\n",
    "f.set_figwidth(20)\n",
    "f.set_figheight(10)\n",
    "tree.plot_tree(model_depth_3.fit(features_train, target_train))\n",
    "plt.show()"
   ]
  },
  {
   "cell_type": "markdown",
   "metadata": {},
   "source": [
    "Model: Random forest"
   ]
  },
  {
   "cell_type": "code",
   "execution_count": 107,
   "metadata": {},
   "outputs": [
    {
     "name": "stderr",
     "output_type": "stream",
     "text": [
      "100%|██████████| 10/10 [00:00<00:00, 32.62it/s]"
     ]
    },
    {
     "name": "stdout",
     "output_type": "stream",
     "text": [
      "n_estimators = 10 : 0.8133748055987559\n"
     ]
    },
    {
     "name": "stderr",
     "output_type": "stream",
     "text": [
      "\n"
     ]
    }
   ],
   "source": [
    "best_model_forest = None\n",
    "best_accuracy_forest = 0\n",
    "n_estimators = 1\n",
    "for est in tqdm(range(1, 11)):\n",
    "    model = RandomForestClassifier(random_state=12345, n_estimators=est)\n",
    "    model.fit(features_train, target_train)\n",
    "    #result = model.predict(features_valid)\n",
    "    accuracy = model.score(features_valid, target_valid)\n",
    "    if accuracy > best_accuracy_forest:\n",
    "        best_model_forest = model\n",
    "        best_accuracy_forest = accuracy\n",
    "        n_estimators = est\n",
    "print(f'n_estimators = {n_estimators} :', best_accuracy_forest)"
   ]
  },
  {
   "cell_type": "markdown",
   "metadata": {},
   "source": [
    "Model: Logistic regression"
   ]
  },
  {
   "cell_type": "code",
   "execution_count": 108,
   "metadata": {},
   "outputs": [
    {
     "name": "stdout",
     "output_type": "stream",
     "text": [
      "0.7558320373250389\n"
     ]
    }
   ],
   "source": [
    "model_regression = LogisticRegression(random_state=12345, solver='lbfgs', max_iter=1000)\n",
    "model_regression.fit(features_train, target_train)\n",
    "model_regression.predict(features_valid)\n",
    "accuracy_regression = model_regression.score(features_valid, target_valid)\n",
    "print(accuracy_regression)"
   ]
  },
  {
   "cell_type": "markdown",
   "metadata": {},
   "source": [
    "## Let's check the model on a test sample"
   ]
  },
  {
   "cell_type": "markdown",
   "metadata": {},
   "source": [
    "Now let's train the Decison tree model on training + validation samples and test it on the test."
   ]
  },
  {
   "cell_type": "code",
   "execution_count": 110,
   "metadata": {},
   "outputs": [
    {
     "name": "stdout",
     "output_type": "stream",
     "text": [
      "2571 2571\n"
     ]
    }
   ],
   "source": [
    "features_train = pd.concat([features_train, features_valid])\n",
    "target_train = pd.concat([target_train, target_valid])\n",
    "print(features_train.shape[0], target_train.shape[0])"
   ]
  },
  {
   "cell_type": "code",
   "execution_count": 111,
   "metadata": {
    "scrolled": true
   },
   "outputs": [
    {
     "name": "stdout",
     "output_type": "stream",
     "text": [
      "0.7838258164852255\n",
      "F1: 0.5723076923076923\n"
     ]
    }
   ],
   "source": [
    "model = DecisionTreeClassifier(max_depth=5, random_state=12345)\n",
    "model.fit(features_train, target_train)\n",
    "result = model.predict(features_test)\n",
    "accuracy = accuracy_score(target_test, result)\n",
    "print(accuracy)\n",
    "print(\"F1:\", f1_score(target_test, result))\n"
   ]
  },
  {
   "cell_type": "markdown",
   "metadata": {},
   "source": [
    "Accuracy on test sample is 0.78."
   ]
  },
  {
   "cell_type": "markdown",
   "metadata": {},
   "source": [
    "## Let't check the models for adequacy"
   ]
  },
  {
   "cell_type": "markdown",
   "metadata": {},
   "source": [
    "Let's check the model for adequacy by comparing it with a constant one, where all predictions are equal to 0 - the most frequent value in the target. For a better understanding, I tried to do this in two ways, the results are similar."
   ]
  },
  {
   "cell_type": "code",
   "execution_count": 114,
   "metadata": {},
   "outputs": [
    {
     "data": {
      "text/plain": [
       "0    2229\n",
       "1     985\n",
       "Name: is_ultra, dtype: int64"
      ]
     },
     "execution_count": 114,
     "metadata": {},
     "output_type": "execute_result"
    }
   ],
   "source": [
    "df['is_ultra'].value_counts()"
   ]
  },
  {
   "cell_type": "code",
   "execution_count": 116,
   "metadata": {},
   "outputs": [
    {
     "name": "stdout",
     "output_type": "stream",
     "text": [
      "0.6936236391912908\n"
     ]
    }
   ],
   "source": [
    "predicted_test = pd.Series(0, index=target_test.index)\n",
    "print(accuracy_score(target_test, predicted_test))"
   ]
  },
  {
   "cell_type": "code",
   "execution_count": 118,
   "metadata": {},
   "outputs": [
    {
     "name": "stdout",
     "output_type": "stream",
     "text": [
      "0.6936236391912908\n",
      "0.6936236391912908\n"
     ]
    }
   ],
   "source": [
    "dummy_clf = DummyClassifier(strategy='most_frequent')\n",
    "dummy_clf.fit(features_train, target_train)\n",
    "predicted_test = dummy_clf.predict(features_test)\n",
    "print(dummy_clf.score(features_test, target_test))\n",
    "print(accuracy_score(target_test, predicted_test)) "
   ]
  },
  {
   "cell_type": "markdown",
   "metadata": {},
   "source": [
    "Our model turned out to be more accurate than the constant one."
   ]
  },
  {
   "cell_type": "markdown",
   "metadata": {},
   "source": [
    "**Summary of work done:**\n",
    "\n",
    "The work began with loading and examining the dataset, ensuring its integrity and structure. The dataset, comprising five fields, was devoid of any empty values, with correct data types assigned. Subsequently, the data was divided into training, validation, and testing samples, ensuring class stratification.\n",
    "\n",
    "The exploration of models commenced with a Decision Tree Classifier, where the optimal depth was determined through iterative evaluation. A depth of 5 was identified as optimal, exemplified by visualizing a decision tree of depth 3.\n",
    "\n",
    "Proceeding to the Random Forest model, its performance was gauged by varying the number of estimators, ultimately identifying the optimal number as 10.\n",
    "\n",
    "The Logistic Regression model was then assessed, yielding an accuracy score.\n",
    "\n",
    "Subsequently, the Decision Tree model was trained on the combined training and validation samples and tested on the test sample, yielding an accuracy of 0.78.\n",
    "\n",
    "Finally, the Decision tree model was evaluated for adequacy by comparing it against a constant model where all predictions were set to the most frequent class. Comparison indicated that the constructed model outperformed the constant model, thus affirming its adequacy."
   ]
  }
 ],
 "metadata": {
  "ExecuteTimeLog": [
   {
    "duration": 627,
    "start_time": "2023-03-14T12:20:35.173Z"
   },
   {
    "duration": 58,
    "start_time": "2023-03-14T12:20:42.414Z"
   },
   {
    "duration": 782,
    "start_time": "2023-03-14T12:21:49.523Z"
   },
   {
    "duration": 5,
    "start_time": "2023-03-14T12:22:41.772Z"
   },
   {
    "duration": 8,
    "start_time": "2023-03-14T12:31:15.534Z"
   },
   {
    "duration": 528,
    "start_time": "2023-03-15T06:42:49.546Z"
   },
   {
    "duration": 682,
    "start_time": "2023-03-15T06:42:50.076Z"
   },
   {
    "duration": 46,
    "start_time": "2023-03-15T06:43:28.322Z"
   },
   {
    "duration": 7,
    "start_time": "2023-03-15T06:44:51.138Z"
   },
   {
    "duration": 7,
    "start_time": "2023-03-15T06:47:19.730Z"
   },
   {
    "duration": 8,
    "start_time": "2023-03-15T06:47:54.445Z"
   },
   {
    "duration": 3,
    "start_time": "2023-03-15T06:48:08.922Z"
   },
   {
    "duration": 32,
    "start_time": "2023-03-15T06:52:01.652Z"
   },
   {
    "duration": 67,
    "start_time": "2023-03-15T06:57:41.962Z"
   },
   {
    "duration": 66,
    "start_time": "2023-03-15T06:58:06.203Z"
   },
   {
    "duration": 12,
    "start_time": "2023-03-15T07:02:22.316Z"
   },
   {
    "duration": 9,
    "start_time": "2023-03-15T07:02:57.089Z"
   },
   {
    "duration": 12,
    "start_time": "2023-03-15T07:03:41.337Z"
   },
   {
    "duration": 12,
    "start_time": "2023-03-15T07:05:37.149Z"
   },
   {
    "duration": 83,
    "start_time": "2023-03-15T07:05:43.471Z"
   },
   {
    "duration": 14,
    "start_time": "2023-03-15T07:05:58.628Z"
   },
   {
    "duration": 78,
    "start_time": "2023-03-15T07:06:23.741Z"
   },
   {
    "duration": 106,
    "start_time": "2023-03-15T07:10:06.801Z"
   },
   {
    "duration": 9,
    "start_time": "2023-03-15T07:10:30.274Z"
   },
   {
    "duration": 9,
    "start_time": "2023-03-15T07:10:33.359Z"
   },
   {
    "duration": 49,
    "start_time": "2023-03-15T07:10:41.156Z"
   },
   {
    "duration": 8,
    "start_time": "2023-03-15T07:11:27.735Z"
   },
   {
    "duration": 71,
    "start_time": "2023-03-15T07:11:36.844Z"
   },
   {
    "duration": 8,
    "start_time": "2023-03-15T07:11:38.518Z"
   },
   {
    "duration": 70,
    "start_time": "2023-03-15T07:12:13.334Z"
   },
   {
    "duration": 9,
    "start_time": "2023-03-15T07:12:21.544Z"
   },
   {
    "duration": 12,
    "start_time": "2023-03-15T07:12:27.379Z"
   },
   {
    "duration": 40,
    "start_time": "2023-03-15T07:13:28.034Z"
   },
   {
    "duration": 10,
    "start_time": "2023-03-15T07:13:30.612Z"
   },
   {
    "duration": 78,
    "start_time": "2023-03-15T07:13:32.626Z"
   },
   {
    "duration": 8,
    "start_time": "2023-03-15T07:14:21.615Z"
   },
   {
    "duration": 68,
    "start_time": "2023-03-15T07:15:13.256Z"
   },
   {
    "duration": 68,
    "start_time": "2023-03-15T07:15:32.189Z"
   },
   {
    "duration": 10,
    "start_time": "2023-03-15T07:15:47.155Z"
   },
   {
    "duration": 66,
    "start_time": "2023-03-15T07:15:52.540Z"
   },
   {
    "duration": 62,
    "start_time": "2023-03-15T07:15:55.905Z"
   },
   {
    "duration": 71,
    "start_time": "2023-03-15T07:16:00.790Z"
   },
   {
    "duration": 66,
    "start_time": "2023-03-15T07:16:18.745Z"
   },
   {
    "duration": 69,
    "start_time": "2023-03-15T07:16:40.305Z"
   },
   {
    "duration": 65,
    "start_time": "2023-03-15T07:17:04.849Z"
   },
   {
    "duration": 37,
    "start_time": "2023-03-15T07:17:15.072Z"
   },
   {
    "duration": 9,
    "start_time": "2023-03-15T07:17:15.110Z"
   },
   {
    "duration": 73,
    "start_time": "2023-03-15T07:17:22.590Z"
   },
   {
    "duration": 69,
    "start_time": "2023-03-15T07:17:45.061Z"
   },
   {
    "duration": 72,
    "start_time": "2023-03-15T07:17:50.398Z"
   },
   {
    "duration": 67,
    "start_time": "2023-03-15T07:18:10.794Z"
   },
   {
    "duration": 69,
    "start_time": "2023-03-15T07:18:38.982Z"
   },
   {
    "duration": 70,
    "start_time": "2023-03-15T07:18:54.157Z"
   },
   {
    "duration": 10,
    "start_time": "2023-03-15T07:19:41.674Z"
   },
   {
    "duration": 76,
    "start_time": "2023-03-15T07:19:47.238Z"
   },
   {
    "duration": 74,
    "start_time": "2023-03-15T07:21:01.876Z"
   },
   {
    "duration": 15,
    "start_time": "2023-03-15T07:26:35.934Z"
   },
   {
    "duration": 67,
    "start_time": "2023-03-15T07:26:42.228Z"
   },
   {
    "duration": 66,
    "start_time": "2023-03-15T07:26:50.001Z"
   },
   {
    "duration": 65,
    "start_time": "2023-03-15T07:27:21.911Z"
   },
   {
    "duration": 68,
    "start_time": "2023-03-15T07:27:50.404Z"
   },
   {
    "duration": 67,
    "start_time": "2023-03-15T07:28:15.530Z"
   },
   {
    "duration": 66,
    "start_time": "2023-03-15T07:28:24.909Z"
   },
   {
    "duration": 9,
    "start_time": "2023-03-15T07:29:27.562Z"
   },
   {
    "duration": 7,
    "start_time": "2023-03-15T07:32:04.108Z"
   },
   {
    "duration": 280,
    "start_time": "2023-03-15T07:52:05.519Z"
   },
   {
    "duration": 297,
    "start_time": "2023-03-15T07:52:50.022Z"
   },
   {
    "duration": 311,
    "start_time": "2023-03-15T07:53:41.737Z"
   },
   {
    "duration": 10,
    "start_time": "2023-03-15T07:54:14.437Z"
   },
   {
    "duration": 12,
    "start_time": "2023-03-15T07:54:24.434Z"
   },
   {
    "duration": 58,
    "start_time": "2023-03-15T08:35:57.266Z"
   },
   {
    "duration": 70,
    "start_time": "2023-03-15T08:36:53.980Z"
   },
   {
    "duration": 38,
    "start_time": "2023-03-15T08:37:33.901Z"
   },
   {
    "duration": 8,
    "start_time": "2023-03-15T08:37:33.941Z"
   },
   {
    "duration": 17,
    "start_time": "2023-03-15T08:37:33.951Z"
   },
   {
    "duration": 0,
    "start_time": "2023-03-15T08:37:33.969Z"
   },
   {
    "duration": 40,
    "start_time": "2023-03-15T08:37:51.316Z"
   },
   {
    "duration": 12,
    "start_time": "2023-03-15T08:37:51.358Z"
   },
   {
    "duration": 102,
    "start_time": "2023-03-15T08:37:51.372Z"
   },
   {
    "duration": 269,
    "start_time": "2023-03-15T08:37:51.559Z"
   },
   {
    "duration": 58,
    "start_time": "2023-03-15T08:38:00.312Z"
   },
   {
    "duration": 43,
    "start_time": "2023-03-15T08:38:29.956Z"
   },
   {
    "duration": 69,
    "start_time": "2023-03-15T08:38:36.924Z"
   },
   {
    "duration": 13,
    "start_time": "2023-03-15T08:42:49.563Z"
   },
   {
    "duration": 39,
    "start_time": "2023-03-15T08:43:00.929Z"
   },
   {
    "duration": 8,
    "start_time": "2023-03-15T08:43:00.970Z"
   },
   {
    "duration": 103,
    "start_time": "2023-03-15T08:43:00.980Z"
   },
   {
    "duration": 295,
    "start_time": "2023-03-15T08:43:01.085Z"
   },
   {
    "duration": 44,
    "start_time": "2023-03-15T08:43:01.383Z"
   },
   {
    "duration": 38,
    "start_time": "2023-03-15T08:43:10.725Z"
   },
   {
    "duration": 10,
    "start_time": "2023-03-15T08:43:10.766Z"
   },
   {
    "duration": 80,
    "start_time": "2023-03-15T08:43:10.778Z"
   },
   {
    "duration": 279,
    "start_time": "2023-03-15T08:43:10.860Z"
   },
   {
    "duration": 38,
    "start_time": "2023-03-15T08:43:22.251Z"
   },
   {
    "duration": 11,
    "start_time": "2023-03-15T08:43:22.291Z"
   },
   {
    "duration": 83,
    "start_time": "2023-03-15T08:43:22.303Z"
   },
   {
    "duration": 267,
    "start_time": "2023-03-15T08:43:22.622Z"
   },
   {
    "duration": 43,
    "start_time": "2023-03-15T08:43:25.611Z"
   },
   {
    "duration": 52,
    "start_time": "2023-03-15T08:43:34.183Z"
   },
   {
    "duration": 46,
    "start_time": "2023-03-15T08:45:49.979Z"
   },
   {
    "duration": 20,
    "start_time": "2023-03-15T08:47:37.775Z"
   },
   {
    "duration": 532,
    "start_time": "2023-03-15T09:34:42.940Z"
   },
   {
    "duration": 1842,
    "start_time": "2023-03-15T09:34:43.475Z"
   },
   {
    "duration": 131,
    "start_time": "2023-03-15T09:34:45.318Z"
   },
   {
    "duration": 356,
    "start_time": "2023-03-15T09:34:45.452Z"
   },
   {
    "duration": 83,
    "start_time": "2023-03-15T09:34:45.810Z"
   },
   {
    "duration": 15,
    "start_time": "2023-03-15T09:34:45.896Z"
   },
   {
    "duration": 487,
    "start_time": "2023-03-15T16:40:07.213Z"
   },
   {
    "duration": 722,
    "start_time": "2023-03-15T16:40:07.703Z"
   },
   {
    "duration": 108,
    "start_time": "2023-03-15T16:40:08.427Z"
   },
   {
    "duration": 296,
    "start_time": "2023-03-15T16:40:08.537Z"
   },
   {
    "duration": 54,
    "start_time": "2023-03-15T16:41:55.374Z"
   },
   {
    "duration": 13,
    "start_time": "2023-03-15T16:42:08.500Z"
   },
   {
    "duration": 1135,
    "start_time": "2023-04-19T11:42:09.628Z"
   },
   {
    "duration": 82,
    "start_time": "2023-04-19T11:44:50.802Z"
   },
   {
    "duration": 8,
    "start_time": "2023-04-19T11:45:11.228Z"
   },
   {
    "duration": 11,
    "start_time": "2023-04-19T11:45:15.025Z"
   },
   {
    "duration": 11,
    "start_time": "2023-04-19T11:45:19.346Z"
   },
   {
    "duration": 9,
    "start_time": "2023-04-19T11:45:22.337Z"
   },
   {
    "duration": 9,
    "start_time": "2023-04-19T11:52:47.341Z"
   },
   {
    "duration": 5,
    "start_time": "2023-04-19T11:53:06.498Z"
   },
   {
    "duration": 4,
    "start_time": "2023-04-19T11:53:31.334Z"
   },
   {
    "duration": 4,
    "start_time": "2023-04-19T11:54:38.808Z"
   },
   {
    "duration": 6,
    "start_time": "2023-04-19T11:54:45.947Z"
   },
   {
    "duration": 6,
    "start_time": "2023-04-19T11:54:55.858Z"
   },
   {
    "duration": 6,
    "start_time": "2023-04-19T11:55:41.513Z"
   },
   {
    "duration": 5,
    "start_time": "2023-04-19T11:55:48.922Z"
   },
   {
    "duration": 48,
    "start_time": "2023-04-19T11:57:22.456Z"
   },
   {
    "duration": 11,
    "start_time": "2023-04-19T11:59:00.547Z"
   },
   {
    "duration": 72,
    "start_time": "2023-04-19T11:59:22.791Z"
   },
   {
    "duration": 3,
    "start_time": "2023-04-19T11:59:38.436Z"
   },
   {
    "duration": 175,
    "start_time": "2023-04-19T12:00:30.367Z"
   },
   {
    "duration": 80,
    "start_time": "2023-04-19T12:00:58.694Z"
   },
   {
    "duration": 92,
    "start_time": "2023-04-19T12:01:20.019Z"
   },
   {
    "duration": 1085,
    "start_time": "2023-04-20T10:01:41.642Z"
   },
   {
    "duration": 3,
    "start_time": "2023-04-20T10:01:58.201Z"
   },
   {
    "duration": 93,
    "start_time": "2023-04-20T10:01:58.206Z"
   },
   {
    "duration": 11,
    "start_time": "2023-04-20T10:01:58.301Z"
   },
   {
    "duration": 86,
    "start_time": "2023-04-20T10:03:15.541Z"
   },
   {
    "duration": 8,
    "start_time": "2023-04-20T10:03:20.434Z"
   },
   {
    "duration": 88,
    "start_time": "2023-04-20T10:03:22.517Z"
   },
   {
    "duration": 3,
    "start_time": "2023-04-20T10:04:42.265Z"
   },
   {
    "duration": 3,
    "start_time": "2023-04-20T10:04:58.005Z"
   },
   {
    "duration": 4,
    "start_time": "2023-04-20T10:05:21.664Z"
   },
   {
    "duration": 11,
    "start_time": "2023-04-20T10:06:33.621Z"
   },
   {
    "duration": 11,
    "start_time": "2023-04-20T10:06:42.293Z"
   },
   {
    "duration": 35,
    "start_time": "2023-04-20T10:07:27.864Z"
   },
   {
    "duration": 8,
    "start_time": "2023-04-20T10:11:12.421Z"
   },
   {
    "duration": 7,
    "start_time": "2023-04-20T10:11:27.110Z"
   },
   {
    "duration": 7,
    "start_time": "2023-04-20T10:13:49.733Z"
   },
   {
    "duration": 1037,
    "start_time": "2023-04-22T07:20:24.928Z"
   },
   {
    "duration": 79,
    "start_time": "2023-04-22T07:20:26.924Z"
   },
   {
    "duration": 11,
    "start_time": "2023-04-22T07:20:32.232Z"
   },
   {
    "duration": 8,
    "start_time": "2023-04-22T07:20:37.652Z"
   },
   {
    "duration": 120,
    "start_time": "2023-04-22T08:19:22.444Z"
   },
   {
    "duration": 3,
    "start_time": "2023-04-22T08:19:43.700Z"
   },
   {
    "duration": 40,
    "start_time": "2023-04-22T08:19:43.705Z"
   },
   {
    "duration": 21,
    "start_time": "2023-04-22T08:19:43.747Z"
   },
   {
    "duration": 20,
    "start_time": "2023-04-22T08:19:46.417Z"
   },
   {
    "duration": 12,
    "start_time": "2023-04-22T08:20:07.324Z"
   },
   {
    "duration": 2,
    "start_time": "2023-04-22T08:21:32.924Z"
   },
   {
    "duration": 5,
    "start_time": "2023-04-22T08:39:19.759Z"
   },
   {
    "duration": 5,
    "start_time": "2023-04-22T08:41:57.538Z"
   },
   {
    "duration": 5,
    "start_time": "2023-04-22T08:42:19.172Z"
   },
   {
    "duration": 5,
    "start_time": "2023-04-22T08:42:43.643Z"
   },
   {
    "duration": 4,
    "start_time": "2023-04-22T08:43:15.036Z"
   },
   {
    "duration": 5,
    "start_time": "2023-04-22T08:43:21.861Z"
   },
   {
    "duration": 6,
    "start_time": "2023-04-22T08:43:47.248Z"
   },
   {
    "duration": 110,
    "start_time": "2023-04-22T08:45:13.231Z"
   },
   {
    "duration": 72,
    "start_time": "2023-04-22T08:45:23.577Z"
   },
   {
    "duration": 328,
    "start_time": "2023-04-22T08:45:34.255Z"
   },
   {
    "duration": 3,
    "start_time": "2023-04-22T09:16:27.182Z"
   },
   {
    "duration": 589,
    "start_time": "2023-04-22T09:16:38.960Z"
   },
   {
    "duration": 4,
    "start_time": "2023-04-22T09:18:21.712Z"
   },
   {
    "duration": 2682,
    "start_time": "2023-04-22T09:18:30.779Z"
   },
   {
    "duration": 101,
    "start_time": "2023-04-22T09:18:53.930Z"
   },
   {
    "duration": 69,
    "start_time": "2023-04-22T09:19:06.894Z"
   },
   {
    "duration": 47,
    "start_time": "2023-04-22T09:20:13.811Z"
   },
   {
    "duration": 7,
    "start_time": "2023-04-22T09:20:32.125Z"
   },
   {
    "duration": 527,
    "start_time": "2023-04-22T09:21:00.415Z"
   },
   {
    "duration": 952,
    "start_time": "2023-04-22T09:21:19.361Z"
   },
   {
    "duration": 494,
    "start_time": "2023-04-22T09:21:28.701Z"
   },
   {
    "duration": 566,
    "start_time": "2023-04-22T09:22:30.708Z"
   },
   {
    "duration": 601,
    "start_time": "2023-04-22T09:22:46.772Z"
   },
   {
    "duration": 528,
    "start_time": "2023-04-22T09:22:54.338Z"
   },
   {
    "duration": 447,
    "start_time": "2023-04-22T09:23:10.657Z"
   },
   {
    "duration": 535,
    "start_time": "2023-04-22T09:25:16.033Z"
   },
   {
    "duration": 852,
    "start_time": "2023-04-22T09:25:25.567Z"
   },
   {
    "duration": 1028,
    "start_time": "2023-04-22T09:25:38.135Z"
   },
   {
    "duration": 948,
    "start_time": "2023-04-22T09:25:52.879Z"
   },
   {
    "duration": 1116,
    "start_time": "2023-04-22T09:26:00.465Z"
   },
   {
    "duration": 4,
    "start_time": "2023-04-22T09:26:18.350Z"
   },
   {
    "duration": 730,
    "start_time": "2023-04-22T09:26:53.754Z"
   },
   {
    "duration": 19,
    "start_time": "2023-04-22T09:27:48.898Z"
   },
   {
    "duration": 69,
    "start_time": "2023-04-22T09:27:56.073Z"
   },
   {
    "duration": 34,
    "start_time": "2023-04-22T10:16:41.178Z"
   },
   {
    "duration": 352,
    "start_time": "2023-04-22T10:18:03.911Z"
   },
   {
    "duration": 4,
    "start_time": "2023-04-22T10:18:14.740Z"
   },
   {
    "duration": 39,
    "start_time": "2023-04-22T10:19:49.407Z"
   },
   {
    "duration": 4,
    "start_time": "2023-04-22T10:37:13.858Z"
   },
   {
    "duration": 6,
    "start_time": "2023-04-22T10:37:16.211Z"
   },
   {
    "duration": 7,
    "start_time": "2023-04-22T10:37:23.872Z"
   },
   {
    "duration": 6,
    "start_time": "2023-04-22T10:38:53.371Z"
   },
   {
    "duration": 18,
    "start_time": "2023-04-22T10:41:53.007Z"
   },
   {
    "duration": 17,
    "start_time": "2023-04-22T10:42:05.598Z"
   },
   {
    "duration": 15,
    "start_time": "2023-04-22T10:42:09.706Z"
   },
   {
    "duration": 19,
    "start_time": "2023-04-22T10:42:20.484Z"
   },
   {
    "duration": 7,
    "start_time": "2023-04-22T10:42:24.699Z"
   },
   {
    "duration": 5,
    "start_time": "2023-04-22T10:42:31.707Z"
   },
   {
    "duration": 71,
    "start_time": "2023-04-22T10:42:31.715Z"
   },
   {
    "duration": 14,
    "start_time": "2023-04-22T10:42:31.788Z"
   },
   {
    "duration": 40,
    "start_time": "2023-04-22T10:42:31.804Z"
   },
   {
    "duration": 5,
    "start_time": "2023-04-22T10:42:31.846Z"
   },
   {
    "duration": 8,
    "start_time": "2023-04-22T10:42:31.853Z"
   },
   {
    "duration": 96,
    "start_time": "2023-04-22T10:42:31.863Z"
   },
   {
    "duration": 616,
    "start_time": "2023-04-22T10:42:31.961Z"
   },
   {
    "duration": 296,
    "start_time": "2023-04-22T10:42:32.579Z"
   },
   {
    "duration": 56,
    "start_time": "2023-04-22T10:42:32.877Z"
   },
   {
    "duration": 13,
    "start_time": "2023-04-22T10:42:32.934Z"
   },
   {
    "duration": 6,
    "start_time": "2023-04-22T10:42:39.825Z"
   },
   {
    "duration": 4,
    "start_time": "2023-04-22T10:43:28.368Z"
   },
   {
    "duration": 53,
    "start_time": "2023-04-22T10:43:28.374Z"
   },
   {
    "duration": 11,
    "start_time": "2023-04-22T10:43:28.430Z"
   },
   {
    "duration": 14,
    "start_time": "2023-04-22T10:43:28.443Z"
   },
   {
    "duration": 3,
    "start_time": "2023-04-22T10:43:28.458Z"
   },
   {
    "duration": 6,
    "start_time": "2023-04-22T10:43:28.463Z"
   },
   {
    "duration": 95,
    "start_time": "2023-04-22T10:43:28.471Z"
   },
   {
    "duration": 577,
    "start_time": "2023-04-22T10:43:28.568Z"
   },
   {
    "duration": 316,
    "start_time": "2023-04-22T10:43:29.147Z"
   },
   {
    "duration": 69,
    "start_time": "2023-04-22T10:43:29.465Z"
   },
   {
    "duration": 15,
    "start_time": "2023-04-22T10:43:29.537Z"
   },
   {
    "duration": 4,
    "start_time": "2023-04-22T10:43:42.891Z"
   },
   {
    "duration": 6,
    "start_time": "2023-04-22T10:43:56.714Z"
   },
   {
    "duration": 4,
    "start_time": "2023-04-22T10:44:01.843Z"
   },
   {
    "duration": 5,
    "start_time": "2023-04-22T10:44:13.642Z"
   },
   {
    "duration": 4,
    "start_time": "2023-04-22T10:46:05.259Z"
   },
   {
    "duration": 5,
    "start_time": "2023-04-22T10:46:31.003Z"
   },
   {
    "duration": 119,
    "start_time": "2023-04-22T10:46:31.010Z"
   },
   {
    "duration": 13,
    "start_time": "2023-04-22T10:46:31.131Z"
   },
   {
    "duration": 34,
    "start_time": "2023-04-22T10:46:31.146Z"
   },
   {
    "duration": 18,
    "start_time": "2023-04-22T10:46:31.183Z"
   },
   {
    "duration": 34,
    "start_time": "2023-04-22T10:46:31.206Z"
   },
   {
    "duration": 105,
    "start_time": "2023-04-22T10:46:31.242Z"
   },
   {
    "duration": 573,
    "start_time": "2023-04-22T10:46:31.349Z"
   },
   {
    "duration": 320,
    "start_time": "2023-04-22T10:46:31.924Z"
   },
   {
    "duration": 48,
    "start_time": "2023-04-22T10:46:32.245Z"
   },
   {
    "duration": 13,
    "start_time": "2023-04-22T10:46:32.295Z"
   },
   {
    "duration": 11,
    "start_time": "2023-04-22T10:46:56.722Z"
   },
   {
    "duration": 5,
    "start_time": "2023-04-22T10:47:20.124Z"
   },
   {
    "duration": 41,
    "start_time": "2023-04-22T10:47:20.132Z"
   },
   {
    "duration": 14,
    "start_time": "2023-04-22T10:47:20.174Z"
   },
   {
    "duration": 26,
    "start_time": "2023-04-22T10:47:20.191Z"
   },
   {
    "duration": 11,
    "start_time": "2023-04-22T10:47:20.219Z"
   },
   {
    "duration": 10,
    "start_time": "2023-04-22T10:47:20.232Z"
   },
   {
    "duration": 100,
    "start_time": "2023-04-22T10:47:20.244Z"
   },
   {
    "duration": 634,
    "start_time": "2023-04-22T10:47:20.346Z"
   },
   {
    "duration": 327,
    "start_time": "2023-04-22T10:47:20.982Z"
   },
   {
    "duration": 40,
    "start_time": "2023-04-22T10:47:21.311Z"
   },
   {
    "duration": 40,
    "start_time": "2023-04-22T10:47:21.353Z"
   },
   {
    "duration": 6,
    "start_time": "2023-04-22T10:47:36.213Z"
   },
   {
    "duration": 26,
    "start_time": "2023-04-22T10:49:57.788Z"
   },
   {
    "duration": 9,
    "start_time": "2023-04-22T10:57:50.243Z"
   },
   {
    "duration": 9,
    "start_time": "2023-04-22T10:58:12.502Z"
   },
   {
    "duration": 6,
    "start_time": "2023-04-22T10:59:32.714Z"
   },
   {
    "duration": 3,
    "start_time": "2023-04-22T11:00:25.574Z"
   },
   {
    "duration": 5,
    "start_time": "2023-04-22T11:00:56.072Z"
   },
   {
    "duration": 8,
    "start_time": "2023-04-22T11:23:36.490Z"
   },
   {
    "duration": 6,
    "start_time": "2023-04-22T11:23:49.969Z"
   },
   {
    "duration": 5,
    "start_time": "2023-04-22T11:27:26.275Z"
   }
  ],
  "kernelspec": {
   "display_name": "Python 3 (ipykernel)",
   "language": "python",
   "name": "python3"
  },
  "language_info": {
   "codemirror_mode": {
    "name": "ipython",
    "version": 3
   },
   "file_extension": ".py",
   "mimetype": "text/x-python",
   "name": "python",
   "nbconvert_exporter": "python",
   "pygments_lexer": "ipython3",
   "version": "3.10.9"
  },
  "toc": {
   "base_numbering": 1,
   "nav_menu": {},
   "number_sections": true,
   "sideBar": true,
   "skip_h1_title": true,
   "title_cell": "Table of Contents",
   "title_sidebar": "Contents",
   "toc_cell": false,
   "toc_position": {},
   "toc_section_display": true,
   "toc_window_display": false
  }
 },
 "nbformat": 4,
 "nbformat_minor": 2
}

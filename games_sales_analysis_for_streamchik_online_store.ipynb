{
 "cells": [
  {
   "cell_type": "markdown",
   "metadata": {},
   "source": [
    "**First, let's open the dataset and examime the general information**"
   ]
  },
  {
   "cell_type": "code",
   "execution_count": 2,
   "metadata": {},
   "outputs": [],
   "source": [
    "import pandas as pd\n",
    "import numpy as np\n",
    "import matplotlib.pyplot as plt\n",
    "import seaborn as sns"
   ]
  },
  {
   "cell_type": "code",
   "execution_count": 3,
   "metadata": {},
   "outputs": [],
   "source": [
    "try:\n",
    "    data = pd.read_csv('/datasets/games.csv')\n",
    "except:\n",
    "    data = pd.read_csv('https://code.s3.yandex.net/datasets/games.csv')"
   ]
  },
  {
   "cell_type": "code",
   "execution_count": 5,
   "metadata": {},
   "outputs": [
    {
     "data": {
      "text/html": [
       "<div>\n",
       "<style scoped>\n",
       "    .dataframe tbody tr th:only-of-type {\n",
       "        vertical-align: middle;\n",
       "    }\n",
       "\n",
       "    .dataframe tbody tr th {\n",
       "        vertical-align: top;\n",
       "    }\n",
       "\n",
       "    .dataframe thead th {\n",
       "        text-align: right;\n",
       "    }\n",
       "</style>\n",
       "<table border=\"1\" class=\"dataframe\">\n",
       "  <thead>\n",
       "    <tr style=\"text-align: right;\">\n",
       "      <th></th>\n",
       "      <th>name</th>\n",
       "      <th>platform</th>\n",
       "      <th>year_of_release</th>\n",
       "      <th>genre</th>\n",
       "      <th>na_sales</th>\n",
       "      <th>eu_sales</th>\n",
       "      <th>jp_sales</th>\n",
       "      <th>other_sales</th>\n",
       "      <th>critic_score</th>\n",
       "      <th>user_score</th>\n",
       "      <th>rating</th>\n",
       "    </tr>\n",
       "  </thead>\n",
       "  <tbody>\n",
       "    <tr>\n",
       "      <th>0</th>\n",
       "      <td>Wii Sports</td>\n",
       "      <td>Wii</td>\n",
       "      <td>2006.0</td>\n",
       "      <td>Sports</td>\n",
       "      <td>41.36</td>\n",
       "      <td>28.96</td>\n",
       "      <td>3.77</td>\n",
       "      <td>8.45</td>\n",
       "      <td>76.0</td>\n",
       "      <td>8</td>\n",
       "      <td>E</td>\n",
       "    </tr>\n",
       "    <tr>\n",
       "      <th>1</th>\n",
       "      <td>Super Mario Bros.</td>\n",
       "      <td>NES</td>\n",
       "      <td>1985.0</td>\n",
       "      <td>Platform</td>\n",
       "      <td>29.08</td>\n",
       "      <td>3.58</td>\n",
       "      <td>6.81</td>\n",
       "      <td>0.77</td>\n",
       "      <td>NaN</td>\n",
       "      <td>NaN</td>\n",
       "      <td>NaN</td>\n",
       "    </tr>\n",
       "    <tr>\n",
       "      <th>2</th>\n",
       "      <td>Mario Kart Wii</td>\n",
       "      <td>Wii</td>\n",
       "      <td>2008.0</td>\n",
       "      <td>Racing</td>\n",
       "      <td>15.68</td>\n",
       "      <td>12.76</td>\n",
       "      <td>3.79</td>\n",
       "      <td>3.29</td>\n",
       "      <td>82.0</td>\n",
       "      <td>8.3</td>\n",
       "      <td>E</td>\n",
       "    </tr>\n",
       "    <tr>\n",
       "      <th>3</th>\n",
       "      <td>Wii Sports Resort</td>\n",
       "      <td>Wii</td>\n",
       "      <td>2009.0</td>\n",
       "      <td>Sports</td>\n",
       "      <td>15.61</td>\n",
       "      <td>10.93</td>\n",
       "      <td>3.28</td>\n",
       "      <td>2.95</td>\n",
       "      <td>80.0</td>\n",
       "      <td>8</td>\n",
       "      <td>E</td>\n",
       "    </tr>\n",
       "    <tr>\n",
       "      <th>4</th>\n",
       "      <td>Pokemon Red/Pokemon Blue</td>\n",
       "      <td>GB</td>\n",
       "      <td>1996.0</td>\n",
       "      <td>Role-Playing</td>\n",
       "      <td>11.27</td>\n",
       "      <td>8.89</td>\n",
       "      <td>10.22</td>\n",
       "      <td>1.00</td>\n",
       "      <td>NaN</td>\n",
       "      <td>NaN</td>\n",
       "      <td>NaN</td>\n",
       "    </tr>\n",
       "    <tr>\n",
       "      <th>...</th>\n",
       "      <td>...</td>\n",
       "      <td>...</td>\n",
       "      <td>...</td>\n",
       "      <td>...</td>\n",
       "      <td>...</td>\n",
       "      <td>...</td>\n",
       "      <td>...</td>\n",
       "      <td>...</td>\n",
       "      <td>...</td>\n",
       "      <td>...</td>\n",
       "      <td>...</td>\n",
       "    </tr>\n",
       "    <tr>\n",
       "      <th>16710</th>\n",
       "      <td>Samurai Warriors: Sanada Maru</td>\n",
       "      <td>PS3</td>\n",
       "      <td>2016.0</td>\n",
       "      <td>Action</td>\n",
       "      <td>0.00</td>\n",
       "      <td>0.00</td>\n",
       "      <td>0.01</td>\n",
       "      <td>0.00</td>\n",
       "      <td>NaN</td>\n",
       "      <td>NaN</td>\n",
       "      <td>NaN</td>\n",
       "    </tr>\n",
       "    <tr>\n",
       "      <th>16711</th>\n",
       "      <td>LMA Manager 2007</td>\n",
       "      <td>X360</td>\n",
       "      <td>2006.0</td>\n",
       "      <td>Sports</td>\n",
       "      <td>0.00</td>\n",
       "      <td>0.01</td>\n",
       "      <td>0.00</td>\n",
       "      <td>0.00</td>\n",
       "      <td>NaN</td>\n",
       "      <td>NaN</td>\n",
       "      <td>NaN</td>\n",
       "    </tr>\n",
       "    <tr>\n",
       "      <th>16712</th>\n",
       "      <td>Haitaka no Psychedelica</td>\n",
       "      <td>PSV</td>\n",
       "      <td>2016.0</td>\n",
       "      <td>Adventure</td>\n",
       "      <td>0.00</td>\n",
       "      <td>0.00</td>\n",
       "      <td>0.01</td>\n",
       "      <td>0.00</td>\n",
       "      <td>NaN</td>\n",
       "      <td>NaN</td>\n",
       "      <td>NaN</td>\n",
       "    </tr>\n",
       "    <tr>\n",
       "      <th>16713</th>\n",
       "      <td>Spirits &amp; Spells</td>\n",
       "      <td>GBA</td>\n",
       "      <td>2003.0</td>\n",
       "      <td>Platform</td>\n",
       "      <td>0.01</td>\n",
       "      <td>0.00</td>\n",
       "      <td>0.00</td>\n",
       "      <td>0.00</td>\n",
       "      <td>NaN</td>\n",
       "      <td>NaN</td>\n",
       "      <td>NaN</td>\n",
       "    </tr>\n",
       "    <tr>\n",
       "      <th>16714</th>\n",
       "      <td>Winning Post 8 2016</td>\n",
       "      <td>PSV</td>\n",
       "      <td>2016.0</td>\n",
       "      <td>Simulation</td>\n",
       "      <td>0.00</td>\n",
       "      <td>0.00</td>\n",
       "      <td>0.01</td>\n",
       "      <td>0.00</td>\n",
       "      <td>NaN</td>\n",
       "      <td>NaN</td>\n",
       "      <td>NaN</td>\n",
       "    </tr>\n",
       "  </tbody>\n",
       "</table>\n",
       "<p>16715 rows × 11 columns</p>\n",
       "</div>"
      ],
      "text/plain": [
       "                                name platform  year_of_release         genre  \\\n",
       "0                         Wii Sports      Wii           2006.0        Sports   \n",
       "1                  Super Mario Bros.      NES           1985.0      Platform   \n",
       "2                     Mario Kart Wii      Wii           2008.0        Racing   \n",
       "3                  Wii Sports Resort      Wii           2009.0        Sports   \n",
       "4           Pokemon Red/Pokemon Blue       GB           1996.0  Role-Playing   \n",
       "...                              ...      ...              ...           ...   \n",
       "16710  Samurai Warriors: Sanada Maru      PS3           2016.0        Action   \n",
       "16711               LMA Manager 2007     X360           2006.0        Sports   \n",
       "16712        Haitaka no Psychedelica      PSV           2016.0     Adventure   \n",
       "16713               Spirits & Spells      GBA           2003.0      Platform   \n",
       "16714            Winning Post 8 2016      PSV           2016.0    Simulation   \n",
       "\n",
       "       na_sales  eu_sales  jp_sales  other_sales  critic_score user_score  \\\n",
       "0         41.36     28.96      3.77         8.45          76.0          8   \n",
       "1         29.08      3.58      6.81         0.77           NaN        NaN   \n",
       "2         15.68     12.76      3.79         3.29          82.0        8.3   \n",
       "3         15.61     10.93      3.28         2.95          80.0          8   \n",
       "4         11.27      8.89     10.22         1.00           NaN        NaN   \n",
       "...         ...       ...       ...          ...           ...        ...   \n",
       "16710      0.00      0.00      0.01         0.00           NaN        NaN   \n",
       "16711      0.00      0.01      0.00         0.00           NaN        NaN   \n",
       "16712      0.00      0.00      0.01         0.00           NaN        NaN   \n",
       "16713      0.01      0.00      0.00         0.00           NaN        NaN   \n",
       "16714      0.00      0.00      0.01         0.00           NaN        NaN   \n",
       "\n",
       "      rating  \n",
       "0          E  \n",
       "1        NaN  \n",
       "2          E  \n",
       "3          E  \n",
       "4        NaN  \n",
       "...      ...  \n",
       "16710    NaN  \n",
       "16711    NaN  \n",
       "16712    NaN  \n",
       "16713    NaN  \n",
       "16714    NaN  \n",
       "\n",
       "[16715 rows x 11 columns]"
      ]
     },
     "execution_count": 5,
     "metadata": {},
     "output_type": "execute_result"
    }
   ],
   "source": [
    "# Now we will lowercase the names of the fields.\n",
    "data.columns = data.columns.str.lower()\n",
    "\n",
    "data    "
   ]
  },
  {
   "cell_type": "code",
   "execution_count": 218,
   "metadata": {},
   "outputs": [
    {
     "name": "stdout",
     "output_type": "stream",
     "text": [
      "<class 'pandas.core.frame.DataFrame'>\n",
      "RangeIndex: 16715 entries, 0 to 16714\n",
      "Data columns (total 11 columns):\n",
      " #   Column           Non-Null Count  Dtype  \n",
      "---  ------           --------------  -----  \n",
      " 0   name             16713 non-null  object \n",
      " 1   platform         16715 non-null  object \n",
      " 2   year_of_release  16446 non-null  float64\n",
      " 3   genre            16713 non-null  object \n",
      " 4   na_sales         16715 non-null  float64\n",
      " 5   eu_sales         16715 non-null  float64\n",
      " 6   jp_sales         16715 non-null  float64\n",
      " 7   other_sales      16715 non-null  float64\n",
      " 8   critic_score     8137 non-null   float64\n",
      " 9   user_score       10014 non-null  object \n",
      " 10  rating           9949 non-null   object \n",
      "dtypes: float64(6), object(5)\n",
      "memory usage: 1.4+ MB\n"
     ]
    }
   ],
   "source": [
    "data.info()"
   ]
  },
  {
   "cell_type": "code",
   "execution_count": 6,
   "metadata": {},
   "outputs": [],
   "source": [
    "# Now let's correct the data types and process missing values"
   ]
  },
  {
   "cell_type": "raw",
   "metadata": {},
   "source": [
    "pd.options.mode.chained_assignment = None"
   ]
  },
  {
   "cell_type": "code",
   "execution_count": 219,
   "metadata": {},
   "outputs": [],
   "source": [
    "data = data.dropna(subset=['year_of_release'])\n",
    "data['year_of_release'] = data['year_of_release'].astype('int')\n"
   ]
  },
  {
   "cell_type": "code",
   "execution_count": 220,
   "metadata": {},
   "outputs": [
    {
     "name": "stdout",
     "output_type": "stream",
     "text": [
      "<class 'pandas.core.frame.DataFrame'>\n",
      "Int64Index: 16446 entries, 0 to 16714\n",
      "Data columns (total 11 columns):\n",
      " #   Column           Non-Null Count  Dtype  \n",
      "---  ------           --------------  -----  \n",
      " 0   name             16444 non-null  object \n",
      " 1   platform         16446 non-null  object \n",
      " 2   year_of_release  16446 non-null  int64  \n",
      " 3   genre            16444 non-null  object \n",
      " 4   na_sales         16446 non-null  float64\n",
      " 5   eu_sales         16446 non-null  float64\n",
      " 6   jp_sales         16446 non-null  float64\n",
      " 7   other_sales      16446 non-null  float64\n",
      " 8   critic_score     7983 non-null   float64\n",
      " 9   user_score       9839 non-null   object \n",
      " 10  rating           9768 non-null   object \n",
      "dtypes: float64(5), int64(1), object(5)\n",
      "memory usage: 1.5+ MB\n"
     ]
    }
   ],
   "source": [
    "try:\n",
    "    data['user_score'] = data['user_score'].astype('float')\n",
    "except:\n",
    "    pass\n",
    "\n",
    "data.info()"
   ]
  },
  {
   "cell_type": "code",
   "execution_count": 221,
   "metadata": {},
   "outputs": [
    {
     "data": {
      "text/html": [
       "<div>\n",
       "<style scoped>\n",
       "    .dataframe tbody tr th:only-of-type {\n",
       "        vertical-align: middle;\n",
       "    }\n",
       "\n",
       "    .dataframe tbody tr th {\n",
       "        vertical-align: top;\n",
       "    }\n",
       "\n",
       "    .dataframe thead th {\n",
       "        text-align: right;\n",
       "    }\n",
       "</style>\n",
       "<table border=\"1\" class=\"dataframe\">\n",
       "  <thead>\n",
       "    <tr style=\"text-align: right;\">\n",
       "      <th></th>\n",
       "      <th>genre</th>\n",
       "      <th>user_score</th>\n",
       "    </tr>\n",
       "  </thead>\n",
       "  <tbody>\n",
       "    <tr>\n",
       "      <th>0</th>\n",
       "      <td>Action</td>\n",
       "      <td>7.4</td>\n",
       "    </tr>\n",
       "    <tr>\n",
       "      <th>1</th>\n",
       "      <td>Adventure</td>\n",
       "      <td>7.6</td>\n",
       "    </tr>\n",
       "    <tr>\n",
       "      <th>2</th>\n",
       "      <td>Fighting</td>\n",
       "      <td>7.6</td>\n",
       "    </tr>\n",
       "    <tr>\n",
       "      <th>3</th>\n",
       "      <td>Misc</td>\n",
       "      <td>7.1</td>\n",
       "    </tr>\n",
       "    <tr>\n",
       "      <th>4</th>\n",
       "      <td>Platform</td>\n",
       "      <td>7.7</td>\n",
       "    </tr>\n",
       "    <tr>\n",
       "      <th>5</th>\n",
       "      <td>Puzzle</td>\n",
       "      <td>7.5</td>\n",
       "    </tr>\n",
       "    <tr>\n",
       "      <th>6</th>\n",
       "      <td>Racing</td>\n",
       "      <td>7.4</td>\n",
       "    </tr>\n",
       "    <tr>\n",
       "      <th>7</th>\n",
       "      <td>Role-Playing</td>\n",
       "      <td>7.8</td>\n",
       "    </tr>\n",
       "    <tr>\n",
       "      <th>8</th>\n",
       "      <td>Shooter</td>\n",
       "      <td>7.4</td>\n",
       "    </tr>\n",
       "    <tr>\n",
       "      <th>9</th>\n",
       "      <td>Simulation</td>\n",
       "      <td>7.5</td>\n",
       "    </tr>\n",
       "    <tr>\n",
       "      <th>10</th>\n",
       "      <td>Sports</td>\n",
       "      <td>7.4</td>\n",
       "    </tr>\n",
       "    <tr>\n",
       "      <th>11</th>\n",
       "      <td>Strategy</td>\n",
       "      <td>7.8</td>\n",
       "    </tr>\n",
       "  </tbody>\n",
       "</table>\n",
       "</div>"
      ],
      "text/plain": [
       "           genre  user_score\n",
       "0         Action         7.4\n",
       "1      Adventure         7.6\n",
       "2       Fighting         7.6\n",
       "3           Misc         7.1\n",
       "4       Platform         7.7\n",
       "5         Puzzle         7.5\n",
       "6         Racing         7.4\n",
       "7   Role-Playing         7.8\n",
       "8        Shooter         7.4\n",
       "9     Simulation         7.5\n",
       "10        Sports         7.4\n",
       "11      Strategy         7.8"
      ]
     },
     "execution_count": 221,
     "metadata": {},
     "output_type": "execute_result"
    }
   ],
   "source": [
    "data_slice = data.loc[data['user_score'] != 'tbd']\n",
    "data_slice.loc[:, 'user_score'] = data_slice.loc[:, 'user_score'].astype('float')\n",
    "#data_slice.info()\n",
    "median_score = data_slice.groupby('genre')['user_score'].median()\n",
    "#median_score['genre'] = median_score.index\n",
    "median_score.reset_index()"
   ]
  },
  {
   "cell_type": "code",
   "execution_count": 222,
   "metadata": {},
   "outputs": [
    {
     "data": {
      "text/html": [
       "<div>\n",
       "<style scoped>\n",
       "    .dataframe tbody tr th:only-of-type {\n",
       "        vertical-align: middle;\n",
       "    }\n",
       "\n",
       "    .dataframe tbody tr th {\n",
       "        vertical-align: top;\n",
       "    }\n",
       "\n",
       "    .dataframe thead th {\n",
       "        text-align: right;\n",
       "    }\n",
       "</style>\n",
       "<table border=\"1\" class=\"dataframe\">\n",
       "  <thead>\n",
       "    <tr style=\"text-align: right;\">\n",
       "      <th></th>\n",
       "      <th>name</th>\n",
       "      <th>platform</th>\n",
       "      <th>year_of_release</th>\n",
       "      <th>genre</th>\n",
       "      <th>na_sales</th>\n",
       "      <th>eu_sales</th>\n",
       "      <th>jp_sales</th>\n",
       "      <th>other_sales</th>\n",
       "      <th>critic_score</th>\n",
       "      <th>user_score_x</th>\n",
       "      <th>rating</th>\n",
       "      <th>user_score_y</th>\n",
       "    </tr>\n",
       "  </thead>\n",
       "  <tbody>\n",
       "    <tr>\n",
       "      <th>0</th>\n",
       "      <td>Wii Sports</td>\n",
       "      <td>Wii</td>\n",
       "      <td>2006</td>\n",
       "      <td>Sports</td>\n",
       "      <td>41.36</td>\n",
       "      <td>28.96</td>\n",
       "      <td>3.77</td>\n",
       "      <td>8.45</td>\n",
       "      <td>76.0</td>\n",
       "      <td>8</td>\n",
       "      <td>E</td>\n",
       "      <td>7.4</td>\n",
       "    </tr>\n",
       "    <tr>\n",
       "      <th>1</th>\n",
       "      <td>Super Mario Bros.</td>\n",
       "      <td>NES</td>\n",
       "      <td>1985</td>\n",
       "      <td>Platform</td>\n",
       "      <td>29.08</td>\n",
       "      <td>3.58</td>\n",
       "      <td>6.81</td>\n",
       "      <td>0.77</td>\n",
       "      <td>NaN</td>\n",
       "      <td>NaN</td>\n",
       "      <td>NaN</td>\n",
       "      <td>7.7</td>\n",
       "    </tr>\n",
       "    <tr>\n",
       "      <th>2</th>\n",
       "      <td>Mario Kart Wii</td>\n",
       "      <td>Wii</td>\n",
       "      <td>2008</td>\n",
       "      <td>Racing</td>\n",
       "      <td>15.68</td>\n",
       "      <td>12.76</td>\n",
       "      <td>3.79</td>\n",
       "      <td>3.29</td>\n",
       "      <td>82.0</td>\n",
       "      <td>8.3</td>\n",
       "      <td>E</td>\n",
       "      <td>7.4</td>\n",
       "    </tr>\n",
       "    <tr>\n",
       "      <th>3</th>\n",
       "      <td>Wii Sports Resort</td>\n",
       "      <td>Wii</td>\n",
       "      <td>2009</td>\n",
       "      <td>Sports</td>\n",
       "      <td>15.61</td>\n",
       "      <td>10.93</td>\n",
       "      <td>3.28</td>\n",
       "      <td>2.95</td>\n",
       "      <td>80.0</td>\n",
       "      <td>8</td>\n",
       "      <td>E</td>\n",
       "      <td>7.4</td>\n",
       "    </tr>\n",
       "    <tr>\n",
       "      <th>4</th>\n",
       "      <td>Pokemon Red/Pokemon Blue</td>\n",
       "      <td>GB</td>\n",
       "      <td>1996</td>\n",
       "      <td>Role-Playing</td>\n",
       "      <td>11.27</td>\n",
       "      <td>8.89</td>\n",
       "      <td>10.22</td>\n",
       "      <td>1.00</td>\n",
       "      <td>NaN</td>\n",
       "      <td>NaN</td>\n",
       "      <td>NaN</td>\n",
       "      <td>7.8</td>\n",
       "    </tr>\n",
       "    <tr>\n",
       "      <th>...</th>\n",
       "      <td>...</td>\n",
       "      <td>...</td>\n",
       "      <td>...</td>\n",
       "      <td>...</td>\n",
       "      <td>...</td>\n",
       "      <td>...</td>\n",
       "      <td>...</td>\n",
       "      <td>...</td>\n",
       "      <td>...</td>\n",
       "      <td>...</td>\n",
       "      <td>...</td>\n",
       "      <td>...</td>\n",
       "    </tr>\n",
       "    <tr>\n",
       "      <th>16710</th>\n",
       "      <td>Samurai Warriors: Sanada Maru</td>\n",
       "      <td>PS3</td>\n",
       "      <td>2016</td>\n",
       "      <td>Action</td>\n",
       "      <td>0.00</td>\n",
       "      <td>0.00</td>\n",
       "      <td>0.01</td>\n",
       "      <td>0.00</td>\n",
       "      <td>NaN</td>\n",
       "      <td>NaN</td>\n",
       "      <td>NaN</td>\n",
       "      <td>7.4</td>\n",
       "    </tr>\n",
       "    <tr>\n",
       "      <th>16711</th>\n",
       "      <td>LMA Manager 2007</td>\n",
       "      <td>X360</td>\n",
       "      <td>2006</td>\n",
       "      <td>Sports</td>\n",
       "      <td>0.00</td>\n",
       "      <td>0.01</td>\n",
       "      <td>0.00</td>\n",
       "      <td>0.00</td>\n",
       "      <td>NaN</td>\n",
       "      <td>NaN</td>\n",
       "      <td>NaN</td>\n",
       "      <td>7.4</td>\n",
       "    </tr>\n",
       "    <tr>\n",
       "      <th>16712</th>\n",
       "      <td>Haitaka no Psychedelica</td>\n",
       "      <td>PSV</td>\n",
       "      <td>2016</td>\n",
       "      <td>Adventure</td>\n",
       "      <td>0.00</td>\n",
       "      <td>0.00</td>\n",
       "      <td>0.01</td>\n",
       "      <td>0.00</td>\n",
       "      <td>NaN</td>\n",
       "      <td>NaN</td>\n",
       "      <td>NaN</td>\n",
       "      <td>7.6</td>\n",
       "    </tr>\n",
       "    <tr>\n",
       "      <th>16713</th>\n",
       "      <td>Spirits &amp; Spells</td>\n",
       "      <td>GBA</td>\n",
       "      <td>2003</td>\n",
       "      <td>Platform</td>\n",
       "      <td>0.01</td>\n",
       "      <td>0.00</td>\n",
       "      <td>0.00</td>\n",
       "      <td>0.00</td>\n",
       "      <td>NaN</td>\n",
       "      <td>NaN</td>\n",
       "      <td>NaN</td>\n",
       "      <td>7.7</td>\n",
       "    </tr>\n",
       "    <tr>\n",
       "      <th>16714</th>\n",
       "      <td>Winning Post 8 2016</td>\n",
       "      <td>PSV</td>\n",
       "      <td>2016</td>\n",
       "      <td>Simulation</td>\n",
       "      <td>0.00</td>\n",
       "      <td>0.00</td>\n",
       "      <td>0.01</td>\n",
       "      <td>0.00</td>\n",
       "      <td>NaN</td>\n",
       "      <td>NaN</td>\n",
       "      <td>NaN</td>\n",
       "      <td>7.5</td>\n",
       "    </tr>\n",
       "  </tbody>\n",
       "</table>\n",
       "<p>16446 rows × 12 columns</p>\n",
       "</div>"
      ],
      "text/plain": [
       "                                name platform  year_of_release         genre  \\\n",
       "0                         Wii Sports      Wii             2006        Sports   \n",
       "1                  Super Mario Bros.      NES             1985      Platform   \n",
       "2                     Mario Kart Wii      Wii             2008        Racing   \n",
       "3                  Wii Sports Resort      Wii             2009        Sports   \n",
       "4           Pokemon Red/Pokemon Blue       GB             1996  Role-Playing   \n",
       "...                              ...      ...              ...           ...   \n",
       "16710  Samurai Warriors: Sanada Maru      PS3             2016        Action   \n",
       "16711               LMA Manager 2007     X360             2006        Sports   \n",
       "16712        Haitaka no Psychedelica      PSV             2016     Adventure   \n",
       "16713               Spirits & Spells      GBA             2003      Platform   \n",
       "16714            Winning Post 8 2016      PSV             2016    Simulation   \n",
       "\n",
       "       na_sales  eu_sales  jp_sales  other_sales  critic_score user_score_x  \\\n",
       "0         41.36     28.96      3.77         8.45          76.0            8   \n",
       "1         29.08      3.58      6.81         0.77           NaN          NaN   \n",
       "2         15.68     12.76      3.79         3.29          82.0          8.3   \n",
       "3         15.61     10.93      3.28         2.95          80.0            8   \n",
       "4         11.27      8.89     10.22         1.00           NaN          NaN   \n",
       "...         ...       ...       ...          ...           ...          ...   \n",
       "16710      0.00      0.00      0.01         0.00           NaN          NaN   \n",
       "16711      0.00      0.01      0.00         0.00           NaN          NaN   \n",
       "16712      0.00      0.00      0.01         0.00           NaN          NaN   \n",
       "16713      0.01      0.00      0.00         0.00           NaN          NaN   \n",
       "16714      0.00      0.00      0.01         0.00           NaN          NaN   \n",
       "\n",
       "      rating  user_score_y  \n",
       "0          E           7.4  \n",
       "1        NaN           7.7  \n",
       "2          E           7.4  \n",
       "3          E           7.4  \n",
       "4        NaN           7.8  \n",
       "...      ...           ...  \n",
       "16710    NaN           7.4  \n",
       "16711    NaN           7.4  \n",
       "16712    NaN           7.6  \n",
       "16713    NaN           7.7  \n",
       "16714    NaN           7.5  \n",
       "\n",
       "[16446 rows x 12 columns]"
      ]
     },
     "execution_count": 222,
     "metadata": {},
     "output_type": "execute_result"
    }
   ],
   "source": [
    "data = data.merge(median_score, left_on='genre', right_index=True, how='left')\n",
    "data"
   ]
  },
  {
   "cell_type": "code",
   "execution_count": 223,
   "metadata": {},
   "outputs": [],
   "source": [
    "for genre in data['genre'].unique():\n",
    "    data.loc[(data['genre'] == genre) & (data['user_score_x'] == 'tbd'), 'user_score_x'] = data.loc[(data['genre'] == genre), 'user_score_y']"
   ]
  },
  {
   "cell_type": "code",
   "execution_count": 224,
   "metadata": {},
   "outputs": [
    {
     "data": {
      "text/html": [
       "<div>\n",
       "<style scoped>\n",
       "    .dataframe tbody tr th:only-of-type {\n",
       "        vertical-align: middle;\n",
       "    }\n",
       "\n",
       "    .dataframe tbody tr th {\n",
       "        vertical-align: top;\n",
       "    }\n",
       "\n",
       "    .dataframe thead th {\n",
       "        text-align: right;\n",
       "    }\n",
       "</style>\n",
       "<table border=\"1\" class=\"dataframe\">\n",
       "  <thead>\n",
       "    <tr style=\"text-align: right;\">\n",
       "      <th></th>\n",
       "      <th>name</th>\n",
       "      <th>platform</th>\n",
       "      <th>year_of_release</th>\n",
       "      <th>genre</th>\n",
       "      <th>na_sales</th>\n",
       "      <th>eu_sales</th>\n",
       "      <th>jp_sales</th>\n",
       "      <th>other_sales</th>\n",
       "      <th>critic_score</th>\n",
       "      <th>user_score_x</th>\n",
       "      <th>rating</th>\n",
       "      <th>user_score_y</th>\n",
       "    </tr>\n",
       "  </thead>\n",
       "  <tbody>\n",
       "    <tr>\n",
       "      <th>0</th>\n",
       "      <td>Wii Sports</td>\n",
       "      <td>Wii</td>\n",
       "      <td>2006</td>\n",
       "      <td>Sports</td>\n",
       "      <td>41.36</td>\n",
       "      <td>28.96</td>\n",
       "      <td>3.77</td>\n",
       "      <td>8.45</td>\n",
       "      <td>76.0</td>\n",
       "      <td>8</td>\n",
       "      <td>E</td>\n",
       "      <td>7.4</td>\n",
       "    </tr>\n",
       "    <tr>\n",
       "      <th>1</th>\n",
       "      <td>Super Mario Bros.</td>\n",
       "      <td>NES</td>\n",
       "      <td>1985</td>\n",
       "      <td>Platform</td>\n",
       "      <td>29.08</td>\n",
       "      <td>3.58</td>\n",
       "      <td>6.81</td>\n",
       "      <td>0.77</td>\n",
       "      <td>NaN</td>\n",
       "      <td>NaN</td>\n",
       "      <td>NaN</td>\n",
       "      <td>7.7</td>\n",
       "    </tr>\n",
       "    <tr>\n",
       "      <th>2</th>\n",
       "      <td>Mario Kart Wii</td>\n",
       "      <td>Wii</td>\n",
       "      <td>2008</td>\n",
       "      <td>Racing</td>\n",
       "      <td>15.68</td>\n",
       "      <td>12.76</td>\n",
       "      <td>3.79</td>\n",
       "      <td>3.29</td>\n",
       "      <td>82.0</td>\n",
       "      <td>8.3</td>\n",
       "      <td>E</td>\n",
       "      <td>7.4</td>\n",
       "    </tr>\n",
       "    <tr>\n",
       "      <th>3</th>\n",
       "      <td>Wii Sports Resort</td>\n",
       "      <td>Wii</td>\n",
       "      <td>2009</td>\n",
       "      <td>Sports</td>\n",
       "      <td>15.61</td>\n",
       "      <td>10.93</td>\n",
       "      <td>3.28</td>\n",
       "      <td>2.95</td>\n",
       "      <td>80.0</td>\n",
       "      <td>8</td>\n",
       "      <td>E</td>\n",
       "      <td>7.4</td>\n",
       "    </tr>\n",
       "    <tr>\n",
       "      <th>4</th>\n",
       "      <td>Pokemon Red/Pokemon Blue</td>\n",
       "      <td>GB</td>\n",
       "      <td>1996</td>\n",
       "      <td>Role-Playing</td>\n",
       "      <td>11.27</td>\n",
       "      <td>8.89</td>\n",
       "      <td>10.22</td>\n",
       "      <td>1.00</td>\n",
       "      <td>NaN</td>\n",
       "      <td>NaN</td>\n",
       "      <td>NaN</td>\n",
       "      <td>7.8</td>\n",
       "    </tr>\n",
       "    <tr>\n",
       "      <th>...</th>\n",
       "      <td>...</td>\n",
       "      <td>...</td>\n",
       "      <td>...</td>\n",
       "      <td>...</td>\n",
       "      <td>...</td>\n",
       "      <td>...</td>\n",
       "      <td>...</td>\n",
       "      <td>...</td>\n",
       "      <td>...</td>\n",
       "      <td>...</td>\n",
       "      <td>...</td>\n",
       "      <td>...</td>\n",
       "    </tr>\n",
       "    <tr>\n",
       "      <th>16710</th>\n",
       "      <td>Samurai Warriors: Sanada Maru</td>\n",
       "      <td>PS3</td>\n",
       "      <td>2016</td>\n",
       "      <td>Action</td>\n",
       "      <td>0.00</td>\n",
       "      <td>0.00</td>\n",
       "      <td>0.01</td>\n",
       "      <td>0.00</td>\n",
       "      <td>NaN</td>\n",
       "      <td>NaN</td>\n",
       "      <td>NaN</td>\n",
       "      <td>7.4</td>\n",
       "    </tr>\n",
       "    <tr>\n",
       "      <th>16711</th>\n",
       "      <td>LMA Manager 2007</td>\n",
       "      <td>X360</td>\n",
       "      <td>2006</td>\n",
       "      <td>Sports</td>\n",
       "      <td>0.00</td>\n",
       "      <td>0.01</td>\n",
       "      <td>0.00</td>\n",
       "      <td>0.00</td>\n",
       "      <td>NaN</td>\n",
       "      <td>NaN</td>\n",
       "      <td>NaN</td>\n",
       "      <td>7.4</td>\n",
       "    </tr>\n",
       "    <tr>\n",
       "      <th>16712</th>\n",
       "      <td>Haitaka no Psychedelica</td>\n",
       "      <td>PSV</td>\n",
       "      <td>2016</td>\n",
       "      <td>Adventure</td>\n",
       "      <td>0.00</td>\n",
       "      <td>0.00</td>\n",
       "      <td>0.01</td>\n",
       "      <td>0.00</td>\n",
       "      <td>NaN</td>\n",
       "      <td>NaN</td>\n",
       "      <td>NaN</td>\n",
       "      <td>7.6</td>\n",
       "    </tr>\n",
       "    <tr>\n",
       "      <th>16713</th>\n",
       "      <td>Spirits &amp; Spells</td>\n",
       "      <td>GBA</td>\n",
       "      <td>2003</td>\n",
       "      <td>Platform</td>\n",
       "      <td>0.01</td>\n",
       "      <td>0.00</td>\n",
       "      <td>0.00</td>\n",
       "      <td>0.00</td>\n",
       "      <td>NaN</td>\n",
       "      <td>NaN</td>\n",
       "      <td>NaN</td>\n",
       "      <td>7.7</td>\n",
       "    </tr>\n",
       "    <tr>\n",
       "      <th>16714</th>\n",
       "      <td>Winning Post 8 2016</td>\n",
       "      <td>PSV</td>\n",
       "      <td>2016</td>\n",
       "      <td>Simulation</td>\n",
       "      <td>0.00</td>\n",
       "      <td>0.00</td>\n",
       "      <td>0.01</td>\n",
       "      <td>0.00</td>\n",
       "      <td>NaN</td>\n",
       "      <td>NaN</td>\n",
       "      <td>NaN</td>\n",
       "      <td>7.5</td>\n",
       "    </tr>\n",
       "  </tbody>\n",
       "</table>\n",
       "<p>16446 rows × 12 columns</p>\n",
       "</div>"
      ],
      "text/plain": [
       "                                name platform  year_of_release         genre  \\\n",
       "0                         Wii Sports      Wii             2006        Sports   \n",
       "1                  Super Mario Bros.      NES             1985      Platform   \n",
       "2                     Mario Kart Wii      Wii             2008        Racing   \n",
       "3                  Wii Sports Resort      Wii             2009        Sports   \n",
       "4           Pokemon Red/Pokemon Blue       GB             1996  Role-Playing   \n",
       "...                              ...      ...              ...           ...   \n",
       "16710  Samurai Warriors: Sanada Maru      PS3             2016        Action   \n",
       "16711               LMA Manager 2007     X360             2006        Sports   \n",
       "16712        Haitaka no Psychedelica      PSV             2016     Adventure   \n",
       "16713               Spirits & Spells      GBA             2003      Platform   \n",
       "16714            Winning Post 8 2016      PSV             2016    Simulation   \n",
       "\n",
       "       na_sales  eu_sales  jp_sales  other_sales  critic_score user_score_x  \\\n",
       "0         41.36     28.96      3.77         8.45          76.0            8   \n",
       "1         29.08      3.58      6.81         0.77           NaN          NaN   \n",
       "2         15.68     12.76      3.79         3.29          82.0          8.3   \n",
       "3         15.61     10.93      3.28         2.95          80.0            8   \n",
       "4         11.27      8.89     10.22         1.00           NaN          NaN   \n",
       "...         ...       ...       ...          ...           ...          ...   \n",
       "16710      0.00      0.00      0.01         0.00           NaN          NaN   \n",
       "16711      0.00      0.01      0.00         0.00           NaN          NaN   \n",
       "16712      0.00      0.00      0.01         0.00           NaN          NaN   \n",
       "16713      0.01      0.00      0.00         0.00           NaN          NaN   \n",
       "16714      0.00      0.00      0.01         0.00           NaN          NaN   \n",
       "\n",
       "      rating  user_score_y  \n",
       "0          E           7.4  \n",
       "1        NaN           7.7  \n",
       "2          E           7.4  \n",
       "3          E           7.4  \n",
       "4        NaN           7.8  \n",
       "...      ...           ...  \n",
       "16710    NaN           7.4  \n",
       "16711    NaN           7.4  \n",
       "16712    NaN           7.6  \n",
       "16713    NaN           7.7  \n",
       "16714    NaN           7.5  \n",
       "\n",
       "[16446 rows x 12 columns]"
      ]
     },
     "execution_count": 224,
     "metadata": {},
     "output_type": "execute_result"
    }
   ],
   "source": [
    "data"
   ]
  },
  {
   "cell_type": "markdown",
   "metadata": {},
   "source": [
    "Let's calculate the total sales in all regions and record them in a separate column."
   ]
  },
  {
   "cell_type": "code",
   "execution_count": 225,
   "metadata": {},
   "outputs": [
    {
     "data": {
      "text/html": [
       "<div>\n",
       "<style scoped>\n",
       "    .dataframe tbody tr th:only-of-type {\n",
       "        vertical-align: middle;\n",
       "    }\n",
       "\n",
       "    .dataframe tbody tr th {\n",
       "        vertical-align: top;\n",
       "    }\n",
       "\n",
       "    .dataframe thead th {\n",
       "        text-align: right;\n",
       "    }\n",
       "</style>\n",
       "<table border=\"1\" class=\"dataframe\">\n",
       "  <thead>\n",
       "    <tr style=\"text-align: right;\">\n",
       "      <th></th>\n",
       "      <th>name</th>\n",
       "      <th>platform</th>\n",
       "      <th>year_of_release</th>\n",
       "      <th>genre</th>\n",
       "      <th>na_sales</th>\n",
       "      <th>eu_sales</th>\n",
       "      <th>jp_sales</th>\n",
       "      <th>other_sales</th>\n",
       "      <th>critic_score</th>\n",
       "      <th>user_score_x</th>\n",
       "      <th>rating</th>\n",
       "      <th>user_score_y</th>\n",
       "      <th>total_sales</th>\n",
       "    </tr>\n",
       "  </thead>\n",
       "  <tbody>\n",
       "    <tr>\n",
       "      <th>0</th>\n",
       "      <td>Wii Sports</td>\n",
       "      <td>Wii</td>\n",
       "      <td>2006</td>\n",
       "      <td>Sports</td>\n",
       "      <td>41.36</td>\n",
       "      <td>28.96</td>\n",
       "      <td>3.77</td>\n",
       "      <td>8.45</td>\n",
       "      <td>76.0</td>\n",
       "      <td>8</td>\n",
       "      <td>E</td>\n",
       "      <td>7.4</td>\n",
       "      <td>82.54</td>\n",
       "    </tr>\n",
       "    <tr>\n",
       "      <th>1</th>\n",
       "      <td>Super Mario Bros.</td>\n",
       "      <td>NES</td>\n",
       "      <td>1985</td>\n",
       "      <td>Platform</td>\n",
       "      <td>29.08</td>\n",
       "      <td>3.58</td>\n",
       "      <td>6.81</td>\n",
       "      <td>0.77</td>\n",
       "      <td>NaN</td>\n",
       "      <td>NaN</td>\n",
       "      <td>NaN</td>\n",
       "      <td>7.7</td>\n",
       "      <td>40.24</td>\n",
       "    </tr>\n",
       "    <tr>\n",
       "      <th>2</th>\n",
       "      <td>Mario Kart Wii</td>\n",
       "      <td>Wii</td>\n",
       "      <td>2008</td>\n",
       "      <td>Racing</td>\n",
       "      <td>15.68</td>\n",
       "      <td>12.76</td>\n",
       "      <td>3.79</td>\n",
       "      <td>3.29</td>\n",
       "      <td>82.0</td>\n",
       "      <td>8.3</td>\n",
       "      <td>E</td>\n",
       "      <td>7.4</td>\n",
       "      <td>35.52</td>\n",
       "    </tr>\n",
       "    <tr>\n",
       "      <th>3</th>\n",
       "      <td>Wii Sports Resort</td>\n",
       "      <td>Wii</td>\n",
       "      <td>2009</td>\n",
       "      <td>Sports</td>\n",
       "      <td>15.61</td>\n",
       "      <td>10.93</td>\n",
       "      <td>3.28</td>\n",
       "      <td>2.95</td>\n",
       "      <td>80.0</td>\n",
       "      <td>8</td>\n",
       "      <td>E</td>\n",
       "      <td>7.4</td>\n",
       "      <td>32.77</td>\n",
       "    </tr>\n",
       "    <tr>\n",
       "      <th>4</th>\n",
       "      <td>Pokemon Red/Pokemon Blue</td>\n",
       "      <td>GB</td>\n",
       "      <td>1996</td>\n",
       "      <td>Role-Playing</td>\n",
       "      <td>11.27</td>\n",
       "      <td>8.89</td>\n",
       "      <td>10.22</td>\n",
       "      <td>1.00</td>\n",
       "      <td>NaN</td>\n",
       "      <td>NaN</td>\n",
       "      <td>NaN</td>\n",
       "      <td>7.8</td>\n",
       "      <td>31.38</td>\n",
       "    </tr>\n",
       "    <tr>\n",
       "      <th>...</th>\n",
       "      <td>...</td>\n",
       "      <td>...</td>\n",
       "      <td>...</td>\n",
       "      <td>...</td>\n",
       "      <td>...</td>\n",
       "      <td>...</td>\n",
       "      <td>...</td>\n",
       "      <td>...</td>\n",
       "      <td>...</td>\n",
       "      <td>...</td>\n",
       "      <td>...</td>\n",
       "      <td>...</td>\n",
       "      <td>...</td>\n",
       "    </tr>\n",
       "    <tr>\n",
       "      <th>16710</th>\n",
       "      <td>Samurai Warriors: Sanada Maru</td>\n",
       "      <td>PS3</td>\n",
       "      <td>2016</td>\n",
       "      <td>Action</td>\n",
       "      <td>0.00</td>\n",
       "      <td>0.00</td>\n",
       "      <td>0.01</td>\n",
       "      <td>0.00</td>\n",
       "      <td>NaN</td>\n",
       "      <td>NaN</td>\n",
       "      <td>NaN</td>\n",
       "      <td>7.4</td>\n",
       "      <td>0.01</td>\n",
       "    </tr>\n",
       "    <tr>\n",
       "      <th>16711</th>\n",
       "      <td>LMA Manager 2007</td>\n",
       "      <td>X360</td>\n",
       "      <td>2006</td>\n",
       "      <td>Sports</td>\n",
       "      <td>0.00</td>\n",
       "      <td>0.01</td>\n",
       "      <td>0.00</td>\n",
       "      <td>0.00</td>\n",
       "      <td>NaN</td>\n",
       "      <td>NaN</td>\n",
       "      <td>NaN</td>\n",
       "      <td>7.4</td>\n",
       "      <td>0.01</td>\n",
       "    </tr>\n",
       "    <tr>\n",
       "      <th>16712</th>\n",
       "      <td>Haitaka no Psychedelica</td>\n",
       "      <td>PSV</td>\n",
       "      <td>2016</td>\n",
       "      <td>Adventure</td>\n",
       "      <td>0.00</td>\n",
       "      <td>0.00</td>\n",
       "      <td>0.01</td>\n",
       "      <td>0.00</td>\n",
       "      <td>NaN</td>\n",
       "      <td>NaN</td>\n",
       "      <td>NaN</td>\n",
       "      <td>7.6</td>\n",
       "      <td>0.01</td>\n",
       "    </tr>\n",
       "    <tr>\n",
       "      <th>16713</th>\n",
       "      <td>Spirits &amp; Spells</td>\n",
       "      <td>GBA</td>\n",
       "      <td>2003</td>\n",
       "      <td>Platform</td>\n",
       "      <td>0.01</td>\n",
       "      <td>0.00</td>\n",
       "      <td>0.00</td>\n",
       "      <td>0.00</td>\n",
       "      <td>NaN</td>\n",
       "      <td>NaN</td>\n",
       "      <td>NaN</td>\n",
       "      <td>7.7</td>\n",
       "      <td>0.01</td>\n",
       "    </tr>\n",
       "    <tr>\n",
       "      <th>16714</th>\n",
       "      <td>Winning Post 8 2016</td>\n",
       "      <td>PSV</td>\n",
       "      <td>2016</td>\n",
       "      <td>Simulation</td>\n",
       "      <td>0.00</td>\n",
       "      <td>0.00</td>\n",
       "      <td>0.01</td>\n",
       "      <td>0.00</td>\n",
       "      <td>NaN</td>\n",
       "      <td>NaN</td>\n",
       "      <td>NaN</td>\n",
       "      <td>7.5</td>\n",
       "      <td>0.01</td>\n",
       "    </tr>\n",
       "  </tbody>\n",
       "</table>\n",
       "<p>16446 rows × 13 columns</p>\n",
       "</div>"
      ],
      "text/plain": [
       "                                name platform  year_of_release         genre  \\\n",
       "0                         Wii Sports      Wii             2006        Sports   \n",
       "1                  Super Mario Bros.      NES             1985      Platform   \n",
       "2                     Mario Kart Wii      Wii             2008        Racing   \n",
       "3                  Wii Sports Resort      Wii             2009        Sports   \n",
       "4           Pokemon Red/Pokemon Blue       GB             1996  Role-Playing   \n",
       "...                              ...      ...              ...           ...   \n",
       "16710  Samurai Warriors: Sanada Maru      PS3             2016        Action   \n",
       "16711               LMA Manager 2007     X360             2006        Sports   \n",
       "16712        Haitaka no Psychedelica      PSV             2016     Adventure   \n",
       "16713               Spirits & Spells      GBA             2003      Platform   \n",
       "16714            Winning Post 8 2016      PSV             2016    Simulation   \n",
       "\n",
       "       na_sales  eu_sales  jp_sales  other_sales  critic_score user_score_x  \\\n",
       "0         41.36     28.96      3.77         8.45          76.0            8   \n",
       "1         29.08      3.58      6.81         0.77           NaN          NaN   \n",
       "2         15.68     12.76      3.79         3.29          82.0          8.3   \n",
       "3         15.61     10.93      3.28         2.95          80.0            8   \n",
       "4         11.27      8.89     10.22         1.00           NaN          NaN   \n",
       "...         ...       ...       ...          ...           ...          ...   \n",
       "16710      0.00      0.00      0.01         0.00           NaN          NaN   \n",
       "16711      0.00      0.01      0.00         0.00           NaN          NaN   \n",
       "16712      0.00      0.00      0.01         0.00           NaN          NaN   \n",
       "16713      0.01      0.00      0.00         0.00           NaN          NaN   \n",
       "16714      0.00      0.00      0.01         0.00           NaN          NaN   \n",
       "\n",
       "      rating  user_score_y  total_sales  \n",
       "0          E           7.4        82.54  \n",
       "1        NaN           7.7        40.24  \n",
       "2          E           7.4        35.52  \n",
       "3          E           7.4        32.77  \n",
       "4        NaN           7.8        31.38  \n",
       "...      ...           ...          ...  \n",
       "16710    NaN           7.4         0.01  \n",
       "16711    NaN           7.4         0.01  \n",
       "16712    NaN           7.6         0.01  \n",
       "16713    NaN           7.7         0.01  \n",
       "16714    NaN           7.5         0.01  \n",
       "\n",
       "[16446 rows x 13 columns]"
      ]
     },
     "execution_count": 225,
     "metadata": {},
     "output_type": "execute_result"
    }
   ],
   "source": [
    "data['total_sales'] = data[['na_sales','eu_sales','jp_sales', 'other_sales']].sum(axis = 1)\n",
    "data"
   ]
  },
  {
   "cell_type": "markdown",
   "metadata": {},
   "source": [
    "Let's check how many games were released each year."
   ]
  },
  {
   "cell_type": "code",
   "execution_count": 226,
   "metadata": {},
   "outputs": [
    {
     "data": {
      "text/plain": [
       "year_of_release\n",
       "1980       9\n",
       "1984      14\n",
       "1985      14\n",
       "1988      15\n",
       "1990      16\n",
       "1987      16\n",
       "1989      17\n",
       "1983      17\n",
       "1986      21\n",
       "1982      36\n",
       "1991      41\n",
       "1992      43\n",
       "1981      46\n",
       "1993      60\n",
       "1994     121\n",
       "1995     219\n",
       "1996     263\n",
       "1997     289\n",
       "1999     338\n",
       "2000     350\n",
       "1998     379\n",
       "2001     482\n",
       "2016     502\n",
       "2013     544\n",
       "2014     581\n",
       "2015     606\n",
       "2012     653\n",
       "2004     762\n",
       "2003     775\n",
       "2002     829\n",
       "2005     939\n",
       "2006    1006\n",
       "2011    1136\n",
       "2007    1197\n",
       "2010    1255\n",
       "2009    1426\n",
       "2008    1427\n",
       "Name: name, dtype: int64"
      ]
     },
     "execution_count": 226,
     "metadata": {},
     "output_type": "execute_result"
    }
   ],
   "source": [
    "data.groupby('year_of_release')['name'].count().sort_values()\n"
   ]
  },
  {
   "cell_type": "code",
   "execution_count": 227,
   "metadata": {},
   "outputs": [
    {
     "name": "stdout",
     "output_type": "stream",
     "text": [
      "444.43243243243245 338.0\n"
     ]
    }
   ],
   "source": [
    "print(data.groupby('year_of_release')['name'].count().sort_values().mean(), data.groupby('year_of_release')['name'].count().median())"
   ]
  },
  {
   "cell_type": "markdown",
   "metadata": {},
   "source": [
    "It makes sense to use data for the years in which at least 338 games were released (median value)."
   ]
  },
  {
   "cell_type": "markdown",
   "metadata": {},
   "source": [
    "Let's see how sales by platform have changed."
   ]
  },
  {
   "cell_type": "code",
   "execution_count": 228,
   "metadata": {},
   "outputs": [
    {
     "data": {
      "text/html": [
       "<div>\n",
       "<style scoped>\n",
       "    .dataframe tbody tr th:only-of-type {\n",
       "        vertical-align: middle;\n",
       "    }\n",
       "\n",
       "    .dataframe tbody tr th {\n",
       "        vertical-align: top;\n",
       "    }\n",
       "\n",
       "    .dataframe thead th {\n",
       "        text-align: right;\n",
       "    }\n",
       "</style>\n",
       "<table border=\"1\" class=\"dataframe\">\n",
       "  <thead>\n",
       "    <tr style=\"text-align: right;\">\n",
       "      <th>platform</th>\n",
       "      <th>2600</th>\n",
       "      <th>3DO</th>\n",
       "      <th>3DS</th>\n",
       "      <th>DC</th>\n",
       "      <th>DS</th>\n",
       "      <th>GB</th>\n",
       "      <th>GBA</th>\n",
       "      <th>GC</th>\n",
       "      <th>GEN</th>\n",
       "      <th>GG</th>\n",
       "      <th>N64</th>\n",
       "      <th>NES</th>\n",
       "      <th>NG</th>\n",
       "      <th>PC</th>\n",
       "      <th>PCFX</th>\n",
       "      <th>PS</th>\n",
       "      <th>PS2</th>\n",
       "      <th>PS3</th>\n",
       "      <th>PS4</th>\n",
       "      <th>PSP</th>\n",
       "      <th>PSV</th>\n",
       "      <th>SAT</th>\n",
       "      <th>SCD</th>\n",
       "      <th>SNES</th>\n",
       "      <th>TG16</th>\n",
       "      <th>WS</th>\n",
       "      <th>Wii</th>\n",
       "      <th>WiiU</th>\n",
       "      <th>X360</th>\n",
       "      <th>XB</th>\n",
       "      <th>XOne</th>\n",
       "    </tr>\n",
       "    <tr>\n",
       "      <th>year_of_release</th>\n",
       "      <th></th>\n",
       "      <th></th>\n",
       "      <th></th>\n",
       "      <th></th>\n",
       "      <th></th>\n",
       "      <th></th>\n",
       "      <th></th>\n",
       "      <th></th>\n",
       "      <th></th>\n",
       "      <th></th>\n",
       "      <th></th>\n",
       "      <th></th>\n",
       "      <th></th>\n",
       "      <th></th>\n",
       "      <th></th>\n",
       "      <th></th>\n",
       "      <th></th>\n",
       "      <th></th>\n",
       "      <th></th>\n",
       "      <th></th>\n",
       "      <th></th>\n",
       "      <th></th>\n",
       "      <th></th>\n",
       "      <th></th>\n",
       "      <th></th>\n",
       "      <th></th>\n",
       "      <th></th>\n",
       "      <th></th>\n",
       "      <th></th>\n",
       "      <th></th>\n",
       "      <th></th>\n",
       "    </tr>\n",
       "  </thead>\n",
       "  <tbody>\n",
       "    <tr>\n",
       "      <th>1980</th>\n",
       "      <td>11.38</td>\n",
       "      <td>NaN</td>\n",
       "      <td>NaN</td>\n",
       "      <td>NaN</td>\n",
       "      <td>NaN</td>\n",
       "      <td>NaN</td>\n",
       "      <td>NaN</td>\n",
       "      <td>NaN</td>\n",
       "      <td>NaN</td>\n",
       "      <td>NaN</td>\n",
       "      <td>NaN</td>\n",
       "      <td>NaN</td>\n",
       "      <td>NaN</td>\n",
       "      <td>NaN</td>\n",
       "      <td>NaN</td>\n",
       "      <td>NaN</td>\n",
       "      <td>NaN</td>\n",
       "      <td>NaN</td>\n",
       "      <td>NaN</td>\n",
       "      <td>NaN</td>\n",
       "      <td>NaN</td>\n",
       "      <td>NaN</td>\n",
       "      <td>NaN</td>\n",
       "      <td>NaN</td>\n",
       "      <td>NaN</td>\n",
       "      <td>NaN</td>\n",
       "      <td>NaN</td>\n",
       "      <td>NaN</td>\n",
       "      <td>NaN</td>\n",
       "      <td>NaN</td>\n",
       "      <td>NaN</td>\n",
       "    </tr>\n",
       "    <tr>\n",
       "      <th>1981</th>\n",
       "      <td>35.68</td>\n",
       "      <td>NaN</td>\n",
       "      <td>NaN</td>\n",
       "      <td>NaN</td>\n",
       "      <td>NaN</td>\n",
       "      <td>NaN</td>\n",
       "      <td>NaN</td>\n",
       "      <td>NaN</td>\n",
       "      <td>NaN</td>\n",
       "      <td>NaN</td>\n",
       "      <td>NaN</td>\n",
       "      <td>NaN</td>\n",
       "      <td>NaN</td>\n",
       "      <td>NaN</td>\n",
       "      <td>NaN</td>\n",
       "      <td>NaN</td>\n",
       "      <td>NaN</td>\n",
       "      <td>NaN</td>\n",
       "      <td>NaN</td>\n",
       "      <td>NaN</td>\n",
       "      <td>NaN</td>\n",
       "      <td>NaN</td>\n",
       "      <td>NaN</td>\n",
       "      <td>NaN</td>\n",
       "      <td>NaN</td>\n",
       "      <td>NaN</td>\n",
       "      <td>NaN</td>\n",
       "      <td>NaN</td>\n",
       "      <td>NaN</td>\n",
       "      <td>NaN</td>\n",
       "      <td>NaN</td>\n",
       "    </tr>\n",
       "    <tr>\n",
       "      <th>1982</th>\n",
       "      <td>28.88</td>\n",
       "      <td>NaN</td>\n",
       "      <td>NaN</td>\n",
       "      <td>NaN</td>\n",
       "      <td>NaN</td>\n",
       "      <td>NaN</td>\n",
       "      <td>NaN</td>\n",
       "      <td>NaN</td>\n",
       "      <td>NaN</td>\n",
       "      <td>NaN</td>\n",
       "      <td>NaN</td>\n",
       "      <td>NaN</td>\n",
       "      <td>NaN</td>\n",
       "      <td>NaN</td>\n",
       "      <td>NaN</td>\n",
       "      <td>NaN</td>\n",
       "      <td>NaN</td>\n",
       "      <td>NaN</td>\n",
       "      <td>NaN</td>\n",
       "      <td>NaN</td>\n",
       "      <td>NaN</td>\n",
       "      <td>NaN</td>\n",
       "      <td>NaN</td>\n",
       "      <td>NaN</td>\n",
       "      <td>NaN</td>\n",
       "      <td>NaN</td>\n",
       "      <td>NaN</td>\n",
       "      <td>NaN</td>\n",
       "      <td>NaN</td>\n",
       "      <td>NaN</td>\n",
       "      <td>NaN</td>\n",
       "    </tr>\n",
       "    <tr>\n",
       "      <th>1983</th>\n",
       "      <td>5.84</td>\n",
       "      <td>NaN</td>\n",
       "      <td>NaN</td>\n",
       "      <td>NaN</td>\n",
       "      <td>NaN</td>\n",
       "      <td>NaN</td>\n",
       "      <td>NaN</td>\n",
       "      <td>NaN</td>\n",
       "      <td>NaN</td>\n",
       "      <td>NaN</td>\n",
       "      <td>NaN</td>\n",
       "      <td>10.96</td>\n",
       "      <td>NaN</td>\n",
       "      <td>NaN</td>\n",
       "      <td>NaN</td>\n",
       "      <td>NaN</td>\n",
       "      <td>NaN</td>\n",
       "      <td>NaN</td>\n",
       "      <td>NaN</td>\n",
       "      <td>NaN</td>\n",
       "      <td>NaN</td>\n",
       "      <td>NaN</td>\n",
       "      <td>NaN</td>\n",
       "      <td>NaN</td>\n",
       "      <td>NaN</td>\n",
       "      <td>NaN</td>\n",
       "      <td>NaN</td>\n",
       "      <td>NaN</td>\n",
       "      <td>NaN</td>\n",
       "      <td>NaN</td>\n",
       "      <td>NaN</td>\n",
       "    </tr>\n",
       "    <tr>\n",
       "      <th>1984</th>\n",
       "      <td>0.27</td>\n",
       "      <td>NaN</td>\n",
       "      <td>NaN</td>\n",
       "      <td>NaN</td>\n",
       "      <td>NaN</td>\n",
       "      <td>NaN</td>\n",
       "      <td>NaN</td>\n",
       "      <td>NaN</td>\n",
       "      <td>NaN</td>\n",
       "      <td>NaN</td>\n",
       "      <td>NaN</td>\n",
       "      <td>50.08</td>\n",
       "      <td>NaN</td>\n",
       "      <td>NaN</td>\n",
       "      <td>NaN</td>\n",
       "      <td>NaN</td>\n",
       "      <td>NaN</td>\n",
       "      <td>NaN</td>\n",
       "      <td>NaN</td>\n",
       "      <td>NaN</td>\n",
       "      <td>NaN</td>\n",
       "      <td>NaN</td>\n",
       "      <td>NaN</td>\n",
       "      <td>NaN</td>\n",
       "      <td>NaN</td>\n",
       "      <td>NaN</td>\n",
       "      <td>NaN</td>\n",
       "      <td>NaN</td>\n",
       "      <td>NaN</td>\n",
       "      <td>NaN</td>\n",
       "      <td>NaN</td>\n",
       "    </tr>\n",
       "    <tr>\n",
       "      <th>1985</th>\n",
       "      <td>0.45</td>\n",
       "      <td>NaN</td>\n",
       "      <td>NaN</td>\n",
       "      <td>NaN</td>\n",
       "      <td>0.02</td>\n",
       "      <td>NaN</td>\n",
       "      <td>NaN</td>\n",
       "      <td>NaN</td>\n",
       "      <td>NaN</td>\n",
       "      <td>NaN</td>\n",
       "      <td>NaN</td>\n",
       "      <td>53.44</td>\n",
       "      <td>NaN</td>\n",
       "      <td>0.04</td>\n",
       "      <td>NaN</td>\n",
       "      <td>NaN</td>\n",
       "      <td>NaN</td>\n",
       "      <td>NaN</td>\n",
       "      <td>NaN</td>\n",
       "      <td>NaN</td>\n",
       "      <td>NaN</td>\n",
       "      <td>NaN</td>\n",
       "      <td>NaN</td>\n",
       "      <td>NaN</td>\n",
       "      <td>NaN</td>\n",
       "      <td>NaN</td>\n",
       "      <td>NaN</td>\n",
       "      <td>NaN</td>\n",
       "      <td>NaN</td>\n",
       "      <td>NaN</td>\n",
       "      <td>NaN</td>\n",
       "    </tr>\n",
       "    <tr>\n",
       "      <th>1986</th>\n",
       "      <td>0.67</td>\n",
       "      <td>NaN</td>\n",
       "      <td>NaN</td>\n",
       "      <td>NaN</td>\n",
       "      <td>NaN</td>\n",
       "      <td>NaN</td>\n",
       "      <td>NaN</td>\n",
       "      <td>NaN</td>\n",
       "      <td>NaN</td>\n",
       "      <td>NaN</td>\n",
       "      <td>NaN</td>\n",
       "      <td>36.41</td>\n",
       "      <td>NaN</td>\n",
       "      <td>NaN</td>\n",
       "      <td>NaN</td>\n",
       "      <td>NaN</td>\n",
       "      <td>NaN</td>\n",
       "      <td>NaN</td>\n",
       "      <td>NaN</td>\n",
       "      <td>NaN</td>\n",
       "      <td>NaN</td>\n",
       "      <td>NaN</td>\n",
       "      <td>NaN</td>\n",
       "      <td>NaN</td>\n",
       "      <td>NaN</td>\n",
       "      <td>NaN</td>\n",
       "      <td>NaN</td>\n",
       "      <td>NaN</td>\n",
       "      <td>NaN</td>\n",
       "      <td>NaN</td>\n",
       "      <td>NaN</td>\n",
       "    </tr>\n",
       "    <tr>\n",
       "      <th>1987</th>\n",
       "      <td>1.94</td>\n",
       "      <td>NaN</td>\n",
       "      <td>NaN</td>\n",
       "      <td>NaN</td>\n",
       "      <td>NaN</td>\n",
       "      <td>NaN</td>\n",
       "      <td>NaN</td>\n",
       "      <td>NaN</td>\n",
       "      <td>NaN</td>\n",
       "      <td>NaN</td>\n",
       "      <td>NaN</td>\n",
       "      <td>19.76</td>\n",
       "      <td>NaN</td>\n",
       "      <td>NaN</td>\n",
       "      <td>NaN</td>\n",
       "      <td>NaN</td>\n",
       "      <td>NaN</td>\n",
       "      <td>NaN</td>\n",
       "      <td>NaN</td>\n",
       "      <td>NaN</td>\n",
       "      <td>NaN</td>\n",
       "      <td>NaN</td>\n",
       "      <td>NaN</td>\n",
       "      <td>NaN</td>\n",
       "      <td>NaN</td>\n",
       "      <td>NaN</td>\n",
       "      <td>NaN</td>\n",
       "      <td>NaN</td>\n",
       "      <td>NaN</td>\n",
       "      <td>NaN</td>\n",
       "      <td>NaN</td>\n",
       "    </tr>\n",
       "    <tr>\n",
       "      <th>1988</th>\n",
       "      <td>0.74</td>\n",
       "      <td>NaN</td>\n",
       "      <td>NaN</td>\n",
       "      <td>NaN</td>\n",
       "      <td>NaN</td>\n",
       "      <td>1.43</td>\n",
       "      <td>NaN</td>\n",
       "      <td>NaN</td>\n",
       "      <td>NaN</td>\n",
       "      <td>NaN</td>\n",
       "      <td>NaN</td>\n",
       "      <td>45.01</td>\n",
       "      <td>NaN</td>\n",
       "      <td>0.03</td>\n",
       "      <td>NaN</td>\n",
       "      <td>NaN</td>\n",
       "      <td>NaN</td>\n",
       "      <td>NaN</td>\n",
       "      <td>NaN</td>\n",
       "      <td>NaN</td>\n",
       "      <td>NaN</td>\n",
       "      <td>NaN</td>\n",
       "      <td>NaN</td>\n",
       "      <td>NaN</td>\n",
       "      <td>NaN</td>\n",
       "      <td>NaN</td>\n",
       "      <td>NaN</td>\n",
       "      <td>NaN</td>\n",
       "      <td>NaN</td>\n",
       "      <td>NaN</td>\n",
       "      <td>NaN</td>\n",
       "    </tr>\n",
       "    <tr>\n",
       "      <th>1989</th>\n",
       "      <td>0.63</td>\n",
       "      <td>NaN</td>\n",
       "      <td>NaN</td>\n",
       "      <td>NaN</td>\n",
       "      <td>NaN</td>\n",
       "      <td>64.97</td>\n",
       "      <td>NaN</td>\n",
       "      <td>NaN</td>\n",
       "      <td>NaN</td>\n",
       "      <td>NaN</td>\n",
       "      <td>NaN</td>\n",
       "      <td>7.85</td>\n",
       "      <td>NaN</td>\n",
       "      <td>NaN</td>\n",
       "      <td>NaN</td>\n",
       "      <td>NaN</td>\n",
       "      <td>NaN</td>\n",
       "      <td>NaN</td>\n",
       "      <td>NaN</td>\n",
       "      <td>NaN</td>\n",
       "      <td>NaN</td>\n",
       "      <td>NaN</td>\n",
       "      <td>NaN</td>\n",
       "      <td>NaN</td>\n",
       "      <td>NaN</td>\n",
       "      <td>NaN</td>\n",
       "      <td>NaN</td>\n",
       "      <td>NaN</td>\n",
       "      <td>NaN</td>\n",
       "      <td>NaN</td>\n",
       "      <td>NaN</td>\n",
       "    </tr>\n",
       "    <tr>\n",
       "      <th>1990</th>\n",
       "      <td>NaN</td>\n",
       "      <td>NaN</td>\n",
       "      <td>NaN</td>\n",
       "      <td>NaN</td>\n",
       "      <td>NaN</td>\n",
       "      <td>4.89</td>\n",
       "      <td>NaN</td>\n",
       "      <td>NaN</td>\n",
       "      <td>2.60</td>\n",
       "      <td>NaN</td>\n",
       "      <td>NaN</td>\n",
       "      <td>15.73</td>\n",
       "      <td>NaN</td>\n",
       "      <td>NaN</td>\n",
       "      <td>NaN</td>\n",
       "      <td>NaN</td>\n",
       "      <td>NaN</td>\n",
       "      <td>NaN</td>\n",
       "      <td>NaN</td>\n",
       "      <td>NaN</td>\n",
       "      <td>NaN</td>\n",
       "      <td>NaN</td>\n",
       "      <td>NaN</td>\n",
       "      <td>26.15</td>\n",
       "      <td>NaN</td>\n",
       "      <td>NaN</td>\n",
       "      <td>NaN</td>\n",
       "      <td>NaN</td>\n",
       "      <td>NaN</td>\n",
       "      <td>NaN</td>\n",
       "      <td>NaN</td>\n",
       "    </tr>\n",
       "    <tr>\n",
       "      <th>1991</th>\n",
       "      <td>NaN</td>\n",
       "      <td>NaN</td>\n",
       "      <td>NaN</td>\n",
       "      <td>NaN</td>\n",
       "      <td>NaN</td>\n",
       "      <td>5.57</td>\n",
       "      <td>NaN</td>\n",
       "      <td>NaN</td>\n",
       "      <td>4.33</td>\n",
       "      <td>NaN</td>\n",
       "      <td>NaN</td>\n",
       "      <td>6.11</td>\n",
       "      <td>NaN</td>\n",
       "      <td>NaN</td>\n",
       "      <td>NaN</td>\n",
       "      <td>NaN</td>\n",
       "      <td>NaN</td>\n",
       "      <td>NaN</td>\n",
       "      <td>NaN</td>\n",
       "      <td>NaN</td>\n",
       "      <td>NaN</td>\n",
       "      <td>NaN</td>\n",
       "      <td>NaN</td>\n",
       "      <td>16.22</td>\n",
       "      <td>NaN</td>\n",
       "      <td>NaN</td>\n",
       "      <td>NaN</td>\n",
       "      <td>NaN</td>\n",
       "      <td>NaN</td>\n",
       "      <td>NaN</td>\n",
       "      <td>NaN</td>\n",
       "    </tr>\n",
       "    <tr>\n",
       "      <th>1992</th>\n",
       "      <td>NaN</td>\n",
       "      <td>NaN</td>\n",
       "      <td>NaN</td>\n",
       "      <td>NaN</td>\n",
       "      <td>NaN</td>\n",
       "      <td>25.49</td>\n",
       "      <td>NaN</td>\n",
       "      <td>NaN</td>\n",
       "      <td>12.64</td>\n",
       "      <td>0.04</td>\n",
       "      <td>NaN</td>\n",
       "      <td>1.98</td>\n",
       "      <td>NaN</td>\n",
       "      <td>3.03</td>\n",
       "      <td>NaN</td>\n",
       "      <td>NaN</td>\n",
       "      <td>NaN</td>\n",
       "      <td>NaN</td>\n",
       "      <td>NaN</td>\n",
       "      <td>NaN</td>\n",
       "      <td>NaN</td>\n",
       "      <td>NaN</td>\n",
       "      <td>NaN</td>\n",
       "      <td>32.98</td>\n",
       "      <td>NaN</td>\n",
       "      <td>NaN</td>\n",
       "      <td>NaN</td>\n",
       "      <td>NaN</td>\n",
       "      <td>NaN</td>\n",
       "      <td>NaN</td>\n",
       "      <td>NaN</td>\n",
       "    </tr>\n",
       "    <tr>\n",
       "      <th>1993</th>\n",
       "      <td>NaN</td>\n",
       "      <td>NaN</td>\n",
       "      <td>NaN</td>\n",
       "      <td>NaN</td>\n",
       "      <td>NaN</td>\n",
       "      <td>NaN</td>\n",
       "      <td>NaN</td>\n",
       "      <td>NaN</td>\n",
       "      <td>3.07</td>\n",
       "      <td>NaN</td>\n",
       "      <td>NaN</td>\n",
       "      <td>3.61</td>\n",
       "      <td>0.21</td>\n",
       "      <td>NaN</td>\n",
       "      <td>NaN</td>\n",
       "      <td>NaN</td>\n",
       "      <td>NaN</td>\n",
       "      <td>NaN</td>\n",
       "      <td>NaN</td>\n",
       "      <td>NaN</td>\n",
       "      <td>NaN</td>\n",
       "      <td>NaN</td>\n",
       "      <td>1.50</td>\n",
       "      <td>40.02</td>\n",
       "      <td>NaN</td>\n",
       "      <td>NaN</td>\n",
       "      <td>NaN</td>\n",
       "      <td>NaN</td>\n",
       "      <td>NaN</td>\n",
       "      <td>NaN</td>\n",
       "      <td>NaN</td>\n",
       "    </tr>\n",
       "    <tr>\n",
       "      <th>1994</th>\n",
       "      <td>NaN</td>\n",
       "      <td>0.02</td>\n",
       "      <td>NaN</td>\n",
       "      <td>NaN</td>\n",
       "      <td>NaN</td>\n",
       "      <td>12.18</td>\n",
       "      <td>NaN</td>\n",
       "      <td>NaN</td>\n",
       "      <td>8.13</td>\n",
       "      <td>NaN</td>\n",
       "      <td>NaN</td>\n",
       "      <td>0.11</td>\n",
       "      <td>0.80</td>\n",
       "      <td>12.87</td>\n",
       "      <td>NaN</td>\n",
       "      <td>6.03</td>\n",
       "      <td>NaN</td>\n",
       "      <td>NaN</td>\n",
       "      <td>NaN</td>\n",
       "      <td>NaN</td>\n",
       "      <td>NaN</td>\n",
       "      <td>3.65</td>\n",
       "      <td>0.36</td>\n",
       "      <td>35.08</td>\n",
       "      <td>NaN</td>\n",
       "      <td>NaN</td>\n",
       "      <td>NaN</td>\n",
       "      <td>NaN</td>\n",
       "      <td>NaN</td>\n",
       "      <td>NaN</td>\n",
       "      <td>NaN</td>\n",
       "    </tr>\n",
       "    <tr>\n",
       "      <th>1995</th>\n",
       "      <td>NaN</td>\n",
       "      <td>0.08</td>\n",
       "      <td>NaN</td>\n",
       "      <td>NaN</td>\n",
       "      <td>NaN</td>\n",
       "      <td>3.60</td>\n",
       "      <td>NaN</td>\n",
       "      <td>NaN</td>\n",
       "      <td>NaN</td>\n",
       "      <td>NaN</td>\n",
       "      <td>NaN</td>\n",
       "      <td>NaN</td>\n",
       "      <td>0.33</td>\n",
       "      <td>4.22</td>\n",
       "      <td>NaN</td>\n",
       "      <td>35.96</td>\n",
       "      <td>NaN</td>\n",
       "      <td>NaN</td>\n",
       "      <td>NaN</td>\n",
       "      <td>NaN</td>\n",
       "      <td>NaN</td>\n",
       "      <td>11.57</td>\n",
       "      <td>NaN</td>\n",
       "      <td>32.20</td>\n",
       "      <td>0.16</td>\n",
       "      <td>NaN</td>\n",
       "      <td>NaN</td>\n",
       "      <td>NaN</td>\n",
       "      <td>NaN</td>\n",
       "      <td>NaN</td>\n",
       "      <td>NaN</td>\n",
       "    </tr>\n",
       "    <tr>\n",
       "      <th>1996</th>\n",
       "      <td>NaN</td>\n",
       "      <td>NaN</td>\n",
       "      <td>NaN</td>\n",
       "      <td>NaN</td>\n",
       "      <td>NaN</td>\n",
       "      <td>36.03</td>\n",
       "      <td>NaN</td>\n",
       "      <td>NaN</td>\n",
       "      <td>NaN</td>\n",
       "      <td>NaN</td>\n",
       "      <td>34.10</td>\n",
       "      <td>NaN</td>\n",
       "      <td>0.10</td>\n",
       "      <td>10.58</td>\n",
       "      <td>0.03</td>\n",
       "      <td>94.70</td>\n",
       "      <td>NaN</td>\n",
       "      <td>NaN</td>\n",
       "      <td>NaN</td>\n",
       "      <td>NaN</td>\n",
       "      <td>NaN</td>\n",
       "      <td>7.69</td>\n",
       "      <td>NaN</td>\n",
       "      <td>15.92</td>\n",
       "      <td>NaN</td>\n",
       "      <td>NaN</td>\n",
       "      <td>NaN</td>\n",
       "      <td>NaN</td>\n",
       "      <td>NaN</td>\n",
       "      <td>NaN</td>\n",
       "      <td>NaN</td>\n",
       "    </tr>\n",
       "    <tr>\n",
       "      <th>1997</th>\n",
       "      <td>NaN</td>\n",
       "      <td>NaN</td>\n",
       "      <td>NaN</td>\n",
       "      <td>NaN</td>\n",
       "      <td>NaN</td>\n",
       "      <td>6.37</td>\n",
       "      <td>NaN</td>\n",
       "      <td>NaN</td>\n",
       "      <td>NaN</td>\n",
       "      <td>NaN</td>\n",
       "      <td>39.50</td>\n",
       "      <td>NaN</td>\n",
       "      <td>NaN</td>\n",
       "      <td>11.27</td>\n",
       "      <td>NaN</td>\n",
       "      <td>136.17</td>\n",
       "      <td>NaN</td>\n",
       "      <td>NaN</td>\n",
       "      <td>NaN</td>\n",
       "      <td>NaN</td>\n",
       "      <td>NaN</td>\n",
       "      <td>6.77</td>\n",
       "      <td>NaN</td>\n",
       "      <td>0.99</td>\n",
       "      <td>NaN</td>\n",
       "      <td>NaN</td>\n",
       "      <td>NaN</td>\n",
       "      <td>NaN</td>\n",
       "      <td>NaN</td>\n",
       "      <td>NaN</td>\n",
       "      <td>NaN</td>\n",
       "    </tr>\n",
       "    <tr>\n",
       "      <th>1998</th>\n",
       "      <td>NaN</td>\n",
       "      <td>NaN</td>\n",
       "      <td>NaN</td>\n",
       "      <td>3.38</td>\n",
       "      <td>NaN</td>\n",
       "      <td>26.90</td>\n",
       "      <td>NaN</td>\n",
       "      <td>NaN</td>\n",
       "      <td>NaN</td>\n",
       "      <td>NaN</td>\n",
       "      <td>49.24</td>\n",
       "      <td>NaN</td>\n",
       "      <td>NaN</td>\n",
       "      <td>3.26</td>\n",
       "      <td>NaN</td>\n",
       "      <td>169.49</td>\n",
       "      <td>NaN</td>\n",
       "      <td>NaN</td>\n",
       "      <td>NaN</td>\n",
       "      <td>NaN</td>\n",
       "      <td>NaN</td>\n",
       "      <td>3.82</td>\n",
       "      <td>NaN</td>\n",
       "      <td>0.22</td>\n",
       "      <td>NaN</td>\n",
       "      <td>NaN</td>\n",
       "      <td>NaN</td>\n",
       "      <td>NaN</td>\n",
       "      <td>NaN</td>\n",
       "      <td>NaN</td>\n",
       "      <td>NaN</td>\n",
       "    </tr>\n",
       "    <tr>\n",
       "      <th>1999</th>\n",
       "      <td>NaN</td>\n",
       "      <td>NaN</td>\n",
       "      <td>NaN</td>\n",
       "      <td>5.16</td>\n",
       "      <td>NaN</td>\n",
       "      <td>38.00</td>\n",
       "      <td>NaN</td>\n",
       "      <td>NaN</td>\n",
       "      <td>NaN</td>\n",
       "      <td>NaN</td>\n",
       "      <td>57.87</td>\n",
       "      <td>NaN</td>\n",
       "      <td>NaN</td>\n",
       "      <td>4.74</td>\n",
       "      <td>NaN</td>\n",
       "      <td>144.53</td>\n",
       "      <td>NaN</td>\n",
       "      <td>NaN</td>\n",
       "      <td>NaN</td>\n",
       "      <td>NaN</td>\n",
       "      <td>NaN</td>\n",
       "      <td>0.09</td>\n",
       "      <td>NaN</td>\n",
       "      <td>0.26</td>\n",
       "      <td>NaN</td>\n",
       "      <td>0.46</td>\n",
       "      <td>NaN</td>\n",
       "      <td>NaN</td>\n",
       "      <td>NaN</td>\n",
       "      <td>NaN</td>\n",
       "      <td>NaN</td>\n",
       "    </tr>\n",
       "    <tr>\n",
       "      <th>2000</th>\n",
       "      <td>NaN</td>\n",
       "      <td>NaN</td>\n",
       "      <td>NaN</td>\n",
       "      <td>5.99</td>\n",
       "      <td>NaN</td>\n",
       "      <td>19.76</td>\n",
       "      <td>0.07</td>\n",
       "      <td>NaN</td>\n",
       "      <td>NaN</td>\n",
       "      <td>NaN</td>\n",
       "      <td>33.97</td>\n",
       "      <td>NaN</td>\n",
       "      <td>NaN</td>\n",
       "      <td>4.66</td>\n",
       "      <td>NaN</td>\n",
       "      <td>96.37</td>\n",
       "      <td>39.17</td>\n",
       "      <td>NaN</td>\n",
       "      <td>NaN</td>\n",
       "      <td>NaN</td>\n",
       "      <td>NaN</td>\n",
       "      <td>NaN</td>\n",
       "      <td>NaN</td>\n",
       "      <td>NaN</td>\n",
       "      <td>NaN</td>\n",
       "      <td>0.68</td>\n",
       "      <td>NaN</td>\n",
       "      <td>NaN</td>\n",
       "      <td>NaN</td>\n",
       "      <td>0.99</td>\n",
       "      <td>NaN</td>\n",
       "    </tr>\n",
       "    <tr>\n",
       "      <th>2001</th>\n",
       "      <td>NaN</td>\n",
       "      <td>NaN</td>\n",
       "      <td>NaN</td>\n",
       "      <td>1.07</td>\n",
       "      <td>NaN</td>\n",
       "      <td>9.24</td>\n",
       "      <td>61.53</td>\n",
       "      <td>26.34</td>\n",
       "      <td>NaN</td>\n",
       "      <td>NaN</td>\n",
       "      <td>3.25</td>\n",
       "      <td>NaN</td>\n",
       "      <td>NaN</td>\n",
       "      <td>5.47</td>\n",
       "      <td>NaN</td>\n",
       "      <td>35.59</td>\n",
       "      <td>166.43</td>\n",
       "      <td>NaN</td>\n",
       "      <td>NaN</td>\n",
       "      <td>NaN</td>\n",
       "      <td>NaN</td>\n",
       "      <td>NaN</td>\n",
       "      <td>NaN</td>\n",
       "      <td>NaN</td>\n",
       "      <td>NaN</td>\n",
       "      <td>0.28</td>\n",
       "      <td>NaN</td>\n",
       "      <td>NaN</td>\n",
       "      <td>NaN</td>\n",
       "      <td>22.26</td>\n",
       "      <td>NaN</td>\n",
       "    </tr>\n",
       "    <tr>\n",
       "      <th>2002</th>\n",
       "      <td>NaN</td>\n",
       "      <td>NaN</td>\n",
       "      <td>NaN</td>\n",
       "      <td>0.29</td>\n",
       "      <td>NaN</td>\n",
       "      <td>NaN</td>\n",
       "      <td>74.16</td>\n",
       "      <td>51.81</td>\n",
       "      <td>NaN</td>\n",
       "      <td>NaN</td>\n",
       "      <td>0.08</td>\n",
       "      <td>NaN</td>\n",
       "      <td>NaN</td>\n",
       "      <td>8.57</td>\n",
       "      <td>NaN</td>\n",
       "      <td>6.67</td>\n",
       "      <td>205.38</td>\n",
       "      <td>NaN</td>\n",
       "      <td>NaN</td>\n",
       "      <td>NaN</td>\n",
       "      <td>NaN</td>\n",
       "      <td>NaN</td>\n",
       "      <td>NaN</td>\n",
       "      <td>NaN</td>\n",
       "      <td>NaN</td>\n",
       "      <td>NaN</td>\n",
       "      <td>NaN</td>\n",
       "      <td>NaN</td>\n",
       "      <td>NaN</td>\n",
       "      <td>48.01</td>\n",
       "      <td>NaN</td>\n",
       "    </tr>\n",
       "    <tr>\n",
       "      <th>2003</th>\n",
       "      <td>NaN</td>\n",
       "      <td>NaN</td>\n",
       "      <td>NaN</td>\n",
       "      <td>NaN</td>\n",
       "      <td>NaN</td>\n",
       "      <td>NaN</td>\n",
       "      <td>56.67</td>\n",
       "      <td>50.61</td>\n",
       "      <td>NaN</td>\n",
       "      <td>NaN</td>\n",
       "      <td>NaN</td>\n",
       "      <td>NaN</td>\n",
       "      <td>NaN</td>\n",
       "      <td>8.84</td>\n",
       "      <td>NaN</td>\n",
       "      <td>2.07</td>\n",
       "      <td>184.31</td>\n",
       "      <td>NaN</td>\n",
       "      <td>NaN</td>\n",
       "      <td>NaN</td>\n",
       "      <td>NaN</td>\n",
       "      <td>NaN</td>\n",
       "      <td>NaN</td>\n",
       "      <td>NaN</td>\n",
       "      <td>NaN</td>\n",
       "      <td>NaN</td>\n",
       "      <td>NaN</td>\n",
       "      <td>NaN</td>\n",
       "      <td>NaN</td>\n",
       "      <td>55.04</td>\n",
       "      <td>NaN</td>\n",
       "    </tr>\n",
       "    <tr>\n",
       "      <th>2004</th>\n",
       "      <td>NaN</td>\n",
       "      <td>NaN</td>\n",
       "      <td>NaN</td>\n",
       "      <td>NaN</td>\n",
       "      <td>17.27</td>\n",
       "      <td>NaN</td>\n",
       "      <td>77.91</td>\n",
       "      <td>28.82</td>\n",
       "      <td>NaN</td>\n",
       "      <td>NaN</td>\n",
       "      <td>NaN</td>\n",
       "      <td>NaN</td>\n",
       "      <td>NaN</td>\n",
       "      <td>10.39</td>\n",
       "      <td>NaN</td>\n",
       "      <td>NaN</td>\n",
       "      <td>211.81</td>\n",
       "      <td>NaN</td>\n",
       "      <td>NaN</td>\n",
       "      <td>7.06</td>\n",
       "      <td>NaN</td>\n",
       "      <td>NaN</td>\n",
       "      <td>NaN</td>\n",
       "      <td>NaN</td>\n",
       "      <td>NaN</td>\n",
       "      <td>NaN</td>\n",
       "      <td>NaN</td>\n",
       "      <td>NaN</td>\n",
       "      <td>NaN</td>\n",
       "      <td>65.42</td>\n",
       "      <td>NaN</td>\n",
       "    </tr>\n",
       "    <tr>\n",
       "      <th>2005</th>\n",
       "      <td>NaN</td>\n",
       "      <td>NaN</td>\n",
       "      <td>NaN</td>\n",
       "      <td>NaN</td>\n",
       "      <td>130.14</td>\n",
       "      <td>NaN</td>\n",
       "      <td>33.86</td>\n",
       "      <td>27.62</td>\n",
       "      <td>NaN</td>\n",
       "      <td>NaN</td>\n",
       "      <td>NaN</td>\n",
       "      <td>NaN</td>\n",
       "      <td>NaN</td>\n",
       "      <td>4.37</td>\n",
       "      <td>NaN</td>\n",
       "      <td>NaN</td>\n",
       "      <td>160.66</td>\n",
       "      <td>NaN</td>\n",
       "      <td>NaN</td>\n",
       "      <td>43.84</td>\n",
       "      <td>NaN</td>\n",
       "      <td>NaN</td>\n",
       "      <td>NaN</td>\n",
       "      <td>NaN</td>\n",
       "      <td>NaN</td>\n",
       "      <td>NaN</td>\n",
       "      <td>NaN</td>\n",
       "      <td>NaN</td>\n",
       "      <td>8.25</td>\n",
       "      <td>49.08</td>\n",
       "      <td>NaN</td>\n",
       "    </tr>\n",
       "    <tr>\n",
       "      <th>2006</th>\n",
       "      <td>NaN</td>\n",
       "      <td>NaN</td>\n",
       "      <td>NaN</td>\n",
       "      <td>NaN</td>\n",
       "      <td>119.81</td>\n",
       "      <td>NaN</td>\n",
       "      <td>5.28</td>\n",
       "      <td>11.26</td>\n",
       "      <td>NaN</td>\n",
       "      <td>NaN</td>\n",
       "      <td>NaN</td>\n",
       "      <td>NaN</td>\n",
       "      <td>NaN</td>\n",
       "      <td>2.85</td>\n",
       "      <td>NaN</td>\n",
       "      <td>NaN</td>\n",
       "      <td>103.42</td>\n",
       "      <td>20.96</td>\n",
       "      <td>NaN</td>\n",
       "      <td>55.32</td>\n",
       "      <td>NaN</td>\n",
       "      <td>NaN</td>\n",
       "      <td>NaN</td>\n",
       "      <td>NaN</td>\n",
       "      <td>NaN</td>\n",
       "      <td>NaN</td>\n",
       "      <td>137.15</td>\n",
       "      <td>NaN</td>\n",
       "      <td>51.62</td>\n",
       "      <td>10.04</td>\n",
       "      <td>NaN</td>\n",
       "    </tr>\n",
       "    <tr>\n",
       "      <th>2007</th>\n",
       "      <td>NaN</td>\n",
       "      <td>NaN</td>\n",
       "      <td>NaN</td>\n",
       "      <td>0.02</td>\n",
       "      <td>146.94</td>\n",
       "      <td>NaN</td>\n",
       "      <td>3.40</td>\n",
       "      <td>0.27</td>\n",
       "      <td>NaN</td>\n",
       "      <td>NaN</td>\n",
       "      <td>NaN</td>\n",
       "      <td>NaN</td>\n",
       "      <td>NaN</td>\n",
       "      <td>9.28</td>\n",
       "      <td>NaN</td>\n",
       "      <td>NaN</td>\n",
       "      <td>75.99</td>\n",
       "      <td>73.19</td>\n",
       "      <td>NaN</td>\n",
       "      <td>46.93</td>\n",
       "      <td>NaN</td>\n",
       "      <td>NaN</td>\n",
       "      <td>NaN</td>\n",
       "      <td>NaN</td>\n",
       "      <td>NaN</td>\n",
       "      <td>NaN</td>\n",
       "      <td>152.77</td>\n",
       "      <td>NaN</td>\n",
       "      <td>95.41</td>\n",
       "      <td>0.55</td>\n",
       "      <td>NaN</td>\n",
       "    </tr>\n",
       "    <tr>\n",
       "      <th>2008</th>\n",
       "      <td>NaN</td>\n",
       "      <td>NaN</td>\n",
       "      <td>NaN</td>\n",
       "      <td>0.04</td>\n",
       "      <td>145.31</td>\n",
       "      <td>NaN</td>\n",
       "      <td>NaN</td>\n",
       "      <td>NaN</td>\n",
       "      <td>NaN</td>\n",
       "      <td>NaN</td>\n",
       "      <td>NaN</td>\n",
       "      <td>NaN</td>\n",
       "      <td>NaN</td>\n",
       "      <td>12.42</td>\n",
       "      <td>NaN</td>\n",
       "      <td>NaN</td>\n",
       "      <td>53.90</td>\n",
       "      <td>118.52</td>\n",
       "      <td>NaN</td>\n",
       "      <td>34.55</td>\n",
       "      <td>NaN</td>\n",
       "      <td>NaN</td>\n",
       "      <td>NaN</td>\n",
       "      <td>NaN</td>\n",
       "      <td>NaN</td>\n",
       "      <td>NaN</td>\n",
       "      <td>171.32</td>\n",
       "      <td>NaN</td>\n",
       "      <td>135.26</td>\n",
       "      <td>0.18</td>\n",
       "      <td>NaN</td>\n",
       "    </tr>\n",
       "    <tr>\n",
       "      <th>2009</th>\n",
       "      <td>NaN</td>\n",
       "      <td>NaN</td>\n",
       "      <td>NaN</td>\n",
       "      <td>NaN</td>\n",
       "      <td>119.54</td>\n",
       "      <td>NaN</td>\n",
       "      <td>NaN</td>\n",
       "      <td>NaN</td>\n",
       "      <td>NaN</td>\n",
       "      <td>NaN</td>\n",
       "      <td>NaN</td>\n",
       "      <td>NaN</td>\n",
       "      <td>NaN</td>\n",
       "      <td>16.91</td>\n",
       "      <td>NaN</td>\n",
       "      <td>NaN</td>\n",
       "      <td>26.40</td>\n",
       "      <td>130.93</td>\n",
       "      <td>NaN</td>\n",
       "      <td>37.78</td>\n",
       "      <td>NaN</td>\n",
       "      <td>NaN</td>\n",
       "      <td>NaN</td>\n",
       "      <td>NaN</td>\n",
       "      <td>NaN</td>\n",
       "      <td>NaN</td>\n",
       "      <td>206.97</td>\n",
       "      <td>NaN</td>\n",
       "      <td>120.29</td>\n",
       "      <td>NaN</td>\n",
       "      <td>NaN</td>\n",
       "    </tr>\n",
       "    <tr>\n",
       "      <th>2010</th>\n",
       "      <td>NaN</td>\n",
       "      <td>NaN</td>\n",
       "      <td>NaN</td>\n",
       "      <td>NaN</td>\n",
       "      <td>85.02</td>\n",
       "      <td>NaN</td>\n",
       "      <td>NaN</td>\n",
       "      <td>NaN</td>\n",
       "      <td>NaN</td>\n",
       "      <td>NaN</td>\n",
       "      <td>NaN</td>\n",
       "      <td>NaN</td>\n",
       "      <td>NaN</td>\n",
       "      <td>24.28</td>\n",
       "      <td>NaN</td>\n",
       "      <td>NaN</td>\n",
       "      <td>5.64</td>\n",
       "      <td>142.17</td>\n",
       "      <td>NaN</td>\n",
       "      <td>35.04</td>\n",
       "      <td>NaN</td>\n",
       "      <td>NaN</td>\n",
       "      <td>NaN</td>\n",
       "      <td>NaN</td>\n",
       "      <td>NaN</td>\n",
       "      <td>NaN</td>\n",
       "      <td>127.95</td>\n",
       "      <td>NaN</td>\n",
       "      <td>170.03</td>\n",
       "      <td>NaN</td>\n",
       "      <td>NaN</td>\n",
       "    </tr>\n",
       "    <tr>\n",
       "      <th>2011</th>\n",
       "      <td>NaN</td>\n",
       "      <td>NaN</td>\n",
       "      <td>63.20</td>\n",
       "      <td>NaN</td>\n",
       "      <td>26.18</td>\n",
       "      <td>NaN</td>\n",
       "      <td>NaN</td>\n",
       "      <td>NaN</td>\n",
       "      <td>NaN</td>\n",
       "      <td>NaN</td>\n",
       "      <td>NaN</td>\n",
       "      <td>NaN</td>\n",
       "      <td>NaN</td>\n",
       "      <td>35.03</td>\n",
       "      <td>NaN</td>\n",
       "      <td>NaN</td>\n",
       "      <td>0.45</td>\n",
       "      <td>156.78</td>\n",
       "      <td>NaN</td>\n",
       "      <td>17.82</td>\n",
       "      <td>4.63</td>\n",
       "      <td>NaN</td>\n",
       "      <td>NaN</td>\n",
       "      <td>NaN</td>\n",
       "      <td>NaN</td>\n",
       "      <td>NaN</td>\n",
       "      <td>59.65</td>\n",
       "      <td>NaN</td>\n",
       "      <td>143.84</td>\n",
       "      <td>NaN</td>\n",
       "      <td>NaN</td>\n",
       "    </tr>\n",
       "    <tr>\n",
       "      <th>2012</th>\n",
       "      <td>NaN</td>\n",
       "      <td>NaN</td>\n",
       "      <td>51.36</td>\n",
       "      <td>NaN</td>\n",
       "      <td>11.01</td>\n",
       "      <td>NaN</td>\n",
       "      <td>NaN</td>\n",
       "      <td>NaN</td>\n",
       "      <td>NaN</td>\n",
       "      <td>NaN</td>\n",
       "      <td>NaN</td>\n",
       "      <td>NaN</td>\n",
       "      <td>NaN</td>\n",
       "      <td>23.22</td>\n",
       "      <td>NaN</td>\n",
       "      <td>NaN</td>\n",
       "      <td>NaN</td>\n",
       "      <td>107.36</td>\n",
       "      <td>NaN</td>\n",
       "      <td>7.69</td>\n",
       "      <td>16.19</td>\n",
       "      <td>NaN</td>\n",
       "      <td>NaN</td>\n",
       "      <td>NaN</td>\n",
       "      <td>NaN</td>\n",
       "      <td>NaN</td>\n",
       "      <td>21.71</td>\n",
       "      <td>17.56</td>\n",
       "      <td>99.74</td>\n",
       "      <td>NaN</td>\n",
       "      <td>NaN</td>\n",
       "    </tr>\n",
       "    <tr>\n",
       "      <th>2013</th>\n",
       "      <td>NaN</td>\n",
       "      <td>NaN</td>\n",
       "      <td>56.57</td>\n",
       "      <td>NaN</td>\n",
       "      <td>1.54</td>\n",
       "      <td>NaN</td>\n",
       "      <td>NaN</td>\n",
       "      <td>NaN</td>\n",
       "      <td>NaN</td>\n",
       "      <td>NaN</td>\n",
       "      <td>NaN</td>\n",
       "      <td>NaN</td>\n",
       "      <td>NaN</td>\n",
       "      <td>12.38</td>\n",
       "      <td>NaN</td>\n",
       "      <td>NaN</td>\n",
       "      <td>NaN</td>\n",
       "      <td>113.25</td>\n",
       "      <td>25.99</td>\n",
       "      <td>3.14</td>\n",
       "      <td>10.59</td>\n",
       "      <td>NaN</td>\n",
       "      <td>NaN</td>\n",
       "      <td>NaN</td>\n",
       "      <td>NaN</td>\n",
       "      <td>NaN</td>\n",
       "      <td>8.59</td>\n",
       "      <td>21.65</td>\n",
       "      <td>88.58</td>\n",
       "      <td>NaN</td>\n",
       "      <td>18.96</td>\n",
       "    </tr>\n",
       "    <tr>\n",
       "      <th>2014</th>\n",
       "      <td>NaN</td>\n",
       "      <td>NaN</td>\n",
       "      <td>43.76</td>\n",
       "      <td>NaN</td>\n",
       "      <td>NaN</td>\n",
       "      <td>NaN</td>\n",
       "      <td>NaN</td>\n",
       "      <td>NaN</td>\n",
       "      <td>NaN</td>\n",
       "      <td>NaN</td>\n",
       "      <td>NaN</td>\n",
       "      <td>NaN</td>\n",
       "      <td>NaN</td>\n",
       "      <td>13.28</td>\n",
       "      <td>NaN</td>\n",
       "      <td>NaN</td>\n",
       "      <td>NaN</td>\n",
       "      <td>47.76</td>\n",
       "      <td>100.00</td>\n",
       "      <td>0.24</td>\n",
       "      <td>11.90</td>\n",
       "      <td>NaN</td>\n",
       "      <td>NaN</td>\n",
       "      <td>NaN</td>\n",
       "      <td>NaN</td>\n",
       "      <td>NaN</td>\n",
       "      <td>3.75</td>\n",
       "      <td>22.03</td>\n",
       "      <td>34.74</td>\n",
       "      <td>NaN</td>\n",
       "      <td>54.07</td>\n",
       "    </tr>\n",
       "    <tr>\n",
       "      <th>2015</th>\n",
       "      <td>NaN</td>\n",
       "      <td>NaN</td>\n",
       "      <td>27.78</td>\n",
       "      <td>NaN</td>\n",
       "      <td>NaN</td>\n",
       "      <td>NaN</td>\n",
       "      <td>NaN</td>\n",
       "      <td>NaN</td>\n",
       "      <td>NaN</td>\n",
       "      <td>NaN</td>\n",
       "      <td>NaN</td>\n",
       "      <td>NaN</td>\n",
       "      <td>NaN</td>\n",
       "      <td>8.52</td>\n",
       "      <td>NaN</td>\n",
       "      <td>NaN</td>\n",
       "      <td>NaN</td>\n",
       "      <td>16.82</td>\n",
       "      <td>118.90</td>\n",
       "      <td>0.12</td>\n",
       "      <td>6.25</td>\n",
       "      <td>NaN</td>\n",
       "      <td>NaN</td>\n",
       "      <td>NaN</td>\n",
       "      <td>NaN</td>\n",
       "      <td>NaN</td>\n",
       "      <td>1.14</td>\n",
       "      <td>16.35</td>\n",
       "      <td>11.96</td>\n",
       "      <td>NaN</td>\n",
       "      <td>60.14</td>\n",
       "    </tr>\n",
       "    <tr>\n",
       "      <th>2016</th>\n",
       "      <td>NaN</td>\n",
       "      <td>NaN</td>\n",
       "      <td>15.14</td>\n",
       "      <td>NaN</td>\n",
       "      <td>NaN</td>\n",
       "      <td>NaN</td>\n",
       "      <td>NaN</td>\n",
       "      <td>NaN</td>\n",
       "      <td>NaN</td>\n",
       "      <td>NaN</td>\n",
       "      <td>NaN</td>\n",
       "      <td>NaN</td>\n",
       "      <td>NaN</td>\n",
       "      <td>5.25</td>\n",
       "      <td>NaN</td>\n",
       "      <td>NaN</td>\n",
       "      <td>NaN</td>\n",
       "      <td>3.60</td>\n",
       "      <td>69.25</td>\n",
       "      <td>NaN</td>\n",
       "      <td>4.25</td>\n",
       "      <td>NaN</td>\n",
       "      <td>NaN</td>\n",
       "      <td>NaN</td>\n",
       "      <td>NaN</td>\n",
       "      <td>NaN</td>\n",
       "      <td>0.18</td>\n",
       "      <td>4.60</td>\n",
       "      <td>1.52</td>\n",
       "      <td>NaN</td>\n",
       "      <td>26.15</td>\n",
       "    </tr>\n",
       "  </tbody>\n",
       "</table>\n",
       "</div>"
      ],
      "text/plain": [
       "platform          2600   3DO    3DS    DC      DS     GB    GBA     GC    GEN  \\\n",
       "year_of_release                                                                 \n",
       "1980             11.38   NaN    NaN   NaN     NaN    NaN    NaN    NaN    NaN   \n",
       "1981             35.68   NaN    NaN   NaN     NaN    NaN    NaN    NaN    NaN   \n",
       "1982             28.88   NaN    NaN   NaN     NaN    NaN    NaN    NaN    NaN   \n",
       "1983              5.84   NaN    NaN   NaN     NaN    NaN    NaN    NaN    NaN   \n",
       "1984              0.27   NaN    NaN   NaN     NaN    NaN    NaN    NaN    NaN   \n",
       "1985              0.45   NaN    NaN   NaN    0.02    NaN    NaN    NaN    NaN   \n",
       "1986              0.67   NaN    NaN   NaN     NaN    NaN    NaN    NaN    NaN   \n",
       "1987              1.94   NaN    NaN   NaN     NaN    NaN    NaN    NaN    NaN   \n",
       "1988              0.74   NaN    NaN   NaN     NaN   1.43    NaN    NaN    NaN   \n",
       "1989              0.63   NaN    NaN   NaN     NaN  64.97    NaN    NaN    NaN   \n",
       "1990               NaN   NaN    NaN   NaN     NaN   4.89    NaN    NaN   2.60   \n",
       "1991               NaN   NaN    NaN   NaN     NaN   5.57    NaN    NaN   4.33   \n",
       "1992               NaN   NaN    NaN   NaN     NaN  25.49    NaN    NaN  12.64   \n",
       "1993               NaN   NaN    NaN   NaN     NaN    NaN    NaN    NaN   3.07   \n",
       "1994               NaN  0.02    NaN   NaN     NaN  12.18    NaN    NaN   8.13   \n",
       "1995               NaN  0.08    NaN   NaN     NaN   3.60    NaN    NaN    NaN   \n",
       "1996               NaN   NaN    NaN   NaN     NaN  36.03    NaN    NaN    NaN   \n",
       "1997               NaN   NaN    NaN   NaN     NaN   6.37    NaN    NaN    NaN   \n",
       "1998               NaN   NaN    NaN  3.38     NaN  26.90    NaN    NaN    NaN   \n",
       "1999               NaN   NaN    NaN  5.16     NaN  38.00    NaN    NaN    NaN   \n",
       "2000               NaN   NaN    NaN  5.99     NaN  19.76   0.07    NaN    NaN   \n",
       "2001               NaN   NaN    NaN  1.07     NaN   9.24  61.53  26.34    NaN   \n",
       "2002               NaN   NaN    NaN  0.29     NaN    NaN  74.16  51.81    NaN   \n",
       "2003               NaN   NaN    NaN   NaN     NaN    NaN  56.67  50.61    NaN   \n",
       "2004               NaN   NaN    NaN   NaN   17.27    NaN  77.91  28.82    NaN   \n",
       "2005               NaN   NaN    NaN   NaN  130.14    NaN  33.86  27.62    NaN   \n",
       "2006               NaN   NaN    NaN   NaN  119.81    NaN   5.28  11.26    NaN   \n",
       "2007               NaN   NaN    NaN  0.02  146.94    NaN   3.40   0.27    NaN   \n",
       "2008               NaN   NaN    NaN  0.04  145.31    NaN    NaN    NaN    NaN   \n",
       "2009               NaN   NaN    NaN   NaN  119.54    NaN    NaN    NaN    NaN   \n",
       "2010               NaN   NaN    NaN   NaN   85.02    NaN    NaN    NaN    NaN   \n",
       "2011               NaN   NaN  63.20   NaN   26.18    NaN    NaN    NaN    NaN   \n",
       "2012               NaN   NaN  51.36   NaN   11.01    NaN    NaN    NaN    NaN   \n",
       "2013               NaN   NaN  56.57   NaN    1.54    NaN    NaN    NaN    NaN   \n",
       "2014               NaN   NaN  43.76   NaN     NaN    NaN    NaN    NaN    NaN   \n",
       "2015               NaN   NaN  27.78   NaN     NaN    NaN    NaN    NaN    NaN   \n",
       "2016               NaN   NaN  15.14   NaN     NaN    NaN    NaN    NaN    NaN   \n",
       "\n",
       "platform           GG    N64    NES    NG     PC  PCFX      PS     PS2  \\\n",
       "year_of_release                                                          \n",
       "1980              NaN    NaN    NaN   NaN    NaN   NaN     NaN     NaN   \n",
       "1981              NaN    NaN    NaN   NaN    NaN   NaN     NaN     NaN   \n",
       "1982              NaN    NaN    NaN   NaN    NaN   NaN     NaN     NaN   \n",
       "1983              NaN    NaN  10.96   NaN    NaN   NaN     NaN     NaN   \n",
       "1984              NaN    NaN  50.08   NaN    NaN   NaN     NaN     NaN   \n",
       "1985              NaN    NaN  53.44   NaN   0.04   NaN     NaN     NaN   \n",
       "1986              NaN    NaN  36.41   NaN    NaN   NaN     NaN     NaN   \n",
       "1987              NaN    NaN  19.76   NaN    NaN   NaN     NaN     NaN   \n",
       "1988              NaN    NaN  45.01   NaN   0.03   NaN     NaN     NaN   \n",
       "1989              NaN    NaN   7.85   NaN    NaN   NaN     NaN     NaN   \n",
       "1990              NaN    NaN  15.73   NaN    NaN   NaN     NaN     NaN   \n",
       "1991              NaN    NaN   6.11   NaN    NaN   NaN     NaN     NaN   \n",
       "1992             0.04    NaN   1.98   NaN   3.03   NaN     NaN     NaN   \n",
       "1993              NaN    NaN   3.61  0.21    NaN   NaN     NaN     NaN   \n",
       "1994              NaN    NaN   0.11  0.80  12.87   NaN    6.03     NaN   \n",
       "1995              NaN    NaN    NaN  0.33   4.22   NaN   35.96     NaN   \n",
       "1996              NaN  34.10    NaN  0.10  10.58  0.03   94.70     NaN   \n",
       "1997              NaN  39.50    NaN   NaN  11.27   NaN  136.17     NaN   \n",
       "1998              NaN  49.24    NaN   NaN   3.26   NaN  169.49     NaN   \n",
       "1999              NaN  57.87    NaN   NaN   4.74   NaN  144.53     NaN   \n",
       "2000              NaN  33.97    NaN   NaN   4.66   NaN   96.37   39.17   \n",
       "2001              NaN   3.25    NaN   NaN   5.47   NaN   35.59  166.43   \n",
       "2002              NaN   0.08    NaN   NaN   8.57   NaN    6.67  205.38   \n",
       "2003              NaN    NaN    NaN   NaN   8.84   NaN    2.07  184.31   \n",
       "2004              NaN    NaN    NaN   NaN  10.39   NaN     NaN  211.81   \n",
       "2005              NaN    NaN    NaN   NaN   4.37   NaN     NaN  160.66   \n",
       "2006              NaN    NaN    NaN   NaN   2.85   NaN     NaN  103.42   \n",
       "2007              NaN    NaN    NaN   NaN   9.28   NaN     NaN   75.99   \n",
       "2008              NaN    NaN    NaN   NaN  12.42   NaN     NaN   53.90   \n",
       "2009              NaN    NaN    NaN   NaN  16.91   NaN     NaN   26.40   \n",
       "2010              NaN    NaN    NaN   NaN  24.28   NaN     NaN    5.64   \n",
       "2011              NaN    NaN    NaN   NaN  35.03   NaN     NaN    0.45   \n",
       "2012              NaN    NaN    NaN   NaN  23.22   NaN     NaN     NaN   \n",
       "2013              NaN    NaN    NaN   NaN  12.38   NaN     NaN     NaN   \n",
       "2014              NaN    NaN    NaN   NaN  13.28   NaN     NaN     NaN   \n",
       "2015              NaN    NaN    NaN   NaN   8.52   NaN     NaN     NaN   \n",
       "2016              NaN    NaN    NaN   NaN   5.25   NaN     NaN     NaN   \n",
       "\n",
       "platform            PS3     PS4    PSP    PSV    SAT   SCD   SNES  TG16    WS  \\\n",
       "year_of_release                                                                 \n",
       "1980                NaN     NaN    NaN    NaN    NaN   NaN    NaN   NaN   NaN   \n",
       "1981                NaN     NaN    NaN    NaN    NaN   NaN    NaN   NaN   NaN   \n",
       "1982                NaN     NaN    NaN    NaN    NaN   NaN    NaN   NaN   NaN   \n",
       "1983                NaN     NaN    NaN    NaN    NaN   NaN    NaN   NaN   NaN   \n",
       "1984                NaN     NaN    NaN    NaN    NaN   NaN    NaN   NaN   NaN   \n",
       "1985                NaN     NaN    NaN    NaN    NaN   NaN    NaN   NaN   NaN   \n",
       "1986                NaN     NaN    NaN    NaN    NaN   NaN    NaN   NaN   NaN   \n",
       "1987                NaN     NaN    NaN    NaN    NaN   NaN    NaN   NaN   NaN   \n",
       "1988                NaN     NaN    NaN    NaN    NaN   NaN    NaN   NaN   NaN   \n",
       "1989                NaN     NaN    NaN    NaN    NaN   NaN    NaN   NaN   NaN   \n",
       "1990                NaN     NaN    NaN    NaN    NaN   NaN  26.15   NaN   NaN   \n",
       "1991                NaN     NaN    NaN    NaN    NaN   NaN  16.22   NaN   NaN   \n",
       "1992                NaN     NaN    NaN    NaN    NaN   NaN  32.98   NaN   NaN   \n",
       "1993                NaN     NaN    NaN    NaN    NaN  1.50  40.02   NaN   NaN   \n",
       "1994                NaN     NaN    NaN    NaN   3.65  0.36  35.08   NaN   NaN   \n",
       "1995                NaN     NaN    NaN    NaN  11.57   NaN  32.20  0.16   NaN   \n",
       "1996                NaN     NaN    NaN    NaN   7.69   NaN  15.92   NaN   NaN   \n",
       "1997                NaN     NaN    NaN    NaN   6.77   NaN   0.99   NaN   NaN   \n",
       "1998                NaN     NaN    NaN    NaN   3.82   NaN   0.22   NaN   NaN   \n",
       "1999                NaN     NaN    NaN    NaN   0.09   NaN   0.26   NaN  0.46   \n",
       "2000                NaN     NaN    NaN    NaN    NaN   NaN    NaN   NaN  0.68   \n",
       "2001                NaN     NaN    NaN    NaN    NaN   NaN    NaN   NaN  0.28   \n",
       "2002                NaN     NaN    NaN    NaN    NaN   NaN    NaN   NaN   NaN   \n",
       "2003                NaN     NaN    NaN    NaN    NaN   NaN    NaN   NaN   NaN   \n",
       "2004                NaN     NaN   7.06    NaN    NaN   NaN    NaN   NaN   NaN   \n",
       "2005                NaN     NaN  43.84    NaN    NaN   NaN    NaN   NaN   NaN   \n",
       "2006              20.96     NaN  55.32    NaN    NaN   NaN    NaN   NaN   NaN   \n",
       "2007              73.19     NaN  46.93    NaN    NaN   NaN    NaN   NaN   NaN   \n",
       "2008             118.52     NaN  34.55    NaN    NaN   NaN    NaN   NaN   NaN   \n",
       "2009             130.93     NaN  37.78    NaN    NaN   NaN    NaN   NaN   NaN   \n",
       "2010             142.17     NaN  35.04    NaN    NaN   NaN    NaN   NaN   NaN   \n",
       "2011             156.78     NaN  17.82   4.63    NaN   NaN    NaN   NaN   NaN   \n",
       "2012             107.36     NaN   7.69  16.19    NaN   NaN    NaN   NaN   NaN   \n",
       "2013             113.25   25.99   3.14  10.59    NaN   NaN    NaN   NaN   NaN   \n",
       "2014              47.76  100.00   0.24  11.90    NaN   NaN    NaN   NaN   NaN   \n",
       "2015              16.82  118.90   0.12   6.25    NaN   NaN    NaN   NaN   NaN   \n",
       "2016               3.60   69.25    NaN   4.25    NaN   NaN    NaN   NaN   NaN   \n",
       "\n",
       "platform            Wii   WiiU    X360     XB   XOne  \n",
       "year_of_release                                       \n",
       "1980                NaN    NaN     NaN    NaN    NaN  \n",
       "1981                NaN    NaN     NaN    NaN    NaN  \n",
       "1982                NaN    NaN     NaN    NaN    NaN  \n",
       "1983                NaN    NaN     NaN    NaN    NaN  \n",
       "1984                NaN    NaN     NaN    NaN    NaN  \n",
       "1985                NaN    NaN     NaN    NaN    NaN  \n",
       "1986                NaN    NaN     NaN    NaN    NaN  \n",
       "1987                NaN    NaN     NaN    NaN    NaN  \n",
       "1988                NaN    NaN     NaN    NaN    NaN  \n",
       "1989                NaN    NaN     NaN    NaN    NaN  \n",
       "1990                NaN    NaN     NaN    NaN    NaN  \n",
       "1991                NaN    NaN     NaN    NaN    NaN  \n",
       "1992                NaN    NaN     NaN    NaN    NaN  \n",
       "1993                NaN    NaN     NaN    NaN    NaN  \n",
       "1994                NaN    NaN     NaN    NaN    NaN  \n",
       "1995                NaN    NaN     NaN    NaN    NaN  \n",
       "1996                NaN    NaN     NaN    NaN    NaN  \n",
       "1997                NaN    NaN     NaN    NaN    NaN  \n",
       "1998                NaN    NaN     NaN    NaN    NaN  \n",
       "1999                NaN    NaN     NaN    NaN    NaN  \n",
       "2000                NaN    NaN     NaN   0.99    NaN  \n",
       "2001                NaN    NaN     NaN  22.26    NaN  \n",
       "2002                NaN    NaN     NaN  48.01    NaN  \n",
       "2003                NaN    NaN     NaN  55.04    NaN  \n",
       "2004                NaN    NaN     NaN  65.42    NaN  \n",
       "2005                NaN    NaN    8.25  49.08    NaN  \n",
       "2006             137.15    NaN   51.62  10.04    NaN  \n",
       "2007             152.77    NaN   95.41   0.55    NaN  \n",
       "2008             171.32    NaN  135.26   0.18    NaN  \n",
       "2009             206.97    NaN  120.29    NaN    NaN  \n",
       "2010             127.95    NaN  170.03    NaN    NaN  \n",
       "2011              59.65    NaN  143.84    NaN    NaN  \n",
       "2012              21.71  17.56   99.74    NaN    NaN  \n",
       "2013               8.59  21.65   88.58    NaN  18.96  \n",
       "2014               3.75  22.03   34.74    NaN  54.07  \n",
       "2015               1.14  16.35   11.96    NaN  60.14  \n",
       "2016               0.18   4.60    1.52    NaN  26.15  "
      ]
     },
     "execution_count": 228,
     "metadata": {},
     "output_type": "execute_result"
    }
   ],
   "source": [
    "pd.set_option('display.max_columns', None)\n",
    "data.pivot_table(index='year_of_release', columns='platform', values='total_sales', aggfunc='sum')"
   ]
  },
  {
   "cell_type": "markdown",
   "metadata": {},
   "source": [
    "Let's take the TOP 5 platforms by total sales."
   ]
  },
  {
   "cell_type": "code",
   "execution_count": 229,
   "metadata": {},
   "outputs": [
    {
     "data": {
      "text/html": [
       "<div>\n",
       "<style scoped>\n",
       "    .dataframe tbody tr th:only-of-type {\n",
       "        vertical-align: middle;\n",
       "    }\n",
       "\n",
       "    .dataframe tbody tr th {\n",
       "        vertical-align: top;\n",
       "    }\n",
       "\n",
       "    .dataframe thead th {\n",
       "        text-align: right;\n",
       "    }\n",
       "</style>\n",
       "<table border=\"1\" class=\"dataframe\">\n",
       "  <thead>\n",
       "    <tr style=\"text-align: right;\">\n",
       "      <th></th>\n",
       "      <th>total_sales</th>\n",
       "    </tr>\n",
       "    <tr>\n",
       "      <th>platform</th>\n",
       "      <th></th>\n",
       "    </tr>\n",
       "  </thead>\n",
       "  <tbody>\n",
       "    <tr>\n",
       "      <th>PS2</th>\n",
       "      <td>1233.56</td>\n",
       "    </tr>\n",
       "    <tr>\n",
       "      <th>X360</th>\n",
       "      <td>961.24</td>\n",
       "    </tr>\n",
       "    <tr>\n",
       "      <th>PS3</th>\n",
       "      <td>931.34</td>\n",
       "    </tr>\n",
       "    <tr>\n",
       "      <th>Wii</th>\n",
       "      <td>891.18</td>\n",
       "    </tr>\n",
       "    <tr>\n",
       "      <th>DS</th>\n",
       "      <td>802.78</td>\n",
       "    </tr>\n",
       "  </tbody>\n",
       "</table>\n",
       "</div>"
      ],
      "text/plain": [
       "          total_sales\n",
       "platform             \n",
       "PS2           1233.56\n",
       "X360           961.24\n",
       "PS3            931.34\n",
       "Wii            891.18\n",
       "DS             802.78"
      ]
     },
     "execution_count": 229,
     "metadata": {},
     "output_type": "execute_result"
    }
   ],
   "source": [
    "top_platforms = data.pivot_table(index='platform', values='total_sales', aggfunc='sum').sort_values(by='total_sales', ascending=False).head()\n",
    "top_platforms"
   ]
  },
  {
   "cell_type": "markdown",
   "metadata": {},
   "source": [
    "Distribution of total sales of the TOP 5 platforms by year."
   ]
  },
  {
   "cell_type": "code",
   "execution_count": 230,
   "metadata": {},
   "outputs": [
    {
     "data": {
      "image/png": "[encoded data removed]",
      "text/plain": [
       "<Figure size 1080x576 with 1 Axes>"
      ]
     },
     "metadata": {},
     "output_type": "display_data"
    }
   ],
   "source": [
    "top_platforms_names = top_platforms.index\n",
    "data_slice_1 = data.query('platform in @top_platforms_names').pivot_table(\n",
    "    index=['year_of_release', 'platform'],\n",
    "    values='total_sales',\n",
    "    aggfunc='sum'\n",
    ").reset_index()\n",
    "data_slice_1\n",
    "\n",
    "plt.figure(figsize=(15,8))\n",
    "ax = sns.barplot(\n",
    "    x='year_of_release',\n",
    "    y='total_sales',\n",
    "    hue='platform',\n",
    "    data=data_slice_1    \n",
    ")"
   ]
  },
  {
   "cell_type": "markdown",
   "metadata": {},
   "source": [
    "As can be seen from the graph, the lifetime of each platform is +/- 10 years. At the same time, each new platform appears in the 2nd year of the old one's life, with the exception of the PS2, which for 4 years was the only platform within this data slice."
   ]
  },
  {
   "cell_type": "markdown",
   "metadata": {},
   "source": [
    "For the forecast of 2017, let's take the data for 2015 as a basis - firstly, they are the most recent and complete (2016 is not complete) of those available, secondly, they are relatively close to the median and average total sales of all platforms by year for the entire period."
   ]
  },
  {
   "cell_type": "code",
   "execution_count": 231,
   "metadata": {},
   "outputs": [
    {
     "data": {
      "text/html": [
       "<div>\n",
       "<style scoped>\n",
       "    .dataframe tbody tr th:only-of-type {\n",
       "        vertical-align: middle;\n",
       "    }\n",
       "\n",
       "    .dataframe tbody tr th {\n",
       "        vertical-align: top;\n",
       "    }\n",
       "\n",
       "    .dataframe thead th {\n",
       "        text-align: right;\n",
       "    }\n",
       "</style>\n",
       "<table border=\"1\" class=\"dataframe\">\n",
       "  <thead>\n",
       "    <tr style=\"text-align: right;\">\n",
       "      <th></th>\n",
       "      <th>total_sales</th>\n",
       "    </tr>\n",
       "    <tr>\n",
       "      <th>platform</th>\n",
       "      <th></th>\n",
       "    </tr>\n",
       "  </thead>\n",
       "  <tbody>\n",
       "    <tr>\n",
       "      <th>PS4</th>\n",
       "      <td>118.90</td>\n",
       "    </tr>\n",
       "    <tr>\n",
       "      <th>XOne</th>\n",
       "      <td>60.14</td>\n",
       "    </tr>\n",
       "    <tr>\n",
       "      <th>3DS</th>\n",
       "      <td>27.78</td>\n",
       "    </tr>\n",
       "    <tr>\n",
       "      <th>PS3</th>\n",
       "      <td>16.82</td>\n",
       "    </tr>\n",
       "    <tr>\n",
       "      <th>WiiU</th>\n",
       "      <td>16.35</td>\n",
       "    </tr>\n",
       "    <tr>\n",
       "      <th>X360</th>\n",
       "      <td>11.96</td>\n",
       "    </tr>\n",
       "    <tr>\n",
       "      <th>PC</th>\n",
       "      <td>8.52</td>\n",
       "    </tr>\n",
       "    <tr>\n",
       "      <th>PSV</th>\n",
       "      <td>6.25</td>\n",
       "    </tr>\n",
       "    <tr>\n",
       "      <th>Wii</th>\n",
       "      <td>1.14</td>\n",
       "    </tr>\n",
       "    <tr>\n",
       "      <th>PSP</th>\n",
       "      <td>0.12</td>\n",
       "    </tr>\n",
       "  </tbody>\n",
       "</table>\n",
       "</div>"
      ],
      "text/plain": [
       "          total_sales\n",
       "platform             \n",
       "PS4            118.90\n",
       "XOne            60.14\n",
       "3DS             27.78\n",
       "PS3             16.82\n",
       "WiiU            16.35\n",
       "X360            11.96\n",
       "PC               8.52\n",
       "PSV              6.25\n",
       "Wii              1.14\n",
       "PSP              0.12"
      ]
     },
     "execution_count": 231,
     "metadata": {},
     "output_type": "execute_result"
    }
   ],
   "source": [
    "data_slice_2 = data.query('year_of_release == 2015').pivot_table(index='platform', values='total_sales', aggfunc='sum').sort_values(by='total_sales', ascending=False)\n",
    "data_slice_2"
   ]
  },
  {
   "cell_type": "code",
   "execution_count": 232,
   "metadata": {},
   "outputs": [
    {
     "data": {
      "text/plain": [
       "89.5551906858721"
      ]
     },
     "execution_count": 232,
     "metadata": {},
     "output_type": "execute_result"
    }
   ],
   "source": [
    "data_slice_2.reset_index().loc[:4]['total_sales'].sum() / data_slice_2.reset_index()['total_sales'].sum() * 100.0"
   ]
  },
  {
   "cell_type": "markdown",
   "metadata": {},
   "source": [
    "As can be seen from the table above, the most successful platforms are: PS4, XOne, 3DS, PS3 and WiiU - together they account for 90% of all sales in 2015."
   ]
  },
  {
   "cell_type": "markdown",
   "metadata": {},
   "source": [
    "Let's draw a box-and-whiskers diagram for global game sales by platform (TOP 5 platforms in 2015 by total sales)."
   ]
  },
  {
   "cell_type": "code",
   "execution_count": 233,
   "metadata": {},
   "outputs": [
    {
     "data": {
      "image/png": "[encoded data removed]",
      "text/plain": [
       "<Figure size 842.4x595.44 with 1 Axes>"
      ]
     },
     "metadata": {},
     "output_type": "display_data"
    }
   ],
   "source": [
    "data_slice_3 = data.query('year_of_release == 2015').pivot_table(index=['platform', 'name'], values='total_sales', aggfunc='sum').reset_index()\n",
    "sns.boxplot(data=data_slice_3['platform'], x=data_slice_3['total_sales'], y=data_slice_3['platform']).set_xlim(0, 4)\n",
    "sns.set(rc={'figure.figsize': (11.7, 8.27)})\n"
   ]
  },
  {
   "cell_type": "markdown",
   "metadata": {},
   "source": [
    "Apparently, the distribution of total global sales by games within each platform in 2015 is skewed to the left, because the distance from Q1 to Q2 (the median value) is much less than the distance from Q2 to Q3. Moreover, the first three graphs also indicate a significant number of abnormal values (emissions) located above the \"right whisker span\"."
   ]
  },
  {
   "cell_type": "markdown",
   "metadata": {},
   "source": [
    "Let's build a scatter plot and calculate the correlation between reviews and sales within the most popular platform in 2015."
   ]
  },
  {
   "cell_type": "code",
   "execution_count": 239,
   "metadata": {},
   "outputs": [
    {
     "name": "stderr",
     "output_type": "stream",
     "text": [
      "*c* argument looks like a single numeric RGB or RGBA sequence, which should be avoided as value-mapping will have precedence in case its length matches with *x* & *y*.  Please use the *color* keyword-argument or provide a 2-D array with a single row if you intend to specify the same RGB or RGBA value for all points.\n"
     ]
    },
    {
     "data": {
      "image/png": "[encoded data removed]",
      "text/plain": [
       "<Figure size 842.4x595.44 with 1 Axes>"
      ]
     },
     "metadata": {},
     "output_type": "display_data"
    },
    {
     "name": "stderr",
     "output_type": "stream",
     "text": [
      "*c* argument looks like a single numeric RGB or RGBA sequence, which should be avoided as value-mapping will have precedence in case its length matches with *x* & *y*.  Please use the *color* keyword-argument or provide a 2-D array with a single row if you intend to specify the same RGB or RGBA value for all points.\n"
     ]
    },
    {
     "name": "stdout",
     "output_type": "stream",
     "text": [
      "Корреляция между продажами внутри PS4 и оценкой критиков: 0.4123418699511164\n"
     ]
    },
    {
     "data": {
      "image/png": "[encoded data removed]",
      "text/plain": [
       "<Figure size 842.4x595.44 with 1 Axes>"
      ]
     },
     "metadata": {},
     "output_type": "display_data"
    },
    {
     "name": "stdout",
     "output_type": "stream",
     "text": [
      "Корреляция между продажами внутри PS4 и оценкой пользователей: -0.00479908107865172\n"
     ]
    }
   ],
   "source": [
    "data_slice_4 = data.query('year_of_release == 2015');\n",
    "data_slice_4.loc[data_slice_4['platform'] == 'PS4'].plot(x='total_sales', y='critic_score', kind='scatter');\n",
    "plt.show();\n",
    "corr_critic_score = data_slice_4.loc[data_slice_4['platform'] == 'PS4']['total_sales'].corr(data_slice_4.loc[data_slice_4['platform'] == 'PS4']['critic_score'].astype('float'));\n",
    "print('Корреляция между продажами внутри PS4 и оценкой критиков:', corr_critic_score);\n",
    "data_slice_4.loc[data_slice_4['platform'] == 'PS4'].plot(x='total_sales', y='user_score_x', kind='scatter');\n",
    "plt.show();\n",
    "corr_user_score = data_slice_4.loc[data_slice_4['platform'] == 'PS4']['total_sales'].corr(data_slice_4.loc[data_slice_4['platform'] == 'PS4']['user_score_x'].astype('float'));\n",
    "print('Корреляция между продажами внутри PS4 и оценкой пользователей:', corr_user_score);\n",
    "#sns.set(rc={'figure.figsize': (10, 10)})\n"
   ]
  },
  {
   "cell_type": "markdown",
   "metadata": {},
   "source": [
    "There is a weak positive linear relationship between the critics' assessment and sales volume (coefficient of correlation = 0.4), while user evaluation does not affect sales growth in any way."
   ]
  },
  {
   "cell_type": "markdown",
   "metadata": {},
   "source": [
    "Let's try to correlate the conclusions on the PS4 platform with the nature of the relationship between the ratings of critics and users and sales on other platforms."
   ]
  },
  {
   "cell_type": "code",
   "execution_count": 240,
   "metadata": {},
   "outputs": [
    {
     "data": {
      "text/plain": [
       "array(['PS4', 'XOne', 'WiiU', '3DS', 'PC', 'PSV', 'PS3'], dtype=object)"
      ]
     },
     "execution_count": 240,
     "metadata": {},
     "output_type": "execute_result"
    }
   ],
   "source": [
    "data_slice_new['platform'].unique()"
   ]
  },
  {
   "cell_type": "code",
   "execution_count": 241,
   "metadata": {},
   "outputs": [
    {
     "name": "stderr",
     "output_type": "stream",
     "text": [
      "*c* argument looks like a single numeric RGB or RGBA sequence, which should be avoided as value-mapping will have precedence in case its length matches with *x* & *y*.  Please use the *color* keyword-argument or provide a 2-D array with a single row if you intend to specify the same RGB or RGBA value for all points.\n"
     ]
    },
    {
     "data": {
      "image/png": "[encoded data removed]",
      "text/plain": [
       "<Figure size 842.4x595.44 with 1 Axes>"
      ]
     },
     "metadata": {},
     "output_type": "display_data"
    },
    {
     "name": "stderr",
     "output_type": "stream",
     "text": [
      "*c* argument looks like a single numeric RGB or RGBA sequence, which should be avoided as value-mapping will have precedence in case its length matches with *x* & *y*.  Please use the *color* keyword-argument or provide a 2-D array with a single row if you intend to specify the same RGB or RGBA value for all points.\n"
     ]
    },
    {
     "name": "stdout",
     "output_type": "stream",
     "text": [
      "Корреляция между продажами внутри XOne и оценкой критиков: 0.48520543032907365\n"
     ]
    },
    {
     "data": {
      "image/png": "[encoded data removed]",
      "text/plain": [
       "<Figure size 842.4x595.44 with 1 Axes>"
      ]
     },
     "metadata": {},
     "output_type": "display_data"
    },
    {
     "name": "stderr",
     "output_type": "stream",
     "text": [
      "*c* argument looks like a single numeric RGB or RGBA sequence, which should be avoided as value-mapping will have precedence in case its length matches with *x* & *y*.  Please use the *color* keyword-argument or provide a 2-D array with a single row if you intend to specify the same RGB or RGBA value for all points.\n"
     ]
    },
    {
     "name": "stdout",
     "output_type": "stream",
     "text": [
      "Корреляция между продажами внутри XOne и оценкой  пользователей: 0.019734877311672637\n"
     ]
    },
    {
     "data": {
      "image/png": "[encoded data removed]",
      "text/plain": [
       "<Figure size 842.4x595.44 with 1 Axes>"
      ]
     },
     "metadata": {},
     "output_type": "display_data"
    },
    {
     "name": "stdout",
     "output_type": "stream",
     "text": [
      "Корреляция между продажами внутри WiiU и оценкой критиков: 0.33282932031848395\n"
     ]
    },
    {
     "ename": "TypeError",
     "evalue": "'value' must be an instance of str or bytes, not a float",
     "output_type": "error",
     "traceback": [
      "\u001b[0;31m---------------------------------------------------------------------------\u001b[0m",
      "\u001b[0;31mTypeError\u001b[0m                                 Traceback (most recent call last)",
      "\u001b[0;32m/tmp/ipykernel_31/3873780921.py\u001b[0m in \u001b[0;36m<module>\u001b[0;34m\u001b[0m\n\u001b[1;32m      3\u001b[0m     \u001b[0mplt\u001b[0m\u001b[0;34m.\u001b[0m\u001b[0mshow\u001b[0m\u001b[0;34m(\u001b[0m\u001b[0;34m)\u001b[0m\u001b[0;34m;\u001b[0m\u001b[0;34m\u001b[0m\u001b[0;34m\u001b[0m\u001b[0m\n\u001b[1;32m      4\u001b[0m     \u001b[0mprint\u001b[0m\u001b[0;34m(\u001b[0m\u001b[0;34mf'Корреляция между продажами внутри {platform} и оценкой критиков:'\u001b[0m\u001b[0;34m,\u001b[0m \u001b[0mdata_slice_4\u001b[0m\u001b[0;34m.\u001b[0m\u001b[0mloc\u001b[0m\u001b[0;34m[\u001b[0m\u001b[0mdata_slice_4\u001b[0m\u001b[0;34m[\u001b[0m\u001b[0;34m'platform'\u001b[0m\u001b[0;34m]\u001b[0m \u001b[0;34m==\u001b[0m \u001b[0mplatform\u001b[0m\u001b[0;34m]\u001b[0m\u001b[0;34m[\u001b[0m\u001b[0;34m'total_sales'\u001b[0m\u001b[0;34m]\u001b[0m\u001b[0;34m.\u001b[0m\u001b[0mcorr\u001b[0m\u001b[0;34m(\u001b[0m\u001b[0mdata_slice_4\u001b[0m\u001b[0;34m.\u001b[0m\u001b[0mloc\u001b[0m\u001b[0;34m[\u001b[0m\u001b[0mdata_slice_4\u001b[0m\u001b[0;34m[\u001b[0m\u001b[0;34m'platform'\u001b[0m\u001b[0;34m]\u001b[0m \u001b[0;34m==\u001b[0m \u001b[0mplatform\u001b[0m\u001b[0;34m]\u001b[0m\u001b[0;34m[\u001b[0m\u001b[0;34m'critic_score'\u001b[0m\u001b[0;34m]\u001b[0m\u001b[0;34m.\u001b[0m\u001b[0mastype\u001b[0m\u001b[0;34m(\u001b[0m\u001b[0;34m'float'\u001b[0m\u001b[0;34m)\u001b[0m\u001b[0;34m)\u001b[0m\u001b[0;34m)\u001b[0m\u001b[0;34m;\u001b[0m\u001b[0;34m\u001b[0m\u001b[0;34m\u001b[0m\u001b[0m\n\u001b[0;32m----> 5\u001b[0;31m     \u001b[0mdata_slice_4\u001b[0m\u001b[0;34m.\u001b[0m\u001b[0mloc\u001b[0m\u001b[0;34m[\u001b[0m\u001b[0mdata_slice_4\u001b[0m\u001b[0;34m[\u001b[0m\u001b[0;34m'platform'\u001b[0m\u001b[0;34m]\u001b[0m \u001b[0;34m==\u001b[0m \u001b[0mplatform\u001b[0m\u001b[0;34m]\u001b[0m\u001b[0;34m.\u001b[0m\u001b[0mplot\u001b[0m\u001b[0;34m(\u001b[0m\u001b[0mx\u001b[0m\u001b[0;34m=\u001b[0m\u001b[0;34m'total_sales'\u001b[0m\u001b[0;34m,\u001b[0m \u001b[0my\u001b[0m\u001b[0;34m=\u001b[0m\u001b[0;34m'user_score_x'\u001b[0m\u001b[0;34m,\u001b[0m \u001b[0mkind\u001b[0m\u001b[0;34m=\u001b[0m\u001b[0;34m'scatter'\u001b[0m\u001b[0;34m)\u001b[0m\u001b[0;34m;\u001b[0m\u001b[0;34m\u001b[0m\u001b[0;34m\u001b[0m\u001b[0m\n\u001b[0m\u001b[1;32m      6\u001b[0m     \u001b[0mplt\u001b[0m\u001b[0;34m.\u001b[0m\u001b[0mshow\u001b[0m\u001b[0;34m(\u001b[0m\u001b[0;34m)\u001b[0m\u001b[0;34m;\u001b[0m\u001b[0;34m\u001b[0m\u001b[0;34m\u001b[0m\u001b[0m\n\u001b[1;32m      7\u001b[0m     \u001b[0mprint\u001b[0m\u001b[0;34m(\u001b[0m\u001b[0;34mf'Корреляция между продажами внутри {platform} и оценкой  пользователей:'\u001b[0m\u001b[0;34m,\u001b[0m \u001b[0mdata_slice_4\u001b[0m\u001b[0;34m.\u001b[0m\u001b[0mloc\u001b[0m\u001b[0;34m[\u001b[0m\u001b[0mdata_slice_4\u001b[0m\u001b[0;34m[\u001b[0m\u001b[0;34m'platform'\u001b[0m\u001b[0;34m]\u001b[0m \u001b[0;34m==\u001b[0m \u001b[0mplatform\u001b[0m\u001b[0;34m]\u001b[0m\u001b[0;34m[\u001b[0m\u001b[0;34m'total_sales'\u001b[0m\u001b[0;34m]\u001b[0m\u001b[0;34m.\u001b[0m\u001b[0mcorr\u001b[0m\u001b[0;34m(\u001b[0m\u001b[0mdata_slice_4\u001b[0m\u001b[0;34m.\u001b[0m\u001b[0mloc\u001b[0m\u001b[0;34m[\u001b[0m\u001b[0mdata_slice_4\u001b[0m\u001b[0;34m[\u001b[0m\u001b[0;34m'platform'\u001b[0m\u001b[0;34m]\u001b[0m \u001b[0;34m==\u001b[0m \u001b[0mplatform\u001b[0m\u001b[0;34m]\u001b[0m\u001b[0;34m[\u001b[0m\u001b[0;34m'user_score_x'\u001b[0m\u001b[0;34m]\u001b[0m\u001b[0;34m.\u001b[0m\u001b[0mastype\u001b[0m\u001b[0;34m(\u001b[0m\u001b[0;34m'float'\u001b[0m\u001b[0;34m)\u001b[0m\u001b[0;34m)\u001b[0m\u001b[0;34m)\u001b[0m\u001b[0;34m;\u001b[0m\u001b[0;34m\u001b[0m\u001b[0;34m\u001b[0m\u001b[0m\n",
      "\u001b[0;32m/opt/conda/lib/python3.9/site-packages/pandas/plotting/_core.py\u001b[0m in \u001b[0;36m__call__\u001b[0;34m(self, *args, **kwargs)\u001b[0m\n\u001b[1;32m    898\u001b[0m         \u001b[0;32mif\u001b[0m \u001b[0mkind\u001b[0m \u001b[0;32min\u001b[0m \u001b[0mself\u001b[0m\u001b[0;34m.\u001b[0m\u001b[0m_dataframe_kinds\u001b[0m\u001b[0;34m:\u001b[0m\u001b[0;34m\u001b[0m\u001b[0;34m\u001b[0m\u001b[0m\n\u001b[1;32m    899\u001b[0m             \u001b[0;32mif\u001b[0m \u001b[0misinstance\u001b[0m\u001b[0;34m(\u001b[0m\u001b[0mdata\u001b[0m\u001b[0;34m,\u001b[0m \u001b[0mABCDataFrame\u001b[0m\u001b[0;34m)\u001b[0m\u001b[0;34m:\u001b[0m\u001b[0;34m\u001b[0m\u001b[0;34m\u001b[0m\u001b[0m\n\u001b[0;32m--> 900\u001b[0;31m                 \u001b[0;32mreturn\u001b[0m \u001b[0mplot_backend\u001b[0m\u001b[0;34m.\u001b[0m\u001b[0mplot\u001b[0m\u001b[0;34m(\u001b[0m\u001b[0mdata\u001b[0m\u001b[0;34m,\u001b[0m \u001b[0mx\u001b[0m\u001b[0;34m=\u001b[0m\u001b[0mx\u001b[0m\u001b[0;34m,\u001b[0m \u001b[0my\u001b[0m\u001b[0;34m=\u001b[0m\u001b[0my\u001b[0m\u001b[0;34m,\u001b[0m \u001b[0mkind\u001b[0m\u001b[0;34m=\u001b[0m\u001b[0mkind\u001b[0m\u001b[0;34m,\u001b[0m \u001b[0;34m**\u001b[0m\u001b[0mkwargs\u001b[0m\u001b[0;34m)\u001b[0m\u001b[0;34m\u001b[0m\u001b[0;34m\u001b[0m\u001b[0m\n\u001b[0m\u001b[1;32m    901\u001b[0m             \u001b[0;32melse\u001b[0m\u001b[0;34m:\u001b[0m\u001b[0;34m\u001b[0m\u001b[0;34m\u001b[0m\u001b[0m\n\u001b[1;32m    902\u001b[0m                 \u001b[0;32mraise\u001b[0m \u001b[0mValueError\u001b[0m\u001b[0;34m(\u001b[0m\u001b[0;34mf\"plot kind {kind} can only be used for data frames\"\u001b[0m\u001b[0;34m)\u001b[0m\u001b[0;34m\u001b[0m\u001b[0;34m\u001b[0m\u001b[0m\n",
      "\u001b[0;32m/opt/conda/lib/python3.9/site-packages/pandas/plotting/_matplotlib/__init__.py\u001b[0m in \u001b[0;36mplot\u001b[0;34m(data, kind, **kwargs)\u001b[0m\n\u001b[1;32m     59\u001b[0m             \u001b[0mkwargs\u001b[0m\u001b[0;34m[\u001b[0m\u001b[0;34m\"ax\"\u001b[0m\u001b[0;34m]\u001b[0m \u001b[0;34m=\u001b[0m \u001b[0mgetattr\u001b[0m\u001b[0;34m(\u001b[0m\u001b[0max\u001b[0m\u001b[0;34m,\u001b[0m \u001b[0;34m\"left_ax\"\u001b[0m\u001b[0;34m,\u001b[0m \u001b[0max\u001b[0m\u001b[0;34m)\u001b[0m\u001b[0;34m\u001b[0m\u001b[0;34m\u001b[0m\u001b[0m\n\u001b[1;32m     60\u001b[0m     \u001b[0mplot_obj\u001b[0m \u001b[0;34m=\u001b[0m \u001b[0mPLOT_CLASSES\u001b[0m\u001b[0;34m[\u001b[0m\u001b[0mkind\u001b[0m\u001b[0;34m]\u001b[0m\u001b[0;34m(\u001b[0m\u001b[0mdata\u001b[0m\u001b[0;34m,\u001b[0m \u001b[0;34m**\u001b[0m\u001b[0mkwargs\u001b[0m\u001b[0;34m)\u001b[0m\u001b[0;34m\u001b[0m\u001b[0;34m\u001b[0m\u001b[0m\n\u001b[0;32m---> 61\u001b[0;31m     \u001b[0mplot_obj\u001b[0m\u001b[0;34m.\u001b[0m\u001b[0mgenerate\u001b[0m\u001b[0;34m(\u001b[0m\u001b[0;34m)\u001b[0m\u001b[0;34m\u001b[0m\u001b[0;34m\u001b[0m\u001b[0m\n\u001b[0m\u001b[1;32m     62\u001b[0m     \u001b[0mplot_obj\u001b[0m\u001b[0;34m.\u001b[0m\u001b[0mdraw\u001b[0m\u001b[0;34m(\u001b[0m\u001b[0;34m)\u001b[0m\u001b[0;34m\u001b[0m\u001b[0;34m\u001b[0m\u001b[0m\n\u001b[1;32m     63\u001b[0m     \u001b[0;32mreturn\u001b[0m \u001b[0mplot_obj\u001b[0m\u001b[0;34m.\u001b[0m\u001b[0mresult\u001b[0m\u001b[0;34m\u001b[0m\u001b[0;34m\u001b[0m\u001b[0m\n",
      "\u001b[0;32m/opt/conda/lib/python3.9/site-packages/pandas/plotting/_matplotlib/core.py\u001b[0m in \u001b[0;36mgenerate\u001b[0;34m(self)\u001b[0m\n\u001b[1;32m    278\u001b[0m         \u001b[0mself\u001b[0m\u001b[0;34m.\u001b[0m\u001b[0m_compute_plot_data\u001b[0m\u001b[0;34m(\u001b[0m\u001b[0;34m)\u001b[0m\u001b[0;34m\u001b[0m\u001b[0;34m\u001b[0m\u001b[0m\n\u001b[1;32m    279\u001b[0m         \u001b[0mself\u001b[0m\u001b[0;34m.\u001b[0m\u001b[0m_setup_subplots\u001b[0m\u001b[0;34m(\u001b[0m\u001b[0;34m)\u001b[0m\u001b[0;34m\u001b[0m\u001b[0;34m\u001b[0m\u001b[0m\n\u001b[0;32m--> 280\u001b[0;31m         \u001b[0mself\u001b[0m\u001b[0;34m.\u001b[0m\u001b[0m_make_plot\u001b[0m\u001b[0;34m(\u001b[0m\u001b[0;34m)\u001b[0m\u001b[0;34m\u001b[0m\u001b[0;34m\u001b[0m\u001b[0m\n\u001b[0m\u001b[1;32m    281\u001b[0m         \u001b[0mself\u001b[0m\u001b[0;34m.\u001b[0m\u001b[0m_add_table\u001b[0m\u001b[0;34m(\u001b[0m\u001b[0;34m)\u001b[0m\u001b[0;34m\u001b[0m\u001b[0;34m\u001b[0m\u001b[0m\n\u001b[1;32m    282\u001b[0m         \u001b[0mself\u001b[0m\u001b[0;34m.\u001b[0m\u001b[0m_make_legend\u001b[0m\u001b[0;34m(\u001b[0m\u001b[0;34m)\u001b[0m\u001b[0;34m\u001b[0m\u001b[0;34m\u001b[0m\u001b[0m\n",
      "\u001b[0;32m/opt/conda/lib/python3.9/site-packages/pandas/plotting/_matplotlib/core.py\u001b[0m in \u001b[0;36m_make_plot\u001b[0;34m(self)\u001b[0m\n\u001b[1;32m   1039\u001b[0m         \u001b[0;32melse\u001b[0m\u001b[0;34m:\u001b[0m\u001b[0;34m\u001b[0m\u001b[0;34m\u001b[0m\u001b[0m\n\u001b[1;32m   1040\u001b[0m             \u001b[0mlabel\u001b[0m \u001b[0;34m=\u001b[0m \u001b[0;32mNone\u001b[0m\u001b[0;34m\u001b[0m\u001b[0;34m\u001b[0m\u001b[0m\n\u001b[0;32m-> 1041\u001b[0;31m         scatter = ax.scatter(\n\u001b[0m\u001b[1;32m   1042\u001b[0m             \u001b[0mdata\u001b[0m\u001b[0;34m[\u001b[0m\u001b[0mx\u001b[0m\u001b[0;34m]\u001b[0m\u001b[0;34m.\u001b[0m\u001b[0mvalues\u001b[0m\u001b[0;34m,\u001b[0m\u001b[0;34m\u001b[0m\u001b[0;34m\u001b[0m\u001b[0m\n\u001b[1;32m   1043\u001b[0m             \u001b[0mdata\u001b[0m\u001b[0;34m[\u001b[0m\u001b[0my\u001b[0m\u001b[0;34m]\u001b[0m\u001b[0;34m.\u001b[0m\u001b[0mvalues\u001b[0m\u001b[0;34m,\u001b[0m\u001b[0;34m\u001b[0m\u001b[0;34m\u001b[0m\u001b[0m\n",
      "\u001b[0;32m/opt/conda/lib/python3.9/site-packages/matplotlib/__init__.py\u001b[0m in \u001b[0;36minner\u001b[0;34m(ax, data, *args, **kwargs)\u001b[0m\n\u001b[1;32m   1445\u001b[0m     \u001b[0;32mdef\u001b[0m \u001b[0minner\u001b[0m\u001b[0;34m(\u001b[0m\u001b[0max\u001b[0m\u001b[0;34m,\u001b[0m \u001b[0;34m*\u001b[0m\u001b[0margs\u001b[0m\u001b[0;34m,\u001b[0m \u001b[0mdata\u001b[0m\u001b[0;34m=\u001b[0m\u001b[0;32mNone\u001b[0m\u001b[0;34m,\u001b[0m \u001b[0;34m**\u001b[0m\u001b[0mkwargs\u001b[0m\u001b[0;34m)\u001b[0m\u001b[0;34m:\u001b[0m\u001b[0;34m\u001b[0m\u001b[0;34m\u001b[0m\u001b[0m\n\u001b[1;32m   1446\u001b[0m         \u001b[0;32mif\u001b[0m \u001b[0mdata\u001b[0m \u001b[0;32mis\u001b[0m \u001b[0;32mNone\u001b[0m\u001b[0;34m:\u001b[0m\u001b[0;34m\u001b[0m\u001b[0;34m\u001b[0m\u001b[0m\n\u001b[0;32m-> 1447\u001b[0;31m             \u001b[0;32mreturn\u001b[0m \u001b[0mfunc\u001b[0m\u001b[0;34m(\u001b[0m\u001b[0max\u001b[0m\u001b[0;34m,\u001b[0m \u001b[0;34m*\u001b[0m\u001b[0mmap\u001b[0m\u001b[0;34m(\u001b[0m\u001b[0msanitize_sequence\u001b[0m\u001b[0;34m,\u001b[0m \u001b[0margs\u001b[0m\u001b[0;34m)\u001b[0m\u001b[0;34m,\u001b[0m \u001b[0;34m**\u001b[0m\u001b[0mkwargs\u001b[0m\u001b[0;34m)\u001b[0m\u001b[0;34m\u001b[0m\u001b[0;34m\u001b[0m\u001b[0m\n\u001b[0m\u001b[1;32m   1448\u001b[0m \u001b[0;34m\u001b[0m\u001b[0m\n\u001b[1;32m   1449\u001b[0m         \u001b[0mbound\u001b[0m \u001b[0;34m=\u001b[0m \u001b[0mnew_sig\u001b[0m\u001b[0;34m.\u001b[0m\u001b[0mbind\u001b[0m\u001b[0;34m(\u001b[0m\u001b[0max\u001b[0m\u001b[0;34m,\u001b[0m \u001b[0;34m*\u001b[0m\u001b[0margs\u001b[0m\u001b[0;34m,\u001b[0m \u001b[0;34m**\u001b[0m\u001b[0mkwargs\u001b[0m\u001b[0;34m)\u001b[0m\u001b[0;34m\u001b[0m\u001b[0;34m\u001b[0m\u001b[0m\n",
      "\u001b[0;32m/opt/conda/lib/python3.9/site-packages/matplotlib/cbook/deprecation.py\u001b[0m in \u001b[0;36mwrapper\u001b[0;34m(*inner_args, **inner_kwargs)\u001b[0m\n\u001b[1;32m    409\u001b[0m                          \u001b[0;32melse\u001b[0m \u001b[0mdeprecation_addendum\u001b[0m\u001b[0;34m,\u001b[0m\u001b[0;34m\u001b[0m\u001b[0;34m\u001b[0m\u001b[0m\n\u001b[1;32m    410\u001b[0m                 **kwargs)\n\u001b[0;32m--> 411\u001b[0;31m         \u001b[0;32mreturn\u001b[0m \u001b[0mfunc\u001b[0m\u001b[0;34m(\u001b[0m\u001b[0;34m*\u001b[0m\u001b[0minner_args\u001b[0m\u001b[0;34m,\u001b[0m \u001b[0;34m**\u001b[0m\u001b[0minner_kwargs\u001b[0m\u001b[0;34m)\u001b[0m\u001b[0;34m\u001b[0m\u001b[0;34m\u001b[0m\u001b[0m\n\u001b[0m\u001b[1;32m    412\u001b[0m \u001b[0;34m\u001b[0m\u001b[0m\n\u001b[1;32m    413\u001b[0m     \u001b[0;32mreturn\u001b[0m \u001b[0mwrapper\u001b[0m\u001b[0;34m\u001b[0m\u001b[0;34m\u001b[0m\u001b[0m\n",
      "\u001b[0;32m/opt/conda/lib/python3.9/site-packages/matplotlib/axes/_axes.py\u001b[0m in \u001b[0;36mscatter\u001b[0;34m(self, x, y, s, c, marker, cmap, norm, vmin, vmax, alpha, linewidths, verts, edgecolors, plotnonfinite, **kwargs)\u001b[0m\n\u001b[1;32m   4430\u001b[0m         \u001b[0;31m# Process **kwargs to handle aliases, conflicts with explicit kwargs:\u001b[0m\u001b[0;34m\u001b[0m\u001b[0;34m\u001b[0m\u001b[0;34m\u001b[0m\u001b[0m\n\u001b[1;32m   4431\u001b[0m \u001b[0;34m\u001b[0m\u001b[0m\n\u001b[0;32m-> 4432\u001b[0;31m         \u001b[0mself\u001b[0m\u001b[0;34m.\u001b[0m\u001b[0m_process_unit_info\u001b[0m\u001b[0;34m(\u001b[0m\u001b[0mxdata\u001b[0m\u001b[0;34m=\u001b[0m\u001b[0mx\u001b[0m\u001b[0;34m,\u001b[0m \u001b[0mydata\u001b[0m\u001b[0;34m=\u001b[0m\u001b[0my\u001b[0m\u001b[0;34m,\u001b[0m \u001b[0mkwargs\u001b[0m\u001b[0;34m=\u001b[0m\u001b[0mkwargs\u001b[0m\u001b[0;34m)\u001b[0m\u001b[0;34m\u001b[0m\u001b[0;34m\u001b[0m\u001b[0m\n\u001b[0m\u001b[1;32m   4433\u001b[0m         \u001b[0mx\u001b[0m \u001b[0;34m=\u001b[0m \u001b[0mself\u001b[0m\u001b[0;34m.\u001b[0m\u001b[0mconvert_xunits\u001b[0m\u001b[0;34m(\u001b[0m\u001b[0mx\u001b[0m\u001b[0;34m)\u001b[0m\u001b[0;34m\u001b[0m\u001b[0;34m\u001b[0m\u001b[0m\n\u001b[1;32m   4434\u001b[0m         \u001b[0my\u001b[0m \u001b[0;34m=\u001b[0m \u001b[0mself\u001b[0m\u001b[0;34m.\u001b[0m\u001b[0mconvert_yunits\u001b[0m\u001b[0;34m(\u001b[0m\u001b[0my\u001b[0m\u001b[0;34m)\u001b[0m\u001b[0;34m\u001b[0m\u001b[0;34m\u001b[0m\u001b[0m\n",
      "\u001b[0;32m/opt/conda/lib/python3.9/site-packages/matplotlib/axes/_base.py\u001b[0m in \u001b[0;36m_process_unit_info\u001b[0;34m(self, xdata, ydata, kwargs)\u001b[0m\n\u001b[1;32m   2188\u001b[0m \u001b[0;34m\u001b[0m\u001b[0m\n\u001b[1;32m   2189\u001b[0m         \u001b[0mkwargs\u001b[0m \u001b[0;34m=\u001b[0m \u001b[0m_process_single_axis\u001b[0m\u001b[0;34m(\u001b[0m\u001b[0mxdata\u001b[0m\u001b[0;34m,\u001b[0m \u001b[0mself\u001b[0m\u001b[0;34m.\u001b[0m\u001b[0mxaxis\u001b[0m\u001b[0;34m,\u001b[0m \u001b[0;34m'xunits'\u001b[0m\u001b[0;34m,\u001b[0m \u001b[0mkwargs\u001b[0m\u001b[0;34m)\u001b[0m\u001b[0;34m\u001b[0m\u001b[0;34m\u001b[0m\u001b[0m\n\u001b[0;32m-> 2190\u001b[0;31m         \u001b[0mkwargs\u001b[0m \u001b[0;34m=\u001b[0m \u001b[0m_process_single_axis\u001b[0m\u001b[0;34m(\u001b[0m\u001b[0mydata\u001b[0m\u001b[0;34m,\u001b[0m \u001b[0mself\u001b[0m\u001b[0;34m.\u001b[0m\u001b[0myaxis\u001b[0m\u001b[0;34m,\u001b[0m \u001b[0;34m'yunits'\u001b[0m\u001b[0;34m,\u001b[0m \u001b[0mkwargs\u001b[0m\u001b[0;34m)\u001b[0m\u001b[0;34m\u001b[0m\u001b[0;34m\u001b[0m\u001b[0m\n\u001b[0m\u001b[1;32m   2191\u001b[0m         \u001b[0;32mreturn\u001b[0m \u001b[0mkwargs\u001b[0m\u001b[0;34m\u001b[0m\u001b[0;34m\u001b[0m\u001b[0m\n\u001b[1;32m   2192\u001b[0m \u001b[0;34m\u001b[0m\u001b[0m\n",
      "\u001b[0;32m/opt/conda/lib/python3.9/site-packages/matplotlib/axes/_base.py\u001b[0m in \u001b[0;36m_process_single_axis\u001b[0;34m(data, axis, unit_name, kwargs)\u001b[0m\n\u001b[1;32m   2170\u001b[0m                 \u001b[0;31m# We only need to update if there is nothing set yet.\u001b[0m\u001b[0;34m\u001b[0m\u001b[0;34m\u001b[0m\u001b[0;34m\u001b[0m\u001b[0m\n\u001b[1;32m   2171\u001b[0m                 \u001b[0;32mif\u001b[0m \u001b[0;32mnot\u001b[0m \u001b[0maxis\u001b[0m\u001b[0;34m.\u001b[0m\u001b[0mhave_units\u001b[0m\u001b[0;34m(\u001b[0m\u001b[0;34m)\u001b[0m\u001b[0;34m:\u001b[0m\u001b[0;34m\u001b[0m\u001b[0;34m\u001b[0m\u001b[0m\n\u001b[0;32m-> 2172\u001b[0;31m                     \u001b[0maxis\u001b[0m\u001b[0;34m.\u001b[0m\u001b[0mupdate_units\u001b[0m\u001b[0;34m(\u001b[0m\u001b[0mdata\u001b[0m\u001b[0;34m)\u001b[0m\u001b[0;34m\u001b[0m\u001b[0;34m\u001b[0m\u001b[0m\n\u001b[0m\u001b[1;32m   2173\u001b[0m \u001b[0;34m\u001b[0m\u001b[0m\n\u001b[1;32m   2174\u001b[0m             \u001b[0;31m# Check for units in the kwargs, and if present update axis\u001b[0m\u001b[0;34m\u001b[0m\u001b[0;34m\u001b[0m\u001b[0;34m\u001b[0m\u001b[0m\n",
      "\u001b[0;32m/opt/conda/lib/python3.9/site-packages/matplotlib/axis.py\u001b[0m in \u001b[0;36mupdate_units\u001b[0;34m(self, data)\u001b[0m\n\u001b[1;32m   1464\u001b[0m         \u001b[0mneednew\u001b[0m \u001b[0;34m=\u001b[0m \u001b[0mself\u001b[0m\u001b[0;34m.\u001b[0m\u001b[0mconverter\u001b[0m \u001b[0;34m!=\u001b[0m \u001b[0mconverter\u001b[0m\u001b[0;34m\u001b[0m\u001b[0;34m\u001b[0m\u001b[0m\n\u001b[1;32m   1465\u001b[0m         \u001b[0mself\u001b[0m\u001b[0;34m.\u001b[0m\u001b[0mconverter\u001b[0m \u001b[0;34m=\u001b[0m \u001b[0mconverter\u001b[0m\u001b[0;34m\u001b[0m\u001b[0;34m\u001b[0m\u001b[0m\n\u001b[0;32m-> 1466\u001b[0;31m         \u001b[0mdefault\u001b[0m \u001b[0;34m=\u001b[0m \u001b[0mself\u001b[0m\u001b[0;34m.\u001b[0m\u001b[0mconverter\u001b[0m\u001b[0;34m.\u001b[0m\u001b[0mdefault_units\u001b[0m\u001b[0;34m(\u001b[0m\u001b[0mdata\u001b[0m\u001b[0;34m,\u001b[0m \u001b[0mself\u001b[0m\u001b[0;34m)\u001b[0m\u001b[0;34m\u001b[0m\u001b[0;34m\u001b[0m\u001b[0m\n\u001b[0m\u001b[1;32m   1467\u001b[0m         \u001b[0;32mif\u001b[0m \u001b[0mdefault\u001b[0m \u001b[0;32mis\u001b[0m \u001b[0;32mnot\u001b[0m \u001b[0;32mNone\u001b[0m \u001b[0;32mand\u001b[0m \u001b[0mself\u001b[0m\u001b[0;34m.\u001b[0m\u001b[0munits\u001b[0m \u001b[0;32mis\u001b[0m \u001b[0;32mNone\u001b[0m\u001b[0;34m:\u001b[0m\u001b[0;34m\u001b[0m\u001b[0;34m\u001b[0m\u001b[0m\n\u001b[1;32m   1468\u001b[0m             \u001b[0mself\u001b[0m\u001b[0;34m.\u001b[0m\u001b[0mset_units\u001b[0m\u001b[0;34m(\u001b[0m\u001b[0mdefault\u001b[0m\u001b[0;34m)\u001b[0m\u001b[0;34m\u001b[0m\u001b[0;34m\u001b[0m\u001b[0m\n",
      "\u001b[0;32m/opt/conda/lib/python3.9/site-packages/matplotlib/category.py\u001b[0m in \u001b[0;36mdefault_units\u001b[0;34m(data, axis)\u001b[0m\n\u001b[1;32m    105\u001b[0m         \u001b[0;31m# the conversion call stack is default_units -> axis_info -> convert\u001b[0m\u001b[0;34m\u001b[0m\u001b[0;34m\u001b[0m\u001b[0;34m\u001b[0m\u001b[0m\n\u001b[1;32m    106\u001b[0m         \u001b[0;32mif\u001b[0m \u001b[0maxis\u001b[0m\u001b[0;34m.\u001b[0m\u001b[0munits\u001b[0m \u001b[0;32mis\u001b[0m \u001b[0;32mNone\u001b[0m\u001b[0;34m:\u001b[0m\u001b[0;34m\u001b[0m\u001b[0;34m\u001b[0m\u001b[0m\n\u001b[0;32m--> 107\u001b[0;31m             \u001b[0maxis\u001b[0m\u001b[0;34m.\u001b[0m\u001b[0mset_units\u001b[0m\u001b[0;34m(\u001b[0m\u001b[0mUnitData\u001b[0m\u001b[0;34m(\u001b[0m\u001b[0mdata\u001b[0m\u001b[0;34m)\u001b[0m\u001b[0;34m)\u001b[0m\u001b[0;34m\u001b[0m\u001b[0;34m\u001b[0m\u001b[0m\n\u001b[0m\u001b[1;32m    108\u001b[0m         \u001b[0;32melse\u001b[0m\u001b[0;34m:\u001b[0m\u001b[0;34m\u001b[0m\u001b[0;34m\u001b[0m\u001b[0m\n\u001b[1;32m    109\u001b[0m             \u001b[0maxis\u001b[0m\u001b[0;34m.\u001b[0m\u001b[0munits\u001b[0m\u001b[0;34m.\u001b[0m\u001b[0mupdate\u001b[0m\u001b[0;34m(\u001b[0m\u001b[0mdata\u001b[0m\u001b[0;34m)\u001b[0m\u001b[0;34m\u001b[0m\u001b[0;34m\u001b[0m\u001b[0m\n",
      "\u001b[0;32m/opt/conda/lib/python3.9/site-packages/matplotlib/category.py\u001b[0m in \u001b[0;36m__init__\u001b[0;34m(self, data)\u001b[0m\n\u001b[1;32m    174\u001b[0m         \u001b[0mself\u001b[0m\u001b[0;34m.\u001b[0m\u001b[0m_counter\u001b[0m \u001b[0;34m=\u001b[0m \u001b[0mitertools\u001b[0m\u001b[0;34m.\u001b[0m\u001b[0mcount\u001b[0m\u001b[0;34m(\u001b[0m\u001b[0;34m)\u001b[0m\u001b[0;34m\u001b[0m\u001b[0;34m\u001b[0m\u001b[0m\n\u001b[1;32m    175\u001b[0m         \u001b[0;32mif\u001b[0m \u001b[0mdata\u001b[0m \u001b[0;32mis\u001b[0m \u001b[0;32mnot\u001b[0m \u001b[0;32mNone\u001b[0m\u001b[0;34m:\u001b[0m\u001b[0;34m\u001b[0m\u001b[0;34m\u001b[0m\u001b[0m\n\u001b[0;32m--> 176\u001b[0;31m             \u001b[0mself\u001b[0m\u001b[0;34m.\u001b[0m\u001b[0mupdate\u001b[0m\u001b[0;34m(\u001b[0m\u001b[0mdata\u001b[0m\u001b[0;34m)\u001b[0m\u001b[0;34m\u001b[0m\u001b[0;34m\u001b[0m\u001b[0m\n\u001b[0m\u001b[1;32m    177\u001b[0m \u001b[0;34m\u001b[0m\u001b[0m\n\u001b[1;32m    178\u001b[0m     \u001b[0;34m@\u001b[0m\u001b[0mstaticmethod\u001b[0m\u001b[0;34m\u001b[0m\u001b[0;34m\u001b[0m\u001b[0m\n",
      "\u001b[0;32m/opt/conda/lib/python3.9/site-packages/matplotlib/category.py\u001b[0m in \u001b[0;36mupdate\u001b[0;34m(self, data)\u001b[0m\n\u001b[1;32m    209\u001b[0m         \u001b[0;32mfor\u001b[0m \u001b[0mval\u001b[0m \u001b[0;32min\u001b[0m \u001b[0mOrderedDict\u001b[0m\u001b[0;34m.\u001b[0m\u001b[0mfromkeys\u001b[0m\u001b[0;34m(\u001b[0m\u001b[0mdata\u001b[0m\u001b[0;34m)\u001b[0m\u001b[0;34m:\u001b[0m\u001b[0;34m\u001b[0m\u001b[0;34m\u001b[0m\u001b[0m\n\u001b[1;32m    210\u001b[0m             \u001b[0;31m# OrderedDict just iterates over unique values in data.\u001b[0m\u001b[0;34m\u001b[0m\u001b[0;34m\u001b[0m\u001b[0;34m\u001b[0m\u001b[0m\n\u001b[0;32m--> 211\u001b[0;31m             \u001b[0mcbook\u001b[0m\u001b[0;34m.\u001b[0m\u001b[0m_check_isinstance\u001b[0m\u001b[0;34m(\u001b[0m\u001b[0;34m(\u001b[0m\u001b[0mstr\u001b[0m\u001b[0;34m,\u001b[0m \u001b[0mbytes\u001b[0m\u001b[0;34m)\u001b[0m\u001b[0;34m,\u001b[0m \u001b[0mvalue\u001b[0m\u001b[0;34m=\u001b[0m\u001b[0mval\u001b[0m\u001b[0;34m)\u001b[0m\u001b[0;34m\u001b[0m\u001b[0;34m\u001b[0m\u001b[0m\n\u001b[0m\u001b[1;32m    212\u001b[0m             \u001b[0;32mif\u001b[0m \u001b[0mconvertible\u001b[0m\u001b[0;34m:\u001b[0m\u001b[0;34m\u001b[0m\u001b[0;34m\u001b[0m\u001b[0m\n\u001b[1;32m    213\u001b[0m                 \u001b[0;31m# this will only be called so long as convertible is True.\u001b[0m\u001b[0;34m\u001b[0m\u001b[0;34m\u001b[0m\u001b[0;34m\u001b[0m\u001b[0m\n",
      "\u001b[0;32m/opt/conda/lib/python3.9/site-packages/matplotlib/cbook/__init__.py\u001b[0m in \u001b[0;36m_check_isinstance\u001b[0;34m(_types, **kwargs)\u001b[0m\n\u001b[1;32m   2244\u001b[0m     \u001b[0;32mfor\u001b[0m \u001b[0mk\u001b[0m\u001b[0;34m,\u001b[0m \u001b[0mv\u001b[0m \u001b[0;32min\u001b[0m \u001b[0mkwargs\u001b[0m\u001b[0;34m.\u001b[0m\u001b[0mitems\u001b[0m\u001b[0;34m(\u001b[0m\u001b[0;34m)\u001b[0m\u001b[0;34m:\u001b[0m\u001b[0;34m\u001b[0m\u001b[0;34m\u001b[0m\u001b[0m\n\u001b[1;32m   2245\u001b[0m         \u001b[0;32mif\u001b[0m \u001b[0;32mnot\u001b[0m \u001b[0misinstance\u001b[0m\u001b[0;34m(\u001b[0m\u001b[0mv\u001b[0m\u001b[0;34m,\u001b[0m \u001b[0mtypes\u001b[0m\u001b[0;34m)\u001b[0m\u001b[0;34m:\u001b[0m\u001b[0;34m\u001b[0m\u001b[0;34m\u001b[0m\u001b[0m\n\u001b[0;32m-> 2246\u001b[0;31m             raise TypeError(\n\u001b[0m\u001b[1;32m   2247\u001b[0m                 \"{!r} must be an instance of {}, not a {}\".format(\n\u001b[1;32m   2248\u001b[0m                     \u001b[0mk\u001b[0m\u001b[0;34m,\u001b[0m\u001b[0;34m\u001b[0m\u001b[0;34m\u001b[0m\u001b[0m\n",
      "\u001b[0;31mTypeError\u001b[0m: 'value' must be an instance of str or bytes, not a float"
     ]
    },
    {
     "data": {
      "image/png": "[encoded data removed]",
      "text/plain": [
       "<Figure size 842.4x595.44 with 1 Axes>"
      ]
     },
     "metadata": {},
     "output_type": "display_data"
    }
   ],
   "source": [
    "for platform in data_slice_4.loc[data_slice_4['platform'] != 'PS4']['platform'].unique():\n",
    "    data_slice_4.loc[data_slice_4['platform'] == platform].plot(x='total_sales', y='critic_score', kind='scatter');\n",
    "    plt.show();\n",
    "    print(f'Корреляция между продажами внутри {platform} и оценкой критиков:', data_slice_4.loc[data_slice_4['platform'] == platform]['total_sales'].corr(data_slice_4.loc[data_slice_4['platform'] == platform]['critic_score'].astype('float')));\n",
    "    data_slice_4.loc[data_slice_4['platform'] == platform].plot(x='total_sales', y='user_score_x', kind='scatter');\n",
    "    plt.show();\n",
    "    print(f'Корреляция между продажами внутри {platform} и оценкой  пользователей:', data_slice_4.loc[data_slice_4['platform'] == platform]['total_sales'].corr(data_slice_4.loc[data_slice_4['platform'] == platform]['user_score_x'].astype('float')));"
   ]
  },
  {
   "cell_type": "markdown",
   "metadata": {},
   "source": [
    "Detected:\n",
    "\n",
    "Between sales and critical acclaim:\n",
    "- Positive linear connection inside the PC platform (0.6)\n",
    "- Positive linear connection inside the XOne platform (0.5)\n",
    "\n",
    "Between sales and user evaluation:\n",
    "- Weak negative linear coupling within the PS3 platform (-0.4)"
   ]
  },
  {
   "cell_type": "markdown",
   "metadata": {},
   "source": [
    "Let's look at the overall distribution of all games by genre in 2015."
   ]
  },
  {
   "cell_type": "code",
   "execution_count": 242,
   "metadata": {},
   "outputs": [
    {
     "data": {
      "image/png": "[encoded data removed]",
      "text/plain": [
       "<Figure size 1080x576 with 1 Axes>"
      ]
     },
     "metadata": {},
     "output_type": "display_data"
    }
   ],
   "source": [
    "data_slice_6 = data_slice_4.pivot_table(\n",
    "    index=['year_of_release', 'genre'],\n",
    "    values='total_sales',\n",
    "    aggfunc='mean'\n",
    ").reset_index().sort_values(by='total_sales', ascending=False)\n",
    "\n",
    "plt.figure(figsize=(15,8))\n",
    "ax_1 = sns.barplot(\n",
    "    x='year_of_release',\n",
    "    y='total_sales',\n",
    "    hue='genre',\n",
    "    data=data_slice_6   \n",
    ")\n"
   ]
  },
  {
   "cell_type": "markdown",
   "metadata": {},
   "source": [
    "The most profitable genres are: Shooter, Sports, Role-Playing, Platform, Racing. The least profitable ones are Strategy, Puzzle, Adventure, Action and Misc."
   ]
  },
  {
   "cell_type": "markdown",
   "metadata": {},
   "source": [
    "Let's identify the most popular (TOP 5) platforms within each region."
   ]
  },
  {
   "cell_type": "code",
   "execution_count": 243,
   "metadata": {},
   "outputs": [
    {
     "data": {
      "text/html": [
       "<div>\n",
       "<style scoped>\n",
       "    .dataframe tbody tr th:only-of-type {\n",
       "        vertical-align: middle;\n",
       "    }\n",
       "\n",
       "    .dataframe tbody tr th {\n",
       "        vertical-align: top;\n",
       "    }\n",
       "\n",
       "    .dataframe thead th {\n",
       "        text-align: right;\n",
       "    }\n",
       "</style>\n",
       "<table border=\"1\" class=\"dataframe\">\n",
       "  <thead>\n",
       "    <tr style=\"text-align: right;\">\n",
       "      <th></th>\n",
       "      <th>platform</th>\n",
       "      <th>na_sales</th>\n",
       "      <th>share</th>\n",
       "    </tr>\n",
       "  </thead>\n",
       "  <tbody>\n",
       "    <tr>\n",
       "      <th>3</th>\n",
       "      <td>PS4</td>\n",
       "      <td>42.37</td>\n",
       "      <td>39.7</td>\n",
       "    </tr>\n",
       "    <tr>\n",
       "      <th>9</th>\n",
       "      <td>XOne</td>\n",
       "      <td>36.03</td>\n",
       "      <td>33.7</td>\n",
       "    </tr>\n",
       "    <tr>\n",
       "      <th>8</th>\n",
       "      <td>X360</td>\n",
       "      <td>7.36</td>\n",
       "      <td>6.9</td>\n",
       "    </tr>\n",
       "    <tr>\n",
       "      <th>7</th>\n",
       "      <td>WiiU</td>\n",
       "      <td>6.76</td>\n",
       "      <td>6.3</td>\n",
       "    </tr>\n",
       "    <tr>\n",
       "      <th>0</th>\n",
       "      <td>3DS</td>\n",
       "      <td>6.17</td>\n",
       "      <td>5.8</td>\n",
       "    </tr>\n",
       "  </tbody>\n",
       "</table>\n",
       "</div>"
      ],
      "text/plain": [
       "  platform  na_sales  share\n",
       "3      PS4     42.37   39.7\n",
       "9     XOne     36.03   33.7\n",
       "8     X360      7.36    6.9\n",
       "7     WiiU      6.76    6.3\n",
       "0      3DS      6.17    5.8"
      ]
     },
     "execution_count": 243,
     "metadata": {},
     "output_type": "execute_result"
    }
   ],
   "source": [
    "data_slice_na = data_slice_4.pivot_table(index='platform', values='na_sales', aggfunc='sum').reset_index().sort_values(by='na_sales', ascending=False).head(5)\n",
    "data_slice_na['share'] = (data_slice_na['na_sales'] / data_slice_4['na_sales'].sum() * 100.0).round(1)\n",
    "data_slice_na"
   ]
  },
  {
   "cell_type": "code",
   "execution_count": 244,
   "metadata": {},
   "outputs": [
    {
     "data": {
      "text/html": [
       "<div>\n",
       "<style scoped>\n",
       "    .dataframe tbody tr th:only-of-type {\n",
       "        vertical-align: middle;\n",
       "    }\n",
       "\n",
       "    .dataframe tbody tr th {\n",
       "        vertical-align: top;\n",
       "    }\n",
       "\n",
       "    .dataframe thead th {\n",
       "        text-align: right;\n",
       "    }\n",
       "</style>\n",
       "<table border=\"1\" class=\"dataframe\">\n",
       "  <thead>\n",
       "    <tr style=\"text-align: right;\">\n",
       "      <th></th>\n",
       "      <th>platform</th>\n",
       "      <th>eu_sales</th>\n",
       "      <th>share</th>\n",
       "    </tr>\n",
       "  </thead>\n",
       "  <tbody>\n",
       "    <tr>\n",
       "      <th>3</th>\n",
       "      <td>PS4</td>\n",
       "      <td>51.76</td>\n",
       "      <td>53.5</td>\n",
       "    </tr>\n",
       "    <tr>\n",
       "      <th>9</th>\n",
       "      <td>XOne</td>\n",
       "      <td>18.47</td>\n",
       "      <td>19.1</td>\n",
       "    </tr>\n",
       "    <tr>\n",
       "      <th>2</th>\n",
       "      <td>PS3</td>\n",
       "      <td>6.04</td>\n",
       "      <td>6.2</td>\n",
       "    </tr>\n",
       "    <tr>\n",
       "      <th>1</th>\n",
       "      <td>PC</td>\n",
       "      <td>5.57</td>\n",
       "      <td>5.8</td>\n",
       "    </tr>\n",
       "    <tr>\n",
       "      <th>0</th>\n",
       "      <td>3DS</td>\n",
       "      <td>5.06</td>\n",
       "      <td>5.2</td>\n",
       "    </tr>\n",
       "  </tbody>\n",
       "</table>\n",
       "</div>"
      ],
      "text/plain": [
       "  platform  eu_sales  share\n",
       "3      PS4     51.76   53.5\n",
       "9     XOne     18.47   19.1\n",
       "2      PS3      6.04    6.2\n",
       "1       PC      5.57    5.8\n",
       "0      3DS      5.06    5.2"
      ]
     },
     "execution_count": 244,
     "metadata": {},
     "output_type": "execute_result"
    }
   ],
   "source": [
    "data_slice_eu = data_slice_4.pivot_table(index='platform', values='eu_sales', aggfunc='sum').reset_index().sort_values(by='eu_sales', ascending=False).head(5)\n",
    "data_slice_eu['share'] = (data_slice_eu['eu_sales'] / data_slice_4['eu_sales'].sum() * 100.0).round(1)\n",
    "data_slice_eu"
   ]
  },
  {
   "cell_type": "code",
   "execution_count": 245,
   "metadata": {},
   "outputs": [
    {
     "data": {
      "text/html": [
       "<div>\n",
       "<style scoped>\n",
       "    .dataframe tbody tr th:only-of-type {\n",
       "        vertical-align: middle;\n",
       "    }\n",
       "\n",
       "    .dataframe tbody tr th {\n",
       "        vertical-align: top;\n",
       "    }\n",
       "\n",
       "    .dataframe thead th {\n",
       "        text-align: right;\n",
       "    }\n",
       "</style>\n",
       "<table border=\"1\" class=\"dataframe\">\n",
       "  <thead>\n",
       "    <tr style=\"text-align: right;\">\n",
       "      <th></th>\n",
       "      <th>platform</th>\n",
       "      <th>jp_sales</th>\n",
       "      <th>share</th>\n",
       "    </tr>\n",
       "  </thead>\n",
       "  <tbody>\n",
       "    <tr>\n",
       "      <th>0</th>\n",
       "      <td>3DS</td>\n",
       "      <td>15.52</td>\n",
       "      <td>45.5</td>\n",
       "    </tr>\n",
       "    <tr>\n",
       "      <th>3</th>\n",
       "      <td>PS4</td>\n",
       "      <td>6.31</td>\n",
       "      <td>18.5</td>\n",
       "    </tr>\n",
       "    <tr>\n",
       "      <th>5</th>\n",
       "      <td>PSV</td>\n",
       "      <td>4.85</td>\n",
       "      <td>14.2</td>\n",
       "    </tr>\n",
       "    <tr>\n",
       "      <th>2</th>\n",
       "      <td>PS3</td>\n",
       "      <td>3.67</td>\n",
       "      <td>10.8</td>\n",
       "    </tr>\n",
       "    <tr>\n",
       "      <th>7</th>\n",
       "      <td>WiiU</td>\n",
       "      <td>3.45</td>\n",
       "      <td>10.1</td>\n",
       "    </tr>\n",
       "  </tbody>\n",
       "</table>\n",
       "</div>"
      ],
      "text/plain": [
       "  platform  jp_sales  share\n",
       "0      3DS     15.52   45.5\n",
       "3      PS4      6.31   18.5\n",
       "5      PSV      4.85   14.2\n",
       "2      PS3      3.67   10.8\n",
       "7     WiiU      3.45   10.1"
      ]
     },
     "execution_count": 245,
     "metadata": {},
     "output_type": "execute_result"
    }
   ],
   "source": [
    "data_slice_jp = data_slice_4.pivot_table(index='platform', values='jp_sales', aggfunc='sum').reset_index().sort_values(by='jp_sales', ascending=False).head(5)\n",
    "data_slice_jp['share'] = (data_slice_jp['jp_sales'] / data_slice_4['jp_sales'].sum() * 100.0).round(1)\n",
    "data_slice_jp"
   ]
  },
  {
   "cell_type": "markdown",
   "metadata": {},
   "source": [
    "In North America, about 75% of all sales are distributed between PS4 and XOne. In Europe, more than half is accounted for by PS4, 19% by XOne, in Japan the most popular platform is 3DS (46%), followed by PS4, PSV, PS3 and WiiU - 19%, 14%, 11 and 10% respectively."
   ]
  },
  {
   "cell_type": "markdown",
   "metadata": {},
   "source": [
    "Let's identify the most popular (TOP 5) genres within each region."
   ]
  },
  {
   "cell_type": "code",
   "execution_count": 246,
   "metadata": {},
   "outputs": [
    {
     "data": {
      "text/html": [
       "<div>\n",
       "<style scoped>\n",
       "    .dataframe tbody tr th:only-of-type {\n",
       "        vertical-align: middle;\n",
       "    }\n",
       "\n",
       "    .dataframe tbody tr th {\n",
       "        vertical-align: top;\n",
       "    }\n",
       "\n",
       "    .dataframe thead th {\n",
       "        text-align: right;\n",
       "    }\n",
       "</style>\n",
       "<table border=\"1\" class=\"dataframe\">\n",
       "  <thead>\n",
       "    <tr style=\"text-align: right;\">\n",
       "      <th></th>\n",
       "      <th>genre</th>\n",
       "      <th>na_sales</th>\n",
       "      <th>share</th>\n",
       "    </tr>\n",
       "  </thead>\n",
       "  <tbody>\n",
       "    <tr>\n",
       "      <th>8</th>\n",
       "      <td>Shooter</td>\n",
       "      <td>31.94</td>\n",
       "      <td>29.9</td>\n",
       "    </tr>\n",
       "    <tr>\n",
       "      <th>0</th>\n",
       "      <td>Action</td>\n",
       "      <td>24.39</td>\n",
       "      <td>22.8</td>\n",
       "    </tr>\n",
       "    <tr>\n",
       "      <th>10</th>\n",
       "      <td>Sports</td>\n",
       "      <td>18.77</td>\n",
       "      <td>17.6</td>\n",
       "    </tr>\n",
       "    <tr>\n",
       "      <th>7</th>\n",
       "      <td>Role-Playing</td>\n",
       "      <td>13.93</td>\n",
       "      <td>13.0</td>\n",
       "    </tr>\n",
       "    <tr>\n",
       "      <th>3</th>\n",
       "      <td>Misc</td>\n",
       "      <td>4.82</td>\n",
       "      <td>4.5</td>\n",
       "    </tr>\n",
       "  </tbody>\n",
       "</table>\n",
       "</div>"
      ],
      "text/plain": [
       "           genre  na_sales  share\n",
       "8        Shooter     31.94   29.9\n",
       "0         Action     24.39   22.8\n",
       "10        Sports     18.77   17.6\n",
       "7   Role-Playing     13.93   13.0\n",
       "3           Misc      4.82    4.5"
      ]
     },
     "execution_count": 246,
     "metadata": {},
     "output_type": "execute_result"
    }
   ],
   "source": [
    "data_slice_na_genre = data_slice_4.pivot_table(index='genre', values='na_sales', aggfunc='sum').reset_index().sort_values(by='na_sales', ascending=False).head(5)\n",
    "data_slice_na_genre['share'] = (data_slice_na_genre['na_sales'] / data_slice_4['na_sales'].sum() * 100.0).round(1)\n",
    "data_slice_na_genre"
   ]
  },
  {
   "cell_type": "code",
   "execution_count": 247,
   "metadata": {},
   "outputs": [
    {
     "data": {
      "text/html": [
       "<div>\n",
       "<style scoped>\n",
       "    .dataframe tbody tr th:only-of-type {\n",
       "        vertical-align: middle;\n",
       "    }\n",
       "\n",
       "    .dataframe tbody tr th {\n",
       "        vertical-align: top;\n",
       "    }\n",
       "\n",
       "    .dataframe thead th {\n",
       "        text-align: right;\n",
       "    }\n",
       "</style>\n",
       "<table border=\"1\" class=\"dataframe\">\n",
       "  <thead>\n",
       "    <tr style=\"text-align: right;\">\n",
       "      <th></th>\n",
       "      <th>genre</th>\n",
       "      <th>eu_sales</th>\n",
       "      <th>share</th>\n",
       "    </tr>\n",
       "  </thead>\n",
       "  <tbody>\n",
       "    <tr>\n",
       "      <th>8</th>\n",
       "      <td>Shooter</td>\n",
       "      <td>24.38</td>\n",
       "      <td>25.2</td>\n",
       "    </tr>\n",
       "    <tr>\n",
       "      <th>0</th>\n",
       "      <td>Action</td>\n",
       "      <td>24.14</td>\n",
       "      <td>25.0</td>\n",
       "    </tr>\n",
       "    <tr>\n",
       "      <th>10</th>\n",
       "      <td>Sports</td>\n",
       "      <td>15.81</td>\n",
       "      <td>16.3</td>\n",
       "    </tr>\n",
       "    <tr>\n",
       "      <th>7</th>\n",
       "      <td>Role-Playing</td>\n",
       "      <td>12.93</td>\n",
       "      <td>13.4</td>\n",
       "    </tr>\n",
       "    <tr>\n",
       "      <th>6</th>\n",
       "      <td>Racing</td>\n",
       "      <td>4.75</td>\n",
       "      <td>4.9</td>\n",
       "    </tr>\n",
       "  </tbody>\n",
       "</table>\n",
       "</div>"
      ],
      "text/plain": [
       "           genre  eu_sales  share\n",
       "8        Shooter     24.38   25.2\n",
       "0         Action     24.14   25.0\n",
       "10        Sports     15.81   16.3\n",
       "7   Role-Playing     12.93   13.4\n",
       "6         Racing      4.75    4.9"
      ]
     },
     "execution_count": 247,
     "metadata": {},
     "output_type": "execute_result"
    }
   ],
   "source": [
    "data_slice_eu_genre = data_slice_4.pivot_table(index='genre', values='eu_sales', aggfunc='sum').reset_index().sort_values(by='eu_sales', ascending=False).head(5)\n",
    "data_slice_eu_genre['share'] = (data_slice_eu_genre['eu_sales'] / data_slice_4['eu_sales'].sum() * 100.0).round(1)\n",
    "data_slice_eu_genre"
   ]
  },
  {
   "cell_type": "code",
   "execution_count": 248,
   "metadata": {},
   "outputs": [
    {
     "data": {
      "text/html": [
       "<div>\n",
       "<style scoped>\n",
       "    .dataframe tbody tr th:only-of-type {\n",
       "        vertical-align: middle;\n",
       "    }\n",
       "\n",
       "    .dataframe tbody tr th {\n",
       "        vertical-align: top;\n",
       "    }\n",
       "\n",
       "    .dataframe thead th {\n",
       "        text-align: right;\n",
       "    }\n",
       "</style>\n",
       "<table border=\"1\" class=\"dataframe\">\n",
       "  <thead>\n",
       "    <tr style=\"text-align: right;\">\n",
       "      <th></th>\n",
       "      <th>genre</th>\n",
       "      <th>jp_sales</th>\n",
       "      <th>share</th>\n",
       "    </tr>\n",
       "  </thead>\n",
       "  <tbody>\n",
       "    <tr>\n",
       "      <th>0</th>\n",
       "      <td>Action</td>\n",
       "      <td>15.98</td>\n",
       "      <td>46.9</td>\n",
       "    </tr>\n",
       "    <tr>\n",
       "      <th>7</th>\n",
       "      <td>Role-Playing</td>\n",
       "      <td>6.80</td>\n",
       "      <td>19.9</td>\n",
       "    </tr>\n",
       "    <tr>\n",
       "      <th>8</th>\n",
       "      <td>Shooter</td>\n",
       "      <td>2.73</td>\n",
       "      <td>8.0</td>\n",
       "    </tr>\n",
       "    <tr>\n",
       "      <th>3</th>\n",
       "      <td>Misc</td>\n",
       "      <td>2.15</td>\n",
       "      <td>6.3</td>\n",
       "    </tr>\n",
       "    <tr>\n",
       "      <th>9</th>\n",
       "      <td>Simulation</td>\n",
       "      <td>1.60</td>\n",
       "      <td>4.7</td>\n",
       "    </tr>\n",
       "  </tbody>\n",
       "</table>\n",
       "</div>"
      ],
      "text/plain": [
       "          genre  jp_sales  share\n",
       "0        Action     15.98   46.9\n",
       "7  Role-Playing      6.80   19.9\n",
       "8       Shooter      2.73    8.0\n",
       "3          Misc      2.15    6.3\n",
       "9    Simulation      1.60    4.7"
      ]
     },
     "execution_count": 248,
     "metadata": {},
     "output_type": "execute_result"
    }
   ],
   "source": [
    "data_slice_jp_genre = data_slice_4.pivot_table(index='genre', values='jp_sales', aggfunc='sum').reset_index().sort_values(by='jp_sales', ascending=False).head(5)\n",
    "data_slice_jp_genre['share'] = (data_slice_jp_genre['jp_sales'] / data_slice_4['jp_sales'].sum() * 100.0).round(1)\n",
    "data_slice_jp_genre"
   ]
  },
  {
   "cell_type": "markdown",
   "metadata": {},
   "source": [
    "In North America, about 50% of all sales are distributed between Shooter and Action. In Europe, similarly, in Japan, the most popular genre is Action (47%), in second place is Role_Playing (20%)."
   ]
  },
  {
   "cell_type": "markdown",
   "metadata": {},
   "source": [
    "Let's check whether the ESRB rating affects sales in a particular region."
   ]
  },
  {
   "cell_type": "code",
   "execution_count": 251,
   "metadata": {},
   "outputs": [
    {
     "data": {
      "text/plain": [
       "array(['no_rating', 'E', 'M', 'T', 'E10+'], dtype=object)"
      ]
     },
     "execution_count": 251,
     "metadata": {},
     "output_type": "execute_result"
    }
   ],
   "source": [
    "data_slice_4['rating'] = data_slice_4['rating'].fillna('no_rating')\n",
    "data_slice_4['rating'].unique()"
   ]
  },
  {
   "cell_type": "code",
   "execution_count": 252,
   "metadata": {},
   "outputs": [
    {
     "data": {
      "image/png": "[encoded data removed]",
      "text/plain": [
       "<Figure size 842.4x595.44 with 1 Axes>"
      ]
     },
     "metadata": {},
     "output_type": "display_data"
    },
    {
     "data": {
      "text/plain": [
       "<Figure size 1080x576 with 0 Axes>"
      ]
     },
     "metadata": {},
     "output_type": "display_data"
    }
   ],
   "source": [
    "ax_na = data_slice_4.pivot_table(index='rating', values='na_sales', aggfunc='sum').reset_index().plot(x='rating', y='na_sales')\n",
    "\n",
    "plt.figure(figsize=(15,8))\n",
    "ax_eu = data_slice_4.pivot_table(index='rating', values='eu_sales', aggfunc='sum').reset_index().plot(x='rating', y='eu_sales', ax=ax_na)\n",
    "ax_jp = data_slice_4.pivot_table(index='rating', values='jp_sales', aggfunc='sum').reset_index().plot(x='rating', y='jp_sales', ax=ax_na)"
   ]
  },
  {
   "cell_type": "markdown",
   "metadata": {},
   "source": [
    "Apparently, in the regions of North America and Europe, the peak of sales falls on the M rating, and the decline is on the E10+. The same trend can be seen in Japan, but with less significant variations. However, in Japan, unrated games account for the most sales."
   ]
  },
  {
   "cell_type": "markdown",
   "metadata": {},
   "source": [
    "Let's check the H0 hypothesis: The average user ratings of the XBox and PC platforms are the same.\n",
    "Hypothesis H1: The average user ratings of the XBox and PC platforms are not the same.\n",
    "I chose a st.ttest_ind method to estimate the average of two general populations from the samples taken from them. The 1st consists strictly of elements related to the XOne platform, the 2nd - to the PC platform. GP are independent of each other and are not paired, therefore, the appropriate method is chosen."
   ]
  },
  {
   "cell_type": "code",
   "execution_count": 253,
   "metadata": {},
   "outputs": [],
   "source": [
    "from scipy import stats as st"
   ]
  },
  {
   "cell_type": "code",
   "execution_count": 261,
   "metadata": {},
   "outputs": [
    {
     "name": "stdout",
     "output_type": "stream",
     "text": [
      "H0 не отвергается\n",
      "0.6110873430840089\n"
     ]
    }
   ],
   "source": [
    "\n",
    "results = st.ttest_ind(data_slice_4.loc[data_slice_4['platform'] == 'XOne']['user_score_x'].dropna().astype('float'), data_slice_4.loc[data_slice_4['platform'] == 'PC']['user_score_x'].dropna().astype('float'), equal_var=False)\n",
    "alpha = 0.5\n",
    "if results.pvalue < alpha:\n",
    "    print('H0 отвергается')\n",
    "else:\n",
    "    print('H0 не отвергается')\n",
    "print(results.pvalue)"
   ]
  },
  {
   "cell_type": "code",
   "execution_count": 8,
   "metadata": {},
   "outputs": [],
   "source": [
    "# H0 not rejected"
   ]
  },
  {
   "cell_type": "markdown",
   "metadata": {},
   "source": [
    "Let's check the H0 hypothesis: The average user ratings of the Action and Sports genres are the same.\n",
    "Hypothesis H1: The average user ratings of the Action and Sports genres are not the same."
   ]
  },
  {
   "cell_type": "code",
   "execution_count": 262,
   "metadata": {},
   "outputs": [
    {
     "name": "stdout",
     "output_type": "stream",
     "text": [
      "H0 отвергается\n"
     ]
    },
    {
     "data": {
      "text/plain": [
       "1.0671282508692984e-07"
      ]
     },
     "execution_count": 262,
     "metadata": {},
     "output_type": "execute_result"
    }
   ],
   "source": [
    "results = st.ttest_ind(data_slice_4.loc[data_slice_4['genre'] == 'Action']['user_score_x'].dropna().astype('float'), data_slice_4.loc[data_slice_4['genre'] == 'Sports']['user_score_x'].dropna().astype('float'), equal_var=False)\n",
    "alpha = 0.5\n",
    "\n",
    "if results.pvalue < alpha:\n",
    "    print('H0 отвергается')\n",
    "else:\n",
    "    print('H0 не отвергается')\n",
    "results.pvalue"
   ]
  },
  {
   "cell_type": "code",
   "execution_count": 7,
   "metadata": {},
   "outputs": [],
   "source": [
    "# H0 rejected"
   ]
  },
  {
   "cell_type": "markdown",
   "metadata": {},
   "source": [
    "The analysis commenced with dataset exploration and preprocessing. The dataset was loaded, column names were standardized to lowercase, and missing values in the 'year_of_release' column were dropped, followed by the conversion of its datatype to integer. Additionally, the 'user_score' column was converted to float, and 'tbd' values were replaced with NaN. A median user score was computed for each genre and filled in for missing 'tbd' values. \n",
    "\n",
    "The total sales across all regions were aggregated and recorded in a new column. Next, the distribution of game releases per year was analyzed, considering only years with a release count of at least 338 games, the median value. The evolution of sales by platform was examined, and the top five platforms by total sales were identified.\n",
    "\n",
    "For the forecast of 2017, 2015 data were utilized due to their completeness and proximity to the median and average total sales across all platforms for the entire period. The most successful platforms in 2015 were determined, accounting for 90% of all sales, with the PS4 leading.\n",
    "\n",
    "A box-and-whiskers diagram illustrated the distribution of global game sales by platform, showing left-skewed distributions with notable outliers. Correlation analyses were conducted between sales and critic/user scores, revealing weak positive linear correlation with critic scores on the PS4 platform and no significant correlation with user scores.\n",
    "\n",
    "The relationship between ratings and sales on other platforms was explored, identifying varying correlations across platforms and rating types. Genre-wise sales distributions in 2015 were visualized, highlighting Shooter, Sports, and Role-Playing genres as most profitable.\n",
    "\n",
    "The most popular platforms and genres within each region were identified, showcasing regional preferences. Additionally, the influence of ESRB ratings on sales in different regions was examined, indicating varying trends across regions.\n",
    "\n",
    "Finally, hypothesis testing was performed to compare average user ratings between platforms and genres, with results suggesting significant differences between certain pairs. Specifically, the average user ratings differed between XBox and PC genres, but not between Action and Sports platforms."
   ]
  }
 ],
 "metadata": {
  "ExecuteTimeLog": [
   {
    "duration": 381,
    "start_time": "2023-02-24T09:19:44.943Z"
   },
   {
    "duration": 199,
    "start_time": "2023-02-24T09:25:40.514Z"
   },
   {
    "duration": 26,
    "start_time": "2023-02-24T09:25:55.487Z"
   },
   {
    "duration": 61,
    "start_time": "2023-02-24T09:26:13.579Z"
   },
   {
    "duration": 4,
    "start_time": "2023-02-24T09:26:18.086Z"
   },
   {
    "duration": 4,
    "start_time": "2023-02-24T09:28:15.172Z"
   },
   {
    "duration": 6,
    "start_time": "2023-02-24T09:28:31.696Z"
   },
   {
    "duration": 75,
    "start_time": "2023-02-24T09:32:24.893Z"
   },
   {
    "duration": 4,
    "start_time": "2023-02-24T09:33:54.199Z"
   },
   {
    "duration": 8,
    "start_time": "2023-02-24T09:36:11.431Z"
   },
   {
    "duration": 3,
    "start_time": "2023-02-24T09:36:23.171Z"
   },
   {
    "duration": 5,
    "start_time": "2023-02-24T09:36:33.432Z"
   },
   {
    "duration": 3,
    "start_time": "2023-02-24T09:36:49.182Z"
   },
   {
    "duration": 7,
    "start_time": "2023-02-24T09:37:52.695Z"
   },
   {
    "duration": 6,
    "start_time": "2023-02-24T09:37:59.202Z"
   },
   {
    "duration": 4,
    "start_time": "2023-02-24T09:38:35.927Z"
   },
   {
    "duration": 23,
    "start_time": "2023-02-24T09:40:38.320Z"
   },
   {
    "duration": 18,
    "start_time": "2023-02-24T09:41:11.733Z"
   },
   {
    "duration": 15,
    "start_time": "2023-02-24T09:41:45.119Z"
   },
   {
    "duration": 12,
    "start_time": "2023-02-24T09:41:51.429Z"
   },
   {
    "duration": 11,
    "start_time": "2023-02-24T09:42:12.987Z"
   },
   {
    "duration": 31,
    "start_time": "2023-02-24T09:42:17.306Z"
   },
   {
    "duration": 28,
    "start_time": "2023-02-24T09:42:24.267Z"
   },
   {
    "duration": 15,
    "start_time": "2023-02-24T09:43:31.552Z"
   },
   {
    "duration": 14,
    "start_time": "2023-02-24T09:44:13.211Z"
   },
   {
    "duration": 11,
    "start_time": "2023-02-24T09:44:55.160Z"
   },
   {
    "duration": 5,
    "start_time": "2023-02-24T09:45:27.005Z"
   },
   {
    "duration": 7,
    "start_time": "2023-02-24T09:45:57.344Z"
   },
   {
    "duration": 7,
    "start_time": "2023-02-24T09:46:04.590Z"
   },
   {
    "duration": 11,
    "start_time": "2023-02-24T09:46:12.209Z"
   },
   {
    "duration": 5,
    "start_time": "2023-02-24T09:46:24.147Z"
   },
   {
    "duration": 10,
    "start_time": "2023-02-24T09:46:44.979Z"
   },
   {
    "duration": 7,
    "start_time": "2023-02-24T09:46:51.921Z"
   },
   {
    "duration": 12,
    "start_time": "2023-02-24T09:47:11.996Z"
   },
   {
    "duration": 12,
    "start_time": "2023-02-24T09:48:03.731Z"
   },
   {
    "duration": 13,
    "start_time": "2023-02-24T09:48:32.404Z"
   },
   {
    "duration": 7,
    "start_time": "2023-02-24T09:48:41.284Z"
   },
   {
    "duration": 13,
    "start_time": "2023-02-24T09:49:03.715Z"
   },
   {
    "duration": 7,
    "start_time": "2023-02-24T09:49:20.083Z"
   },
   {
    "duration": 6,
    "start_time": "2023-02-24T09:49:26.728Z"
   },
   {
    "duration": 11,
    "start_time": "2023-02-24T09:49:43.733Z"
   },
   {
    "duration": 7,
    "start_time": "2023-02-24T09:52:21.744Z"
   },
   {
    "duration": 3,
    "start_time": "2023-02-24T09:52:30.609Z"
   },
   {
    "duration": 82,
    "start_time": "2023-02-24T09:52:30.614Z"
   },
   {
    "duration": 28,
    "start_time": "2023-02-24T09:52:30.698Z"
   },
   {
    "duration": 50,
    "start_time": "2023-02-24T09:52:30.728Z"
   },
   {
    "duration": 6,
    "start_time": "2023-02-24T09:52:38.049Z"
   },
   {
    "duration": 7,
    "start_time": "2023-02-24T09:52:44.749Z"
   },
   {
    "duration": 5,
    "start_time": "2023-02-24T09:52:47.612Z"
   },
   {
    "duration": 4,
    "start_time": "2023-02-24T09:53:04.175Z"
   },
   {
    "duration": 9,
    "start_time": "2023-02-24T09:53:14.032Z"
   },
   {
    "duration": 19,
    "start_time": "2023-02-24T09:53:19.227Z"
   },
   {
    "duration": 16,
    "start_time": "2023-02-24T09:53:34.350Z"
   },
   {
    "duration": 3,
    "start_time": "2023-02-24T09:54:43.238Z"
   },
   {
    "duration": 12,
    "start_time": "2023-02-24T09:56:03.080Z"
   },
   {
    "duration": 15,
    "start_time": "2023-02-24T09:56:19.668Z"
   },
   {
    "duration": 3,
    "start_time": "2023-02-24T10:00:10.255Z"
   },
   {
    "duration": 5,
    "start_time": "2023-02-24T10:00:23.937Z"
   },
   {
    "duration": 5,
    "start_time": "2023-02-24T10:00:35.484Z"
   },
   {
    "duration": 10,
    "start_time": "2023-02-24T10:01:59.825Z"
   },
   {
    "duration": 4,
    "start_time": "2023-02-24T10:02:24.740Z"
   },
   {
    "duration": 4,
    "start_time": "2023-02-24T10:02:30.022Z"
   },
   {
    "duration": 4,
    "start_time": "2023-02-24T10:02:37.187Z"
   },
   {
    "duration": 9,
    "start_time": "2023-02-24T10:03:45.243Z"
   },
   {
    "duration": 336,
    "start_time": "2023-02-24T10:04:28.034Z"
   },
   {
    "duration": 320,
    "start_time": "2023-02-24T10:04:30.528Z"
   },
   {
    "duration": 381,
    "start_time": "2023-02-24T10:04:56.564Z"
   },
   {
    "duration": 6,
    "start_time": "2023-02-24T10:05:15.821Z"
   },
   {
    "duration": 2,
    "start_time": "2023-02-24T10:05:24.175Z"
   },
   {
    "duration": 56,
    "start_time": "2023-02-24T10:05:24.179Z"
   },
   {
    "duration": 29,
    "start_time": "2023-02-24T10:05:24.236Z"
   },
   {
    "duration": 16,
    "start_time": "2023-02-24T10:05:24.267Z"
   },
   {
    "duration": 9,
    "start_time": "2023-02-24T10:05:24.285Z"
   },
   {
    "duration": 414,
    "start_time": "2023-02-24T10:05:44.746Z"
   },
   {
    "duration": 7,
    "start_time": "2023-02-24T10:06:10.730Z"
   },
   {
    "duration": 12,
    "start_time": "2023-02-24T10:06:27.954Z"
   },
   {
    "duration": 21,
    "start_time": "2023-02-24T10:07:03.532Z"
   },
   {
    "duration": 1193,
    "start_time": "2023-02-24T10:09:15.788Z"
   },
   {
    "duration": 17,
    "start_time": "2023-02-24T10:10:17.031Z"
   },
   {
    "duration": 14,
    "start_time": "2023-02-24T10:11:16.771Z"
   },
   {
    "duration": 34,
    "start_time": "2023-02-24T10:11:32.874Z"
   },
   {
    "duration": 10,
    "start_time": "2023-02-24T10:11:56.473Z"
   },
   {
    "duration": 17,
    "start_time": "2023-02-24T10:12:12.003Z"
   },
   {
    "duration": 33,
    "start_time": "2023-02-24T10:15:26.233Z"
   },
   {
    "duration": 371,
    "start_time": "2023-02-24T10:16:50.909Z"
   },
   {
    "duration": 315,
    "start_time": "2023-02-24T10:17:01.201Z"
   },
   {
    "duration": 358,
    "start_time": "2023-02-24T10:17:24.415Z"
   },
   {
    "duration": 297,
    "start_time": "2023-02-24T10:22:40.365Z"
   },
   {
    "duration": 284,
    "start_time": "2023-02-24T10:23:10.650Z"
   },
   {
    "duration": 17,
    "start_time": "2023-02-24T10:23:50.845Z"
   },
   {
    "duration": 10,
    "start_time": "2023-02-24T10:24:00.810Z"
   },
   {
    "duration": 13,
    "start_time": "2023-02-24T10:24:09.203Z"
   },
   {
    "duration": 18,
    "start_time": "2023-02-24T10:24:25.186Z"
   },
   {
    "duration": 3,
    "start_time": "2023-02-24T10:24:30.157Z"
   },
   {
    "duration": 82,
    "start_time": "2023-02-24T10:24:30.162Z"
   },
   {
    "duration": 31,
    "start_time": "2023-02-24T10:24:30.246Z"
   },
   {
    "duration": 15,
    "start_time": "2023-02-24T10:24:30.279Z"
   },
   {
    "duration": 27,
    "start_time": "2023-02-24T10:24:30.296Z"
   },
   {
    "duration": 20,
    "start_time": "2023-02-24T10:29:01.444Z"
   },
   {
    "duration": 3,
    "start_time": "2023-02-24T10:30:26.246Z"
   },
   {
    "duration": 60,
    "start_time": "2023-02-24T10:30:26.250Z"
   },
   {
    "duration": 45,
    "start_time": "2023-02-24T10:30:26.311Z"
   },
   {
    "duration": 15,
    "start_time": "2023-02-24T10:30:26.358Z"
   },
   {
    "duration": 6,
    "start_time": "2023-02-24T10:30:26.375Z"
   },
   {
    "duration": 11,
    "start_time": "2023-02-24T10:30:32.383Z"
   },
   {
    "duration": 461,
    "start_time": "2023-02-24T14:00:16.076Z"
   },
   {
    "duration": 237,
    "start_time": "2023-02-24T14:00:16.540Z"
   },
   {
    "duration": 42,
    "start_time": "2023-02-24T14:00:16.779Z"
   },
   {
    "duration": 14,
    "start_time": "2023-02-24T14:00:16.824Z"
   },
   {
    "duration": 5,
    "start_time": "2023-02-24T14:00:16.840Z"
   },
   {
    "duration": 13,
    "start_time": "2023-02-24T14:00:16.846Z"
   },
   {
    "duration": 119,
    "start_time": "2023-02-24T14:05:31.961Z"
   },
   {
    "duration": 22,
    "start_time": "2023-02-24T14:06:22.574Z"
   },
   {
    "duration": 15,
    "start_time": "2023-02-24T14:08:15.911Z"
   },
   {
    "duration": 66,
    "start_time": "2023-02-24T14:08:38.806Z"
   },
   {
    "duration": 81,
    "start_time": "2023-02-24T14:08:43.078Z"
   },
   {
    "duration": 7,
    "start_time": "2023-02-24T14:11:31.716Z"
   },
   {
    "duration": 7,
    "start_time": "2023-02-24T14:11:35.719Z"
   },
   {
    "duration": 22,
    "start_time": "2023-02-24T14:11:42.156Z"
   },
   {
    "duration": 21,
    "start_time": "2023-02-24T14:12:07.942Z"
   },
   {
    "duration": 18,
    "start_time": "2023-02-24T14:12:39.146Z"
   },
   {
    "duration": 25,
    "start_time": "2023-02-24T14:13:09.780Z"
   },
   {
    "duration": 11,
    "start_time": "2023-02-24T14:13:30.276Z"
   },
   {
    "duration": 22,
    "start_time": "2023-02-24T14:13:37.300Z"
   },
   {
    "duration": 14,
    "start_time": "2023-02-24T14:13:45.464Z"
   },
   {
    "duration": 21,
    "start_time": "2023-02-24T14:14:25.377Z"
   },
   {
    "duration": 17,
    "start_time": "2023-02-24T14:14:27.037Z"
   },
   {
    "duration": 17,
    "start_time": "2023-02-24T14:14:53.327Z"
   },
   {
    "duration": 25,
    "start_time": "2023-02-24T14:15:28.111Z"
   },
   {
    "duration": 28,
    "start_time": "2023-02-24T14:15:36.008Z"
   },
   {
    "duration": 21,
    "start_time": "2023-02-24T14:16:09.775Z"
   },
   {
    "duration": 9,
    "start_time": "2023-02-24T14:16:19.105Z"
   },
   {
    "duration": 8,
    "start_time": "2023-02-24T14:17:28.284Z"
   },
   {
    "duration": 17,
    "start_time": "2023-02-24T14:17:34.907Z"
   },
   {
    "duration": 16,
    "start_time": "2023-02-24T14:18:47.340Z"
   },
   {
    "duration": 20,
    "start_time": "2023-02-24T14:19:54.741Z"
   },
   {
    "duration": 17,
    "start_time": "2023-02-24T14:20:16.828Z"
   },
   {
    "duration": 9,
    "start_time": "2023-02-24T14:21:12.156Z"
   },
   {
    "duration": 11,
    "start_time": "2023-02-24T14:21:37.306Z"
   },
   {
    "duration": 9,
    "start_time": "2023-02-24T14:22:26.839Z"
   },
   {
    "duration": 23,
    "start_time": "2023-02-24T14:22:38.485Z"
   },
   {
    "duration": 11,
    "start_time": "2023-02-24T14:22:53.325Z"
   },
   {
    "duration": 14,
    "start_time": "2023-02-24T14:23:25.809Z"
   },
   {
    "duration": 12,
    "start_time": "2023-02-24T14:23:28.234Z"
   },
   {
    "duration": 9,
    "start_time": "2023-02-24T14:23:35.725Z"
   },
   {
    "duration": 14,
    "start_time": "2023-02-24T14:23:40.747Z"
   },
   {
    "duration": 16,
    "start_time": "2023-02-24T14:24:18.906Z"
   },
   {
    "duration": 25,
    "start_time": "2023-02-24T14:25:53.824Z"
   },
   {
    "duration": 12,
    "start_time": "2023-02-24T14:26:01.843Z"
   },
   {
    "duration": 12,
    "start_time": "2023-02-24T14:30:24.854Z"
   },
   {
    "duration": 16,
    "start_time": "2023-02-24T14:30:30.999Z"
   },
   {
    "duration": 15,
    "start_time": "2023-02-24T14:30:47.653Z"
   },
   {
    "duration": 15,
    "start_time": "2023-02-24T14:31:03.774Z"
   },
   {
    "duration": 13,
    "start_time": "2023-02-24T14:31:13.165Z"
   },
   {
    "duration": 17,
    "start_time": "2023-02-24T14:31:26.293Z"
   },
   {
    "duration": 16,
    "start_time": "2023-02-24T14:31:44.372Z"
   },
   {
    "duration": 12,
    "start_time": "2023-02-24T14:32:23.561Z"
   },
   {
    "duration": 15,
    "start_time": "2023-02-24T14:32:29.924Z"
   },
   {
    "duration": 16,
    "start_time": "2023-02-24T14:33:01.211Z"
   },
   {
    "duration": 13,
    "start_time": "2023-02-24T14:33:21.485Z"
   },
   {
    "duration": 15,
    "start_time": "2023-02-24T14:33:31.301Z"
   },
   {
    "duration": 16,
    "start_time": "2023-02-24T14:33:38.864Z"
   },
   {
    "duration": 3,
    "start_time": "2023-02-24T14:33:42.042Z"
   },
   {
    "duration": 141,
    "start_time": "2023-02-24T14:33:42.047Z"
   },
   {
    "duration": 28,
    "start_time": "2023-02-24T14:33:42.190Z"
   },
   {
    "duration": 14,
    "start_time": "2023-02-24T14:33:42.220Z"
   },
   {
    "duration": 4,
    "start_time": "2023-02-24T14:33:42.237Z"
   },
   {
    "duration": 10,
    "start_time": "2023-02-24T14:33:42.242Z"
   },
   {
    "duration": 15,
    "start_time": "2023-02-24T14:33:49.064Z"
   },
   {
    "duration": 11,
    "start_time": "2023-02-24T14:37:00.077Z"
   },
   {
    "duration": 3,
    "start_time": "2023-02-24T14:37:05.341Z"
   },
   {
    "duration": 68,
    "start_time": "2023-02-24T14:37:05.346Z"
   },
   {
    "duration": 29,
    "start_time": "2023-02-24T14:37:05.416Z"
   },
   {
    "duration": 17,
    "start_time": "2023-02-24T14:37:05.447Z"
   },
   {
    "duration": 25,
    "start_time": "2023-02-24T14:37:05.466Z"
   },
   {
    "duration": 12,
    "start_time": "2023-02-24T14:37:05.493Z"
   },
   {
    "duration": 10,
    "start_time": "2023-02-24T14:37:07.182Z"
   },
   {
    "duration": 10,
    "start_time": "2023-02-24T14:38:29.062Z"
   },
   {
    "duration": 11,
    "start_time": "2023-02-24T14:38:47.910Z"
   },
   {
    "duration": 19,
    "start_time": "2023-02-24T14:38:52.165Z"
   },
   {
    "duration": 16,
    "start_time": "2023-02-24T14:39:02.814Z"
   },
   {
    "duration": 12,
    "start_time": "2023-02-24T14:39:11.759Z"
   },
   {
    "duration": 3,
    "start_time": "2023-02-24T14:39:17.435Z"
   },
   {
    "duration": 66,
    "start_time": "2023-02-24T14:39:17.440Z"
   },
   {
    "duration": 28,
    "start_time": "2023-02-24T14:39:17.508Z"
   },
   {
    "duration": 13,
    "start_time": "2023-02-24T14:39:17.538Z"
   },
   {
    "duration": 5,
    "start_time": "2023-02-24T14:39:17.552Z"
   },
   {
    "duration": 35,
    "start_time": "2023-02-24T14:39:17.559Z"
   },
   {
    "duration": 11,
    "start_time": "2023-02-24T14:39:22.103Z"
   },
   {
    "duration": 15,
    "start_time": "2023-02-24T14:39:35.354Z"
   },
   {
    "duration": 16,
    "start_time": "2023-02-24T14:39:59.612Z"
   },
   {
    "duration": 1161,
    "start_time": "2023-02-24T14:40:10.947Z"
   },
   {
    "duration": 10,
    "start_time": "2023-02-24T14:40:28.380Z"
   },
   {
    "duration": 12,
    "start_time": "2023-02-24T14:40:36.321Z"
   },
   {
    "duration": 13,
    "start_time": "2023-02-24T14:40:54.534Z"
   },
   {
    "duration": 10,
    "start_time": "2023-02-24T14:43:00.190Z"
   },
   {
    "duration": 20,
    "start_time": "2023-02-24T14:43:07.573Z"
   },
   {
    "duration": 14,
    "start_time": "2023-02-24T14:43:20.275Z"
   },
   {
    "duration": 12,
    "start_time": "2023-02-24T14:43:23.634Z"
   },
   {
    "duration": 16,
    "start_time": "2023-02-24T14:43:51.403Z"
   },
   {
    "duration": 11,
    "start_time": "2023-02-24T14:44:57.934Z"
   },
   {
    "duration": 45,
    "start_time": "2023-02-24T14:45:03.141Z"
   },
   {
    "duration": 1563,
    "start_time": "2023-02-24T14:45:23.227Z"
   },
   {
    "duration": 3,
    "start_time": "2023-02-24T14:45:41.260Z"
   },
   {
    "duration": 61,
    "start_time": "2023-02-24T14:45:41.265Z"
   },
   {
    "duration": 30,
    "start_time": "2023-02-24T14:45:41.328Z"
   },
   {
    "duration": 18,
    "start_time": "2023-02-24T14:45:41.360Z"
   },
   {
    "duration": 14,
    "start_time": "2023-02-24T14:45:41.392Z"
   },
   {
    "duration": 30,
    "start_time": "2023-02-24T14:45:41.408Z"
   },
   {
    "duration": 12,
    "start_time": "2023-02-24T14:45:44.461Z"
   },
   {
    "duration": 17,
    "start_time": "2023-02-24T14:45:58.509Z"
   },
   {
    "duration": 27,
    "start_time": "2023-02-24T14:46:25.534Z"
   },
   {
    "duration": 1231,
    "start_time": "2023-02-24T14:46:37.060Z"
   },
   {
    "duration": 22,
    "start_time": "2023-02-24T14:50:25.260Z"
   },
   {
    "duration": 121,
    "start_time": "2023-02-24T14:50:41.009Z"
   },
   {
    "duration": 120,
    "start_time": "2023-02-24T14:50:49.411Z"
   },
   {
    "duration": 169,
    "start_time": "2023-02-24T14:51:09.018Z"
   },
   {
    "duration": 162,
    "start_time": "2023-02-24T14:52:34.805Z"
   },
   {
    "duration": 163,
    "start_time": "2023-02-24T14:52:47.205Z"
   },
   {
    "duration": 224,
    "start_time": "2023-02-24T14:52:52.307Z"
   },
   {
    "duration": 1201,
    "start_time": "2023-02-24T14:53:52.872Z"
   },
   {
    "duration": 34,
    "start_time": "2023-02-24T14:54:09.634Z"
   },
   {
    "duration": 180,
    "start_time": "2023-02-24T14:54:23.586Z"
   },
   {
    "duration": 4,
    "start_time": "2023-02-24T14:55:50.459Z"
   },
   {
    "duration": 66,
    "start_time": "2023-02-24T14:55:50.465Z"
   },
   {
    "duration": 28,
    "start_time": "2023-02-24T14:55:50.533Z"
   },
   {
    "duration": 29,
    "start_time": "2023-02-24T14:55:50.562Z"
   },
   {
    "duration": 5,
    "start_time": "2023-02-24T14:55:50.594Z"
   },
   {
    "duration": 19,
    "start_time": "2023-02-24T14:55:50.601Z"
   },
   {
    "duration": 15,
    "start_time": "2023-02-24T14:55:50.622Z"
   },
   {
    "duration": 33,
    "start_time": "2023-02-24T14:55:57.733Z"
   },
   {
    "duration": 192,
    "start_time": "2023-02-24T14:56:09.067Z"
   },
   {
    "duration": 183,
    "start_time": "2023-02-24T14:56:15.181Z"
   },
   {
    "duration": 118,
    "start_time": "2023-02-24T14:59:30.813Z"
   },
   {
    "duration": 3,
    "start_time": "2023-02-24T14:59:54.810Z"
   },
   {
    "duration": 54,
    "start_time": "2023-02-24T14:59:54.815Z"
   },
   {
    "duration": 34,
    "start_time": "2023-02-24T14:59:54.871Z"
   },
   {
    "duration": 22,
    "start_time": "2023-02-24T14:59:54.906Z"
   },
   {
    "duration": 5,
    "start_time": "2023-02-24T14:59:54.933Z"
   },
   {
    "duration": 12,
    "start_time": "2023-02-24T14:59:54.940Z"
   },
   {
    "duration": 12,
    "start_time": "2023-02-24T14:59:54.954Z"
   },
   {
    "duration": 28,
    "start_time": "2023-02-24T14:59:54.992Z"
   },
   {
    "duration": 628,
    "start_time": "2023-02-24T15:00:03.161Z"
   },
   {
    "duration": 1334,
    "start_time": "2023-02-24T15:02:33.041Z"
   },
   {
    "duration": 3,
    "start_time": "2023-02-24T15:03:02.290Z"
   },
   {
    "duration": 74,
    "start_time": "2023-02-24T15:03:02.296Z"
   },
   {
    "duration": 35,
    "start_time": "2023-02-24T15:03:02.372Z"
   },
   {
    "duration": 12,
    "start_time": "2023-02-24T15:03:02.409Z"
   },
   {
    "duration": 9,
    "start_time": "2023-02-24T15:03:02.423Z"
   },
   {
    "duration": 13,
    "start_time": "2023-02-24T15:03:02.433Z"
   },
   {
    "duration": 17,
    "start_time": "2023-02-24T15:03:10.761Z"
   },
   {
    "duration": 3,
    "start_time": "2023-02-24T15:07:05.740Z"
   },
   {
    "duration": 54,
    "start_time": "2023-02-24T15:07:05.745Z"
   },
   {
    "duration": 31,
    "start_time": "2023-02-24T15:07:05.801Z"
   },
   {
    "duration": 14,
    "start_time": "2023-02-24T15:07:05.833Z"
   },
   {
    "duration": 4,
    "start_time": "2023-02-24T15:07:05.850Z"
   },
   {
    "duration": 36,
    "start_time": "2023-02-24T15:07:05.856Z"
   },
   {
    "duration": 11,
    "start_time": "2023-02-24T15:07:09.195Z"
   },
   {
    "duration": 24,
    "start_time": "2023-02-24T15:07:20.851Z"
   },
   {
    "duration": 76,
    "start_time": "2023-02-24T15:08:27.007Z"
   },
   {
    "duration": 30,
    "start_time": "2023-02-24T15:08:31.285Z"
   },
   {
    "duration": 70,
    "start_time": "2023-02-24T15:09:15.470Z"
   },
   {
    "duration": 37,
    "start_time": "2023-02-24T15:09:19.774Z"
   },
   {
    "duration": 3,
    "start_time": "2023-02-24T15:10:00.563Z"
   },
   {
    "duration": 90,
    "start_time": "2023-02-24T15:10:00.567Z"
   },
   {
    "duration": 33,
    "start_time": "2023-02-24T15:10:00.659Z"
   },
   {
    "duration": 13,
    "start_time": "2023-02-24T15:10:00.694Z"
   },
   {
    "duration": 26,
    "start_time": "2023-02-24T15:10:00.709Z"
   },
   {
    "duration": 49,
    "start_time": "2023-02-24T15:10:00.737Z"
   },
   {
    "duration": 79,
    "start_time": "2023-02-24T15:10:00.788Z"
   },
   {
    "duration": 68,
    "start_time": "2023-02-24T15:10:00.869Z"
   },
   {
    "duration": 60,
    "start_time": "2023-02-24T15:10:00.939Z"
   },
   {
    "duration": 3,
    "start_time": "2023-02-24T15:10:13.464Z"
   },
   {
    "duration": 50,
    "start_time": "2023-02-24T15:10:13.469Z"
   },
   {
    "duration": 26,
    "start_time": "2023-02-24T15:10:13.521Z"
   },
   {
    "duration": 16,
    "start_time": "2023-02-24T15:10:13.549Z"
   },
   {
    "duration": 23,
    "start_time": "2023-02-24T15:10:13.568Z"
   },
   {
    "duration": 10,
    "start_time": "2023-02-24T15:10:13.593Z"
   },
   {
    "duration": 14,
    "start_time": "2023-02-24T15:10:13.604Z"
   },
   {
    "duration": 28,
    "start_time": "2023-02-24T15:10:13.620Z"
   },
   {
    "duration": 80,
    "start_time": "2023-02-24T15:10:13.650Z"
   },
   {
    "duration": 1110,
    "start_time": "2023-02-24T15:32:25.077Z"
   },
   {
    "duration": 3,
    "start_time": "2023-02-24T15:33:00.145Z"
   },
   {
    "duration": 67,
    "start_time": "2023-02-24T15:33:00.151Z"
   },
   {
    "duration": 27,
    "start_time": "2023-02-24T15:33:00.220Z"
   },
   {
    "duration": 34,
    "start_time": "2023-02-24T15:33:00.249Z"
   },
   {
    "duration": 31,
    "start_time": "2023-02-24T15:33:00.285Z"
   },
   {
    "duration": 38,
    "start_time": "2023-02-24T15:33:00.318Z"
   },
   {
    "duration": 42,
    "start_time": "2023-02-24T15:33:00.358Z"
   },
   {
    "duration": 63,
    "start_time": "2023-02-24T15:33:00.402Z"
   },
   {
    "duration": 93,
    "start_time": "2023-02-24T15:33:00.466Z"
   },
   {
    "duration": 22,
    "start_time": "2023-02-24T15:33:00.561Z"
   },
   {
    "duration": 1152,
    "start_time": "2023-02-24T15:33:04.713Z"
   },
   {
    "duration": 2,
    "start_time": "2023-02-24T15:33:26.156Z"
   },
   {
    "duration": 65,
    "start_time": "2023-02-24T15:33:26.161Z"
   },
   {
    "duration": 31,
    "start_time": "2023-02-24T15:33:26.228Z"
   },
   {
    "duration": 14,
    "start_time": "2023-02-24T15:33:26.261Z"
   },
   {
    "duration": 16,
    "start_time": "2023-02-24T15:33:26.278Z"
   },
   {
    "duration": 19,
    "start_time": "2023-02-24T15:33:26.296Z"
   },
   {
    "duration": 13,
    "start_time": "2023-02-24T15:33:29.184Z"
   },
   {
    "duration": 10,
    "start_time": "2023-02-24T15:33:45.412Z"
   },
   {
    "duration": 24,
    "start_time": "2023-02-24T15:33:45.423Z"
   },
   {
    "duration": 62,
    "start_time": "2023-02-24T15:33:45.449Z"
   },
   {
    "duration": 24,
    "start_time": "2023-02-24T15:33:45.513Z"
   },
   {
    "duration": 669,
    "start_time": "2023-02-24T17:38:20.231Z"
   },
   {
    "duration": 152,
    "start_time": "2023-02-24T17:38:20.902Z"
   },
   {
    "duration": 39,
    "start_time": "2023-02-24T17:38:21.057Z"
   },
   {
    "duration": 20,
    "start_time": "2023-02-24T17:38:21.097Z"
   },
   {
    "duration": 54,
    "start_time": "2023-02-24T17:38:21.121Z"
   },
   {
    "duration": 18,
    "start_time": "2023-02-24T17:38:21.177Z"
   },
   {
    "duration": 33,
    "start_time": "2023-02-24T17:38:21.198Z"
   },
   {
    "duration": 126,
    "start_time": "2023-02-24T17:38:21.233Z"
   },
   {
    "duration": 89,
    "start_time": "2023-02-24T17:38:21.363Z"
   },
   {
    "duration": 28,
    "start_time": "2023-02-24T17:38:21.454Z"
   },
   {
    "duration": 42,
    "start_time": "2023-02-24T17:42:30.240Z"
   },
   {
    "duration": 5,
    "start_time": "2023-02-24T17:44:21.168Z"
   },
   {
    "duration": 5,
    "start_time": "2023-02-24T17:44:25.602Z"
   },
   {
    "duration": 27,
    "start_time": "2023-02-24T17:44:29.384Z"
   },
   {
    "duration": 42,
    "start_time": "2023-02-24T17:45:09.172Z"
   },
   {
    "duration": 8,
    "start_time": "2023-02-24T17:45:56.058Z"
   },
   {
    "duration": 4,
    "start_time": "2023-02-24T17:47:36.153Z"
   },
   {
    "duration": 6,
    "start_time": "2023-02-24T17:47:40.993Z"
   },
   {
    "duration": 3,
    "start_time": "2023-02-24T17:47:46.518Z"
   },
   {
    "duration": 61,
    "start_time": "2023-02-24T17:47:46.522Z"
   },
   {
    "duration": 32,
    "start_time": "2023-02-24T17:47:46.585Z"
   },
   {
    "duration": 18,
    "start_time": "2023-02-24T17:47:46.620Z"
   },
   {
    "duration": 106,
    "start_time": "2023-02-24T17:47:46.640Z"
   },
   {
    "duration": 0,
    "start_time": "2023-02-24T17:47:46.748Z"
   },
   {
    "duration": 0,
    "start_time": "2023-02-24T17:47:46.750Z"
   },
   {
    "duration": 0,
    "start_time": "2023-02-24T17:47:46.752Z"
   },
   {
    "duration": 0,
    "start_time": "2023-02-24T17:47:46.753Z"
   },
   {
    "duration": 0,
    "start_time": "2023-02-24T17:47:46.755Z"
   },
   {
    "duration": 0,
    "start_time": "2023-02-24T17:47:46.756Z"
   },
   {
    "duration": 0,
    "start_time": "2023-02-24T17:47:46.757Z"
   },
   {
    "duration": 17,
    "start_time": "2023-02-24T17:49:00.507Z"
   },
   {
    "duration": 8,
    "start_time": "2023-02-24T17:49:10.566Z"
   },
   {
    "duration": 9,
    "start_time": "2023-02-24T17:49:28.913Z"
   },
   {
    "duration": 7,
    "start_time": "2023-02-24T17:49:32.619Z"
   },
   {
    "duration": 3,
    "start_time": "2023-02-24T17:49:41.113Z"
   },
   {
    "duration": 55,
    "start_time": "2023-02-24T17:49:41.117Z"
   },
   {
    "duration": 29,
    "start_time": "2023-02-24T17:49:41.173Z"
   },
   {
    "duration": 13,
    "start_time": "2023-02-24T17:49:41.205Z"
   },
   {
    "duration": 17,
    "start_time": "2023-02-24T17:49:41.220Z"
   },
   {
    "duration": 29,
    "start_time": "2023-02-24T17:49:41.239Z"
   },
   {
    "duration": 13,
    "start_time": "2023-02-24T17:49:41.270Z"
   },
   {
    "duration": 28,
    "start_time": "2023-02-24T17:49:41.285Z"
   },
   {
    "duration": 69,
    "start_time": "2023-02-24T17:49:41.315Z"
   },
   {
    "duration": 22,
    "start_time": "2023-02-24T17:49:41.386Z"
   },
   {
    "duration": 43,
    "start_time": "2023-02-24T17:49:41.409Z"
   },
   {
    "duration": 26,
    "start_time": "2023-02-24T17:49:41.454Z"
   },
   {
    "duration": 8,
    "start_time": "2023-02-24T17:50:31.242Z"
   },
   {
    "duration": 8,
    "start_time": "2023-02-24T17:50:35.911Z"
   },
   {
    "duration": 7,
    "start_time": "2023-02-24T17:50:47.615Z"
   },
   {
    "duration": 9,
    "start_time": "2023-02-24T17:50:52.148Z"
   },
   {
    "duration": 12,
    "start_time": "2023-02-24T17:51:28.579Z"
   },
   {
    "duration": 10,
    "start_time": "2023-02-24T17:51:36.381Z"
   },
   {
    "duration": 7,
    "start_time": "2023-02-24T17:51:41.762Z"
   },
   {
    "duration": 15,
    "start_time": "2023-02-24T17:52:50.052Z"
   },
   {
    "duration": 10,
    "start_time": "2023-02-24T17:52:58.360Z"
   },
   {
    "duration": 12,
    "start_time": "2023-02-24T17:53:01.686Z"
   },
   {
    "duration": 15,
    "start_time": "2023-02-24T17:53:05.260Z"
   },
   {
    "duration": 13,
    "start_time": "2023-02-24T17:53:23.904Z"
   },
   {
    "duration": 9,
    "start_time": "2023-02-24T17:53:29.941Z"
   },
   {
    "duration": 9,
    "start_time": "2023-02-24T17:53:40.468Z"
   },
   {
    "duration": 12,
    "start_time": "2023-02-24T17:53:46.893Z"
   },
   {
    "duration": 15,
    "start_time": "2023-02-24T17:57:08.151Z"
   },
   {
    "duration": 8,
    "start_time": "2023-02-24T17:57:58.376Z"
   },
   {
    "duration": 7,
    "start_time": "2023-02-24T17:58:15.796Z"
   },
   {
    "duration": 8,
    "start_time": "2023-02-24T17:58:45.740Z"
   },
   {
    "duration": 10,
    "start_time": "2023-02-24T17:59:47.378Z"
   },
   {
    "duration": 7,
    "start_time": "2023-02-24T17:59:54.224Z"
   },
   {
    "duration": 8,
    "start_time": "2023-02-24T18:00:21.306Z"
   },
   {
    "duration": 11,
    "start_time": "2023-02-24T18:00:56.405Z"
   },
   {
    "duration": 7,
    "start_time": "2023-02-24T18:03:07.889Z"
   },
   {
    "duration": 7,
    "start_time": "2023-02-24T18:03:12.940Z"
   },
   {
    "duration": 18,
    "start_time": "2023-02-24T18:03:31.607Z"
   },
   {
    "duration": 15,
    "start_time": "2023-02-24T18:03:53.769Z"
   },
   {
    "duration": 17,
    "start_time": "2023-02-24T18:04:14.566Z"
   },
   {
    "duration": 24,
    "start_time": "2023-02-24T18:05:46.432Z"
   },
   {
    "duration": 22,
    "start_time": "2023-02-24T18:06:29.516Z"
   },
   {
    "duration": 62,
    "start_time": "2023-02-24T18:06:36.988Z"
   },
   {
    "duration": 80,
    "start_time": "2023-02-24T18:07:44.462Z"
   },
   {
    "duration": 16,
    "start_time": "2023-02-24T18:09:50.980Z"
   },
   {
    "duration": 40,
    "start_time": "2023-02-24T18:10:52.685Z"
   },
   {
    "duration": 51,
    "start_time": "2023-02-24T18:11:04.790Z"
   },
   {
    "duration": 19,
    "start_time": "2023-02-24T18:11:11.215Z"
   },
   {
    "duration": 10,
    "start_time": "2023-02-24T18:12:14.564Z"
   },
   {
    "duration": 17,
    "start_time": "2023-02-24T18:12:20.674Z"
   },
   {
    "duration": 4,
    "start_time": "2023-02-24T18:12:27.941Z"
   },
   {
    "duration": 38,
    "start_time": "2023-02-24T18:13:35.740Z"
   },
   {
    "duration": 40,
    "start_time": "2023-02-24T18:13:52.634Z"
   },
   {
    "duration": 9,
    "start_time": "2023-02-24T18:15:57.705Z"
   },
   {
    "duration": 10,
    "start_time": "2023-02-24T18:16:03.876Z"
   },
   {
    "duration": 7,
    "start_time": "2023-02-24T18:16:41.843Z"
   },
   {
    "duration": 7,
    "start_time": "2023-02-24T18:16:48.273Z"
   },
   {
    "duration": 14,
    "start_time": "2023-02-24T18:17:14.778Z"
   },
   {
    "duration": 25,
    "start_time": "2023-02-24T18:17:16.500Z"
   },
   {
    "duration": 29,
    "start_time": "2023-02-24T18:19:37.828Z"
   },
   {
    "duration": 870,
    "start_time": "2023-02-24T18:19:51.972Z"
   },
   {
    "duration": 3,
    "start_time": "2023-02-24T18:20:44.647Z"
   },
   {
    "duration": 528,
    "start_time": "2023-02-24T18:21:18.385Z"
   },
   {
    "duration": 778,
    "start_time": "2023-02-24T18:24:34.621Z"
   },
   {
    "duration": 781,
    "start_time": "2023-02-24T18:25:06.144Z"
   },
   {
    "duration": 32,
    "start_time": "2023-02-24T18:25:44.720Z"
   },
   {
    "duration": 17,
    "start_time": "2023-02-24T18:27:02.084Z"
   },
   {
    "duration": 797,
    "start_time": "2023-02-24T18:34:00.785Z"
   },
   {
    "duration": 723,
    "start_time": "2023-02-24T18:34:19.156Z"
   },
   {
    "duration": 798,
    "start_time": "2023-02-24T18:34:26.781Z"
   },
   {
    "duration": 16,
    "start_time": "2023-02-24T18:34:58.801Z"
   },
   {
    "duration": 32,
    "start_time": "2023-02-24T18:35:04.788Z"
   },
   {
    "duration": 4,
    "start_time": "2023-02-24T18:35:53.144Z"
   },
   {
    "duration": 155,
    "start_time": "2023-02-24T18:37:59.961Z"
   },
   {
    "duration": 881,
    "start_time": "2023-02-24T18:38:13.040Z"
   },
   {
    "duration": 738,
    "start_time": "2023-02-24T18:39:33.945Z"
   },
   {
    "duration": 798,
    "start_time": "2023-02-24T18:46:00.808Z"
   },
   {
    "duration": 711,
    "start_time": "2023-02-24T18:46:05.398Z"
   },
   {
    "duration": 11,
    "start_time": "2023-02-24T18:46:34.443Z"
   },
   {
    "duration": 13,
    "start_time": "2023-02-24T18:46:45.443Z"
   },
   {
    "duration": 12,
    "start_time": "2023-02-24T18:46:51.676Z"
   },
   {
    "duration": 8,
    "start_time": "2023-02-24T18:46:57.671Z"
   },
   {
    "duration": 3,
    "start_time": "2023-02-24T18:49:23.285Z"
   },
   {
    "duration": 55,
    "start_time": "2023-02-24T18:49:23.290Z"
   },
   {
    "duration": 39,
    "start_time": "2023-02-24T18:49:23.347Z"
   },
   {
    "duration": 15,
    "start_time": "2023-02-24T18:49:23.388Z"
   },
   {
    "duration": 38,
    "start_time": "2023-02-24T18:49:23.405Z"
   },
   {
    "duration": 11,
    "start_time": "2023-02-24T18:49:23.444Z"
   },
   {
    "duration": 11,
    "start_time": "2023-02-24T18:49:23.457Z"
   },
   {
    "duration": 31,
    "start_time": "2023-02-24T18:49:23.470Z"
   },
   {
    "duration": 89,
    "start_time": "2023-02-24T18:49:23.503Z"
   },
   {
    "duration": 22,
    "start_time": "2023-02-24T18:49:23.594Z"
   },
   {
    "duration": 40,
    "start_time": "2023-02-24T18:49:23.627Z"
   },
   {
    "duration": 8,
    "start_time": "2023-02-24T18:49:23.668Z"
   },
   {
    "duration": 7,
    "start_time": "2023-02-24T18:49:23.678Z"
   },
   {
    "duration": 123,
    "start_time": "2023-02-24T18:49:23.687Z"
   },
   {
    "duration": 26,
    "start_time": "2023-02-24T18:49:23.811Z"
   },
   {
    "duration": 40,
    "start_time": "2023-02-24T18:49:23.842Z"
   },
   {
    "duration": 58,
    "start_time": "2023-02-24T18:50:41.293Z"
   },
   {
    "duration": 3,
    "start_time": "2023-02-24T18:50:54.392Z"
   },
   {
    "duration": 21,
    "start_time": "2023-02-24T18:51:02.625Z"
   },
   {
    "duration": 8,
    "start_time": "2023-02-24T18:51:37.656Z"
   },
   {
    "duration": 24,
    "start_time": "2023-02-24T18:52:10.248Z"
   },
   {
    "duration": 14,
    "start_time": "2023-02-24T18:52:18.509Z"
   },
   {
    "duration": 15,
    "start_time": "2023-02-24T18:52:22.802Z"
   },
   {
    "duration": 14,
    "start_time": "2023-02-24T18:52:29.277Z"
   },
   {
    "duration": 14,
    "start_time": "2023-02-24T18:52:35.312Z"
   },
   {
    "duration": 3,
    "start_time": "2023-02-24T18:53:13.107Z"
   },
   {
    "duration": 56,
    "start_time": "2023-02-24T18:53:13.111Z"
   },
   {
    "duration": 33,
    "start_time": "2023-02-24T18:53:13.168Z"
   },
   {
    "duration": 14,
    "start_time": "2023-02-24T18:53:13.203Z"
   },
   {
    "duration": 22,
    "start_time": "2023-02-24T18:53:13.219Z"
   },
   {
    "duration": 18,
    "start_time": "2023-02-24T18:53:13.243Z"
   },
   {
    "duration": 11,
    "start_time": "2023-02-24T18:53:13.263Z"
   },
   {
    "duration": 26,
    "start_time": "2023-02-24T18:53:13.276Z"
   },
   {
    "duration": 67,
    "start_time": "2023-02-24T18:53:13.332Z"
   },
   {
    "duration": 43,
    "start_time": "2023-02-24T18:53:13.400Z"
   },
   {
    "duration": 24,
    "start_time": "2023-02-24T18:53:13.445Z"
   },
   {
    "duration": 8,
    "start_time": "2023-02-24T18:53:13.471Z"
   },
   {
    "duration": 7,
    "start_time": "2023-02-24T18:53:13.481Z"
   },
   {
    "duration": 103,
    "start_time": "2023-02-24T18:53:13.489Z"
   },
   {
    "duration": 14,
    "start_time": "2023-02-24T18:53:13.594Z"
   },
   {
    "duration": 43,
    "start_time": "2023-02-24T18:53:13.609Z"
   },
   {
    "duration": 7,
    "start_time": "2023-02-24T18:53:42.617Z"
   },
   {
    "duration": 5,
    "start_time": "2023-02-24T18:53:52.954Z"
   },
   {
    "duration": 164,
    "start_time": "2023-02-24T18:54:44.708Z"
   },
   {
    "duration": 156,
    "start_time": "2023-02-24T18:55:15.251Z"
   },
   {
    "duration": 145,
    "start_time": "2023-02-24T18:55:29.141Z"
   },
   {
    "duration": 165,
    "start_time": "2023-02-24T18:55:37.274Z"
   },
   {
    "duration": 147,
    "start_time": "2023-02-24T18:55:43.260Z"
   },
   {
    "duration": 152,
    "start_time": "2023-02-24T18:58:22.863Z"
   },
   {
    "duration": 156,
    "start_time": "2023-02-24T18:58:31.256Z"
   },
   {
    "duration": 974,
    "start_time": "2023-02-24T18:58:53.533Z"
   },
   {
    "duration": 251,
    "start_time": "2023-02-24T18:59:38.194Z"
   },
   {
    "duration": 4,
    "start_time": "2023-02-24T19:00:09.144Z"
   },
   {
    "duration": 93,
    "start_time": "2023-02-24T19:00:09.150Z"
   },
   {
    "duration": 30,
    "start_time": "2023-02-24T19:00:09.245Z"
   },
   {
    "duration": 13,
    "start_time": "2023-02-24T19:00:09.278Z"
   },
   {
    "duration": 16,
    "start_time": "2023-02-24T19:00:09.293Z"
   },
   {
    "duration": 31,
    "start_time": "2023-02-24T19:00:09.311Z"
   },
   {
    "duration": 36,
    "start_time": "2023-02-24T19:00:09.344Z"
   },
   {
    "duration": 71,
    "start_time": "2023-02-24T19:00:09.382Z"
   },
   {
    "duration": 131,
    "start_time": "2023-02-24T19:00:09.455Z"
   },
   {
    "duration": 24,
    "start_time": "2023-02-24T19:00:09.588Z"
   },
   {
    "duration": 63,
    "start_time": "2023-02-24T19:00:09.614Z"
   },
   {
    "duration": 8,
    "start_time": "2023-02-24T19:00:09.679Z"
   },
   {
    "duration": 16,
    "start_time": "2023-02-24T19:00:09.689Z"
   },
   {
    "duration": 109,
    "start_time": "2023-02-24T19:00:09.707Z"
   },
   {
    "duration": 20,
    "start_time": "2023-02-24T19:00:09.817Z"
   },
   {
    "duration": 25,
    "start_time": "2023-02-24T19:00:09.845Z"
   },
   {
    "duration": 444,
    "start_time": "2023-02-24T19:00:35.311Z"
   },
   {
    "duration": 449,
    "start_time": "2023-02-24T19:00:39.657Z"
   },
   {
    "duration": 797,
    "start_time": "2023-02-24T19:01:22.103Z"
   },
   {
    "duration": 266,
    "start_time": "2023-02-24T19:01:29.367Z"
   },
   {
    "duration": 437,
    "start_time": "2023-02-24T19:01:41.518Z"
   },
   {
    "duration": 23,
    "start_time": "2023-02-24T19:02:44.516Z"
   },
   {
    "duration": 157,
    "start_time": "2023-02-24T19:02:54.387Z"
   },
   {
    "duration": 760,
    "start_time": "2023-02-24T19:03:16.194Z"
   },
   {
    "duration": 26,
    "start_time": "2023-02-24T19:03:42.399Z"
   },
   {
    "duration": 25,
    "start_time": "2023-02-24T19:04:05.641Z"
   },
   {
    "duration": 26,
    "start_time": "2023-02-24T19:04:49.195Z"
   },
   {
    "duration": 27,
    "start_time": "2023-02-24T19:05:00.285Z"
   },
   {
    "duration": 58,
    "start_time": "2023-02-24T19:05:24.391Z"
   },
   {
    "duration": 21,
    "start_time": "2023-02-24T19:05:33.698Z"
   },
   {
    "duration": 23,
    "start_time": "2023-02-24T19:06:07.043Z"
   },
   {
    "duration": 21,
    "start_time": "2023-02-24T19:06:12.093Z"
   },
   {
    "duration": 27,
    "start_time": "2023-02-24T19:06:25.126Z"
   },
   {
    "duration": 26,
    "start_time": "2023-02-24T19:06:30.526Z"
   },
   {
    "duration": 3,
    "start_time": "2023-02-24T19:06:44.657Z"
   },
   {
    "duration": 48,
    "start_time": "2023-02-24T19:06:44.663Z"
   },
   {
    "duration": 33,
    "start_time": "2023-02-24T19:06:44.713Z"
   },
   {
    "duration": 16,
    "start_time": "2023-02-24T19:06:44.747Z"
   },
   {
    "duration": 9,
    "start_time": "2023-02-24T19:06:44.766Z"
   },
   {
    "duration": 13,
    "start_time": "2023-02-24T19:06:44.777Z"
   },
   {
    "duration": 12,
    "start_time": "2023-02-24T19:06:44.791Z"
   },
   {
    "duration": 32,
    "start_time": "2023-02-24T19:06:44.827Z"
   },
   {
    "duration": 80,
    "start_time": "2023-02-24T19:06:44.861Z"
   },
   {
    "duration": 21,
    "start_time": "2023-02-24T19:06:44.944Z"
   },
   {
    "duration": 25,
    "start_time": "2023-02-24T19:06:44.967Z"
   },
   {
    "duration": 8,
    "start_time": "2023-02-24T19:06:44.993Z"
   },
   {
    "duration": 33,
    "start_time": "2023-02-24T19:06:45.003Z"
   },
   {
    "duration": 113,
    "start_time": "2023-02-24T19:06:45.039Z"
   },
   {
    "duration": 15,
    "start_time": "2023-02-24T19:06:45.154Z"
   },
   {
    "duration": 24,
    "start_time": "2023-02-24T19:08:51.235Z"
   },
   {
    "duration": 9,
    "start_time": "2023-02-24T19:09:44.202Z"
   },
   {
    "duration": 137,
    "start_time": "2023-02-24T19:09:51.215Z"
   },
   {
    "duration": 147,
    "start_time": "2023-02-24T19:10:02.599Z"
   },
   {
    "duration": 10,
    "start_time": "2023-02-24T19:10:07.948Z"
   },
   {
    "duration": 176,
    "start_time": "2023-02-24T19:11:34.964Z"
   },
   {
    "duration": 7,
    "start_time": "2023-02-24T19:11:43.383Z"
   },
   {
    "duration": 10,
    "start_time": "2023-02-24T19:11:49.975Z"
   },
   {
    "duration": 581,
    "start_time": "2023-02-24T19:12:30.950Z"
   },
   {
    "duration": 555,
    "start_time": "2023-02-24T19:12:35.185Z"
   },
   {
    "duration": 621,
    "start_time": "2023-02-24T19:12:54.490Z"
   },
   {
    "duration": 10,
    "start_time": "2023-02-24T19:13:05.566Z"
   },
   {
    "duration": 9,
    "start_time": "2023-02-24T19:13:56.505Z"
   },
   {
    "duration": 50,
    "start_time": "2023-02-27T09:57:47.552Z"
   },
   {
    "duration": 751,
    "start_time": "2023-02-27T09:57:58.021Z"
   },
   {
    "duration": 93,
    "start_time": "2023-02-27T09:57:58.773Z"
   },
   {
    "duration": 33,
    "start_time": "2023-02-27T09:57:58.868Z"
   },
   {
    "duration": 14,
    "start_time": "2023-02-27T09:57:58.903Z"
   },
   {
    "duration": 16,
    "start_time": "2023-02-27T09:57:58.920Z"
   },
   {
    "duration": 16,
    "start_time": "2023-02-27T09:57:58.937Z"
   },
   {
    "duration": 12,
    "start_time": "2023-02-27T09:57:58.954Z"
   },
   {
    "duration": 45,
    "start_time": "2023-02-27T09:57:58.967Z"
   },
   {
    "duration": 62,
    "start_time": "2023-02-27T09:57:59.014Z"
   },
   {
    "duration": 36,
    "start_time": "2023-02-27T09:57:59.079Z"
   },
   {
    "duration": 23,
    "start_time": "2023-02-27T09:57:59.116Z"
   },
   {
    "duration": 6,
    "start_time": "2023-02-27T09:57:59.141Z"
   },
   {
    "duration": 9,
    "start_time": "2023-02-27T09:57:59.149Z"
   },
   {
    "duration": 113,
    "start_time": "2023-02-27T09:57:59.160Z"
   },
   {
    "duration": 25,
    "start_time": "2023-02-27T09:57:59.275Z"
   },
   {
    "duration": 25,
    "start_time": "2023-02-27T09:59:24.686Z"
   },
   {
    "duration": 22,
    "start_time": "2023-02-27T09:59:34.423Z"
   },
   {
    "duration": 27,
    "start_time": "2023-02-27T09:59:42.861Z"
   },
   {
    "duration": 16,
    "start_time": "2023-02-27T10:00:42.485Z"
   },
   {
    "duration": 28,
    "start_time": "2023-02-27T10:00:48.687Z"
   },
   {
    "duration": 53,
    "start_time": "2023-02-27T10:01:11.963Z"
   },
   {
    "duration": 21,
    "start_time": "2023-02-27T10:01:18.759Z"
   },
   {
    "duration": 27,
    "start_time": "2023-02-27T10:01:24.903Z"
   },
   {
    "duration": 25,
    "start_time": "2023-02-27T10:01:38.780Z"
   },
   {
    "duration": 32,
    "start_time": "2023-02-27T10:01:47.716Z"
   },
   {
    "duration": 32,
    "start_time": "2023-02-27T10:02:20.803Z"
   },
   {
    "duration": 30,
    "start_time": "2023-02-27T10:02:57.364Z"
   },
   {
    "duration": 27,
    "start_time": "2023-02-27T10:06:31.966Z"
   },
   {
    "duration": 36,
    "start_time": "2023-02-27T10:06:52.292Z"
   },
   {
    "duration": 26,
    "start_time": "2023-02-27T10:07:01.451Z"
   },
   {
    "duration": 19,
    "start_time": "2023-02-27T10:07:23.756Z"
   },
   {
    "duration": 4,
    "start_time": "2023-02-27T10:08:35.675Z"
   },
   {
    "duration": 23,
    "start_time": "2023-02-27T10:08:43.431Z"
   },
   {
    "duration": 31,
    "start_time": "2023-02-27T10:08:52.069Z"
   },
   {
    "duration": 30,
    "start_time": "2023-02-27T10:09:02.958Z"
   },
   {
    "duration": 3,
    "start_time": "2023-02-27T10:09:06.877Z"
   },
   {
    "duration": 61,
    "start_time": "2023-02-27T10:09:06.885Z"
   },
   {
    "duration": 33,
    "start_time": "2023-02-27T10:09:06.948Z"
   },
   {
    "duration": 14,
    "start_time": "2023-02-27T10:09:06.983Z"
   },
   {
    "duration": 8,
    "start_time": "2023-02-27T10:09:06.999Z"
   },
   {
    "duration": 20,
    "start_time": "2023-02-27T10:09:07.009Z"
   },
   {
    "duration": 14,
    "start_time": "2023-02-27T10:09:07.177Z"
   },
   {
    "duration": 38,
    "start_time": "2023-02-27T10:09:07.194Z"
   },
   {
    "duration": 66,
    "start_time": "2023-02-27T10:09:07.233Z"
   },
   {
    "duration": 23,
    "start_time": "2023-02-27T10:09:07.300Z"
   },
   {
    "duration": 50,
    "start_time": "2023-02-27T10:09:07.324Z"
   },
   {
    "duration": 8,
    "start_time": "2023-02-27T10:09:07.376Z"
   },
   {
    "duration": 12,
    "start_time": "2023-02-27T10:09:07.386Z"
   },
   {
    "duration": 99,
    "start_time": "2023-02-27T10:09:07.400Z"
   },
   {
    "duration": 14,
    "start_time": "2023-02-27T10:09:07.501Z"
   },
   {
    "duration": 27,
    "start_time": "2023-02-27T10:09:14.973Z"
   },
   {
    "duration": 25,
    "start_time": "2023-02-27T10:18:05.486Z"
   },
   {
    "duration": 30,
    "start_time": "2023-02-27T10:18:22.728Z"
   },
   {
    "duration": 28,
    "start_time": "2023-02-27T10:18:41.725Z"
   },
   {
    "duration": 18,
    "start_time": "2023-02-27T10:18:56.790Z"
   },
   {
    "duration": 26,
    "start_time": "2023-02-27T10:19:05.677Z"
   },
   {
    "duration": 22,
    "start_time": "2023-02-27T10:19:08.630Z"
   },
   {
    "duration": 20,
    "start_time": "2023-02-27T10:19:10.819Z"
   },
   {
    "duration": 22,
    "start_time": "2023-02-27T10:19:21.806Z"
   },
   {
    "duration": 18,
    "start_time": "2023-02-27T10:19:23.654Z"
   },
   {
    "duration": 24,
    "start_time": "2023-02-27T10:19:47.357Z"
   },
   {
    "duration": 31,
    "start_time": "2023-02-27T10:20:00.806Z"
   },
   {
    "duration": 3,
    "start_time": "2023-02-27T10:20:11.281Z"
   },
   {
    "duration": 53,
    "start_time": "2023-02-27T10:20:11.287Z"
   },
   {
    "duration": 30,
    "start_time": "2023-02-27T10:20:11.341Z"
   },
   {
    "duration": 14,
    "start_time": "2023-02-27T10:20:11.373Z"
   },
   {
    "duration": 13,
    "start_time": "2023-02-27T10:20:11.389Z"
   },
   {
    "duration": 18,
    "start_time": "2023-02-27T10:20:11.404Z"
   },
   {
    "duration": 11,
    "start_time": "2023-02-27T10:20:11.574Z"
   },
   {
    "duration": 26,
    "start_time": "2023-02-27T10:20:11.586Z"
   },
   {
    "duration": 57,
    "start_time": "2023-02-27T10:20:11.614Z"
   },
   {
    "duration": 36,
    "start_time": "2023-02-27T10:20:11.673Z"
   },
   {
    "duration": 23,
    "start_time": "2023-02-27T10:20:11.711Z"
   },
   {
    "duration": 16,
    "start_time": "2023-02-27T10:20:11.736Z"
   },
   {
    "duration": 12,
    "start_time": "2023-02-27T10:20:11.754Z"
   },
   {
    "duration": 93,
    "start_time": "2023-02-27T10:20:11.768Z"
   },
   {
    "duration": 14,
    "start_time": "2023-02-27T10:20:11.889Z"
   },
   {
    "duration": 21,
    "start_time": "2023-02-27T10:25:24.980Z"
   },
   {
    "duration": 33,
    "start_time": "2023-02-27T10:25:50.172Z"
   },
   {
    "duration": 30,
    "start_time": "2023-02-27T10:25:58.469Z"
   },
   {
    "duration": 40,
    "start_time": "2023-02-27T10:26:10.469Z"
   },
   {
    "duration": 2,
    "start_time": "2023-02-27T10:26:35.173Z"
   },
   {
    "duration": 66,
    "start_time": "2023-02-27T10:26:35.177Z"
   },
   {
    "duration": 31,
    "start_time": "2023-02-27T10:26:35.246Z"
   },
   {
    "duration": 20,
    "start_time": "2023-02-27T10:26:35.279Z"
   },
   {
    "duration": 12,
    "start_time": "2023-02-27T10:26:35.301Z"
   },
   {
    "duration": 19,
    "start_time": "2023-02-27T10:26:35.315Z"
   },
   {
    "duration": 10,
    "start_time": "2023-02-27T10:26:35.468Z"
   },
   {
    "duration": 26,
    "start_time": "2023-02-27T10:26:35.480Z"
   },
   {
    "duration": 64,
    "start_time": "2023-02-27T10:26:35.507Z"
   },
   {
    "duration": 40,
    "start_time": "2023-02-27T10:26:35.573Z"
   },
   {
    "duration": 27,
    "start_time": "2023-02-27T10:26:35.615Z"
   },
   {
    "duration": 8,
    "start_time": "2023-02-27T10:26:35.643Z"
   },
   {
    "duration": 12,
    "start_time": "2023-02-27T10:26:35.653Z"
   },
   {
    "duration": 102,
    "start_time": "2023-02-27T10:26:35.667Z"
   },
   {
    "duration": 14,
    "start_time": "2023-02-27T10:26:35.771Z"
   },
   {
    "duration": 30,
    "start_time": "2023-02-27T10:29:00.854Z"
   },
   {
    "duration": 23,
    "start_time": "2023-02-27T10:29:07.774Z"
   },
   {
    "duration": 23,
    "start_time": "2023-02-27T10:29:19.462Z"
   },
   {
    "duration": 23,
    "start_time": "2023-02-27T10:29:32.861Z"
   },
   {
    "duration": 25,
    "start_time": "2023-02-27T10:29:39.078Z"
   },
   {
    "duration": 18,
    "start_time": "2023-02-27T10:29:53.157Z"
   },
   {
    "duration": 29,
    "start_time": "2023-02-27T10:30:00.812Z"
   },
   {
    "duration": 31,
    "start_time": "2023-02-27T10:31:23.867Z"
   },
   {
    "duration": 25,
    "start_time": "2023-02-27T10:31:38.395Z"
   },
   {
    "duration": 5,
    "start_time": "2023-02-27T10:31:54.363Z"
   },
   {
    "duration": 4,
    "start_time": "2023-02-27T10:32:00.310Z"
   },
   {
    "duration": 4,
    "start_time": "2023-02-27T10:32:13.094Z"
   },
   {
    "duration": 31,
    "start_time": "2023-02-27T10:32:28.375Z"
   },
   {
    "duration": 18,
    "start_time": "2023-02-27T10:32:38.537Z"
   },
   {
    "duration": 21,
    "start_time": "2023-02-27T10:32:44.214Z"
   },
   {
    "duration": 19,
    "start_time": "2023-02-27T10:45:57.793Z"
   },
   {
    "duration": 21,
    "start_time": "2023-02-27T10:46:01.641Z"
   },
   {
    "duration": 18,
    "start_time": "2023-02-27T10:47:46.056Z"
   },
   {
    "duration": 20,
    "start_time": "2023-02-27T10:47:51.004Z"
   },
   {
    "duration": 19,
    "start_time": "2023-02-27T10:48:18.137Z"
   },
   {
    "duration": 32,
    "start_time": "2023-02-27T10:48:21.802Z"
   },
   {
    "duration": 29,
    "start_time": "2023-02-27T10:48:27.452Z"
   },
   {
    "duration": 29,
    "start_time": "2023-02-27T10:48:31.290Z"
   },
   {
    "duration": 27,
    "start_time": "2023-02-27T10:48:37.251Z"
   },
   {
    "duration": 30,
    "start_time": "2023-02-27T10:48:43.114Z"
   },
   {
    "duration": 31,
    "start_time": "2023-02-27T10:48:56.795Z"
   },
   {
    "duration": 23,
    "start_time": "2023-02-27T10:49:02.454Z"
   },
   {
    "duration": 23,
    "start_time": "2023-02-27T10:49:08.024Z"
   },
   {
    "duration": 30,
    "start_time": "2023-02-27T10:49:15.201Z"
   },
   {
    "duration": 3,
    "start_time": "2023-02-27T10:49:20.783Z"
   },
   {
    "duration": 55,
    "start_time": "2023-02-27T10:49:20.788Z"
   },
   {
    "duration": 42,
    "start_time": "2023-02-27T10:49:20.846Z"
   },
   {
    "duration": 13,
    "start_time": "2023-02-27T10:49:20.891Z"
   },
   {
    "duration": 13,
    "start_time": "2023-02-27T10:49:20.906Z"
   },
   {
    "duration": 17,
    "start_time": "2023-02-27T10:49:20.922Z"
   },
   {
    "duration": 13,
    "start_time": "2023-02-27T10:49:21.085Z"
   },
   {
    "duration": 28,
    "start_time": "2023-02-27T10:49:21.100Z"
   },
   {
    "duration": 79,
    "start_time": "2023-02-27T10:49:21.129Z"
   },
   {
    "duration": 31,
    "start_time": "2023-02-27T10:49:21.210Z"
   },
   {
    "duration": 30,
    "start_time": "2023-02-27T10:49:21.243Z"
   },
   {
    "duration": 29,
    "start_time": "2023-02-27T10:49:21.275Z"
   },
   {
    "duration": 18,
    "start_time": "2023-02-27T10:49:21.306Z"
   },
   {
    "duration": 115,
    "start_time": "2023-02-27T10:49:21.326Z"
   },
   {
    "duration": 15,
    "start_time": "2023-02-27T10:49:21.443Z"
   },
   {
    "duration": 275,
    "start_time": "2023-02-27T10:53:06.716Z"
   },
   {
    "duration": 244,
    "start_time": "2023-02-27T10:53:30.228Z"
   },
   {
    "duration": 239,
    "start_time": "2023-02-27T10:53:38.517Z"
   },
   {
    "duration": 184,
    "start_time": "2023-02-27T10:53:50.900Z"
   },
   {
    "duration": 201,
    "start_time": "2023-02-27T10:54:04.263Z"
   },
   {
    "duration": 336,
    "start_time": "2023-02-27T10:54:12.589Z"
   },
   {
    "duration": 533,
    "start_time": "2023-02-27T10:54:32.788Z"
   },
   {
    "duration": 529,
    "start_time": "2023-02-27T10:56:05.628Z"
   },
   {
    "duration": 517,
    "start_time": "2023-02-27T10:56:14.212Z"
   },
   {
    "duration": 743,
    "start_time": "2023-02-27T10:56:28.605Z"
   },
   {
    "duration": 554,
    "start_time": "2023-02-27T10:56:38.428Z"
   },
   {
    "duration": 566,
    "start_time": "2023-02-27T10:57:31.339Z"
   },
   {
    "duration": 707,
    "start_time": "2023-02-27T10:57:55.967Z"
   },
   {
    "duration": 575,
    "start_time": "2023-02-27T10:58:09.199Z"
   },
   {
    "duration": 575,
    "start_time": "2023-02-27T10:58:39.155Z"
   },
   {
    "duration": 660,
    "start_time": "2023-02-27T10:58:43.400Z"
   },
   {
    "duration": 708,
    "start_time": "2023-02-27T10:58:49.288Z"
   },
   {
    "duration": 13,
    "start_time": "2023-02-27T11:00:28.364Z"
   },
   {
    "duration": 42,
    "start_time": "2023-02-27T11:01:11.790Z"
   },
   {
    "duration": 9,
    "start_time": "2023-02-27T11:01:18.093Z"
   },
   {
    "duration": 8,
    "start_time": "2023-02-27T11:01:33.700Z"
   },
   {
    "duration": 614,
    "start_time": "2023-02-27T11:02:04.189Z"
   },
   {
    "duration": 40,
    "start_time": "2023-02-27T11:02:12.748Z"
   },
   {
    "duration": 10,
    "start_time": "2023-02-27T11:02:42.628Z"
   },
   {
    "duration": 137,
    "start_time": "2023-02-27T11:02:51.100Z"
   },
   {
    "duration": 265,
    "start_time": "2023-02-27T11:03:33.870Z"
   },
   {
    "duration": 229,
    "start_time": "2023-02-27T11:03:47.472Z"
   },
   {
    "duration": 201,
    "start_time": "2023-02-27T11:03:51.308Z"
   },
   {
    "duration": 282,
    "start_time": "2023-02-27T11:04:50.855Z"
   },
   {
    "duration": 294,
    "start_time": "2023-02-27T11:04:56.390Z"
   },
   {
    "duration": 284,
    "start_time": "2023-02-27T11:05:11.081Z"
   },
   {
    "duration": 296,
    "start_time": "2023-02-27T11:05:15.081Z"
   },
   {
    "duration": 393,
    "start_time": "2023-02-27T11:05:23.116Z"
   },
   {
    "duration": 269,
    "start_time": "2023-02-27T11:05:31.390Z"
   },
   {
    "duration": 279,
    "start_time": "2023-02-27T11:05:40.828Z"
   },
   {
    "duration": 279,
    "start_time": "2023-02-27T11:05:50.116Z"
   },
   {
    "duration": 310,
    "start_time": "2023-02-27T11:05:53.700Z"
   },
   {
    "duration": 4,
    "start_time": "2023-02-27T11:06:00.501Z"
   },
   {
    "duration": 4,
    "start_time": "2023-02-27T11:06:04.776Z"
   },
   {
    "duration": 3,
    "start_time": "2023-02-27T11:06:11.508Z"
   },
   {
    "duration": 9,
    "start_time": "2023-02-27T11:06:16.589Z"
   },
   {
    "duration": 8,
    "start_time": "2023-02-27T11:06:19.381Z"
   },
   {
    "duration": 3,
    "start_time": "2023-02-27T11:06:22.820Z"
   },
   {
    "duration": 330,
    "start_time": "2023-02-27T11:06:27.793Z"
   },
   {
    "duration": 435,
    "start_time": "2023-02-27T11:06:35.256Z"
   },
   {
    "duration": 22,
    "start_time": "2023-02-27T11:07:25.792Z"
   },
   {
    "duration": 18,
    "start_time": "2023-02-27T11:07:36.081Z"
   },
   {
    "duration": 29,
    "start_time": "2023-02-27T11:08:34.004Z"
   },
   {
    "duration": 23,
    "start_time": "2023-02-27T11:08:57.388Z"
   },
   {
    "duration": 180,
    "start_time": "2023-02-27T11:09:43.724Z"
   },
   {
    "duration": 13,
    "start_time": "2023-02-27T11:09:52.082Z"
   },
   {
    "duration": 26,
    "start_time": "2023-02-27T11:09:57.236Z"
   },
   {
    "duration": 225,
    "start_time": "2023-02-27T11:11:21.117Z"
   },
   {
    "duration": 173,
    "start_time": "2023-02-27T11:11:37.860Z"
   },
   {
    "duration": 225,
    "start_time": "2023-02-27T11:11:48.684Z"
   },
   {
    "duration": 245,
    "start_time": "2023-02-27T11:12:01.220Z"
   },
   {
    "duration": 1323,
    "start_time": "2023-02-27T17:50:52.939Z"
   },
   {
    "duration": 558,
    "start_time": "2023-02-27T17:50:54.265Z"
   },
   {
    "duration": 39,
    "start_time": "2023-02-27T17:50:54.825Z"
   },
   {
    "duration": 14,
    "start_time": "2023-02-27T17:50:54.866Z"
   },
   {
    "duration": 13,
    "start_time": "2023-02-27T17:50:54.883Z"
   },
   {
    "duration": 35,
    "start_time": "2023-02-27T17:50:54.898Z"
   },
   {
    "duration": 17,
    "start_time": "2023-02-27T17:50:54.936Z"
   },
   {
    "duration": 24,
    "start_time": "2023-02-27T17:50:54.955Z"
   },
   {
    "duration": 98,
    "start_time": "2023-02-27T17:50:54.980Z"
   },
   {
    "duration": 29,
    "start_time": "2023-02-27T17:50:55.080Z"
   },
   {
    "duration": 38,
    "start_time": "2023-02-27T17:50:55.111Z"
   },
   {
    "duration": 7,
    "start_time": "2023-02-27T17:50:55.151Z"
   },
   {
    "duration": 8,
    "start_time": "2023-02-27T17:50:55.160Z"
   },
   {
    "duration": 26,
    "start_time": "2023-02-27T17:55:12.449Z"
   },
   {
    "duration": 29,
    "start_time": "2023-02-27T17:55:26.010Z"
   },
   {
    "duration": 22,
    "start_time": "2023-02-27T17:55:30.013Z"
   },
   {
    "duration": 18,
    "start_time": "2023-02-27T17:55:49.162Z"
   },
   {
    "duration": 28,
    "start_time": "2023-02-27T17:55:54.836Z"
   },
   {
    "duration": 95,
    "start_time": "2023-02-27T17:57:05.844Z"
   },
   {
    "duration": 78,
    "start_time": "2023-02-27T17:57:59.573Z"
   },
   {
    "duration": 20,
    "start_time": "2023-02-27T17:58:31.269Z"
   },
   {
    "duration": 12,
    "start_time": "2023-02-27T17:59:17.127Z"
   },
   {
    "duration": 25,
    "start_time": "2023-02-27T17:59:23.440Z"
   },
   {
    "duration": 22,
    "start_time": "2023-02-27T18:02:01.561Z"
   },
   {
    "duration": 22,
    "start_time": "2023-02-27T18:02:28.161Z"
   },
   {
    "duration": 26,
    "start_time": "2023-02-27T18:03:36.956Z"
   },
   {
    "duration": 113,
    "start_time": "2023-02-27T18:05:42.537Z"
   },
   {
    "duration": 15,
    "start_time": "2023-02-27T18:06:02.962Z"
   },
   {
    "duration": 23,
    "start_time": "2023-02-27T18:06:09.046Z"
   },
   {
    "duration": 691,
    "start_time": "2023-02-27T18:07:27.961Z"
   },
   {
    "duration": 189,
    "start_time": "2023-02-27T18:07:42.218Z"
   },
   {
    "duration": 180,
    "start_time": "2023-02-27T18:07:45.551Z"
   },
   {
    "duration": 713,
    "start_time": "2023-02-27T18:07:52.242Z"
   },
   {
    "duration": 93,
    "start_time": "2023-02-27T18:09:01.586Z"
   },
   {
    "duration": 284,
    "start_time": "2023-02-27T18:09:09.977Z"
   },
   {
    "duration": 189,
    "start_time": "2023-02-27T18:09:27.447Z"
   },
   {
    "duration": 744,
    "start_time": "2023-02-27T18:12:15.448Z"
   },
   {
    "duration": 37,
    "start_time": "2023-02-27T18:29:29.862Z"
   },
   {
    "duration": 7,
    "start_time": "2023-02-27T18:29:37.761Z"
   },
   {
    "duration": 33,
    "start_time": "2023-02-27T18:29:41.747Z"
   },
   {
    "duration": 15,
    "start_time": "2023-02-27T18:31:44.269Z"
   },
   {
    "duration": 15,
    "start_time": "2023-02-27T18:31:50.080Z"
   },
   {
    "duration": 14,
    "start_time": "2023-02-27T18:32:00.922Z"
   },
   {
    "duration": 19,
    "start_time": "2023-02-27T18:32:04.978Z"
   },
   {
    "duration": 20,
    "start_time": "2023-02-27T18:32:22.425Z"
   },
   {
    "duration": 17,
    "start_time": "2023-02-27T18:33:07.433Z"
   },
   {
    "duration": 25,
    "start_time": "2023-02-27T18:35:45.133Z"
   },
   {
    "duration": 1263,
    "start_time": "2023-02-27T18:36:01.310Z"
   },
   {
    "duration": 1283,
    "start_time": "2023-02-27T18:36:04.498Z"
   },
   {
    "duration": 23,
    "start_time": "2023-02-27T18:36:32.935Z"
   },
   {
    "duration": 23,
    "start_time": "2023-02-27T18:36:50.537Z"
   },
   {
    "duration": 16,
    "start_time": "2023-02-27T18:37:16.174Z"
   },
   {
    "duration": 16,
    "start_time": "2023-02-27T18:37:29.273Z"
   },
   {
    "duration": 18,
    "start_time": "2023-02-27T18:37:32.838Z"
   },
   {
    "duration": 15,
    "start_time": "2023-02-27T18:37:37.363Z"
   },
   {
    "duration": 12,
    "start_time": "2023-02-27T18:37:55.236Z"
   },
   {
    "duration": 16,
    "start_time": "2023-02-27T18:38:19.702Z"
   },
   {
    "duration": 15,
    "start_time": "2023-02-27T18:38:33.180Z"
   },
   {
    "duration": 19,
    "start_time": "2023-02-27T18:38:48.617Z"
   },
   {
    "duration": 17,
    "start_time": "2023-02-27T18:38:55.595Z"
   },
   {
    "duration": 16,
    "start_time": "2023-02-27T18:38:57.564Z"
   },
   {
    "duration": 8,
    "start_time": "2023-02-27T18:39:05.714Z"
   },
   {
    "duration": 16,
    "start_time": "2023-02-27T18:42:30.713Z"
   },
   {
    "duration": 7,
    "start_time": "2023-02-27T18:42:40.082Z"
   },
   {
    "duration": 9,
    "start_time": "2023-02-27T18:42:47.405Z"
   },
   {
    "duration": 7,
    "start_time": "2023-02-27T18:43:02.196Z"
   },
   {
    "duration": 75,
    "start_time": "2023-02-27T18:45:20.551Z"
   },
   {
    "duration": 6,
    "start_time": "2023-02-27T18:46:59.899Z"
   },
   {
    "duration": 1281,
    "start_time": "2023-02-27T18:47:34.623Z"
   },
   {
    "duration": 13,
    "start_time": "2023-02-27T18:48:06.785Z"
   },
   {
    "duration": 122,
    "start_time": "2023-02-27T18:50:18.919Z"
   },
   {
    "duration": 104,
    "start_time": "2023-02-27T18:50:28.306Z"
   },
   {
    "duration": 100,
    "start_time": "2023-02-27T18:50:38.565Z"
   },
   {
    "duration": 9,
    "start_time": "2023-02-27T18:52:38.513Z"
   },
   {
    "duration": 9,
    "start_time": "2023-02-27T18:52:58.876Z"
   },
   {
    "duration": 8,
    "start_time": "2023-02-27T18:53:04.070Z"
   },
   {
    "duration": 83,
    "start_time": "2023-02-27T18:54:36.066Z"
   },
   {
    "duration": 15,
    "start_time": "2023-02-27T18:54:45.996Z"
   },
   {
    "duration": 21,
    "start_time": "2023-02-27T18:54:50.897Z"
   },
   {
    "duration": 31,
    "start_time": "2023-02-27T18:55:04.898Z"
   },
   {
    "duration": 122,
    "start_time": "2023-02-27T18:55:27.737Z"
   },
   {
    "duration": 20,
    "start_time": "2023-02-27T18:55:33.260Z"
   },
   {
    "duration": 131,
    "start_time": "2023-02-27T18:57:11.889Z"
   },
   {
    "duration": 20,
    "start_time": "2023-02-27T18:57:48.708Z"
   },
   {
    "duration": 30,
    "start_time": "2023-02-27T18:57:53.608Z"
   },
   {
    "duration": 16,
    "start_time": "2023-02-27T18:57:58.608Z"
   },
   {
    "duration": 115,
    "start_time": "2023-02-27T18:58:18.085Z"
   },
   {
    "duration": 114,
    "start_time": "2023-02-27T18:58:40.770Z"
   },
   {
    "duration": 1301,
    "start_time": "2023-02-27T20:38:35.129Z"
   },
   {
    "duration": 107,
    "start_time": "2023-02-27T20:38:36.432Z"
   },
   {
    "duration": 34,
    "start_time": "2023-02-27T20:38:36.541Z"
   },
   {
    "duration": 16,
    "start_time": "2023-02-27T20:38:36.576Z"
   },
   {
    "duration": 10,
    "start_time": "2023-02-27T20:38:36.593Z"
   },
   {
    "duration": 14,
    "start_time": "2023-02-27T20:38:36.605Z"
   },
   {
    "duration": 27,
    "start_time": "2023-02-27T20:38:36.621Z"
   },
   {
    "duration": 31,
    "start_time": "2023-02-27T20:38:36.650Z"
   },
   {
    "duration": 67,
    "start_time": "2023-02-27T20:38:36.698Z"
   },
   {
    "duration": 40,
    "start_time": "2023-02-27T20:38:36.767Z"
   },
   {
    "duration": 31,
    "start_time": "2023-02-27T20:38:36.809Z"
   },
   {
    "duration": 11,
    "start_time": "2023-02-27T20:38:36.842Z"
   },
   {
    "duration": 12,
    "start_time": "2023-02-27T20:38:36.854Z"
   },
   {
    "duration": 105,
    "start_time": "2023-02-27T20:38:36.867Z"
   },
   {
    "duration": 27,
    "start_time": "2023-02-27T20:38:36.974Z"
   },
   {
    "duration": 763,
    "start_time": "2023-02-27T20:38:37.004Z"
   },
   {
    "duration": 17,
    "start_time": "2023-02-27T20:38:37.769Z"
   },
   {
    "duration": 12,
    "start_time": "2023-02-27T20:38:37.799Z"
   },
   {
    "duration": 19,
    "start_time": "2023-02-27T20:40:54.069Z"
   },
   {
    "duration": 118,
    "start_time": "2023-02-27T20:42:11.226Z"
   },
   {
    "duration": 123,
    "start_time": "2023-02-27T20:42:20.591Z"
   },
   {
    "duration": 130,
    "start_time": "2023-02-27T20:42:34.433Z"
   },
   {
    "duration": 145,
    "start_time": "2023-02-27T20:42:44.668Z"
   },
   {
    "duration": 137,
    "start_time": "2023-02-27T20:42:51.886Z"
   },
   {
    "duration": 200,
    "start_time": "2023-02-27T20:43:00.511Z"
   },
   {
    "duration": 127,
    "start_time": "2023-02-27T20:43:03.336Z"
   },
   {
    "duration": 115,
    "start_time": "2023-02-27T20:43:19.853Z"
   },
   {
    "duration": 110,
    "start_time": "2023-02-27T20:44:49.274Z"
   },
   {
    "duration": 93,
    "start_time": "2023-02-27T20:45:15.310Z"
   },
   {
    "duration": 95,
    "start_time": "2023-02-27T20:45:18.157Z"
   },
   {
    "duration": 7,
    "start_time": "2023-02-27T20:45:52.625Z"
   },
   {
    "duration": 5,
    "start_time": "2023-02-27T20:46:22.673Z"
   },
   {
    "duration": 6,
    "start_time": "2023-02-27T20:46:58.910Z"
   },
   {
    "duration": 243,
    "start_time": "2023-02-27T20:48:47.526Z"
   },
   {
    "duration": 104,
    "start_time": "2023-02-27T20:49:08.183Z"
   },
   {
    "duration": 110,
    "start_time": "2023-02-27T20:52:19.465Z"
   },
   {
    "duration": 57,
    "start_time": "2023-02-27T20:58:17.923Z"
   },
   {
    "duration": 19,
    "start_time": "2023-02-27T20:58:26.571Z"
   },
   {
    "duration": 320,
    "start_time": "2023-02-27T20:58:26.592Z"
   },
   {
    "duration": 0,
    "start_time": "2023-02-27T20:58:26.914Z"
   },
   {
    "duration": 0,
    "start_time": "2023-02-27T20:58:26.915Z"
   },
   {
    "duration": 12,
    "start_time": "2023-02-27T21:01:16.421Z"
   },
   {
    "duration": 13,
    "start_time": "2023-02-27T21:01:32.834Z"
   },
   {
    "duration": 24,
    "start_time": "2023-02-27T21:02:16.426Z"
   },
   {
    "duration": 137,
    "start_time": "2023-02-27T21:05:20.672Z"
   },
   {
    "duration": 395,
    "start_time": "2023-02-27T21:05:37.914Z"
   },
   {
    "duration": 276,
    "start_time": "2023-02-27T21:05:44.752Z"
   },
   {
    "duration": 257,
    "start_time": "2023-02-27T21:05:50.716Z"
   },
   {
    "duration": 91,
    "start_time": "2023-02-27T21:06:08.102Z"
   },
   {
    "duration": 90,
    "start_time": "2023-02-27T21:06:14.175Z"
   },
   {
    "duration": 92,
    "start_time": "2023-02-27T21:06:17.323Z"
   },
   {
    "duration": 99,
    "start_time": "2023-02-27T21:06:22.887Z"
   },
   {
    "duration": 3,
    "start_time": "2023-02-27T21:07:16.378Z"
   },
   {
    "duration": 52,
    "start_time": "2023-02-27T21:07:16.383Z"
   },
   {
    "duration": 31,
    "start_time": "2023-02-27T21:07:16.437Z"
   },
   {
    "duration": 15,
    "start_time": "2023-02-27T21:07:16.469Z"
   },
   {
    "duration": 18,
    "start_time": "2023-02-27T21:07:16.487Z"
   },
   {
    "duration": 12,
    "start_time": "2023-02-27T21:07:16.507Z"
   },
   {
    "duration": 14,
    "start_time": "2023-02-27T21:07:16.521Z"
   },
   {
    "duration": 28,
    "start_time": "2023-02-27T21:07:16.537Z"
   },
   {
    "duration": 93,
    "start_time": "2023-02-27T21:07:16.567Z"
   },
   {
    "duration": 22,
    "start_time": "2023-02-27T21:07:16.662Z"
   },
   {
    "duration": 25,
    "start_time": "2023-02-27T21:07:16.700Z"
   },
   {
    "duration": 7,
    "start_time": "2023-02-27T21:07:16.727Z"
   },
   {
    "duration": 11,
    "start_time": "2023-02-27T21:07:16.736Z"
   },
   {
    "duration": 106,
    "start_time": "2023-02-27T21:07:16.750Z"
   },
   {
    "duration": 16,
    "start_time": "2023-02-27T21:07:16.857Z"
   },
   {
    "duration": 727,
    "start_time": "2023-02-27T21:07:16.874Z"
   },
   {
    "duration": 15,
    "start_time": "2023-02-27T21:07:17.603Z"
   },
   {
    "duration": 6,
    "start_time": "2023-02-27T21:07:17.620Z"
   },
   {
    "duration": 131,
    "start_time": "2023-02-27T21:07:17.628Z"
   },
   {
    "duration": 208,
    "start_time": "2023-02-27T21:07:17.761Z"
   },
   {
    "duration": 113,
    "start_time": "2023-02-27T21:07:17.971Z"
   },
   {
    "duration": 97,
    "start_time": "2023-02-27T21:07:18.086Z"
   },
   {
    "duration": 95,
    "start_time": "2023-02-27T21:07:18.185Z"
   },
   {
    "duration": 295,
    "start_time": "2023-02-27T21:07:18.282Z"
   },
   {
    "duration": 23,
    "start_time": "2023-02-27T21:07:34.967Z"
   },
   {
    "duration": 9,
    "start_time": "2023-02-27T21:08:05.821Z"
   },
   {
    "duration": 7,
    "start_time": "2023-02-27T21:08:13.460Z"
   },
   {
    "duration": 10,
    "start_time": "2023-02-27T21:08:24.109Z"
   },
   {
    "duration": 6,
    "start_time": "2023-02-27T21:08:31.213Z"
   },
   {
    "duration": 7,
    "start_time": "2023-02-27T21:08:35.443Z"
   },
   {
    "duration": 29,
    "start_time": "2023-02-27T21:09:22.945Z"
   },
   {
    "duration": 6,
    "start_time": "2023-02-27T21:09:44.937Z"
   },
   {
    "duration": 6,
    "start_time": "2023-02-27T21:09:51.227Z"
   },
   {
    "duration": 4,
    "start_time": "2023-02-27T21:58:30.256Z"
   },
   {
    "duration": 92,
    "start_time": "2023-02-27T21:58:30.263Z"
   },
   {
    "duration": 45,
    "start_time": "2023-02-27T21:58:30.357Z"
   },
   {
    "duration": 23,
    "start_time": "2023-02-27T21:58:30.405Z"
   },
   {
    "duration": 31,
    "start_time": "2023-02-27T21:58:30.431Z"
   },
   {
    "duration": 38,
    "start_time": "2023-02-27T21:58:30.464Z"
   },
   {
    "duration": 20,
    "start_time": "2023-02-27T21:58:30.505Z"
   },
   {
    "duration": 69,
    "start_time": "2023-02-27T21:58:30.527Z"
   },
   {
    "duration": 71,
    "start_time": "2023-02-27T21:58:30.598Z"
   },
   {
    "duration": 37,
    "start_time": "2023-02-27T21:58:30.672Z"
   },
   {
    "duration": 54,
    "start_time": "2023-02-27T21:58:30.711Z"
   },
   {
    "duration": 36,
    "start_time": "2023-02-27T21:58:30.767Z"
   },
   {
    "duration": 37,
    "start_time": "2023-02-27T21:58:30.804Z"
   },
   {
    "duration": 118,
    "start_time": "2023-02-27T21:58:30.843Z"
   },
   {
    "duration": 17,
    "start_time": "2023-02-27T21:58:30.963Z"
   },
   {
    "duration": 757,
    "start_time": "2023-02-27T21:58:30.982Z"
   },
   {
    "duration": 20,
    "start_time": "2023-02-27T21:58:31.741Z"
   },
   {
    "duration": 13,
    "start_time": "2023-02-27T21:58:31.764Z"
   },
   {
    "duration": 163,
    "start_time": "2023-02-27T21:58:31.780Z"
   },
   {
    "duration": 154,
    "start_time": "2023-02-27T21:58:31.945Z"
   },
   {
    "duration": 135,
    "start_time": "2023-02-27T21:58:32.101Z"
   },
   {
    "duration": 230,
    "start_time": "2023-02-27T21:58:32.238Z"
   },
   {
    "duration": 100,
    "start_time": "2023-02-27T21:58:32.470Z"
   },
   {
    "duration": 440,
    "start_time": "2023-02-27T21:58:38.385Z"
   },
   {
    "duration": 448,
    "start_time": "2023-02-27T21:59:42.765Z"
   },
   {
    "duration": 165,
    "start_time": "2023-02-27T22:00:26.031Z"
   },
   {
    "duration": 15,
    "start_time": "2023-02-27T22:00:53.422Z"
   },
   {
    "duration": 708,
    "start_time": "2023-02-27T22:01:37.290Z"
   },
   {
    "duration": 8,
    "start_time": "2023-02-27T22:01:46.362Z"
   },
   {
    "duration": 19,
    "start_time": "2023-02-27T22:03:01.635Z"
   },
   {
    "duration": 12,
    "start_time": "2023-02-27T22:03:20.922Z"
   },
   {
    "duration": 15,
    "start_time": "2023-02-27T22:03:35.004Z"
   },
   {
    "duration": 16,
    "start_time": "2023-02-27T22:03:46.222Z"
   },
   {
    "duration": 31,
    "start_time": "2023-02-27T22:04:28.840Z"
   },
   {
    "duration": 18,
    "start_time": "2023-02-27T22:05:03.143Z"
   },
   {
    "duration": 11,
    "start_time": "2023-02-27T22:05:11.923Z"
   },
   {
    "duration": 40,
    "start_time": "2023-02-27T22:05:24.741Z"
   },
   {
    "duration": 17,
    "start_time": "2023-02-27T22:05:39.028Z"
   },
   {
    "duration": 18,
    "start_time": "2023-02-27T22:05:44.779Z"
   },
   {
    "duration": 16,
    "start_time": "2023-02-27T22:06:13.795Z"
   },
   {
    "duration": 17,
    "start_time": "2023-02-27T22:06:19.726Z"
   },
   {
    "duration": 13,
    "start_time": "2023-02-27T22:06:27.641Z"
   },
   {
    "duration": 15,
    "start_time": "2023-02-27T22:06:44.126Z"
   },
   {
    "duration": 13,
    "start_time": "2023-02-27T22:06:53.175Z"
   },
   {
    "duration": 11,
    "start_time": "2023-02-27T22:07:20.431Z"
   },
   {
    "duration": 11,
    "start_time": "2023-02-27T22:07:26.033Z"
   },
   {
    "duration": 15,
    "start_time": "2023-02-27T22:07:33.942Z"
   },
   {
    "duration": 20,
    "start_time": "2023-02-27T22:07:48.961Z"
   },
   {
    "duration": 9,
    "start_time": "2023-02-27T22:08:16.736Z"
   },
   {
    "duration": 11,
    "start_time": "2023-02-27T22:08:32.171Z"
   },
   {
    "duration": 20,
    "start_time": "2023-02-27T22:08:47.889Z"
   },
   {
    "duration": 6,
    "start_time": "2023-02-27T22:08:58.859Z"
   },
   {
    "duration": 3,
    "start_time": "2023-02-27T22:09:02.823Z"
   },
   {
    "duration": 68,
    "start_time": "2023-02-27T22:09:02.828Z"
   },
   {
    "duration": 34,
    "start_time": "2023-02-27T22:09:02.898Z"
   },
   {
    "duration": 14,
    "start_time": "2023-02-27T22:09:02.934Z"
   },
   {
    "duration": 8,
    "start_time": "2023-02-27T22:09:02.950Z"
   },
   {
    "duration": 42,
    "start_time": "2023-02-27T22:09:02.960Z"
   },
   {
    "duration": 15,
    "start_time": "2023-02-27T22:09:03.004Z"
   },
   {
    "duration": 29,
    "start_time": "2023-02-27T22:09:03.021Z"
   },
   {
    "duration": 88,
    "start_time": "2023-02-27T22:09:03.052Z"
   },
   {
    "duration": 23,
    "start_time": "2023-02-27T22:09:03.142Z"
   },
   {
    "duration": 44,
    "start_time": "2023-02-27T22:09:03.167Z"
   },
   {
    "duration": 10,
    "start_time": "2023-02-27T22:09:03.212Z"
   },
   {
    "duration": 12,
    "start_time": "2023-02-27T22:09:03.224Z"
   },
   {
    "duration": 103,
    "start_time": "2023-02-27T22:09:03.238Z"
   },
   {
    "duration": 17,
    "start_time": "2023-02-27T22:09:03.343Z"
   },
   {
    "duration": 835,
    "start_time": "2023-02-27T22:09:03.362Z"
   },
   {
    "duration": 18,
    "start_time": "2023-02-27T22:09:04.199Z"
   },
   {
    "duration": 8,
    "start_time": "2023-02-27T22:09:04.219Z"
   },
   {
    "duration": 156,
    "start_time": "2023-02-27T22:09:04.229Z"
   },
   {
    "duration": 132,
    "start_time": "2023-02-27T22:09:04.387Z"
   },
   {
    "duration": 122,
    "start_time": "2023-02-27T22:09:04.521Z"
   },
   {
    "duration": 113,
    "start_time": "2023-02-27T22:09:04.645Z"
   },
   {
    "duration": 229,
    "start_time": "2023-02-27T22:09:04.760Z"
   },
   {
    "duration": 7,
    "start_time": "2023-02-27T22:09:18.466Z"
   },
   {
    "duration": 429,
    "start_time": "2023-02-27T22:09:53.245Z"
   },
   {
    "duration": 141,
    "start_time": "2023-02-27T22:10:51.226Z"
   },
   {
    "duration": 436,
    "start_time": "2023-02-27T22:11:37.052Z"
   },
   {
    "duration": 285,
    "start_time": "2023-02-27T22:11:40.922Z"
   },
   {
    "duration": 458,
    "start_time": "2023-02-27T22:12:01.528Z"
   },
   {
    "duration": 261,
    "start_time": "2023-02-27T22:12:16.022Z"
   },
   {
    "duration": 280,
    "start_time": "2023-02-27T22:12:31.431Z"
   },
   {
    "duration": 144,
    "start_time": "2023-02-27T22:12:47.576Z"
   },
   {
    "duration": 171,
    "start_time": "2023-02-27T22:13:03.044Z"
   },
   {
    "duration": 10,
    "start_time": "2023-02-27T22:13:08.112Z"
   },
   {
    "duration": 8,
    "start_time": "2023-02-27T22:13:14.424Z"
   },
   {
    "duration": 154,
    "start_time": "2023-02-27T22:13:28.286Z"
   },
   {
    "duration": 131,
    "start_time": "2023-02-27T22:13:59.569Z"
   },
   {
    "duration": 272,
    "start_time": "2023-02-27T22:14:16.621Z"
   },
   {
    "duration": 296,
    "start_time": "2023-02-27T22:14:48.495Z"
   },
   {
    "duration": 422,
    "start_time": "2023-02-27T22:15:02.437Z"
   },
   {
    "duration": 277,
    "start_time": "2023-02-27T22:15:36.482Z"
   },
   {
    "duration": 302,
    "start_time": "2023-02-27T22:16:22.475Z"
   },
   {
    "duration": 1377,
    "start_time": "2023-02-28T01:44:48.904Z"
   },
   {
    "duration": 199,
    "start_time": "2023-02-28T01:44:50.283Z"
   },
   {
    "duration": 40,
    "start_time": "2023-02-28T01:44:50.484Z"
   },
   {
    "duration": 120,
    "start_time": "2023-02-28T01:44:50.527Z"
   },
   {
    "duration": 9,
    "start_time": "2023-02-28T01:44:50.649Z"
   },
   {
    "duration": 13,
    "start_time": "2023-02-28T01:44:50.659Z"
   },
   {
    "duration": 13,
    "start_time": "2023-02-28T01:44:50.674Z"
   },
   {
    "duration": 61,
    "start_time": "2023-02-28T01:44:50.689Z"
   },
   {
    "duration": 71,
    "start_time": "2023-02-28T01:44:50.751Z"
   },
   {
    "duration": 40,
    "start_time": "2023-02-28T01:44:50.825Z"
   },
   {
    "duration": 27,
    "start_time": "2023-02-28T01:44:50.867Z"
   },
   {
    "duration": 9,
    "start_time": "2023-02-28T01:44:50.896Z"
   },
   {
    "duration": 45,
    "start_time": "2023-02-28T01:44:50.906Z"
   },
   {
    "duration": 81,
    "start_time": "2023-02-28T01:44:50.953Z"
   },
   {
    "duration": 14,
    "start_time": "2023-02-28T01:44:51.045Z"
   },
   {
    "duration": 885,
    "start_time": "2023-02-28T01:44:51.061Z"
   },
   {
    "duration": 18,
    "start_time": "2023-02-28T01:44:51.948Z"
   },
   {
    "duration": 12,
    "start_time": "2023-02-28T01:44:51.968Z"
   },
   {
    "duration": 141,
    "start_time": "2023-02-28T01:44:51.981Z"
   },
   {
    "duration": 130,
    "start_time": "2023-02-28T01:44:52.124Z"
   },
   {
    "duration": 117,
    "start_time": "2023-02-28T01:44:52.256Z"
   },
   {
    "duration": 103,
    "start_time": "2023-02-28T01:44:52.375Z"
   },
   {
    "duration": 101,
    "start_time": "2023-02-28T01:44:52.480Z"
   },
   {
    "duration": 375,
    "start_time": "2023-02-28T01:44:52.582Z"
   },
   {
    "duration": 108,
    "start_time": "2023-02-28T01:48:10.005Z"
   },
   {
    "duration": 6,
    "start_time": "2023-02-28T01:48:40.575Z"
   },
   {
    "duration": 1125,
    "start_time": "2023-02-28T01:49:58.296Z"
   },
   {
    "duration": 1184,
    "start_time": "2023-02-28T01:52:25.425Z"
   },
   {
    "duration": 1254,
    "start_time": "2023-02-28T01:52:40.704Z"
   },
   {
    "duration": 1169,
    "start_time": "2023-02-28T01:52:54.640Z"
   },
   {
    "duration": 275,
    "start_time": "2023-02-28T01:55:22.739Z"
   },
   {
    "duration": 369,
    "start_time": "2023-02-28T01:57:51.889Z"
   },
   {
    "duration": 2544,
    "start_time": "2023-02-28T01:59:00.602Z"
   },
   {
    "duration": 2528,
    "start_time": "2023-02-28T02:00:25.092Z"
   },
   {
    "duration": 13,
    "start_time": "2023-02-28T02:08:30.780Z"
   },
   {
    "duration": 16,
    "start_time": "2023-02-28T02:09:36.258Z"
   },
   {
    "duration": 9,
    "start_time": "2023-02-28T02:10:49.832Z"
   },
   {
    "duration": 9,
    "start_time": "2023-02-28T02:11:06.644Z"
   },
   {
    "duration": 5,
    "start_time": "2023-02-28T02:11:41.730Z"
   },
   {
    "duration": 20,
    "start_time": "2023-02-28T02:11:53.341Z"
   },
   {
    "duration": 24,
    "start_time": "2023-02-28T02:12:16.566Z"
   },
   {
    "duration": 9,
    "start_time": "2023-02-28T02:13:56.984Z"
   },
   {
    "duration": 17,
    "start_time": "2023-02-28T02:14:02.092Z"
   },
   {
    "duration": 1174,
    "start_time": "2023-02-28T03:24:07.327Z"
   },
   {
    "duration": 1209,
    "start_time": "2023-02-28T03:24:25.519Z"
   },
   {
    "duration": 1136,
    "start_time": "2023-02-28T03:24:46.530Z"
   },
   {
    "duration": 1205,
    "start_time": "2023-02-28T03:36:34.566Z"
   },
   {
    "duration": 196,
    "start_time": "2023-02-28T03:36:35.773Z"
   },
   {
    "duration": 38,
    "start_time": "2023-02-28T03:36:35.970Z"
   },
   {
    "duration": 15,
    "start_time": "2023-02-28T03:36:36.009Z"
   },
   {
    "duration": 18,
    "start_time": "2023-02-28T03:36:36.027Z"
   },
   {
    "duration": 13,
    "start_time": "2023-02-28T03:36:36.047Z"
   },
   {
    "duration": 15,
    "start_time": "2023-02-28T03:36:36.062Z"
   },
   {
    "duration": 35,
    "start_time": "2023-02-28T03:36:36.079Z"
   },
   {
    "duration": 76,
    "start_time": "2023-02-28T03:36:36.145Z"
   },
   {
    "duration": 33,
    "start_time": "2023-02-28T03:36:36.222Z"
   },
   {
    "duration": 23,
    "start_time": "2023-02-28T03:36:36.257Z"
   },
   {
    "duration": 7,
    "start_time": "2023-02-28T03:36:36.282Z"
   },
   {
    "duration": 15,
    "start_time": "2023-02-28T03:36:36.291Z"
   },
   {
    "duration": 107,
    "start_time": "2023-02-28T03:36:36.309Z"
   },
   {
    "duration": 32,
    "start_time": "2023-02-28T03:36:36.418Z"
   },
   {
    "duration": 714,
    "start_time": "2023-02-28T03:36:36.451Z"
   },
   {
    "duration": 15,
    "start_time": "2023-02-28T03:36:37.167Z"
   },
   {
    "duration": 23,
    "start_time": "2023-02-28T03:36:37.184Z"
   },
   {
    "duration": 128,
    "start_time": "2023-02-28T03:36:37.208Z"
   },
   {
    "duration": 120,
    "start_time": "2023-02-28T03:36:37.337Z"
   },
   {
    "duration": 118,
    "start_time": "2023-02-28T03:36:37.459Z"
   },
   {
    "duration": 112,
    "start_time": "2023-02-28T03:36:37.579Z"
   },
   {
    "duration": 104,
    "start_time": "2023-02-28T03:36:37.693Z"
   },
   {
    "duration": 370,
    "start_time": "2023-02-28T03:36:37.799Z"
   },
   {
    "duration": 2613,
    "start_time": "2023-02-28T03:36:38.171Z"
   },
   {
    "duration": 14,
    "start_time": "2023-02-28T03:36:40.785Z"
   },
   {
    "duration": 1181,
    "start_time": "2023-02-28T03:45:45.084Z"
   },
   {
    "duration": 3,
    "start_time": "2023-02-28T03:47:18.176Z"
   },
   {
    "duration": 3,
    "start_time": "2023-02-28T03:47:27.096Z"
   },
   {
    "duration": 197,
    "start_time": "2023-02-28T03:47:27.101Z"
   },
   {
    "duration": 33,
    "start_time": "2023-02-28T03:47:27.300Z"
   },
   {
    "duration": 16,
    "start_time": "2023-02-28T03:47:27.336Z"
   },
   {
    "duration": 10,
    "start_time": "2023-02-28T03:47:27.353Z"
   },
   {
    "duration": 12,
    "start_time": "2023-02-28T03:47:27.395Z"
   },
   {
    "duration": 11,
    "start_time": "2023-02-28T03:47:27.410Z"
   },
   {
    "duration": 30,
    "start_time": "2023-02-28T03:47:27.423Z"
   },
   {
    "duration": 73,
    "start_time": "2023-02-28T03:47:27.455Z"
   },
   {
    "duration": 21,
    "start_time": "2023-02-28T03:47:27.544Z"
   },
   {
    "duration": 26,
    "start_time": "2023-02-28T03:47:27.567Z"
   },
   {
    "duration": 8,
    "start_time": "2023-02-28T03:47:27.595Z"
   },
   {
    "duration": 10,
    "start_time": "2023-02-28T03:47:27.605Z"
   },
   {
    "duration": 107,
    "start_time": "2023-02-28T03:47:27.617Z"
   },
   {
    "duration": 16,
    "start_time": "2023-02-28T03:47:27.744Z"
   },
   {
    "duration": 771,
    "start_time": "2023-02-28T03:47:27.761Z"
   },
   {
    "duration": 23,
    "start_time": "2023-02-28T03:47:28.534Z"
   },
   {
    "duration": 6,
    "start_time": "2023-02-28T03:47:28.559Z"
   },
   {
    "duration": 133,
    "start_time": "2023-02-28T03:47:28.568Z"
   },
   {
    "duration": 111,
    "start_time": "2023-02-28T03:47:28.703Z"
   },
   {
    "duration": 112,
    "start_time": "2023-02-28T03:47:28.815Z"
   },
   {
    "duration": 105,
    "start_time": "2023-02-28T03:47:28.928Z"
   },
   {
    "duration": 97,
    "start_time": "2023-02-28T03:47:29.034Z"
   },
   {
    "duration": 373,
    "start_time": "2023-02-28T03:47:29.133Z"
   },
   {
    "duration": 2753,
    "start_time": "2023-02-28T03:47:29.508Z"
   },
   {
    "duration": 16,
    "start_time": "2023-02-28T03:47:32.262Z"
   },
   {
    "duration": 120,
    "start_time": "2023-02-28T03:47:43.472Z"
   },
   {
    "duration": 15,
    "start_time": "2023-02-28T03:47:59.337Z"
   },
   {
    "duration": 29,
    "start_time": "2023-02-28T03:50:07.685Z"
   },
   {
    "duration": 18,
    "start_time": "2023-02-28T03:54:03.636Z"
   },
   {
    "duration": 290,
    "start_time": "2023-02-28T03:55:13.064Z"
   },
   {
    "duration": 16,
    "start_time": "2023-02-28T03:58:40.204Z"
   },
   {
    "duration": 406,
    "start_time": "2023-02-28T03:59:14.233Z"
   },
   {
    "duration": 366,
    "start_time": "2023-02-28T03:59:26.176Z"
   },
   {
    "duration": 17,
    "start_time": "2023-02-28T04:01:11.672Z"
   },
   {
    "duration": 15,
    "start_time": "2023-02-28T04:01:56.585Z"
   },
   {
    "duration": 21,
    "start_time": "2023-02-28T04:02:19.785Z"
   },
   {
    "duration": 16,
    "start_time": "2023-02-28T04:02:42.276Z"
   },
   {
    "duration": 16,
    "start_time": "2023-02-28T04:03:04.096Z"
   },
   {
    "duration": 15,
    "start_time": "2023-02-28T04:03:50.899Z"
   },
   {
    "duration": 29,
    "start_time": "2023-02-28T04:04:02.264Z"
   },
   {
    "duration": 12,
    "start_time": "2023-02-28T04:04:27.084Z"
   },
   {
    "duration": 13,
    "start_time": "2023-02-28T04:04:41.419Z"
   },
   {
    "duration": 13,
    "start_time": "2023-02-28T04:04:44.823Z"
   },
   {
    "duration": 4,
    "start_time": "2023-02-28T04:04:54.936Z"
   },
   {
    "duration": 23,
    "start_time": "2023-02-28T04:04:56.965Z"
   },
   {
    "duration": 13,
    "start_time": "2023-02-28T04:05:56.744Z"
   },
   {
    "duration": 17,
    "start_time": "2023-02-28T04:06:02.704Z"
   },
   {
    "duration": 17,
    "start_time": "2023-02-28T04:06:20.946Z"
   },
   {
    "duration": 18,
    "start_time": "2023-02-28T04:06:27.145Z"
   },
   {
    "duration": 17,
    "start_time": "2023-02-28T04:06:54.077Z"
   },
   {
    "duration": 18,
    "start_time": "2023-02-28T04:07:02.523Z"
   },
   {
    "duration": 17,
    "start_time": "2023-02-28T04:07:15.312Z"
   },
   {
    "duration": 18,
    "start_time": "2023-02-28T04:07:21.685Z"
   },
   {
    "duration": 17,
    "start_time": "2023-02-28T04:07:22.692Z"
   },
   {
    "duration": 1121,
    "start_time": "2023-02-28T04:07:24.684Z"
   },
   {
    "duration": 1307,
    "start_time": "2023-02-28T04:07:30.624Z"
   },
   {
    "duration": 17,
    "start_time": "2023-02-28T04:07:45.333Z"
   },
   {
    "duration": 17,
    "start_time": "2023-02-28T04:09:06.736Z"
   },
   {
    "duration": 74,
    "start_time": "2023-02-28T04:13:47.046Z"
   },
   {
    "duration": 19,
    "start_time": "2023-02-28T04:14:46.670Z"
   },
   {
    "duration": 17,
    "start_time": "2023-02-28T04:15:35.610Z"
   },
   {
    "duration": 19,
    "start_time": "2023-02-28T04:16:13.615Z"
   },
   {
    "duration": 239,
    "start_time": "2023-02-28T04:33:22.845Z"
   },
   {
    "duration": 15,
    "start_time": "2023-02-28T04:33:46.411Z"
   },
   {
    "duration": 6,
    "start_time": "2023-02-28T04:34:20.447Z"
   },
   {
    "duration": 23,
    "start_time": "2023-02-28T04:37:19.975Z"
   },
   {
    "duration": 16,
    "start_time": "2023-02-28T04:39:05.674Z"
   },
   {
    "duration": 148,
    "start_time": "2023-02-28T04:39:51.563Z"
   },
   {
    "duration": 1140,
    "start_time": "2023-02-28T04:40:44.762Z"
   },
   {
    "duration": 150,
    "start_time": "2023-02-28T04:40:57.803Z"
   },
   {
    "duration": 163,
    "start_time": "2023-02-28T04:43:23.094Z"
   },
   {
    "duration": 397,
    "start_time": "2023-02-28T04:43:34.303Z"
   },
   {
    "duration": 217,
    "start_time": "2023-02-28T04:44:05.935Z"
   },
   {
    "duration": 251,
    "start_time": "2023-02-28T04:45:03.377Z"
   },
   {
    "duration": 191,
    "start_time": "2023-02-28T04:45:31.783Z"
   },
   {
    "duration": 181,
    "start_time": "2023-02-28T05:07:57.295Z"
   },
   {
    "duration": 201,
    "start_time": "2023-02-28T05:08:03.483Z"
   },
   {
    "duration": 3,
    "start_time": "2023-02-28T05:10:20.817Z"
   },
   {
    "duration": 1173,
    "start_time": "2023-02-28T05:17:14.816Z"
   },
   {
    "duration": 1126,
    "start_time": "2023-02-28T05:17:40.611Z"
   },
   {
    "duration": 29,
    "start_time": "2023-02-28T05:18:05.168Z"
   },
   {
    "duration": 12,
    "start_time": "2023-02-28T05:18:29.075Z"
   },
   {
    "duration": 12,
    "start_time": "2023-02-28T05:18:45.896Z"
   },
   {
    "duration": 7,
    "start_time": "2023-02-28T05:18:56.135Z"
   },
   {
    "duration": 7,
    "start_time": "2023-02-28T05:20:48.950Z"
   },
   {
    "duration": 11,
    "start_time": "2023-02-28T05:21:18.215Z"
   },
   {
    "duration": 9,
    "start_time": "2023-02-28T05:21:25.855Z"
   },
   {
    "duration": 10,
    "start_time": "2023-02-28T05:24:05.440Z"
   },
   {
    "duration": 6,
    "start_time": "2023-02-28T05:24:10.956Z"
   },
   {
    "duration": 8,
    "start_time": "2023-02-28T05:24:16.556Z"
   },
   {
    "duration": 17,
    "start_time": "2023-02-28T05:35:06.596Z"
   },
   {
    "duration": 10,
    "start_time": "2023-02-28T05:36:11.495Z"
   },
   {
    "duration": 8,
    "start_time": "2023-02-28T05:36:35.636Z"
   },
   {
    "duration": 1155,
    "start_time": "2023-02-28T06:08:49.258Z"
   },
   {
    "duration": 98,
    "start_time": "2023-02-28T06:08:50.415Z"
   },
   {
    "duration": 34,
    "start_time": "2023-02-28T06:08:50.515Z"
   },
   {
    "duration": 15,
    "start_time": "2023-02-28T06:08:50.552Z"
   },
   {
    "duration": 11,
    "start_time": "2023-02-28T06:08:50.569Z"
   },
   {
    "duration": 26,
    "start_time": "2023-02-28T06:08:50.581Z"
   },
   {
    "duration": 14,
    "start_time": "2023-02-28T06:08:50.608Z"
   },
   {
    "duration": 28,
    "start_time": "2023-02-28T06:08:50.624Z"
   },
   {
    "duration": 105,
    "start_time": "2023-02-28T06:08:50.654Z"
   },
   {
    "duration": 26,
    "start_time": "2023-02-28T06:08:50.761Z"
   },
   {
    "duration": 28,
    "start_time": "2023-02-28T06:08:50.803Z"
   },
   {
    "duration": 10,
    "start_time": "2023-02-28T06:08:50.833Z"
   },
   {
    "duration": 10,
    "start_time": "2023-02-28T06:08:50.845Z"
   },
   {
    "duration": 117,
    "start_time": "2023-02-28T06:08:50.857Z"
   },
   {
    "duration": 32,
    "start_time": "2023-02-28T06:08:50.977Z"
   },
   {
    "duration": 797,
    "start_time": "2023-02-28T06:08:51.011Z"
   },
   {
    "duration": 19,
    "start_time": "2023-02-28T06:08:51.809Z"
   },
   {
    "duration": 16,
    "start_time": "2023-02-28T06:08:51.830Z"
   },
   {
    "duration": 145,
    "start_time": "2023-02-28T06:08:51.848Z"
   },
   {
    "duration": 128,
    "start_time": "2023-02-28T06:08:51.994Z"
   },
   {
    "duration": 113,
    "start_time": "2023-02-28T06:08:52.124Z"
   },
   {
    "duration": 109,
    "start_time": "2023-02-28T06:08:52.238Z"
   },
   {
    "duration": 94,
    "start_time": "2023-02-28T06:08:52.348Z"
   },
   {
    "duration": 431,
    "start_time": "2023-02-28T06:08:52.444Z"
   },
   {
    "duration": 2846,
    "start_time": "2023-02-28T06:08:52.877Z"
   },
   {
    "duration": 296,
    "start_time": "2023-02-28T06:08:55.725Z"
   },
   {
    "duration": 18,
    "start_time": "2023-02-28T06:08:56.023Z"
   },
   {
    "duration": 17,
    "start_time": "2023-02-28T06:08:56.044Z"
   },
   {
    "duration": 41,
    "start_time": "2023-02-28T06:08:56.063Z"
   },
   {
    "duration": 18,
    "start_time": "2023-02-28T06:08:56.105Z"
   },
   {
    "duration": 18,
    "start_time": "2023-02-28T06:08:56.125Z"
   },
   {
    "duration": 18,
    "start_time": "2023-02-28T06:08:56.144Z"
   },
   {
    "duration": 218,
    "start_time": "2023-02-28T06:08:56.164Z"
   },
   {
    "duration": 4,
    "start_time": "2023-02-28T06:08:56.383Z"
   },
   {
    "duration": 21,
    "start_time": "2023-02-28T06:08:56.389Z"
   },
   {
    "duration": 13,
    "start_time": "2023-02-28T06:08:56.412Z"
   },
   {
    "duration": 3,
    "start_time": "2023-02-28T06:09:20.713Z"
   },
   {
    "duration": 9,
    "start_time": "2023-02-28T06:09:21.276Z"
   },
   {
    "duration": 1325,
    "start_time": "2023-02-28T06:09:23.171Z"
   },
   {
    "duration": 0,
    "start_time": "2023-02-28T06:09:24.498Z"
   },
   {
    "duration": 3,
    "start_time": "2023-02-28T06:09:30.796Z"
   },
   {
    "duration": 48,
    "start_time": "2023-02-28T06:09:31.280Z"
   },
   {
    "duration": 28,
    "start_time": "2023-02-28T06:09:32.406Z"
   },
   {
    "duration": 14,
    "start_time": "2023-02-28T06:09:33.349Z"
   },
   {
    "duration": 3,
    "start_time": "2023-02-28T06:09:35.393Z"
   },
   {
    "duration": 7,
    "start_time": "2023-02-28T06:09:36.042Z"
   },
   {
    "duration": 10,
    "start_time": "2023-02-28T06:09:36.781Z"
   },
   {
    "duration": 10,
    "start_time": "2023-02-28T06:09:37.821Z"
   },
   {
    "duration": 8,
    "start_time": "2023-02-28T06:09:50.328Z"
   },
   {
    "duration": 11,
    "start_time": "2023-02-28T06:09:51.022Z"
   },
   {
    "duration": 14,
    "start_time": "2023-02-28T06:09:51.975Z"
   },
   {
    "duration": 1208,
    "start_time": "2023-02-28T06:09:59.074Z"
   },
   {
    "duration": 47,
    "start_time": "2023-02-28T06:10:00.284Z"
   },
   {
    "duration": 32,
    "start_time": "2023-02-28T06:10:00.333Z"
   },
   {
    "duration": 13,
    "start_time": "2023-02-28T06:10:00.367Z"
   },
   {
    "duration": 24,
    "start_time": "2023-02-28T06:10:00.382Z"
   },
   {
    "duration": 47,
    "start_time": "2023-02-28T06:10:00.407Z"
   },
   {
    "duration": 40,
    "start_time": "2023-02-28T06:10:00.456Z"
   },
   {
    "duration": 52,
    "start_time": "2023-02-28T06:10:00.497Z"
   },
   {
    "duration": 68,
    "start_time": "2023-02-28T06:10:00.551Z"
   },
   {
    "duration": 23,
    "start_time": "2023-02-28T06:10:00.621Z"
   },
   {
    "duration": 62,
    "start_time": "2023-02-28T06:10:00.645Z"
   },
   {
    "duration": 57,
    "start_time": "2023-02-28T06:10:00.709Z"
   },
   {
    "duration": 43,
    "start_time": "2023-02-28T06:10:00.768Z"
   },
   {
    "duration": 102,
    "start_time": "2023-02-28T06:10:00.813Z"
   },
   {
    "duration": 14,
    "start_time": "2023-02-28T06:10:00.917Z"
   },
   {
    "duration": 715,
    "start_time": "2023-02-28T06:10:00.933Z"
   },
   {
    "duration": 16,
    "start_time": "2023-02-28T06:10:01.649Z"
   },
   {
    "duration": 43,
    "start_time": "2023-02-28T06:10:01.666Z"
   },
   {
    "duration": 155,
    "start_time": "2023-02-28T06:10:01.710Z"
   },
   {
    "duration": 119,
    "start_time": "2023-02-28T06:10:01.866Z"
   },
   {
    "duration": 126,
    "start_time": "2023-02-28T06:10:01.987Z"
   },
   {
    "duration": 102,
    "start_time": "2023-02-28T06:10:02.115Z"
   },
   {
    "duration": 102,
    "start_time": "2023-02-28T06:10:02.219Z"
   },
   {
    "duration": 347,
    "start_time": "2023-02-28T06:10:02.323Z"
   },
   {
    "duration": 2595,
    "start_time": "2023-02-28T06:10:02.672Z"
   },
   {
    "duration": 297,
    "start_time": "2023-02-28T06:10:05.269Z"
   },
   {
    "duration": 18,
    "start_time": "2023-02-28T06:10:05.568Z"
   },
   {
    "duration": 18,
    "start_time": "2023-02-28T06:10:05.604Z"
   },
   {
    "duration": 20,
    "start_time": "2023-02-28T06:10:05.623Z"
   },
   {
    "duration": 20,
    "start_time": "2023-02-28T06:10:05.645Z"
   },
   {
    "duration": 38,
    "start_time": "2023-02-28T06:10:05.666Z"
   },
   {
    "duration": 18,
    "start_time": "2023-02-28T06:10:05.706Z"
   },
   {
    "duration": 183,
    "start_time": "2023-02-28T06:10:05.726Z"
   },
   {
    "duration": 3,
    "start_time": "2023-02-28T06:10:05.910Z"
   },
   {
    "duration": 11,
    "start_time": "2023-02-28T06:10:05.914Z"
   },
   {
    "duration": 13,
    "start_time": "2023-02-28T06:10:05.927Z"
   },
   {
    "duration": 1262,
    "start_time": "2023-03-02T14:34:39.613Z"
   },
   {
    "duration": 186,
    "start_time": "2023-03-02T14:34:40.877Z"
   },
   {
    "duration": 32,
    "start_time": "2023-03-02T14:34:41.064Z"
   },
   {
    "duration": 13,
    "start_time": "2023-03-02T14:34:41.098Z"
   },
   {
    "duration": 9,
    "start_time": "2023-03-02T14:35:08.262Z"
   },
   {
    "duration": 3,
    "start_time": "2023-03-02T14:35:28.147Z"
   },
   {
    "duration": 7,
    "start_time": "2023-03-02T14:35:30.549Z"
   },
   {
    "duration": 3,
    "start_time": "2023-03-02T14:39:16.833Z"
   },
   {
    "duration": 13,
    "start_time": "2023-03-02T14:39:25.088Z"
   },
   {
    "duration": 11,
    "start_time": "2023-03-02T14:39:30.551Z"
   },
   {
    "duration": 13,
    "start_time": "2023-03-02T14:39:38.632Z"
   },
   {
    "duration": 3,
    "start_time": "2023-03-02T14:40:32.535Z"
   },
   {
    "duration": 2,
    "start_time": "2023-03-02T14:45:41.369Z"
   },
   {
    "duration": 17,
    "start_time": "2023-03-02T14:49:02.066Z"
   },
   {
    "duration": 17,
    "start_time": "2023-03-02T14:49:15.741Z"
   },
   {
    "duration": 24,
    "start_time": "2023-03-02T14:49:31.943Z"
   },
   {
    "duration": 50,
    "start_time": "2023-03-02T14:49:38.254Z"
   },
   {
    "duration": 20,
    "start_time": "2023-03-02T14:49:46.095Z"
   },
   {
    "duration": 22,
    "start_time": "2023-03-02T14:50:25.770Z"
   },
   {
    "duration": 6,
    "start_time": "2023-03-02T14:50:33.953Z"
   },
   {
    "duration": 8,
    "start_time": "2023-03-02T14:50:44.804Z"
   },
   {
    "duration": 79,
    "start_time": "2023-03-02T14:50:47.714Z"
   },
   {
    "duration": 12,
    "start_time": "2023-03-02T14:50:51.419Z"
   },
   {
    "duration": 657,
    "start_time": "2023-03-02T14:50:55.954Z"
   },
   {
    "duration": 15,
    "start_time": "2023-03-02T14:50:59.958Z"
   },
   {
    "duration": 7,
    "start_time": "2023-03-02T14:51:44.372Z"
   },
   {
    "duration": 109,
    "start_time": "2023-03-02T14:51:48.611Z"
   },
   {
    "duration": 118,
    "start_time": "2023-03-02T14:51:55.040Z"
   },
   {
    "duration": 102,
    "start_time": "2023-03-02T14:55:00.707Z"
   },
   {
    "duration": 23,
    "start_time": "2023-03-02T14:55:34.054Z"
   },
   {
    "duration": 20,
    "start_time": "2023-03-02T14:55:57.506Z"
   },
   {
    "duration": 45,
    "start_time": "2023-03-02T14:56:23.853Z"
   },
   {
    "duration": 15,
    "start_time": "2023-03-02T14:56:28.073Z"
   },
   {
    "duration": 113,
    "start_time": "2023-03-02T14:56:47.496Z"
   },
   {
    "duration": 118,
    "start_time": "2023-03-02T14:56:52.630Z"
   },
   {
    "duration": 19,
    "start_time": "2023-03-02T14:57:55.888Z"
   },
   {
    "duration": 19,
    "start_time": "2023-03-02T14:58:04.821Z"
   },
   {
    "duration": 166,
    "start_time": "2023-03-02T14:58:11.793Z"
   },
   {
    "duration": 20,
    "start_time": "2023-03-02T15:02:49.699Z"
   },
   {
    "duration": 28,
    "start_time": "2023-03-02T15:03:19.339Z"
   },
   {
    "duration": 16,
    "start_time": "2023-03-02T15:03:36.281Z"
   },
   {
    "duration": 21,
    "start_time": "2023-03-02T15:03:54.591Z"
   },
   {
    "duration": 15,
    "start_time": "2023-03-02T15:04:27.282Z"
   },
   {
    "duration": 15,
    "start_time": "2023-03-02T15:05:53.601Z"
   },
   {
    "duration": 116,
    "start_time": "2023-03-02T15:06:25.069Z"
   },
   {
    "duration": 43,
    "start_time": "2023-03-02T15:06:35.183Z"
   },
   {
    "duration": 112,
    "start_time": "2023-03-02T15:06:38.909Z"
   },
   {
    "duration": 19,
    "start_time": "2023-03-02T15:06:49.047Z"
   },
   {
    "duration": 23,
    "start_time": "2023-03-02T15:08:43.712Z"
   },
   {
    "duration": 105,
    "start_time": "2023-03-02T15:08:56.509Z"
   },
   {
    "duration": 109,
    "start_time": "2023-03-02T15:09:15.919Z"
   },
   {
    "duration": 109,
    "start_time": "2023-03-02T15:09:32.950Z"
   },
   {
    "duration": 117,
    "start_time": "2023-03-02T15:10:09.640Z"
   },
   {
    "duration": 112,
    "start_time": "2023-03-02T15:10:30.399Z"
   },
   {
    "duration": 108,
    "start_time": "2023-03-02T15:12:12.395Z"
   },
   {
    "duration": 148,
    "start_time": "2023-03-02T15:12:16.969Z"
   },
   {
    "duration": 21,
    "start_time": "2023-03-02T15:12:22.924Z"
   },
   {
    "duration": 19,
    "start_time": "2023-03-02T15:12:39.562Z"
   },
   {
    "duration": 18,
    "start_time": "2023-03-02T15:14:15.954Z"
   },
   {
    "duration": 23,
    "start_time": "2023-03-02T15:14:36.894Z"
   },
   {
    "duration": 19,
    "start_time": "2023-03-02T15:14:40.659Z"
   },
   {
    "duration": 25,
    "start_time": "2023-03-02T15:16:04.525Z"
   },
   {
    "duration": 106,
    "start_time": "2023-03-02T15:16:37.427Z"
   },
   {
    "duration": 109,
    "start_time": "2023-03-02T15:16:48.555Z"
   },
   {
    "duration": 145,
    "start_time": "2023-03-02T15:16:57.588Z"
   },
   {
    "duration": 19,
    "start_time": "2023-03-02T15:17:02.458Z"
   },
   {
    "duration": 182,
    "start_time": "2023-03-02T15:17:07.921Z"
   },
   {
    "duration": 113,
    "start_time": "2023-03-02T15:19:55.023Z"
   },
   {
    "duration": 141,
    "start_time": "2023-03-02T15:20:04.123Z"
   },
   {
    "duration": 109,
    "start_time": "2023-03-02T15:21:22.592Z"
   },
   {
    "duration": 127,
    "start_time": "2023-03-02T15:21:46.702Z"
   },
   {
    "duration": 6,
    "start_time": "2023-03-02T15:22:34.413Z"
   },
   {
    "duration": 114,
    "start_time": "2023-03-02T15:22:40.293Z"
   },
   {
    "duration": 112,
    "start_time": "2023-03-02T15:23:26.997Z"
   },
   {
    "duration": 19,
    "start_time": "2023-03-02T15:24:00.878Z"
   },
   {
    "duration": 135,
    "start_time": "2023-03-02T15:24:17.251Z"
   },
   {
    "duration": 122,
    "start_time": "2023-03-02T15:24:37.826Z"
   },
   {
    "duration": 16,
    "start_time": "2023-03-02T15:25:16.518Z"
   },
   {
    "duration": 18,
    "start_time": "2023-03-02T15:25:48.149Z"
   },
   {
    "duration": 32,
    "start_time": "2023-03-02T15:26:43.517Z"
   },
   {
    "duration": 11,
    "start_time": "2023-03-02T15:28:03.980Z"
   },
   {
    "duration": 119,
    "start_time": "2023-03-02T15:28:31.373Z"
   },
   {
    "duration": 22,
    "start_time": "2023-03-02T15:28:46.082Z"
   },
   {
    "duration": 20,
    "start_time": "2023-03-02T15:28:53.186Z"
   },
   {
    "duration": 33,
    "start_time": "2023-03-02T15:33:00.585Z"
   },
   {
    "duration": 31,
    "start_time": "2023-03-02T15:33:27.648Z"
   },
   {
    "duration": 30,
    "start_time": "2023-03-02T15:33:42.720Z"
   },
   {
    "duration": 2,
    "start_time": "2023-03-02T15:33:48.317Z"
   },
   {
    "duration": 55,
    "start_time": "2023-03-02T15:33:48.321Z"
   },
   {
    "duration": 27,
    "start_time": "2023-03-02T15:33:48.377Z"
   },
   {
    "duration": 12,
    "start_time": "2023-03-02T15:33:48.405Z"
   },
   {
    "duration": 6,
    "start_time": "2023-03-02T15:33:48.419Z"
   },
   {
    "duration": 38,
    "start_time": "2023-03-02T15:33:48.427Z"
   },
   {
    "duration": 15,
    "start_time": "2023-03-02T15:33:48.467Z"
   },
   {
    "duration": 23,
    "start_time": "2023-03-02T15:33:48.484Z"
   },
   {
    "duration": 74,
    "start_time": "2023-03-02T15:33:48.508Z"
   },
   {
    "duration": 20,
    "start_time": "2023-03-02T15:33:48.584Z"
   },
   {
    "duration": 22,
    "start_time": "2023-03-02T15:33:48.606Z"
   },
   {
    "duration": 29,
    "start_time": "2023-03-02T15:33:48.629Z"
   },
   {
    "duration": 7,
    "start_time": "2023-03-02T15:33:48.661Z"
   },
   {
    "duration": 91,
    "start_time": "2023-03-02T15:33:48.669Z"
   },
   {
    "duration": 16,
    "start_time": "2023-03-02T15:33:48.762Z"
   },
   {
    "duration": 738,
    "start_time": "2023-03-02T15:33:48.779Z"
   },
   {
    "duration": 15,
    "start_time": "2023-03-02T15:33:49.519Z"
   },
   {
    "duration": 20,
    "start_time": "2023-03-02T15:33:49.536Z"
   },
   {
    "duration": 25,
    "start_time": "2023-03-02T15:34:20.439Z"
   },
   {
    "duration": 100,
    "start_time": "2023-03-02T15:34:49.209Z"
   },
   {
    "duration": 120,
    "start_time": "2023-03-02T15:35:02.769Z"
   },
   {
    "duration": 22,
    "start_time": "2023-03-02T15:36:01.248Z"
   },
   {
    "duration": 22,
    "start_time": "2023-03-02T15:36:37.021Z"
   },
   {
    "duration": 25,
    "start_time": "2023-03-02T15:37:06.258Z"
   },
   {
    "duration": 234,
    "start_time": "2023-03-02T15:37:35.281Z"
   },
   {
    "duration": 235,
    "start_time": "2023-03-02T15:40:14.131Z"
   },
   {
    "duration": 244,
    "start_time": "2023-03-02T15:40:22.859Z"
   },
   {
    "duration": 206,
    "start_time": "2023-03-02T15:40:28.643Z"
   },
   {
    "duration": 284,
    "start_time": "2023-03-02T15:40:37.129Z"
   },
   {
    "duration": 223,
    "start_time": "2023-03-02T15:41:09.487Z"
   },
   {
    "duration": 206,
    "start_time": "2023-03-02T15:41:17.706Z"
   },
   {
    "duration": 205,
    "start_time": "2023-03-02T15:42:49.316Z"
   },
   {
    "duration": 284,
    "start_time": "2023-03-02T15:42:59.356Z"
   },
   {
    "duration": 469,
    "start_time": "2023-03-02T15:43:08.187Z"
   },
   {
    "duration": 505,
    "start_time": "2023-03-02T15:43:20.191Z"
   },
   {
    "duration": 416,
    "start_time": "2023-03-02T15:43:35.302Z"
   },
   {
    "duration": 372,
    "start_time": "2023-03-02T15:43:45.412Z"
   },
   {
    "duration": 312,
    "start_time": "2023-03-02T15:43:52.626Z"
   },
   {
    "duration": 257,
    "start_time": "2023-03-02T15:44:22.072Z"
   },
   {
    "duration": 330,
    "start_time": "2023-03-02T15:44:32.814Z"
   },
   {
    "duration": 256,
    "start_time": "2023-03-02T15:44:40.637Z"
   },
   {
    "duration": 322,
    "start_time": "2023-03-02T15:44:48.835Z"
   },
   {
    "duration": 368,
    "start_time": "2023-03-02T15:44:56.109Z"
   },
   {
    "duration": 337,
    "start_time": "2023-03-02T15:45:02.977Z"
   },
   {
    "duration": 3,
    "start_time": "2023-03-02T15:47:34.517Z"
   },
   {
    "duration": 2,
    "start_time": "2023-03-02T15:47:39.829Z"
   },
   {
    "duration": 2,
    "start_time": "2023-03-02T15:47:44.442Z"
   },
   {
    "duration": 2,
    "start_time": "2023-03-02T15:47:49.606Z"
   },
   {
    "duration": 3,
    "start_time": "2023-03-02T15:47:53.638Z"
   },
   {
    "duration": 625,
    "start_time": "2023-03-02T15:48:07.678Z"
   },
   {
    "duration": 539,
    "start_time": "2023-03-02T15:48:45.844Z"
   },
   {
    "duration": 414,
    "start_time": "2023-03-02T15:48:52.507Z"
   },
   {
    "duration": 713,
    "start_time": "2023-03-02T15:49:30.312Z"
   },
   {
    "duration": 3,
    "start_time": "2023-03-02T17:15:42.700Z"
   },
   {
    "duration": 57,
    "start_time": "2023-03-02T17:15:51.047Z"
   },
   {
    "duration": 28,
    "start_time": "2023-03-02T17:15:54.366Z"
   },
   {
    "duration": 14,
    "start_time": "2023-03-02T17:15:59.694Z"
   },
   {
    "duration": 8,
    "start_time": "2023-03-02T17:16:07.172Z"
   },
   {
    "duration": 18,
    "start_time": "2023-03-02T17:16:26.456Z"
   },
   {
    "duration": 16,
    "start_time": "2023-03-02T17:17:25.835Z"
   },
   {
    "duration": 23,
    "start_time": "2023-03-02T17:18:29.216Z"
   },
   {
    "duration": 6,
    "start_time": "2023-03-02T17:18:54.488Z"
   },
   {
    "duration": 12,
    "start_time": "2023-03-02T17:19:11.276Z"
   },
   {
    "duration": 707,
    "start_time": "2023-03-02T17:19:19.702Z"
   },
   {
    "duration": 13,
    "start_time": "2023-03-02T17:19:38.654Z"
   },
   {
    "duration": 5,
    "start_time": "2023-03-02T17:19:45.371Z"
   },
   {
    "duration": 9,
    "start_time": "2023-03-02T17:21:47.997Z"
   },
   {
    "duration": 33,
    "start_time": "2023-03-02T17:22:06.990Z"
   },
   {
    "duration": 3,
    "start_time": "2023-03-02T17:22:22.189Z"
   },
   {
    "duration": 55,
    "start_time": "2023-03-02T17:22:22.194Z"
   },
   {
    "duration": 34,
    "start_time": "2023-03-02T17:22:22.250Z"
   },
   {
    "duration": 19,
    "start_time": "2023-03-02T17:22:22.285Z"
   },
   {
    "duration": 7,
    "start_time": "2023-03-02T17:22:22.476Z"
   },
   {
    "duration": 14,
    "start_time": "2023-03-02T17:22:22.485Z"
   },
   {
    "duration": 25,
    "start_time": "2023-03-02T17:22:22.500Z"
   },
   {
    "duration": 24,
    "start_time": "2023-03-02T17:22:32.479Z"
   },
   {
    "duration": 53,
    "start_time": "2023-03-02T17:22:51.190Z"
   },
   {
    "duration": 20,
    "start_time": "2023-03-02T17:22:54.533Z"
   },
   {
    "duration": 23,
    "start_time": "2023-03-02T17:23:15.690Z"
   },
   {
    "duration": 10,
    "start_time": "2023-03-02T17:23:21.641Z"
   },
   {
    "duration": 10,
    "start_time": "2023-03-02T17:23:27.139Z"
   },
   {
    "duration": 92,
    "start_time": "2023-03-02T17:23:31.156Z"
   },
   {
    "duration": 14,
    "start_time": "2023-03-02T17:23:38.922Z"
   },
   {
    "duration": 686,
    "start_time": "2023-03-02T17:23:42.928Z"
   },
   {
    "duration": 16,
    "start_time": "2023-03-02T17:23:58.211Z"
   },
   {
    "duration": 7,
    "start_time": "2023-03-02T17:24:01.955Z"
   },
   {
    "duration": 325,
    "start_time": "2023-03-02T17:24:42.737Z"
   },
   {
    "duration": 495,
    "start_time": "2023-03-02T17:25:28.426Z"
   },
   {
    "duration": 400,
    "start_time": "2023-03-02T17:25:57.255Z"
   },
   {
    "duration": 457,
    "start_time": "2023-03-02T17:26:07.503Z"
   },
   {
    "duration": 418,
    "start_time": "2023-03-02T17:27:03.856Z"
   },
   {
    "duration": 725,
    "start_time": "2023-03-02T17:28:22.686Z"
   },
   {
    "duration": 524,
    "start_time": "2023-03-02T17:30:31.654Z"
   },
   {
    "duration": 801,
    "start_time": "2023-03-02T17:31:39.474Z"
   },
   {
    "duration": 6,
    "start_time": "2023-03-02T17:33:00.904Z"
   },
   {
    "duration": 10,
    "start_time": "2023-03-02T17:34:17.203Z"
   },
   {
    "duration": 10,
    "start_time": "2023-03-02T17:34:23.661Z"
   },
   {
    "duration": 4,
    "start_time": "2023-03-02T17:34:31.382Z"
   },
   {
    "duration": 8,
    "start_time": "2023-03-02T17:34:43.511Z"
   },
   {
    "duration": 11,
    "start_time": "2023-03-02T17:34:50.491Z"
   },
   {
    "duration": 11,
    "start_time": "2023-03-02T17:36:25.991Z"
   },
   {
    "duration": 6,
    "start_time": "2023-03-02T17:36:32.271Z"
   },
   {
    "duration": 9,
    "start_time": "2023-03-02T17:37:18.850Z"
   },
   {
    "duration": 665,
    "start_time": "2023-03-02T17:37:57.759Z"
   },
   {
    "duration": 152,
    "start_time": "2023-03-02T17:38:16.300Z"
   },
   {
    "duration": 215,
    "start_time": "2023-03-02T17:39:44.968Z"
   },
   {
    "duration": 309,
    "start_time": "2023-03-02T17:40:04.317Z"
   },
   {
    "duration": 513,
    "start_time": "2023-03-02T17:40:12.683Z"
   },
   {
    "duration": 15,
    "start_time": "2023-03-02T17:40:18.347Z"
   },
   {
    "duration": 183,
    "start_time": "2023-03-02T17:40:42.071Z"
   },
   {
    "duration": 262,
    "start_time": "2023-03-02T17:42:04.210Z"
   },
   {
    "duration": 4,
    "start_time": "2023-03-02T17:43:09.154Z"
   },
   {
    "duration": 31,
    "start_time": "2023-03-02T17:43:28.933Z"
   },
   {
    "duration": 164,
    "start_time": "2023-03-02T17:43:49.080Z"
   },
   {
    "duration": 15,
    "start_time": "2023-03-02T17:44:16.590Z"
   },
   {
    "duration": 49,
    "start_time": "2023-03-02T17:44:32.125Z"
   },
   {
    "duration": 158,
    "start_time": "2023-03-02T17:44:38.230Z"
   },
   {
    "duration": 14,
    "start_time": "2023-03-02T17:44:58.292Z"
   },
   {
    "duration": 12,
    "start_time": "2023-03-02T17:45:08.534Z"
   },
   {
    "duration": 14,
    "start_time": "2023-03-02T17:45:18.653Z"
   },
   {
    "duration": 18,
    "start_time": "2023-03-02T17:45:23.899Z"
   },
   {
    "duration": 14,
    "start_time": "2023-03-02T17:45:29.725Z"
   },
   {
    "duration": 17,
    "start_time": "2023-03-02T17:45:41.285Z"
   },
   {
    "duration": 368,
    "start_time": "2023-03-02T17:46:16.523Z"
   },
   {
    "duration": 16,
    "start_time": "2023-03-02T17:50:16.126Z"
   },
   {
    "duration": 14,
    "start_time": "2023-03-02T17:50:27.813Z"
   },
   {
    "duration": 3,
    "start_time": "2023-03-02T17:50:57.904Z"
   },
   {
    "duration": 57,
    "start_time": "2023-03-02T17:50:57.909Z"
   },
   {
    "duration": 29,
    "start_time": "2023-03-02T17:50:57.968Z"
   },
   {
    "duration": 16,
    "start_time": "2023-03-02T17:50:57.999Z"
   },
   {
    "duration": 7,
    "start_time": "2023-03-02T17:50:58.017Z"
   },
   {
    "duration": 45,
    "start_time": "2023-03-02T17:50:58.026Z"
   },
   {
    "duration": 22,
    "start_time": "2023-03-02T17:50:58.194Z"
   },
   {
    "duration": 30,
    "start_time": "2023-03-02T17:50:58.218Z"
   },
   {
    "duration": 90,
    "start_time": "2023-03-02T17:50:58.250Z"
   },
   {
    "duration": 32,
    "start_time": "2023-03-02T17:50:58.342Z"
   },
   {
    "duration": 31,
    "start_time": "2023-03-02T17:50:58.377Z"
   },
   {
    "duration": 10,
    "start_time": "2023-03-02T17:50:58.410Z"
   },
   {
    "duration": 36,
    "start_time": "2023-03-02T17:50:58.422Z"
   },
   {
    "duration": 72,
    "start_time": "2023-03-02T17:50:58.460Z"
   },
   {
    "duration": 31,
    "start_time": "2023-03-02T17:50:58.534Z"
   },
   {
    "duration": 697,
    "start_time": "2023-03-02T17:50:58.567Z"
   },
   {
    "duration": 16,
    "start_time": "2023-03-02T17:50:59.266Z"
   },
   {
    "duration": 6,
    "start_time": "2023-03-02T17:50:59.284Z"
   },
   {
    "duration": 426,
    "start_time": "2023-03-02T17:50:59.293Z"
   },
   {
    "duration": 3,
    "start_time": "2023-03-02T17:50:59.720Z"
   },
   {
    "duration": 3,
    "start_time": "2023-03-02T17:50:59.725Z"
   },
   {
    "duration": 3,
    "start_time": "2023-03-02T17:50:59.730Z"
   },
   {
    "duration": 19,
    "start_time": "2023-03-02T17:50:59.736Z"
   },
   {
    "duration": 2,
    "start_time": "2023-03-02T17:50:59.758Z"
   },
   {
    "duration": 406,
    "start_time": "2023-03-02T17:50:59.762Z"
   },
   {
    "duration": 4,
    "start_time": "2023-03-02T17:51:00.169Z"
   },
   {
    "duration": 794,
    "start_time": "2023-03-02T17:52:26.884Z"
   },
   {
    "duration": 276,
    "start_time": "2023-03-02T17:53:22.069Z"
   },
   {
    "duration": 16,
    "start_time": "2023-03-02T17:53:59.681Z"
   },
   {
    "duration": 16,
    "start_time": "2023-03-02T17:54:01.863Z"
   },
   {
    "duration": 16,
    "start_time": "2023-03-02T17:54:04.942Z"
   },
   {
    "duration": 17,
    "start_time": "2023-03-02T17:54:08.661Z"
   },
   {
    "duration": 16,
    "start_time": "2023-03-02T17:54:11.169Z"
   },
   {
    "duration": 16,
    "start_time": "2023-03-02T17:54:14.835Z"
   },
   {
    "duration": 5,
    "start_time": "2023-03-02T17:55:47.025Z"
   },
   {
    "duration": 4,
    "start_time": "2023-03-02T17:56:33.098Z"
   },
   {
    "duration": 5,
    "start_time": "2023-03-02T17:56:45.070Z"
   },
   {
    "duration": 226,
    "start_time": "2023-03-02T17:56:52.742Z"
   },
   {
    "duration": 2,
    "start_time": "2023-03-02T18:04:54.375Z"
   },
   {
    "duration": 9,
    "start_time": "2023-03-02T18:04:56.001Z"
   },
   {
    "duration": 8,
    "start_time": "2023-03-02T18:04:59.810Z"
   },
   {
    "duration": 9,
    "start_time": "2023-03-02T18:06:17.724Z"
   },
   {
    "duration": 7,
    "start_time": "2023-03-02T18:06:58.217Z"
   },
   {
    "duration": 6,
    "start_time": "2023-03-02T18:07:26.018Z"
   },
   {
    "duration": 6,
    "start_time": "2023-03-02T18:07:49.880Z"
   },
   {
    "duration": 8,
    "start_time": "2023-03-02T18:08:24.520Z"
   },
   {
    "duration": 8,
    "start_time": "2023-03-02T18:14:13.067Z"
   },
   {
    "duration": 9,
    "start_time": "2023-03-02T18:14:33.190Z"
   }
  ],
  "kernelspec": {
   "display_name": "Python 3 (ipykernel)",
   "language": "python",
   "name": "python3"
  },
  "language_info": {
   "codemirror_mode": {
    "name": "ipython",
    "version": 3
   },
   "file_extension": ".py",
   "mimetype": "text/x-python",
   "name": "python",
   "nbconvert_exporter": "python",
   "pygments_lexer": "ipython3",
   "version": "3.10.9"
  },
  "toc": {
   "base_numbering": 1,
   "nav_menu": {},
   "number_sections": true,
   "sideBar": true,
   "skip_h1_title": true,
   "title_cell": "Table of Contents",
   "title_sidebar": "Contents",
   "toc_cell": false,
   "toc_position": {},
   "toc_section_display": true,
   "toc_window_display": false
  }
 },
 "nbformat": 4,
 "nbformat_minor": 2
}

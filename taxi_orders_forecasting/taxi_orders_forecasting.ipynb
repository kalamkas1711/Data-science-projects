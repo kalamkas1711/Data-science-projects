{
 "cells": [
  {
   "cell_type": "markdown",
   "metadata": {},
   "source": [
    "## Data preprocessing"
   ]
  },
  {
   "cell_type": "code",
   "execution_count": 82,
   "metadata": {},
   "outputs": [],
   "source": [
    "import pandas as pd\n",
    "#from lightgbm import LGBMRegressor\n",
    "from sklearn.model_selection import train_test_split\n",
    "from sklearn.linear_model import LinearRegression\n",
    "from sklearn.metrics import mean_squared_error\n",
    "from sklearn.tree import DecisionTreeRegressor\n",
    "import matplotlib.pyplot as plt\n",
    "from statsmodels.tsa.seasonal import seasonal_decompose\n",
    "from tqdm import tqdm\n",
    "from sklearn.ensemble import RandomForestRegressor\n",
    "from pandas import Timestamp as ts\n"
   ]
  },
  {
   "cell_type": "code",
   "execution_count": 83,
   "metadata": {},
   "outputs": [
    {
     "data": {
      "text/html": [
       "<div>\n",
       "<style scoped>\n",
       "    .dataframe tbody tr th:only-of-type {\n",
       "        vertical-align: middle;\n",
       "    }\n",
       "\n",
       "    .dataframe tbody tr th {\n",
       "        vertical-align: top;\n",
       "    }\n",
       "\n",
       "    .dataframe thead th {\n",
       "        text-align: right;\n",
       "    }\n",
       "</style>\n",
       "<table border=\"1\" class=\"dataframe\">\n",
       "  <thead>\n",
       "    <tr style=\"text-align: right;\">\n",
       "      <th></th>\n",
       "      <th>num_orders</th>\n",
       "    </tr>\n",
       "    <tr>\n",
       "      <th>datetime</th>\n",
       "      <th></th>\n",
       "    </tr>\n",
       "  </thead>\n",
       "  <tbody>\n",
       "    <tr>\n",
       "      <th>2018-03-01 00:00:00</th>\n",
       "      <td>124</td>\n",
       "    </tr>\n",
       "    <tr>\n",
       "      <th>2018-03-01 01:00:00</th>\n",
       "      <td>85</td>\n",
       "    </tr>\n",
       "    <tr>\n",
       "      <th>2018-03-01 02:00:00</th>\n",
       "      <td>71</td>\n",
       "    </tr>\n",
       "    <tr>\n",
       "      <th>2018-03-01 03:00:00</th>\n",
       "      <td>66</td>\n",
       "    </tr>\n",
       "    <tr>\n",
       "      <th>2018-03-01 04:00:00</th>\n",
       "      <td>43</td>\n",
       "    </tr>\n",
       "  </tbody>\n",
       "</table>\n",
       "</div>"
      ],
      "text/plain": [
       "                     num_orders\n",
       "datetime                       \n",
       "2018-03-01 00:00:00         124\n",
       "2018-03-01 01:00:00          85\n",
       "2018-03-01 02:00:00          71\n",
       "2018-03-01 03:00:00          66\n",
       "2018-03-01 04:00:00          43"
      ]
     },
     "execution_count": 83,
     "metadata": {},
     "output_type": "execute_result"
    }
   ],
   "source": [
    "data = pd.read_csv('https://code.s3.yandex.net/datasets/taxi.csv', index_col=[0], parse_dates=[0])\n",
    "#pd.to_datetime(data['datetime'], format='%Y-%m-%d %H:%M:%S')\n",
    "#data.set_index('datetime', inplace=True)\n",
    "data.sort_index(inplace=True)\n",
    "#data.index.is_monotonic\n",
    "data = data.resample('1H').sum()\n",
    "data.head()"
   ]
  },
  {
   "cell_type": "markdown",
   "metadata": {},
   "source": [
    "## Analysis"
   ]
  },
  {
   "cell_type": "code",
   "execution_count": 84,
   "metadata": {},
   "outputs": [
    {
     "name": "stdout",
     "output_type": "stream",
     "text": [
      "<class 'pandas.core.frame.DataFrame'>\n",
      "DatetimeIndex: 4416 entries, 2018-03-01 00:00:00 to 2018-08-31 23:00:00\n",
      "Freq: H\n",
      "Data columns (total 1 columns):\n",
      " #   Column      Non-Null Count  Dtype\n",
      "---  ------      --------------  -----\n",
      " 0   num_orders  4416 non-null   int64\n",
      "dtypes: int64(1)\n",
      "memory usage: 69.0 KB\n"
     ]
    }
   ],
   "source": [
    "data.info()"
   ]
  },
  {
   "cell_type": "code",
   "execution_count": 85,
   "metadata": {},
   "outputs": [
    {
     "data": {
      "text/html": [
       "<div>\n",
       "<style scoped>\n",
       "    .dataframe tbody tr th:only-of-type {\n",
       "        vertical-align: middle;\n",
       "    }\n",
       "\n",
       "    .dataframe tbody tr th {\n",
       "        vertical-align: top;\n",
       "    }\n",
       "\n",
       "    .dataframe thead th {\n",
       "        text-align: right;\n",
       "    }\n",
       "</style>\n",
       "<table border=\"1\" class=\"dataframe\">\n",
       "  <thead>\n",
       "    <tr style=\"text-align: right;\">\n",
       "      <th></th>\n",
       "      <th>num_orders</th>\n",
       "    </tr>\n",
       "  </thead>\n",
       "  <tbody>\n",
       "    <tr>\n",
       "      <th>count</th>\n",
       "      <td>4416.000000</td>\n",
       "    </tr>\n",
       "    <tr>\n",
       "      <th>mean</th>\n",
       "      <td>84.422781</td>\n",
       "    </tr>\n",
       "    <tr>\n",
       "      <th>std</th>\n",
       "      <td>45.023853</td>\n",
       "    </tr>\n",
       "    <tr>\n",
       "      <th>min</th>\n",
       "      <td>0.000000</td>\n",
       "    </tr>\n",
       "    <tr>\n",
       "      <th>25%</th>\n",
       "      <td>54.000000</td>\n",
       "    </tr>\n",
       "    <tr>\n",
       "      <th>50%</th>\n",
       "      <td>78.000000</td>\n",
       "    </tr>\n",
       "    <tr>\n",
       "      <th>75%</th>\n",
       "      <td>107.000000</td>\n",
       "    </tr>\n",
       "    <tr>\n",
       "      <th>max</th>\n",
       "      <td>462.000000</td>\n",
       "    </tr>\n",
       "  </tbody>\n",
       "</table>\n",
       "</div>"
      ],
      "text/plain": [
       "        num_orders\n",
       "count  4416.000000\n",
       "mean     84.422781\n",
       "std      45.023853\n",
       "min       0.000000\n",
       "25%      54.000000\n",
       "50%      78.000000\n",
       "75%     107.000000\n",
       "max     462.000000"
      ]
     },
     "execution_count": 85,
     "metadata": {},
     "output_type": "execute_result"
    }
   ],
   "source": [
    "data.describe()"
   ]
  },
  {
   "cell_type": "code",
   "execution_count": 86,
   "metadata": {},
   "outputs": [
    {
     "data": {
      "image/png": "[encoded data removed]",
      "text/plain": [
       "<Figure size 640x480 with 1 Axes>"
      ]
     },
     "metadata": {},
     "output_type": "display_data"
    }
   ],
   "source": [
    "data.plot(kind='hist', bins=20, title='Распределение кол-ва заказов')\n",
    "plt.xlabel('Кол-во заказов, шт')\n",
    "plt.ylabel('Частота, шт')\n",
    "plt.show()"
   ]
  },
  {
   "cell_type": "code",
   "execution_count": 2,
   "metadata": {},
   "outputs": [],
   "source": [
    "# Seasonal decomposition"
   ]
  },
  {
   "cell_type": "code",
   "execution_count": 88,
   "metadata": {},
   "outputs": [
    {
     "data": {
      "image/png": "[encoded data removed]",
      "text/plain": [
       "<Figure size 600x800 with 1 Axes>"
      ]
     },
     "metadata": {},
     "output_type": "display_data"
    },
    {
     "data": {
      "image/png": "[encoded data removed]",
      "text/plain": [
       "<Figure size 640x480 with 2 Axes>"
      ]
     },
     "metadata": {},
     "output_type": "display_data"
    }
   ],
   "source": [
    "decomposed = seasonal_decompose(data)\n",
    "\n",
    "plt.figure(figsize=(6, 8))\n",
    "plt.subplot(311)\n",
    "decomposed.trend.plot(ax=plt.gca())\n",
    "plt.title('Тренд')\n",
    "plt.show()\n",
    "plt.subplot(312)\n",
    "decomposed.seasonal.plot(ax=plt.gca())\n",
    "plt.title('Сезонность')\n",
    "plt.subplot(313)\n",
    "decomposed.resid.plot(ax=plt.gca())\n",
    "plt.title('Остатки')\n",
    "plt.tight_layout()"
   ]
  },
  {
   "cell_type": "code",
   "execution_count": 89,
   "metadata": {},
   "outputs": [
    {
     "data": {
      "image/png": "[encoded data removed]",
      "text/plain": [
       "<Figure size 640x480 with 1 Axes>"
      ]
     },
     "metadata": {},
     "output_type": "display_data"
    }
   ],
   "source": [
    "plt.subplot(312)\n",
    "decomposed.seasonal['2018-03-01':'2018-03-07'].plot(ax=plt.gca())\n",
    "plt.title('Сезонность')\n",
    "plt.show()"
   ]
  },
  {
   "cell_type": "markdown",
   "metadata": {},
   "source": [
    "Over a longer time period, a positive trend is already visible."
   ]
  },
  {
   "cell_type": "markdown",
   "metadata": {},
   "source": [
    "## Train"
   ]
  },
  {
   "cell_type": "code",
   "execution_count": 90,
   "metadata": {},
   "outputs": [],
   "source": [
    "def make_features(data, max_lag, rolling_mean_size):\n",
    "    data['day'] = data.index.day\n",
    "    data['dayofweek'] = data.index.dayofweek\n",
    "    data['hour'] = data.index.hour\n",
    "    for i in range(1, max_lag + 1):\n",
    "        data['lag_{}'.format(i)] = data['num_orders'].shift(i)\n",
    "    data['rolling_mean'] = data['num_orders'].shift().rolling(rolling_mean_size).mean()\n",
    "    return data['day'], data['dayofweek'], data['hour'], data['lag_{}'.format(i)], data['rolling_mean']\n",
    "    \n",
    "#make_features(data, 1, 6)    \n",
    "#data.head(10)    "
   ]
  },
  {
   "cell_type": "code",
   "execution_count": 91,
   "metadata": {},
   "outputs": [
    {
     "data": {
      "text/html": [
       "<div>\n",
       "<style scoped>\n",
       "    .dataframe tbody tr th:only-of-type {\n",
       "        vertical-align: middle;\n",
       "    }\n",
       "\n",
       "    .dataframe tbody tr th {\n",
       "        vertical-align: top;\n",
       "    }\n",
       "\n",
       "    .dataframe thead th {\n",
       "        text-align: right;\n",
       "    }\n",
       "</style>\n",
       "<table border=\"1\" class=\"dataframe\">\n",
       "  <thead>\n",
       "    <tr style=\"text-align: right;\">\n",
       "      <th></th>\n",
       "      <th>num_orders</th>\n",
       "      <th>day</th>\n",
       "      <th>dayofweek</th>\n",
       "      <th>hour</th>\n",
       "      <th>lag_1</th>\n",
       "      <th>rolling_mean</th>\n",
       "    </tr>\n",
       "    <tr>\n",
       "      <th>datetime</th>\n",
       "      <th></th>\n",
       "      <th></th>\n",
       "      <th></th>\n",
       "      <th></th>\n",
       "      <th></th>\n",
       "      <th></th>\n",
       "    </tr>\n",
       "  </thead>\n",
       "  <tbody>\n",
       "    <tr>\n",
       "      <th>2018-03-01 00:00:00</th>\n",
       "      <td>124</td>\n",
       "      <td>1</td>\n",
       "      <td>3</td>\n",
       "      <td>0</td>\n",
       "      <td>NaN</td>\n",
       "      <td>NaN</td>\n",
       "    </tr>\n",
       "    <tr>\n",
       "      <th>2018-03-01 01:00:00</th>\n",
       "      <td>85</td>\n",
       "      <td>1</td>\n",
       "      <td>3</td>\n",
       "      <td>1</td>\n",
       "      <td>124.0</td>\n",
       "      <td>NaN</td>\n",
       "    </tr>\n",
       "    <tr>\n",
       "      <th>2018-03-01 02:00:00</th>\n",
       "      <td>71</td>\n",
       "      <td>1</td>\n",
       "      <td>3</td>\n",
       "      <td>2</td>\n",
       "      <td>85.0</td>\n",
       "      <td>NaN</td>\n",
       "    </tr>\n",
       "    <tr>\n",
       "      <th>2018-03-01 03:00:00</th>\n",
       "      <td>66</td>\n",
       "      <td>1</td>\n",
       "      <td>3</td>\n",
       "      <td>3</td>\n",
       "      <td>71.0</td>\n",
       "      <td>NaN</td>\n",
       "    </tr>\n",
       "    <tr>\n",
       "      <th>2018-03-01 04:00:00</th>\n",
       "      <td>43</td>\n",
       "      <td>1</td>\n",
       "      <td>3</td>\n",
       "      <td>4</td>\n",
       "      <td>66.0</td>\n",
       "      <td>NaN</td>\n",
       "    </tr>\n",
       "    <tr>\n",
       "      <th>2018-03-01 05:00:00</th>\n",
       "      <td>6</td>\n",
       "      <td>1</td>\n",
       "      <td>3</td>\n",
       "      <td>5</td>\n",
       "      <td>43.0</td>\n",
       "      <td>NaN</td>\n",
       "    </tr>\n",
       "    <tr>\n",
       "      <th>2018-03-01 06:00:00</th>\n",
       "      <td>12</td>\n",
       "      <td>1</td>\n",
       "      <td>3</td>\n",
       "      <td>6</td>\n",
       "      <td>6.0</td>\n",
       "      <td>NaN</td>\n",
       "    </tr>\n",
       "    <tr>\n",
       "      <th>2018-03-01 07:00:00</th>\n",
       "      <td>15</td>\n",
       "      <td>1</td>\n",
       "      <td>3</td>\n",
       "      <td>7</td>\n",
       "      <td>12.0</td>\n",
       "      <td>NaN</td>\n",
       "    </tr>\n",
       "    <tr>\n",
       "      <th>2018-03-01 08:00:00</th>\n",
       "      <td>34</td>\n",
       "      <td>1</td>\n",
       "      <td>3</td>\n",
       "      <td>8</td>\n",
       "      <td>15.0</td>\n",
       "      <td>NaN</td>\n",
       "    </tr>\n",
       "    <tr>\n",
       "      <th>2018-03-01 09:00:00</th>\n",
       "      <td>69</td>\n",
       "      <td>1</td>\n",
       "      <td>3</td>\n",
       "      <td>9</td>\n",
       "      <td>34.0</td>\n",
       "      <td>NaN</td>\n",
       "    </tr>\n",
       "  </tbody>\n",
       "</table>\n",
       "</div>"
      ],
      "text/plain": [
       "                     num_orders  day  dayofweek  hour  lag_1  rolling_mean\n",
       "datetime                                                                  \n",
       "2018-03-01 00:00:00         124    1          3     0    NaN           NaN\n",
       "2018-03-01 01:00:00          85    1          3     1  124.0           NaN\n",
       "2018-03-01 02:00:00          71    1          3     2   85.0           NaN\n",
       "2018-03-01 03:00:00          66    1          3     3   71.0           NaN\n",
       "2018-03-01 04:00:00          43    1          3     4   66.0           NaN\n",
       "2018-03-01 05:00:00           6    1          3     5   43.0           NaN\n",
       "2018-03-01 06:00:00          12    1          3     6    6.0           NaN\n",
       "2018-03-01 07:00:00          15    1          3     7   12.0           NaN\n",
       "2018-03-01 08:00:00          34    1          3     8   15.0           NaN\n",
       "2018-03-01 09:00:00          69    1          3     9   34.0           NaN"
      ]
     },
     "execution_count": 91,
     "metadata": {},
     "output_type": "execute_result"
    }
   ],
   "source": [
    "make_features(data, 1, 24)    \n",
    "data.head(10)    "
   ]
  },
  {
   "cell_type": "code",
   "execution_count": 92,
   "metadata": {},
   "outputs": [],
   "source": [
    "train, test = train_test_split(data, shuffle=False, test_size=0.1)\n",
    "train = train.dropna()\n",
    "features_train, features_test = train.drop('num_orders', axis=1), test.drop('num_orders', axis=1)\n",
    "target_train, target_test = train['num_orders'], test['num_orders'] \n",
    "#train"
   ]
  },
  {
   "cell_type": "code",
   "execution_count": 11,
   "metadata": {},
   "outputs": [],
   "source": [
    "#best_score = 49\n",
    "#best_max_lag = 1\n",
    "#best_rolling_mean_size = 1\n",
    "\n",
    "#for i in tqdm(range(1, 101)):\n",
    "#    for j in range(1, 101):\n",
    "#        make_features(data, i, j)\n",
    "#        train, test = train_test_split(data, shuffle=False, test_size=0.1)\n",
    "#        train = train.dropna()\n",
    "#        features_train, features_test = train.drop('num_orders', axis=1), test.drop('num_orders', axis=1)\n",
    "#        target_train, target_test = train['num_orders'], test['num_orders'] \n",
    "#        model = LinearRegression()\n",
    "#        model.fit(features_train, target_train)\n",
    "#        rmse = mean_squared_error(target_train, model.predict(features_train)) ** 0.5\n",
    "#        if rmse < best_score:\n",
    "#            best_max_lag = i\n",
    "#            best_rolling_mean_size = j\n",
    "#print(best_max_lag, best_rolling_mean_size)"
   ]
  },
  {
   "cell_type": "code",
   "execution_count": 93,
   "metadata": {},
   "outputs": [],
   "source": [
    "#period = [2018-03-01, 2018-03-02, 2018-03-03, 2018-03-04, 2018-03-05, 2018-03-06, 2018-03-07];\n",
    "#data_daily = data.copy()\n",
    "#data_daily['date'] = data_daily.index.date\n",
    "#data_daily = data_daily.pivot_table(index='date', values='num_orders', aggfunc='sum')\n",
    "#data_daily[(data_daily.index >= pd.to_datetime('2018-03-01')) & (data_daily.index <= pd.to_datetime('2018-03-07'))]\n",
    "#for i in data_daily.index:\n",
    "#    data_daily[data_daily.index == i].boxplot()\n",
    "#    plt.show()\n",
    "\n",
    "\n",
    "#data_daily['2018-03-01':'2018-03-07']\n",
    "#for i in data_daily['date']:\n",
    "#    data_daily.boxplot()\n",
    "#    plt.show()"
   ]
  },
  {
   "cell_type": "markdown",
   "metadata": {},
   "source": [
    "<b>Linear Regression</b>"
   ]
  },
  {
   "cell_type": "code",
   "execution_count": 94,
   "metadata": {},
   "outputs": [
    {
     "data": {
      "text/plain": [
       "30.906838951032768"
      ]
     },
     "execution_count": 94,
     "metadata": {},
     "output_type": "execute_result"
    }
   ],
   "source": [
    "model = LinearRegression()\n",
    "model.fit(features_train, target_train)\n",
    "rmse = mean_squared_error(target_train, model.predict(features_train)) ** 0.5\n",
    "rmse"
   ]
  },
  {
   "cell_type": "markdown",
   "metadata": {},
   "source": [
    "<b>Desicion Tree</b>"
   ]
  },
  {
   "cell_type": "code",
   "execution_count": 95,
   "metadata": {},
   "outputs": [
    {
     "name": "stderr",
     "output_type": "stream",
     "text": [
      "100%|██████████████████████████████████████████████████████| 50/50 [00:00<00:00, 104.29it/s]"
     ]
    },
    {
     "name": "stdout",
     "output_type": "stream",
     "text": [
      "0.0 27\n"
     ]
    },
    {
     "name": "stderr",
     "output_type": "stream",
     "text": [
      "\n"
     ]
    }
   ],
   "source": [
    "best_model = None\n",
    "best_depth = 1\n",
    "best_score = 1000\n",
    "\n",
    "for depth in tqdm(range(1, 51)):\n",
    "    model = DecisionTreeRegressor(max_depth=depth, random_state=12345)\n",
    "    model.fit(features_train, target_train)\n",
    "    rmse = mean_squared_error(target_train, model.predict(features_train)) ** 0.5\n",
    "    if rmse < best_score:\n",
    "        best_model = model\n",
    "        best_depth = depth\n",
    "        best_score = rmse\n",
    "print(best_score, best_depth)"
   ]
  },
  {
   "cell_type": "markdown",
   "metadata": {},
   "source": [
    "<s>Эту модель возьмем на тест, хотя у модели ДР значение метрики качества лучше, на тесте она выдает не самый лучший результат.</s>"
   ]
  },
  {
   "cell_type": "markdown",
   "metadata": {},
   "source": [
    "<b>Random Forest</b>"
   ]
  },
  {
   "cell_type": "code",
   "execution_count": 96,
   "metadata": {},
   "outputs": [
    {
     "name": "stderr",
     "output_type": "stream",
     "text": [
      "100%|███████████████████████████████████████████████████████| 10/10 [00:54<00:00,  5.43s/it]"
     ]
    },
    {
     "name": "stdout",
     "output_type": "stream",
     "text": [
      "8.698632660846005 31 96\n"
     ]
    },
    {
     "name": "stderr",
     "output_type": "stream",
     "text": [
      "\n"
     ]
    }
   ],
   "source": [
    "best_model_rf = None\n",
    "best_depth_rf = 1\n",
    "best_score_rf = 1000\n",
    "best_n = 1\n",
    "\n",
    "for depth in tqdm(range(1, 51, 5)):\n",
    "    for n in range(1, 101, 5):\n",
    "        model = RandomForestRegressor(max_depth=depth, n_estimators=n, random_state=12345)\n",
    "        model.fit(features_train, target_train)\n",
    "        rmse = mean_squared_error(target_train, model.predict(features_train)) ** 0.5\n",
    "        if rmse < best_score_rf:\n",
    "            best_model_rf = model\n",
    "            best_depth_rf = depth\n",
    "            best_score_rf = rmse\n",
    "            best_n = n\n",
    "print(best_score_rf, best_depth_rf, best_n)"
   ]
  },
  {
   "cell_type": "markdown",
   "metadata": {},
   "source": [
    "## Test"
   ]
  },
  {
   "cell_type": "markdown",
   "metadata": {},
   "source": [
    "Let's take the Random Forest model for the test, because its rmse value is the best of all."
   ]
  },
  {
   "cell_type": "code",
   "execution_count": 97,
   "metadata": {},
   "outputs": [
    {
     "data": {
      "text/plain": [
       "46.99385500734709"
      ]
     },
     "execution_count": 97,
     "metadata": {},
     "output_type": "execute_result"
    }
   ],
   "source": [
    "mae_rf = mean_squared_error(target_test, best_model_rf.predict(features_test)) ** 0.5\n",
    "mae_rf"
   ]
  },
  {
   "cell_type": "markdown",
   "metadata": {},
   "source": [
    "The SL model on the test showed a value of RMSE = 47.7, which corresponds to our criterion < 48."
   ]
  },
  {
   "cell_type": "code",
   "execution_count": 98,
   "metadata": {},
   "outputs": [
    {
     "data": {
      "text/plain": [
       "datetime\n",
       "2018-08-13 14:00:00     98.833333\n",
       "2018-08-13 15:00:00    124.104167\n",
       "2018-08-13 16:00:00    130.770833\n",
       "2018-08-13 17:00:00    140.645833\n",
       "2018-08-13 18:00:00     91.395833\n",
       "                          ...    \n",
       "2018-08-31 19:00:00     96.364583\n",
       "2018-08-31 20:00:00    101.468750\n",
       "2018-08-31 21:00:00    132.822917\n",
       "2018-08-31 22:00:00    138.989583\n",
       "2018-08-31 23:00:00    131.947917\n",
       "Freq: H, Length: 442, dtype: float64"
      ]
     },
     "execution_count": 98,
     "metadata": {},
     "output_type": "execute_result"
    }
   ],
   "source": [
    "predicted_test = pd.Series(best_model_rf.predict(features_test), index=target_test)\n",
    "predicted_test.index = target_test.index\n",
    "#predicted_test = predicted_test.rename('predicted_num_orders')\n",
    "predicted_test\n",
    "#predicted_test.rename(columns={'num_orders': 'predicted_num_orders'})"
   ]
  },
  {
   "cell_type": "code",
   "execution_count": 99,
   "metadata": {},
   "outputs": [
    {
     "data": {
      "image/png": "[encoded data removed]",
      "text/plain": [
       "<Figure size 640x480 with 1 Axes>"
      ]
     },
     "metadata": {},
     "output_type": "display_data"
    }
   ],
   "source": [
    "#pd.concat([target_test, predicted_test], axis=1)\n",
    "ax = target_test.plot(label='target_test', legend=True)\n",
    "predicted_test.plot(ax=ax, label='predicted_test', legend=True, title='Кол-во заказов по дням на тесте: факт vs прогноз')\n",
    "plt.show()"
   ]
  },
  {
   "cell_type": "markdown",
   "metadata": {},
   "source": [
    "If you look at the time interval = 1 day, you can see that the predicted values of the target feature have a slightly smaller spread than the actual values."
   ]
  },
  {
   "cell_type": "code",
   "execution_count": 100,
   "metadata": {},
   "outputs": [
    {
     "data": {
      "image/png": "[encoded data removed]",
      "text/plain": [
       "<Figure size 640x480 with 1 Axes>"
      ]
     },
     "metadata": {},
     "output_type": "display_data"
    }
   ],
   "source": [
    "#pd.concat([target_test, predicted_test], axis=1)\n",
    "ax = target_test['2018-08-14'].plot(label='target_test', legend=True)\n",
    "predicted_test['2018-08-14'].plot(ax=ax, label='predicted_test', legend=True, title='Кол-во заказов по дням на тесте: факт vs прогноз')\n",
    "plt.show()"
   ]
  },
  {
   "cell_type": "markdown",
   "metadata": {},
   "source": [
    "Thus, using the Random Forest model with a forest depth of 26 and a number of trees of 96, we managed to obtain the value of the rmse = 48 metric, which satisfies our requests."
   ]
  },
  {
   "cell_type": "code",
   "execution_count": 101,
   "metadata": {},
   "outputs": [],
   "source": [
    "#rmse_test = mean_squared_error(target_test, model.predict(features_test)) ** 0.5\n",
    "#rmse_test"
   ]
  },
  {
   "cell_type": "code",
   "execution_count": 102,
   "metadata": {},
   "outputs": [],
   "source": [
    "#predicted_test = best_model.predict(features_test)"
   ]
  },
  {
   "cell_type": "code",
   "execution_count": 103,
   "metadata": {},
   "outputs": [],
   "source": [
    "#rmse_test = mean_squared_error(target_test, predicted_test) ** 0.5\n",
    "#rmse_test"
   ]
  }
 ],
 "metadata": {
  "ExecuteTimeLog": [
   {
    "duration": 389,
    "start_time": "2023-06-23T18:33:37.702Z"
   },
   {
    "duration": 188,
    "start_time": "2023-06-23T18:33:55.803Z"
   },
   {
    "duration": 12,
    "start_time": "2023-06-23T18:34:08.943Z"
   },
   {
    "duration": 13,
    "start_time": "2023-06-23T18:34:20.507Z"
   },
   {
    "duration": 568,
    "start_time": "2023-06-23T18:34:41.210Z"
   },
   {
    "duration": 162,
    "start_time": "2023-06-23T18:34:58.242Z"
   },
   {
    "duration": 38,
    "start_time": "2023-06-23T18:35:08.009Z"
   },
   {
    "duration": 77,
    "start_time": "2023-06-23T18:35:41.715Z"
   },
   {
    "duration": 12,
    "start_time": "2023-06-23T18:35:58.209Z"
   },
   {
    "duration": 50,
    "start_time": "2023-06-23T18:38:46.308Z"
   },
   {
    "duration": 18,
    "start_time": "2023-06-23T18:38:49.955Z"
   },
   {
    "duration": 51,
    "start_time": "2023-06-23T18:39:23.701Z"
   },
   {
    "duration": 10,
    "start_time": "2023-06-23T18:39:27.329Z"
   },
   {
    "duration": 53,
    "start_time": "2023-06-23T18:39:43.343Z"
   },
   {
    "duration": 67,
    "start_time": "2023-06-23T18:40:11.828Z"
   },
   {
    "duration": 61,
    "start_time": "2023-06-23T18:40:25.037Z"
   },
   {
    "duration": 52,
    "start_time": "2023-06-23T18:40:43.256Z"
   },
   {
    "duration": 52,
    "start_time": "2023-06-23T18:40:52.201Z"
   },
   {
    "duration": 62,
    "start_time": "2023-06-23T18:41:03.119Z"
   },
   {
    "duration": 61,
    "start_time": "2023-06-23T18:41:07.828Z"
   },
   {
    "duration": 48,
    "start_time": "2023-06-23T18:42:35.899Z"
   },
   {
    "duration": 54,
    "start_time": "2023-06-23T18:42:43.253Z"
   },
   {
    "duration": 52,
    "start_time": "2023-06-23T18:42:51.406Z"
   },
   {
    "duration": 53,
    "start_time": "2023-06-23T18:42:54.662Z"
   },
   {
    "duration": 52,
    "start_time": "2023-06-23T18:43:00.755Z"
   },
   {
    "duration": 51,
    "start_time": "2023-06-23T18:43:17.379Z"
   },
   {
    "duration": 60,
    "start_time": "2023-06-23T18:43:51.956Z"
   },
   {
    "duration": 54,
    "start_time": "2023-06-23T18:43:56.051Z"
   },
   {
    "duration": 47,
    "start_time": "2023-06-23T18:43:59.406Z"
   },
   {
    "duration": 63,
    "start_time": "2023-06-23T18:44:15.795Z"
   },
   {
    "duration": 59,
    "start_time": "2023-06-23T18:44:48.839Z"
   },
   {
    "duration": 52,
    "start_time": "2023-06-23T18:45:05.480Z"
   },
   {
    "duration": 1155,
    "start_time": "2023-06-23T18:46:48.124Z"
   },
   {
    "duration": 1412,
    "start_time": "2023-06-23T18:46:59.920Z"
   },
   {
    "duration": 54,
    "start_time": "2023-06-23T18:47:17.137Z"
   },
   {
    "duration": 50,
    "start_time": "2023-06-23T18:47:26.807Z"
   },
   {
    "duration": 59,
    "start_time": "2023-06-23T18:47:31.107Z"
   },
   {
    "duration": 59,
    "start_time": "2023-06-23T18:47:37.040Z"
   },
   {
    "duration": 44,
    "start_time": "2023-06-23T18:47:42.902Z"
   },
   {
    "duration": 51,
    "start_time": "2023-06-23T18:47:55.416Z"
   },
   {
    "duration": 10,
    "start_time": "2023-06-23T18:48:45.405Z"
   },
   {
    "duration": 11,
    "start_time": "2023-06-23T18:48:50.207Z"
   },
   {
    "duration": 132,
    "start_time": "2023-06-23T18:48:52.231Z"
   },
   {
    "duration": 855,
    "start_time": "2023-06-23T19:38:42.420Z"
   },
   {
    "duration": 3,
    "start_time": "2023-06-23T19:41:50.842Z"
   },
   {
    "duration": 2,
    "start_time": "2023-06-23T19:45:15.130Z"
   },
   {
    "duration": 5,
    "start_time": "2023-06-23T19:45:50.034Z"
   },
   {
    "duration": 4,
    "start_time": "2023-06-23T19:47:45.562Z"
   },
   {
    "duration": 78,
    "start_time": "2023-06-23T19:55:53.932Z"
   },
   {
    "duration": 5,
    "start_time": "2023-06-23T19:55:56.543Z"
   },
   {
    "duration": 29,
    "start_time": "2023-06-23T20:03:23.299Z"
   },
   {
    "duration": 16,
    "start_time": "2023-06-23T20:03:30.026Z"
   },
   {
    "duration": 13,
    "start_time": "2023-06-23T20:05:54.809Z"
   },
   {
    "duration": 10,
    "start_time": "2023-06-23T20:07:53.332Z"
   },
   {
    "duration": 28,
    "start_time": "2023-06-23T20:08:03.517Z"
   },
   {
    "duration": 10,
    "start_time": "2023-06-23T20:08:08.736Z"
   },
   {
    "duration": 38,
    "start_time": "2023-06-23T20:08:32.359Z"
   },
   {
    "duration": 98,
    "start_time": "2023-06-23T20:10:12.795Z"
   },
   {
    "duration": 39,
    "start_time": "2023-06-23T20:10:19.895Z"
   },
   {
    "duration": 6,
    "start_time": "2023-06-23T20:11:21.229Z"
   },
   {
    "duration": 32,
    "start_time": "2023-06-23T20:11:54.710Z"
   },
   {
    "duration": 9,
    "start_time": "2023-06-23T20:11:57.451Z"
   },
   {
    "duration": 34,
    "start_time": "2023-06-23T20:12:00.608Z"
   },
   {
    "duration": 24,
    "start_time": "2023-06-23T20:12:04.307Z"
   },
   {
    "duration": 72,
    "start_time": "2023-06-23T20:12:06.135Z"
   },
   {
    "duration": 18,
    "start_time": "2023-06-23T20:12:08.197Z"
   },
   {
    "duration": 17,
    "start_time": "2023-06-23T20:14:34.424Z"
   },
   {
    "duration": 13,
    "start_time": "2023-06-23T20:15:02.645Z"
   },
   {
    "duration": 17,
    "start_time": "2023-06-23T20:15:24.712Z"
   },
   {
    "duration": 24,
    "start_time": "2023-06-23T20:15:33.350Z"
   },
   {
    "duration": 25,
    "start_time": "2023-06-23T20:15:34.865Z"
   },
   {
    "duration": 33,
    "start_time": "2023-06-23T20:15:36.212Z"
   },
   {
    "duration": 13,
    "start_time": "2023-06-23T20:15:40.417Z"
   },
   {
    "duration": 36,
    "start_time": "2023-06-23T20:15:44.315Z"
   },
   {
    "duration": 9,
    "start_time": "2023-06-23T20:15:45.755Z"
   },
   {
    "duration": 30,
    "start_time": "2023-06-23T20:15:47.042Z"
   },
   {
    "duration": 9,
    "start_time": "2023-06-23T20:15:48.431Z"
   },
   {
    "duration": 16,
    "start_time": "2023-06-23T20:15:53.243Z"
   },
   {
    "duration": 10,
    "start_time": "2023-06-23T20:15:54.554Z"
   },
   {
    "duration": 28,
    "start_time": "2023-06-23T20:15:56.017Z"
   },
   {
    "duration": 7,
    "start_time": "2023-06-23T20:15:57.547Z"
   },
   {
    "duration": 18,
    "start_time": "2023-06-23T20:16:01.029Z"
   },
   {
    "duration": 16,
    "start_time": "2023-06-23T20:16:02.695Z"
   },
   {
    "duration": 83,
    "start_time": "2023-06-23T20:16:04.257Z"
   },
   {
    "duration": 23,
    "start_time": "2023-06-23T20:16:05.695Z"
   },
   {
    "duration": 42,
    "start_time": "2023-06-23T20:16:22.555Z"
   },
   {
    "duration": 17,
    "start_time": "2023-06-23T20:16:24.244Z"
   },
   {
    "duration": 63,
    "start_time": "2023-06-23T20:16:25.804Z"
   },
   {
    "duration": 11,
    "start_time": "2023-06-23T20:16:27.131Z"
   },
   {
    "duration": 24,
    "start_time": "2023-06-23T20:16:30.232Z"
   },
   {
    "duration": 23,
    "start_time": "2023-06-23T20:16:31.707Z"
   },
   {
    "duration": 63,
    "start_time": "2023-06-23T20:16:32.750Z"
   },
   {
    "duration": 15,
    "start_time": "2023-06-23T20:16:33.995Z"
   },
   {
    "duration": 54,
    "start_time": "2023-06-23T20:16:39.259Z"
   },
   {
    "duration": 21,
    "start_time": "2023-06-23T20:16:40.526Z"
   },
   {
    "duration": 101,
    "start_time": "2023-06-23T20:16:41.702Z"
   },
   {
    "duration": 11,
    "start_time": "2023-06-23T20:16:43.615Z"
   },
   {
    "duration": 37,
    "start_time": "2023-06-23T20:17:36.822Z"
   },
   {
    "duration": 154,
    "start_time": "2023-06-23T20:20:55.462Z"
   },
   {
    "duration": 416,
    "start_time": "2023-06-23T20:21:05.356Z"
   },
   {
    "duration": 1178,
    "start_time": "2023-06-23T20:21:20.795Z"
   },
   {
    "duration": 18,
    "start_time": "2023-06-23T20:23:24.717Z"
   },
   {
    "duration": 8,
    "start_time": "2023-06-23T20:23:32.825Z"
   },
   {
    "duration": 34,
    "start_time": "2023-06-23T20:23:58.054Z"
   },
   {
    "duration": 22,
    "start_time": "2023-06-23T20:24:10.020Z"
   },
   {
    "duration": 7,
    "start_time": "2023-06-23T20:24:24.923Z"
   },
   {
    "duration": 16,
    "start_time": "2023-06-23T20:24:33.301Z"
   },
   {
    "duration": 21,
    "start_time": "2023-06-23T20:24:42.828Z"
   },
   {
    "duration": 21,
    "start_time": "2023-06-23T20:24:45.609Z"
   },
   {
    "duration": 5,
    "start_time": "2023-06-23T20:24:47.636Z"
   },
   {
    "duration": 23,
    "start_time": "2023-06-23T20:25:21.699Z"
   },
   {
    "duration": 17,
    "start_time": "2023-06-23T20:25:26.364Z"
   },
   {
    "duration": 1210,
    "start_time": "2023-06-23T20:25:31.842Z"
   },
   {
    "duration": 7,
    "start_time": "2023-06-23T20:25:35.736Z"
   },
   {
    "duration": 7,
    "start_time": "2023-06-23T20:25:36.914Z"
   },
   {
    "duration": 27,
    "start_time": "2023-06-23T20:25:45.038Z"
   },
   {
    "duration": 16,
    "start_time": "2023-06-23T20:25:48.632Z"
   },
   {
    "duration": 1209,
    "start_time": "2023-06-23T20:25:51.928Z"
   },
   {
    "duration": 9,
    "start_time": "2023-06-23T20:25:55.033Z"
   },
   {
    "duration": 13,
    "start_time": "2023-06-23T20:25:56.511Z"
   },
   {
    "duration": 56,
    "start_time": "2023-06-23T20:26:02.762Z"
   },
   {
    "duration": 31,
    "start_time": "2023-06-23T20:26:04.513Z"
   },
   {
    "duration": 1404,
    "start_time": "2023-06-23T20:26:06.637Z"
   },
   {
    "duration": 16,
    "start_time": "2023-06-23T20:26:09.819Z"
   },
   {
    "duration": 7,
    "start_time": "2023-06-23T20:26:10.934Z"
   },
   {
    "duration": 43,
    "start_time": "2023-06-23T20:26:35.933Z"
   },
   {
    "duration": 13,
    "start_time": "2023-06-23T20:26:59.131Z"
   },
   {
    "duration": 18,
    "start_time": "2023-06-23T20:27:04.933Z"
   },
   {
    "duration": 16,
    "start_time": "2023-06-23T20:27:06.903Z"
   },
   {
    "duration": 59,
    "start_time": "2023-06-23T20:27:30.920Z"
   },
   {
    "duration": 13,
    "start_time": "2023-06-23T20:27:33.716Z"
   },
   {
    "duration": 9,
    "start_time": "2023-06-23T20:28:00.649Z"
   },
   {
    "duration": 51,
    "start_time": "2023-06-23T20:32:34.759Z"
   },
   {
    "duration": 43,
    "start_time": "2023-06-23T20:32:53.411Z"
   },
   {
    "duration": 9,
    "start_time": "2023-06-23T20:33:23.617Z"
   },
   {
    "duration": 31,
    "start_time": "2023-06-23T20:33:28.454Z"
   },
   {
    "duration": 23,
    "start_time": "2023-06-23T20:35:01.411Z"
   },
   {
    "duration": 14,
    "start_time": "2023-06-23T20:36:42.443Z"
   },
   {
    "duration": 16,
    "start_time": "2023-06-23T20:36:57.624Z"
   },
   {
    "duration": 19,
    "start_time": "2023-06-23T20:36:59.440Z"
   },
   {
    "duration": 15,
    "start_time": "2023-06-23T20:37:04.218Z"
   },
   {
    "duration": 28,
    "start_time": "2023-06-23T20:38:02.760Z"
   },
   {
    "duration": 18,
    "start_time": "2023-06-23T20:39:15.008Z"
   },
   {
    "duration": 45,
    "start_time": "2023-06-23T20:39:20.796Z"
   },
   {
    "duration": 41,
    "start_time": "2023-06-23T20:40:02.960Z"
   },
   {
    "duration": 4,
    "start_time": "2023-06-23T20:40:10.002Z"
   },
   {
    "duration": 67,
    "start_time": "2023-06-23T20:40:10.009Z"
   },
   {
    "duration": 12,
    "start_time": "2023-06-23T20:40:10.078Z"
   },
   {
    "duration": 27,
    "start_time": "2023-06-23T20:40:10.092Z"
   },
   {
    "duration": 208,
    "start_time": "2023-06-23T20:40:10.121Z"
   },
   {
    "duration": 22,
    "start_time": "2023-06-23T20:40:16.735Z"
   },
   {
    "duration": 3,
    "start_time": "2023-06-23T20:40:26.058Z"
   },
   {
    "duration": 104,
    "start_time": "2023-06-23T20:40:26.063Z"
   },
   {
    "duration": 31,
    "start_time": "2023-06-23T20:40:26.179Z"
   },
   {
    "duration": 38,
    "start_time": "2023-06-23T20:40:26.212Z"
   },
   {
    "duration": 289,
    "start_time": "2023-06-23T20:40:26.252Z"
   },
   {
    "duration": 26,
    "start_time": "2023-06-23T20:40:33.992Z"
   },
   {
    "duration": 31,
    "start_time": "2023-06-23T20:40:41.625Z"
   },
   {
    "duration": 4,
    "start_time": "2023-06-23T20:43:22.365Z"
   },
   {
    "duration": 88,
    "start_time": "2023-06-23T20:43:22.372Z"
   },
   {
    "duration": 29,
    "start_time": "2023-06-23T20:43:22.462Z"
   },
   {
    "duration": 16,
    "start_time": "2023-06-23T20:43:22.493Z"
   },
   {
    "duration": 167,
    "start_time": "2023-06-23T20:43:22.511Z"
   },
   {
    "duration": 57,
    "start_time": "2023-06-23T20:43:29.764Z"
   },
   {
    "duration": 9,
    "start_time": "2023-06-23T20:43:32.739Z"
   },
   {
    "duration": 45,
    "start_time": "2023-06-23T20:43:35.035Z"
   },
   {
    "duration": 14,
    "start_time": "2023-06-23T20:43:43.512Z"
   },
   {
    "duration": 25,
    "start_time": "2023-06-23T20:43:56.352Z"
   },
   {
    "duration": 10,
    "start_time": "2023-06-23T20:44:01.435Z"
   },
   {
    "duration": 19,
    "start_time": "2023-06-23T20:44:03.748Z"
   },
   {
    "duration": 9,
    "start_time": "2023-06-23T20:44:07.823Z"
   },
   {
    "duration": 1080,
    "start_time": "2023-06-23T20:44:24.115Z"
   },
   {
    "duration": 13,
    "start_time": "2023-06-23T20:44:35.909Z"
   },
   {
    "duration": 20,
    "start_time": "2023-06-23T20:44:37.412Z"
   },
   {
    "duration": 14,
    "start_time": "2023-06-23T20:46:44.151Z"
   },
   {
    "duration": 2320,
    "start_time": "2023-06-24T04:54:27.917Z"
   },
   {
    "duration": 299,
    "start_time": "2023-06-24T04:54:30.239Z"
   },
   {
    "duration": 10,
    "start_time": "2023-06-24T04:54:30.540Z"
   },
   {
    "duration": 83,
    "start_time": "2023-06-24T04:54:30.552Z"
   },
   {
    "duration": 868,
    "start_time": "2023-06-24T04:54:30.638Z"
   },
   {
    "duration": 27,
    "start_time": "2023-06-24T04:54:31.508Z"
   },
   {
    "duration": 72,
    "start_time": "2023-06-24T04:54:31.537Z"
   },
   {
    "duration": 192,
    "start_time": "2023-06-24T04:54:31.610Z"
   },
   {
    "duration": 50,
    "start_time": "2023-06-24T04:54:31.805Z"
   },
   {
    "duration": 1780,
    "start_time": "2023-06-24T04:54:31.856Z"
   },
   {
    "duration": 38798,
    "start_time": "2023-06-24T04:54:33.637Z"
   },
   {
    "duration": 92,
    "start_time": "2023-06-24T04:55:12.437Z"
   },
   {
    "duration": 4,
    "start_time": "2023-06-24T04:55:12.530Z"
   },
   {
    "duration": 19,
    "start_time": "2023-06-24T04:55:12.537Z"
   },
   {
    "duration": 15,
    "start_time": "2023-06-24T04:55:12.558Z"
   },
   {
    "duration": 117,
    "start_time": "2023-06-24T05:39:53.241Z"
   },
   {
    "duration": 4,
    "start_time": "2023-06-24T05:40:14.434Z"
   },
   {
    "duration": 12,
    "start_time": "2023-06-24T05:40:15.287Z"
   },
   {
    "duration": 1597,
    "start_time": "2023-06-24T05:40:27.080Z"
   },
   {
    "duration": 118,
    "start_time": "2023-06-24T05:40:28.679Z"
   },
   {
    "duration": 15,
    "start_time": "2023-06-24T05:40:28.798Z"
   },
   {
    "duration": 30,
    "start_time": "2023-06-24T05:40:28.815Z"
   },
   {
    "duration": 404,
    "start_time": "2023-06-24T05:40:28.847Z"
   },
   {
    "duration": 18,
    "start_time": "2023-06-24T05:40:29.252Z"
   },
   {
    "duration": 11,
    "start_time": "2023-06-24T05:40:29.271Z"
   },
   {
    "duration": 122,
    "start_time": "2023-06-24T05:40:29.283Z"
   },
   {
    "duration": 4,
    "start_time": "2023-06-24T05:40:29.406Z"
   },
   {
    "duration": 89,
    "start_time": "2023-06-24T05:40:29.413Z"
   },
   {
    "duration": 134,
    "start_time": "2023-06-24T05:40:29.503Z"
   },
   {
    "duration": 0,
    "start_time": "2023-06-24T05:40:29.639Z"
   },
   {
    "duration": 0,
    "start_time": "2023-06-24T05:40:29.640Z"
   },
   {
    "duration": 0,
    "start_time": "2023-06-24T05:40:29.641Z"
   },
   {
    "duration": 0,
    "start_time": "2023-06-24T05:40:29.641Z"
   },
   {
    "duration": 0,
    "start_time": "2023-06-24T05:40:29.643Z"
   },
   {
    "duration": 0,
    "start_time": "2023-06-24T05:40:29.643Z"
   },
   {
    "duration": 59,
    "start_time": "2023-06-24T05:40:46.752Z"
   },
   {
    "duration": 778,
    "start_time": "2023-06-24T05:44:15.831Z"
   },
   {
    "duration": 1609,
    "start_time": "2023-06-24T05:45:24.845Z"
   },
   {
    "duration": 99,
    "start_time": "2023-06-24T05:45:26.456Z"
   },
   {
    "duration": 10,
    "start_time": "2023-06-24T05:45:26.557Z"
   },
   {
    "duration": 11,
    "start_time": "2023-06-24T05:45:26.568Z"
   },
   {
    "duration": 389,
    "start_time": "2023-06-24T05:45:26.581Z"
   },
   {
    "duration": 19,
    "start_time": "2023-06-24T05:45:26.972Z"
   },
   {
    "duration": 29,
    "start_time": "2023-06-24T05:45:26.999Z"
   },
   {
    "duration": 77,
    "start_time": "2023-06-24T05:45:27.029Z"
   },
   {
    "duration": 109,
    "start_time": "2023-06-24T05:45:27.109Z"
   },
   {
    "duration": 793,
    "start_time": "2023-06-24T05:45:27.220Z"
   },
   {
    "duration": 19702,
    "start_time": "2023-06-24T05:45:28.015Z"
   },
   {
    "duration": 16,
    "start_time": "2023-06-24T05:45:47.718Z"
   },
   {
    "duration": 2,
    "start_time": "2023-06-24T05:45:47.736Z"
   },
   {
    "duration": 7,
    "start_time": "2023-06-24T05:45:47.740Z"
   },
   {
    "duration": 4,
    "start_time": "2023-06-24T05:45:47.749Z"
   },
   {
    "duration": 1139,
    "start_time": "2023-06-24T13:30:59.954Z"
   },
   {
    "duration": 248,
    "start_time": "2023-06-24T13:31:01.095Z"
   },
   {
    "duration": 11,
    "start_time": "2023-06-24T13:31:01.344Z"
   },
   {
    "duration": 69,
    "start_time": "2023-06-24T13:31:01.357Z"
   },
   {
    "duration": 619,
    "start_time": "2023-06-24T13:31:01.428Z"
   },
   {
    "duration": 138,
    "start_time": "2023-06-24T13:31:11.686Z"
   },
   {
    "duration": 250,
    "start_time": "2023-06-24T13:31:17.406Z"
   },
   {
    "duration": 4,
    "start_time": "2023-06-24T13:31:38.834Z"
   },
   {
    "duration": 145,
    "start_time": "2023-06-24T13:31:47.041Z"
   },
   {
    "duration": 164,
    "start_time": "2023-06-24T13:31:57.652Z"
   },
   {
    "duration": 223,
    "start_time": "2023-06-24T13:32:21.242Z"
   },
   {
    "duration": 161,
    "start_time": "2023-06-24T13:32:31.005Z"
   },
   {
    "duration": 161,
    "start_time": "2023-06-24T13:32:54.848Z"
   },
   {
    "duration": 51,
    "start_time": "2023-06-24T21:12:46.558Z"
   },
   {
    "duration": 1674,
    "start_time": "2023-06-24T21:12:50.046Z"
   },
   {
    "duration": 96,
    "start_time": "2023-06-24T21:12:51.725Z"
   },
   {
    "duration": 16,
    "start_time": "2023-06-24T21:12:51.822Z"
   },
   {
    "duration": 23,
    "start_time": "2023-06-24T21:12:51.841Z"
   },
   {
    "duration": 182,
    "start_time": "2023-06-24T21:12:57.300Z"
   },
   {
    "duration": 165,
    "start_time": "2023-06-24T21:13:17.538Z"
   },
   {
    "duration": 205,
    "start_time": "2023-06-24T21:14:37.327Z"
   },
   {
    "duration": 190,
    "start_time": "2023-06-24T21:14:45.438Z"
   },
   {
    "duration": 140,
    "start_time": "2023-06-24T21:19:34.780Z"
   },
   {
    "duration": 10,
    "start_time": "2023-06-24T21:19:51.028Z"
   },
   {
    "duration": 259,
    "start_time": "2023-06-24T21:20:20.969Z"
   },
   {
    "duration": 741,
    "start_time": "2023-06-24T21:22:59.047Z"
   },
   {
    "duration": 1530,
    "start_time": "2023-06-24T21:27:02.859Z"
   },
   {
    "duration": 586,
    "start_time": "2023-06-24T21:27:28.175Z"
   },
   {
    "duration": 529,
    "start_time": "2023-06-24T21:27:46.298Z"
   },
   {
    "duration": 818,
    "start_time": "2023-06-24T21:28:27.048Z"
   },
   {
    "duration": 486,
    "start_time": "2023-06-24T21:28:49.682Z"
   },
   {
    "duration": 485,
    "start_time": "2023-06-24T21:28:52.758Z"
   },
   {
    "duration": 24,
    "start_time": "2023-06-24T21:29:18.682Z"
   },
   {
    "duration": 552,
    "start_time": "2023-06-24T21:29:22.103Z"
   },
   {
    "duration": 583,
    "start_time": "2023-06-24T21:29:59.790Z"
   },
   {
    "duration": 405,
    "start_time": "2023-06-24T21:32:43.611Z"
   },
   {
    "duration": 241,
    "start_time": "2023-06-24T21:33:01.069Z"
   },
   {
    "duration": 79,
    "start_time": "2023-06-24T21:33:49.219Z"
   },
   {
    "duration": 6,
    "start_time": "2023-06-24T21:36:47.683Z"
   },
   {
    "duration": 19,
    "start_time": "2023-06-24T21:36:51.666Z"
   },
   {
    "duration": 9,
    "start_time": "2023-06-24T21:36:56.400Z"
   },
   {
    "duration": 12,
    "start_time": "2023-06-24T21:37:13.418Z"
   },
   {
    "duration": 4,
    "start_time": "2023-06-24T21:38:59.973Z"
   },
   {
    "duration": 116,
    "start_time": "2023-06-24T21:38:59.981Z"
   },
   {
    "duration": 12,
    "start_time": "2023-06-24T21:39:00.099Z"
   },
   {
    "duration": 48,
    "start_time": "2023-06-24T21:39:00.113Z"
   },
   {
    "duration": 215,
    "start_time": "2023-06-24T21:39:00.164Z"
   },
   {
    "duration": 530,
    "start_time": "2023-06-24T21:39:00.381Z"
   },
   {
    "duration": 230,
    "start_time": "2023-06-24T21:39:00.913Z"
   },
   {
    "duration": 20,
    "start_time": "2023-06-24T21:39:06.705Z"
   },
   {
    "duration": 4,
    "start_time": "2023-06-24T21:39:19.440Z"
   },
   {
    "duration": 92,
    "start_time": "2023-06-24T21:39:19.447Z"
   },
   {
    "duration": 13,
    "start_time": "2023-06-24T21:39:19.541Z"
   },
   {
    "duration": 19,
    "start_time": "2023-06-24T21:39:19.556Z"
   },
   {
    "duration": 223,
    "start_time": "2023-06-24T21:39:19.578Z"
   },
   {
    "duration": 552,
    "start_time": "2023-06-24T21:39:19.804Z"
   },
   {
    "duration": 368,
    "start_time": "2023-06-24T21:39:20.359Z"
   },
   {
    "duration": 5,
    "start_time": "2023-06-24T21:39:22.299Z"
   },
   {
    "duration": 10,
    "start_time": "2023-06-24T21:39:25.647Z"
   },
   {
    "duration": 592,
    "start_time": "2023-06-24T21:40:29.565Z"
   },
   {
    "duration": 12900,
    "start_time": "2023-06-24T21:41:51.660Z"
   },
   {
    "duration": 68279,
    "start_time": "2023-06-24T21:42:35.695Z"
   },
   {
    "duration": 41,
    "start_time": "2023-06-24T21:43:58.281Z"
   },
   {
    "duration": 39,
    "start_time": "2023-06-24T21:44:09.073Z"
   },
   {
    "duration": 66,
    "start_time": "2023-06-24T21:44:40.894Z"
   },
   {
    "duration": 2035,
    "start_time": "2023-06-25T04:49:26.979Z"
   },
   {
    "duration": 251,
    "start_time": "2023-06-25T04:49:29.016Z"
   },
   {
    "duration": 11,
    "start_time": "2023-06-25T04:49:29.269Z"
   },
   {
    "duration": 16,
    "start_time": "2023-06-25T04:49:29.282Z"
   },
   {
    "duration": 201,
    "start_time": "2023-06-25T04:49:29.300Z"
   },
   {
    "duration": 589,
    "start_time": "2023-06-25T04:49:29.502Z"
   },
   {
    "duration": 288,
    "start_time": "2023-06-25T04:49:30.093Z"
   },
   {
    "duration": 4,
    "start_time": "2023-06-25T04:49:30.383Z"
   },
   {
    "duration": 60,
    "start_time": "2023-06-25T04:49:30.389Z"
   },
   {
    "duration": 42,
    "start_time": "2023-06-25T04:49:30.453Z"
   },
   {
    "duration": 24,
    "start_time": "2023-06-25T04:49:30.497Z"
   },
   {
    "duration": 233,
    "start_time": "2023-06-25T04:49:30.523Z"
   },
   {
    "duration": 977,
    "start_time": "2023-06-25T04:49:30.758Z"
   },
   {
    "duration": 82179,
    "start_time": "2023-06-25T04:49:31.737Z"
   },
   {
    "duration": 35,
    "start_time": "2023-06-25T04:50:53.918Z"
   },
   {
    "duration": 35,
    "start_time": "2023-06-25T04:50:53.955Z"
   },
   {
    "duration": 241,
    "start_time": "2023-06-25T04:50:53.992Z"
   },
   {
    "duration": 213,
    "start_time": "2023-06-25T04:50:54.235Z"
   },
   {
    "duration": 3,
    "start_time": "2023-06-25T04:50:54.452Z"
   },
   {
    "duration": 5,
    "start_time": "2023-06-25T04:50:54.457Z"
   },
   {
    "duration": 7,
    "start_time": "2023-06-25T04:50:54.463Z"
   }
  ],
  "kernelspec": {
   "display_name": "Python 3 (ipykernel)",
   "language": "python",
   "name": "python3"
  },
  "language_info": {
   "codemirror_mode": {
    "name": "ipython",
    "version": 3
   },
   "file_extension": ".py",
   "mimetype": "text/x-python",
   "name": "python",
   "nbconvert_exporter": "python",
   "pygments_lexer": "ipython3",
   "version": "3.10.9"
  },
  "toc": {
   "base_numbering": 1,
   "nav_menu": {},
   "number_sections": true,
   "sideBar": true,
   "skip_h1_title": true,
   "title_cell": "Содержание",
   "title_sidebar": "Contents",
   "toc_cell": true,
   "toc_position": {
    "height": "calc(100% - 180px)",
    "left": "10px",
    "top": "150px",
    "width": "359.594px"
   },
   "toc_section_display": true,
   "toc_window_display": true
  }
 },
 "nbformat": 4,
 "nbformat_minor": 2
}
